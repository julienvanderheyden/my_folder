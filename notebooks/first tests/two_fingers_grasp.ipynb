{
 "cells": [
  {
   "cell_type": "code",
   "execution_count": 1,
   "metadata": {},
   "outputs": [],
   "source": [
    "using GeometryBasics: Vec3f, Point3f\n",
    "using LinearAlgebra\n",
    "using GLMakie\n",
    "using StaticArrays\n",
    "using VMRobotControl\n",
    "using DifferentialEquations\n",
    "using MeshIO"
   ]
  },
  {
   "cell_type": "markdown",
   "metadata": {},
   "source": [
    "## Importing ShadowHand URDF"
   ]
  },
  {
   "cell_type": "markdown",
   "metadata": {},
   "source": [
    "### URDF Parsing"
   ]
  },
  {
   "cell_type": "code",
   "execution_count": 11,
   "metadata": {},
   "outputs": [
    {
     "data": {
      "text/plain": [
       "24DOF Mechanism{Float64} \"shadowhand_motor\" with 33 frames, 32 joints, 55 coordinates, 82 components"
      ]
     },
     "execution_count": 11,
     "metadata": {},
     "output_type": "execute_result"
    }
   ],
   "source": [
    "using FileIO, UUIDs\n",
    "try\n",
    "    FileIO.add_format(format\"DAE\", (), \".dae\", [:DigitalAssetExchangeFormatIO => UUID(\"43182933-f65b-495a-9e05-4d939cea427d\")])\n",
    "catch\n",
    "end\n",
    "\n",
    "cfg = URDFParserConfig(;suppress_warnings=true) # This is just to hide warnings about unsupported URDF features\n",
    "module_path = joinpath(splitpath(splitdir(pathof(VMRobotControl))[1])[1:end-1])\n",
    "robot = parseURDF(joinpath(module_path, \"URDFs/sr_description/sr_hand_vm_compatible.urdf\"), cfg)"
   ]
  },
  {
   "cell_type": "markdown",
   "metadata": {},
   "source": [
    "### Hand Visualization"
   ]
  },
  {
   "cell_type": "code",
   "execution_count": 12,
   "metadata": {},
   "outputs": [
    {
     "data": {
      "text/plain": [
       "GLMakie.Screen(...)"
      ]
     },
     "execution_count": 12,
     "metadata": {},
     "output_type": "execute_result"
    }
   ],
   "source": [
    "# Compile robot model\n",
    "m = compile(robot)\n",
    "kcache = Observable(new_kinematics_cache(m))  # This stores the robot's joint state\n",
    "\n",
    "# Create the figure\n",
    "fig = Figure(size=(800, 600))\n",
    "\n",
    "# Create interactive 3D scene\n",
    "ls = LScene(fig[1, 1]; show_axis=true)  # 3D interactive scene\n",
    "\n",
    "# Attach interactive camera controls\n",
    "cam3d!(ls)  # Enables mouse interaction (rotate, zoom, pan)\n",
    "\n",
    "# Plot the robot's visuals\n",
    "robotvisualize!(ls, kcache)\n",
    "\n",
    "# Display figure\n",
    "display(fig)"
   ]
  },
  {
   "cell_type": "markdown",
   "metadata": {},
   "source": [
    "### Kinematic Computations"
   ]
  },
  {
   "cell_type": "code",
   "execution_count": 4,
   "metadata": {},
   "outputs": [
    {
     "data": {
      "text/plain": [
       "Transform{Float64}([0.033, -0.01, 0.43801000000000007], Rotor{Float64}(1.0, [0.0, 0.0, 0.0]))"
      ]
     },
     "metadata": {},
     "output_type": "display_data"
    },
    {
     "data": {
      "text/plain": [
       "Transform{Float64}([0.011, -0.01, 0.44201000000000007], Rotor{Float64}(1.0, [0.0, 0.0, 0.0]))"
      ]
     },
     "metadata": {},
     "output_type": "display_data"
    },
    {
     "name": "stdout",
     "output_type": "stream",
     "text": [
      "origin::SVector{3, Float64}\n",
      "rotor::Rotor{Float64}\n"
     ]
    },
    {
     "data": {
      "text/plain": [
       "3-element SVector{3, Float64} with indices SOneTo(3):\n",
       "  0.033\n",
       " -0.01\n",
       "  0.43801000000000007"
      ]
     },
     "metadata": {},
     "output_type": "display_data"
    },
    {
     "data": {
      "text/plain": [
       "3-element SVector{3, Float64} with indices SOneTo(3):\n",
       "  0.011\n",
       " -0.01\n",
       "  0.44201000000000007"
      ]
     },
     "metadata": {},
     "output_type": "display_data"
    },
    {
     "data": {
      "text/plain": [
       "Transform{Float64}([-0.022000000000000002, 0.0, 0.0040000000000000036], Rotor{Float64}(1.0, [0.0, -0.0, 0.0]))"
      ]
     },
     "execution_count": 4,
     "metadata": {},
     "output_type": "execute_result"
    }
   ],
   "source": [
    "function struct_fields_and_types(T::Type)\n",
    "    for (name, type) in zip(fieldnames(T), fieldtypes(T))\n",
    "        println(name, \"::\", type)\n",
    "    end\n",
    "end\n",
    "\n",
    "kcache = new_kinematics_cache(m)  \n",
    "rh_ff_tip_frame_id = get_compiled_frameID(m, \"rh_fftip\")\n",
    "ff_tip_transform = get_transform(kcache, rh_ff_tip_frame_id)\n",
    "display(ff_tip_transform)\n",
    "\n",
    "rh_mf_tip_frame_id = get_compiled_frameID(m, \"rh_mftip\")\n",
    "mf_tip_transform = get_transform(kcache, rh_mf_tip_frame_id)\n",
    "display(mf_tip_transform)\n",
    "\n",
    "struct_fields_and_types(typeof(ff_tip_transform))\n",
    "\n",
    "display(ff_tip_transform.origin)\n",
    "display(mf_tip_transform.origin)\n",
    "\n",
    "fftip_to_mftip_transform = inv(ff_tip_transform) * mf_tip_transform"
   ]
  },
  {
   "cell_type": "markdown",
   "metadata": {},
   "source": [
    "## Creating the Virtual Mechanism System"
   ]
  },
  {
   "cell_type": "markdown",
   "metadata": {},
   "source": [
    "### Gravity Compensation and Joint Damping"
   ]
  },
  {
   "cell_type": "code",
   "execution_count": 5,
   "metadata": {},
   "outputs": [],
   "source": [
    "# GRAVITY COMPENSATION\n",
    "\n",
    "add_gravity_compensation!(robot, VMRobotControl.DEFAULT_GRAVITY)\n",
    "\n",
    "# JOINT DAMPING and LIMIT SPRINGS\n",
    "\n",
    "joint_limits = cfg.joint_limits\n",
    "\n",
    "for joint_id in keys(joints(robot))\n",
    "    limits = joint_limits[joint_id]\n",
    "    isnothing(limits) && continue\n",
    "    add_coordinate!(robot, JointSubspace(joint_id);  id=\"$(joint_id)_coord\")\n",
    "    @assert ~isnothing(limits.lower) && ~isnothing(limits.upper)\n",
    "    add_deadzone_springs!(robot, 50.0, (limits.lower+0.1, limits.upper-0.1), \"$(joint_id)_coord\")\n",
    "    add_component!(robot, LinearDamper(0.01, \"$(joint_id)_coord\"); id=\"$(joint_id)_damper\")\n",
    "end"
   ]
  },
  {
   "cell_type": "markdown",
   "metadata": {},
   "source": [
    "### Virtual Mechanism Initialization"
   ]
  },
  {
   "cell_type": "code",
   "execution_count": 6,
   "metadata": {},
   "outputs": [
    {
     "data": {
      "text/plain": [
       "\"ff_mf\""
      ]
     },
     "execution_count": 6,
     "metadata": {},
     "output_type": "execute_result"
    }
   ],
   "source": [
    "vms = VirtualMechanismSystem(\"myShadowVMS\", robot)\n",
    "root = root_frame(vms.robot)\n",
    "\n",
    "add_coordinate!(vms, FrameOrigin(\".robot.rh_palm\");        id=\"Target position\")\n",
    "add_coordinate!(vms, CoordDifference(\".robot.rh_fftip_mass_coord\", \"Target position\"); id=\"Position error\")\n",
    "add_coordinate!(vms, CoordDifference(\".robot.rh_mftip_mass_coord\",\".robot.rh_fftip_mass_coord\"); id=\"ff_mf_diff\")\n",
    "add_coordinate!(vms, ConstCoord(fftip_to_mftip_transform.origin); id =\"ff_mf_vector\")\n",
    "add_coordinate!(vms, CoordDifference(\"ff_mf_diff\", \"ff_mf_vector\"); id = \"ff_mf\")"
   ]
  },
  {
   "cell_type": "code",
   "execution_count": 7,
   "metadata": {},
   "outputs": [
    {
     "data": {
      "text/plain": [
       "\"Linear Damper\""
      ]
     },
     "execution_count": 7,
     "metadata": {},
     "output_type": "execute_result"
    }
   ],
   "source": [
    "K = SMatrix{3, 3}(100., 0., 0., 0., 100., 0., 0., 0., 100.)\n",
    "add_component!(vms, LinearSpring(K, \"Position error\");           id=\"Linear Spring\")\n",
    "D = SMatrix{3, 3}(100., 0., 0., 0., 100.0, 0., 0., 0., 100.)\n",
    "add_component!(vms, LinearDamper(D, \"Position error\");           id=\"Linear Damper\")"
   ]
  },
  {
   "cell_type": "code",
   "execution_count": 8,
   "metadata": {},
   "outputs": [
    {
     "data": {
      "text/plain": [
       "\"ff_mf_damper\""
      ]
     },
     "execution_count": 8,
     "metadata": {},
     "output_type": "execute_result"
    }
   ],
   "source": [
    "add_component!(vms, LinearSpring(K, \"ff_mf\"); id=\"ff_mf_spring\")\n",
    "add_component!(vms, LinearDamper(D, \"ff_mf\"); id=\"ff_mf_damper\")"
   ]
  },
  {
   "cell_type": "markdown",
   "metadata": {},
   "source": [
    "## Simulating the Robot"
   ]
  },
  {
   "cell_type": "markdown",
   "metadata": {},
   "source": [
    "### Setting Up the Simulation"
   ]
  },
  {
   "cell_type": "code",
   "execution_count": 9,
   "metadata": {},
   "outputs": [
    {
     "name": "stderr",
     "output_type": "stream",
     "text": [
      "\u001b[36m\u001b[1m[ \u001b[22m\u001b[39m\u001b[36m\u001b[1mInfo: \u001b[22m\u001b[39mSimulating shadow robot with impedance control.\n",
      "\u001b[32mODE   0%|█                                              |  ETA: N/A\u001b[39m\n",
      "\u001b[32mODE   0%|█                                              |  ETA: 0:07:10\u001b[39m\n",
      "\u001b[32mODE   1%|█                                              |  ETA: 0:04:58\u001b[39m\n",
      "\u001b[32mODE   1%|█                                              |  ETA: 0:04:15\u001b[39m\n",
      "\u001b[32mODE   2%|█                                              |  ETA: 0:03:55\u001b[39m\n",
      "\u001b[32mODE   2%|██                                             |  ETA: 0:03:42\u001b[39m\n",
      "\u001b[32mODE   3%|██                                             |  ETA: 0:03:33\u001b[39m\n",
      "\u001b[32mODE   3%|██                                             |  ETA: 0:03:25\u001b[39m\n",
      "\u001b[32mODE   4%|██                                             |  ETA: 0:03:20\u001b[39m\n",
      "\u001b[32mODE   4%|███                                            |  ETA: 0:03:15\u001b[39m\n",
      "\u001b[32mODE   5%|███                                            |  ETA: 0:03:12\u001b[39m\n",
      "\u001b[32mODE   5%|███                                            |  ETA: 0:03:09\u001b[39m\n",
      "\u001b[32mODE   6%|███                                            |  ETA: 0:03:06\u001b[39m\n",
      "\u001b[32mODE   6%|████                                           |  ETA: 0:03:04\u001b[39m\n",
      "\u001b[32mODE   7%|████                                           |  ETA: 0:03:01\u001b[39m\n",
      "\u001b[32mODE   7%|████                                           |  ETA: 0:02:59\u001b[39m\n",
      "\u001b[32mODE   8%|████                                           |  ETA: 0:02:57\u001b[39m\n",
      "\u001b[32mODE   8%|████                                           |  ETA: 0:02:55\u001b[39m\n",
      "\u001b[32mODE   9%|█████                                          |  ETA: 0:02:53\u001b[39m\n",
      "\u001b[32mODE   9%|█████                                          |  ETA: 0:02:52\u001b[39m\n",
      "\u001b[32mODE  10%|█████                                          |  ETA: 0:02:50\u001b[39m\n",
      "\u001b[32mODE  10%|█████                                          |  ETA: 0:02:49\u001b[39m\n",
      "\u001b[32mODE  11%|██████                                         |  ETA: 0:02:47\u001b[39m\n",
      "\u001b[32mODE  11%|██████                                         |  ETA: 0:02:46\u001b[39m\n",
      "\u001b[32mODE  12%|██████                                         |  ETA: 0:02:44\u001b[39m\n",
      "\u001b[32mODE  12%|██████                                         |  ETA: 0:02:43\u001b[39m\n",
      "\u001b[32mODE  13%|███████                                        |  ETA: 0:02:42\u001b[39m\n",
      "\u001b[32mODE  13%|███████                                        |  ETA: 0:02:41\u001b[39m\n",
      "\u001b[32mODE  14%|███████                                        |  ETA: 0:02:39\u001b[39m\n",
      "\u001b[32mODE  14%|███████                                        |  ETA: 0:02:38\u001b[39m\n",
      "\u001b[32mODE  15%|███████                                        |  ETA: 0:02:37\u001b[39m\n",
      "\u001b[32mODE  15%|████████                                       |  ETA: 0:02:36\u001b[39m\n",
      "\u001b[32mODE  16%|████████                                       |  ETA: 0:02:36\u001b[39m\n",
      "\u001b[32mODE  16%|████████                                       |  ETA: 0:02:35\u001b[39m\n",
      "\u001b[32mODE  17%|████████                                       |  ETA: 0:02:35\u001b[39m\n",
      "\u001b[32mODE  17%|█████████                                      |  ETA: 0:02:34\u001b[39m\n",
      "\u001b[32mODE  18%|█████████                                      |  ETA: 0:02:33\u001b[39m\n",
      "\u001b[32mODE  18%|█████████                                      |  ETA: 0:02:33\u001b[39m\n",
      "\u001b[32mODE  19%|█████████                                      |  ETA: 0:02:32\u001b[39m\n",
      "\u001b[32mODE  19%|██████████                                     |  ETA: 0:02:31\u001b[39m\n",
      "\u001b[32mODE  20%|██████████                                     |  ETA: 0:02:30\u001b[39m\n",
      "\u001b[32mODE  20%|██████████                                     |  ETA: 0:02:29\u001b[39m\n",
      "\u001b[32mODE  21%|██████████                                     |  ETA: 0:02:28\u001b[39m\n",
      "\u001b[32mODE  21%|███████████                                    |  ETA: 0:02:27\u001b[39m\n",
      "\u001b[32mODE  22%|███████████                                    |  ETA: 0:02:26\u001b[39m\n",
      "\u001b[32mODE  22%|███████████                                    |  ETA: 0:02:25\u001b[39m\n",
      "\u001b[32mODE  23%|███████████                                    |  ETA: 0:02:24\u001b[39m\n",
      "\u001b[32mODE  23%|███████████                                    |  ETA: 0:02:23\u001b[39m\n",
      "\u001b[32mODE  24%|████████████                                   |  ETA: 0:02:22\u001b[39m\n",
      "\u001b[32mODE  24%|████████████                                   |  ETA: 0:02:21\u001b[39m\n",
      "\u001b[32mODE  25%|████████████                                   |  ETA: 0:02:20\u001b[39m\n",
      "\u001b[32mODE  25%|████████████                                   |  ETA: 0:02:20\u001b[39m\n",
      "\u001b[32mODE  25%|████████████                                   |  ETA: 0:02:22\u001b[39m\n",
      "\u001b[32mODE  25%|████████████                                   |  ETA: 0:02:23\u001b[39m\n",
      "\u001b[32mODE  26%|█████████████                                  |  ETA: 0:02:25\u001b[39m\n",
      "\u001b[32mODE  26%|█████████████                                  |  ETA: 0:02:27\u001b[39m\n",
      "\u001b[32mODE  26%|█████████████                                  |  ETA: 0:02:28\u001b[39m\n",
      "\u001b[32mODE  26%|█████████████                                  |  ETA: 0:02:29\u001b[39m\n",
      "\u001b[32mODE  26%|█████████████                                  |  ETA: 0:02:29\u001b[39m\n",
      "\u001b[32mODE  27%|█████████████                                  |  ETA: 0:02:30\u001b[39m\n",
      "\u001b[32mODE  27%|█████████████                                  |  ETA: 0:02:30\u001b[39m\n",
      "\u001b[32mODE  27%|█████████████                                  |  ETA: 0:02:31\u001b[39m\n",
      "\u001b[32mODE  27%|█████████████                                  |  ETA: 0:02:31\u001b[39m\n",
      "\u001b[32mODE  28%|██████████████                                 |  ETA: 0:02:32\u001b[39m\n",
      "\u001b[32mODE  28%|██████████████                                 |  ETA: 0:02:33\u001b[39m\n",
      "\u001b[32mODE  28%|██████████████                                 |  ETA: 0:02:33\u001b[39m\n",
      "\u001b[32mODE  28%|██████████████                                 |  ETA: 0:02:34\u001b[39m\n",
      "\u001b[32mODE  29%|██████████████                                 |  ETA: 0:02:34\u001b[39m\n",
      "\u001b[32mODE  29%|██████████████                                 |  ETA: 0:02:35\u001b[39m\n",
      "\u001b[32mODE  29%|██████████████                                 |  ETA: 0:02:35\u001b[39m\n",
      "\u001b[32mODE  29%|██████████████                                 |  ETA: 0:02:35\u001b[39m\n",
      "\u001b[32mODE  30%|██████████████                                 |  ETA: 0:02:36\u001b[39m\n",
      "\u001b[32mODE  30%|███████████████                                |  ETA: 0:02:36\u001b[39m\n",
      "\u001b[32mODE  30%|███████████████                                |  ETA: 0:02:36\u001b[39m\n",
      "\u001b[32mODE  30%|███████████████                                |  ETA: 0:02:36\u001b[39m\n",
      "\u001b[32mODE  31%|███████████████                                |  ETA: 0:02:36\u001b[39m\n",
      "\u001b[32mODE  31%|███████████████                                |  ETA: 0:02:37\u001b[39m\n",
      "\u001b[32mODE  31%|███████████████                                |  ETA: 0:02:37\u001b[39m\n",
      "\u001b[32mODE  31%|███████████████                                |  ETA: 0:02:37\u001b[39m\n",
      "\u001b[32mODE  32%|███████████████                                |  ETA: 0:02:37\u001b[39m\n",
      "\u001b[32mODE  32%|███████████████                                |  ETA: 0:02:37\u001b[39m\n",
      "\u001b[32mODE  32%|████████████████                               |  ETA: 0:02:37\u001b[39m\n",
      "\u001b[32mODE  32%|████████████████                               |  ETA: 0:02:37\u001b[39m\n",
      "\u001b[32mODE  33%|████████████████                               |  ETA: 0:02:37\u001b[39m\n",
      "\u001b[32mODE  33%|████████████████                               |  ETA: 0:02:37\u001b[39m\n",
      "\u001b[32mODE  33%|████████████████                               |  ETA: 0:02:37\u001b[39m\n",
      "\u001b[32mODE  33%|████████████████                               |  ETA: 0:02:38\u001b[39m\n",
      "\u001b[32mODE  34%|████████████████                               |  ETA: 0:02:38\u001b[39m\n",
      "\u001b[32mODE  34%|████████████████                               |  ETA: 0:02:38\u001b[39m\n",
      "\u001b[32mODE  34%|█████████████████                              |  ETA: 0:02:39\u001b[39m\n",
      "\u001b[32mODE  35%|█████████████████                              |  ETA: 0:02:38\u001b[39m\n",
      "\u001b[32mODE  35%|█████████████████                              |  ETA: 0:02:38\u001b[39m\n",
      "\u001b[32mODE  35%|█████████████████                              |  ETA: 0:02:38\u001b[39m\n",
      "\u001b[32mODE  35%|█████████████████                              |  ETA: 0:02:38\u001b[39m\n",
      "\u001b[32mODE  36%|█████████████████                              |  ETA: 0:02:37\u001b[39m\n",
      "\u001b[32mODE  36%|█████████████████                              |  ETA: 0:02:37\u001b[39m\n",
      "\u001b[32mODE  36%|██████████████████                             |  ETA: 0:02:37\u001b[39m\n",
      "\u001b[32mODE  37%|██████████████████                             |  ETA: 0:02:36\u001b[39m\n",
      "\u001b[32mODE  37%|██████████████████                             |  ETA: 0:02:36\u001b[39m\n",
      "\u001b[32mODE  37%|██████████████████                             |  ETA: 0:02:37\u001b[39m\n",
      "\u001b[32mODE  37%|██████████████████                             |  ETA: 0:02:37\u001b[39m\n",
      "\u001b[32mODE  38%|██████████████████                             |  ETA: 0:02:36\u001b[39m\n",
      "\u001b[32mODE  38%|██████████████████                             |  ETA: 0:02:36\u001b[39m\n",
      "\u001b[32mODE  38%|███████████████████                            |  ETA: 0:02:35\u001b[39m\n",
      "\u001b[32mODE  39%|███████████████████                            |  ETA: 0:02:35\u001b[39m\n",
      "\u001b[32mODE  39%|███████████████████                            |  ETA: 0:02:34\u001b[39m\n",
      "\u001b[32mODE  39%|███████████████████                            |  ETA: 0:02:34\u001b[39m\n",
      "\u001b[32mODE  40%|███████████████████                            |  ETA: 0:02:33\u001b[39m\n",
      "\u001b[32mODE  40%|███████████████████                            |  ETA: 0:02:33\u001b[39m\n",
      "\u001b[32mODE  40%|███████████████████                            |  ETA: 0:02:33\u001b[39m\n",
      "\u001b[32mODE  40%|████████████████████                           |  ETA: 0:02:32\u001b[39m\n",
      "\u001b[32mODE  41%|████████████████████                           |  ETA: 0:02:32\u001b[39m\n",
      "\u001b[32mODE  41%|████████████████████                           |  ETA: 0:02:31\u001b[39m\n",
      "\u001b[32mODE  41%|████████████████████                           |  ETA: 0:02:31\u001b[39m\n",
      "\u001b[32mODE  42%|████████████████████                           |  ETA: 0:02:30\u001b[39m\n",
      "\u001b[32mODE  42%|████████████████████                           |  ETA: 0:02:30\u001b[39m\n",
      "\u001b[32mODE  42%|████████████████████                           |  ETA: 0:02:29\u001b[39m\n",
      "\u001b[32mODE  43%|█████████████████████                          |  ETA: 0:02:28\u001b[39m\n",
      "\u001b[32mODE  43%|█████████████████████                          |  ETA: 0:02:27\u001b[39m\n",
      "\u001b[32mODE  44%|█████████████████████                          |  ETA: 0:02:27\u001b[39m\n",
      "\u001b[32mODE  44%|█████████████████████                          |  ETA: 0:02:26\u001b[39m\n",
      "\u001b[32mODE  44%|█████████████████████                          |  ETA: 0:02:25\u001b[39m\n",
      "\u001b[32mODE  45%|█████████████████████                          |  ETA: 0:02:24\u001b[39m\n",
      "\u001b[32mODE  45%|██████████████████████                         |  ETA: 0:02:23\u001b[39m\n",
      "\u001b[32mODE  45%|██████████████████████                         |  ETA: 0:02:22\u001b[39m\n",
      "\u001b[32mODE  46%|██████████████████████                         |  ETA: 0:02:21\u001b[39m\n",
      "\u001b[32mODE  46%|██████████████████████                         |  ETA: 0:02:21\u001b[39m\n",
      "\u001b[32mODE  46%|██████████████████████                         |  ETA: 0:02:20\u001b[39m\n",
      "\u001b[32mODE  47%|██████████████████████                         |  ETA: 0:02:19\u001b[39m\n",
      "\u001b[32mODE  47%|███████████████████████                        |  ETA: 0:02:18\u001b[39m\n",
      "\u001b[32mODE  47%|███████████████████████                        |  ETA: 0:02:18\u001b[39m\n",
      "\u001b[32mODE  48%|███████████████████████                        |  ETA: 0:02:17\u001b[39m\n",
      "\u001b[32mODE  48%|███████████████████████                        |  ETA: 0:02:16\u001b[39m\n",
      "\u001b[32mODE  49%|███████████████████████                        |  ETA: 0:02:15\u001b[39m\n",
      "\u001b[32mODE  49%|████████████████████████                       |  ETA: 0:02:14\u001b[39m\n",
      "\u001b[32mODE  49%|████████████████████████                       |  ETA: 0:02:13\u001b[39m\n",
      "\u001b[32mODE  50%|████████████████████████                       |  ETA: 0:02:12\u001b[39m\n",
      "\u001b[32mODE  50%|████████████████████████                       |  ETA: 0:02:10\u001b[39m\n",
      "\u001b[32mODE  51%|████████████████████████                       |  ETA: 0:02:09\u001b[39m\n",
      "\u001b[32mODE  51%|█████████████████████████                      |  ETA: 0:02:07\u001b[39m\n",
      "\u001b[32mODE  52%|█████████████████████████                      |  ETA: 0:02:06\u001b[39m\n",
      "\u001b[32mODE  52%|█████████████████████████                      |  ETA: 0:02:04\u001b[39m\n",
      "\u001b[32mODE  53%|█████████████████████████                      |  ETA: 0:02:02\u001b[39m\n",
      "\u001b[32mODE  53%|█████████████████████████                      |  ETA: 0:02:01\u001b[39m\n",
      "\u001b[32mODE  54%|██████████████████████████                     |  ETA: 0:01:59\u001b[39m\n",
      "\u001b[32mODE  54%|██████████████████████████                     |  ETA: 0:01:58\u001b[39m\n",
      "\u001b[32mODE  55%|██████████████████████████                     |  ETA: 0:01:56\u001b[39m\n",
      "\u001b[32mODE  55%|██████████████████████████                     |  ETA: 0:01:55\u001b[39m\n",
      "\u001b[32mODE  56%|███████████████████████████                    |  ETA: 0:01:53\u001b[39m\n",
      "\u001b[32mODE  56%|███████████████████████████                    |  ETA: 0:01:52\u001b[39m\n",
      "\u001b[32mODE  57%|███████████████████████████                    |  ETA: 0:01:50\u001b[39m\n",
      "\u001b[32mODE  57%|███████████████████████████                    |  ETA: 0:01:49\u001b[39m\n",
      "\u001b[32mODE  58%|████████████████████████████                   |  ETA: 0:01:47\u001b[39m\n",
      "\u001b[32mODE  58%|████████████████████████████                   |  ETA: 0:01:46\u001b[39m\n",
      "\u001b[32mODE  59%|████████████████████████████                   |  ETA: 0:01:44\u001b[39m\n",
      "\u001b[32mODE  59%|████████████████████████████                   |  ETA: 0:01:43\u001b[39m\n",
      "\u001b[32mODE  60%|█████████████████████████████                  |  ETA: 0:01:41\u001b[39m\n",
      "\u001b[32mODE  60%|█████████████████████████████                  |  ETA: 0:01:40\u001b[39m\n",
      "\u001b[32mODE  61%|█████████████████████████████                  |  ETA: 0:01:38\u001b[39m\n",
      "\u001b[32mODE  61%|█████████████████████████████                  |  ETA: 0:01:37\u001b[39m\n",
      "\u001b[32mODE  62%|█████████████████████████████                  |  ETA: 0:01:36\u001b[39m\n",
      "\u001b[32mODE  62%|██████████████████████████████                 |  ETA: 0:01:34\u001b[39m\n",
      "\u001b[32mODE  63%|██████████████████████████████                 |  ETA: 0:01:33\u001b[39m\n",
      "\u001b[32mODE  63%|██████████████████████████████                 |  ETA: 0:01:31\u001b[39m\n",
      "\u001b[32mODE  64%|██████████████████████████████                 |  ETA: 0:01:30\u001b[39m\n",
      "\u001b[32mODE  64%|███████████████████████████████                |  ETA: 0:01:29\u001b[39m\n",
      "\u001b[32mODE  65%|███████████████████████████████                |  ETA: 0:01:27\u001b[39m\n",
      "\u001b[32mODE  65%|███████████████████████████████                |  ETA: 0:01:26\u001b[39m\n",
      "\u001b[32mODE  66%|███████████████████████████████                |  ETA: 0:01:25\u001b[39m\n",
      "\u001b[32mODE  66%|████████████████████████████████               |  ETA: 0:01:23\u001b[39m\n",
      "\u001b[32mODE  67%|████████████████████████████████               |  ETA: 0:01:22\u001b[39m\n",
      "\u001b[32mODE  67%|████████████████████████████████               |  ETA: 0:01:21\u001b[39m\n",
      "\u001b[32mODE  68%|████████████████████████████████               |  ETA: 0:01:19\u001b[39m\n",
      "\u001b[32mODE  68%|█████████████████████████████████              |  ETA: 0:01:18\u001b[39m\n",
      "\u001b[32mODE  69%|█████████████████████████████████              |  ETA: 0:01:17\u001b[39m\n",
      "\u001b[32mODE  69%|█████████████████████████████████              |  ETA: 0:01:15\u001b[39m\n",
      "\u001b[32mODE  70%|█████████████████████████████████              |  ETA: 0:01:14\u001b[39m\n",
      "\u001b[32mODE  70%|█████████████████████████████████              |  ETA: 0:01:13\u001b[39m\n",
      "\u001b[32mODE  71%|██████████████████████████████████             |  ETA: 0:01:11\u001b[39m\n",
      "\u001b[32mODE  71%|██████████████████████████████████             |  ETA: 0:01:10\u001b[39m\n",
      "\u001b[32mODE  72%|██████████████████████████████████             |  ETA: 0:01:09\u001b[39m\n",
      "\u001b[32mODE  72%|██████████████████████████████████             |  ETA: 0:01:08\u001b[39m\n",
      "\u001b[32mODE  73%|███████████████████████████████████            |  ETA: 0:01:06\u001b[39m\n",
      "\u001b[32mODE  73%|███████████████████████████████████            |  ETA: 0:01:05\u001b[39m\n",
      "\u001b[32mODE  74%|███████████████████████████████████            |  ETA: 0:01:04\u001b[39m\n",
      "\u001b[32mODE  74%|███████████████████████████████████            |  ETA: 0:01:03\u001b[39m\n",
      "\u001b[32mODE  75%|████████████████████████████████████           |  ETA: 0:01:01\u001b[39m\n",
      "\u001b[32mODE  75%|████████████████████████████████████           |  ETA: 0:01:00\u001b[39m\n",
      "\u001b[32mODE  75%|████████████████████████████████████           |  ETA: 0:01:00\u001b[39m\n",
      "\u001b[32mODE  75%|████████████████████████████████████           |  ETA: 0:01:00\u001b[39m\n",
      "\u001b[32mODE  76%|████████████████████████████████████           |  ETA: 0:00:59\u001b[39m\n",
      "\u001b[32mODE  76%|████████████████████████████████████           |  ETA: 0:00:59\u001b[39m\n",
      "\u001b[32mODE  76%|████████████████████████████████████           |  ETA: 0:00:59\u001b[39m\n",
      "\u001b[32mODE  76%|████████████████████████████████████           |  ETA: 0:00:59\u001b[39m\n",
      "\u001b[32mODE  76%|████████████████████████████████████           |  ETA: 0:00:59\u001b[39m\n",
      "\u001b[32mODE  76%|████████████████████████████████████           |  ETA: 0:00:58\u001b[39m\n",
      "\u001b[32mODE  77%|████████████████████████████████████           |  ETA: 0:00:58\u001b[39m\n",
      "\u001b[32mODE  77%|█████████████████████████████████████          |  ETA: 0:00:57\u001b[39m\n",
      "\u001b[32mODE  77%|█████████████████████████████████████          |  ETA: 0:00:57\u001b[39m\n",
      "\u001b[32mODE  77%|█████████████████████████████████████          |  ETA: 0:00:57\u001b[39m\n",
      "\u001b[32mODE  78%|█████████████████████████████████████          |  ETA: 0:00:56\u001b[39m\n",
      "\u001b[32mODE  78%|█████████████████████████████████████          |  ETA: 0:00:56\u001b[39m\n",
      "\u001b[32mODE  78%|█████████████████████████████████████          |  ETA: 0:00:55\u001b[39m\n",
      "\u001b[32mODE  78%|█████████████████████████████████████          |  ETA: 0:00:55\u001b[39m\n",
      "\u001b[32mODE  79%|█████████████████████████████████████          |  ETA: 0:00:54\u001b[39m\n",
      "\u001b[32mODE  79%|██████████████████████████████████████         |  ETA: 0:00:54\u001b[39m\n",
      "\u001b[32mODE  79%|██████████████████████████████████████         |  ETA: 0:00:53\u001b[39m\n",
      "\u001b[32mODE  79%|██████████████████████████████████████         |  ETA: 0:00:53\u001b[39m\n",
      "\u001b[32mODE  79%|██████████████████████████████████████         |  ETA: 0:00:52\u001b[39m\n",
      "\u001b[32mODE  80%|██████████████████████████████████████         |  ETA: 0:00:52\u001b[39m\n",
      "\u001b[32mODE  80%|██████████████████████████████████████         |  ETA: 0:00:51\u001b[39m\n",
      "\u001b[32mODE  80%|██████████████████████████████████████         |  ETA: 0:00:50\u001b[39m\n",
      "\u001b[32mODE  80%|██████████████████████████████████████         |  ETA: 0:00:50\u001b[39m\n",
      "\u001b[32mODE  81%|██████████████████████████████████████         |  ETA: 0:00:49\u001b[39m\n",
      "\u001b[32mODE  81%|███████████████████████████████████████        |  ETA: 0:00:49\u001b[39m\n",
      "\u001b[32mODE  81%|███████████████████████████████████████        |  ETA: 0:00:48\u001b[39m\n",
      "\u001b[32mODE  81%|███████████████████████████████████████        |  ETA: 0:00:48\u001b[39m\n",
      "\u001b[32mODE  82%|███████████████████████████████████████        |  ETA: 0:00:47\u001b[39m\n",
      "\u001b[32mODE  82%|███████████████████████████████████████        |  ETA: 0:00:47\u001b[39m\n",
      "\u001b[32mODE  82%|███████████████████████████████████████        |  ETA: 0:00:46\u001b[39m\n",
      "\u001b[32mODE  83%|███████████████████████████████████████        |  ETA: 0:00:45\u001b[39m\n",
      "\u001b[32mODE  83%|███████████████████████████████████████        |  ETA: 0:00:45\u001b[39m\n",
      "\u001b[32mODE  83%|████████████████████████████████████████       |  ETA: 0:00:44\u001b[39m\n",
      "\u001b[32mODE  83%|████████████████████████████████████████       |  ETA: 0:00:43\u001b[39m\n",
      "\u001b[32mODE  84%|████████████████████████████████████████       |  ETA: 0:00:43\u001b[39m\n",
      "\u001b[32mODE  84%|████████████████████████████████████████       |  ETA: 0:00:42\u001b[39m\n",
      "\u001b[32mODE  84%|████████████████████████████████████████       |  ETA: 0:00:42\u001b[39m\n",
      "\u001b[32mODE  84%|████████████████████████████████████████       |  ETA: 0:00:41\u001b[39m\n",
      "\u001b[32mODE  85%|████████████████████████████████████████       |  ETA: 0:00:40\u001b[39m\n",
      "\u001b[32mODE  85%|████████████████████████████████████████       |  ETA: 0:00:39\u001b[39m\n",
      "\u001b[32mODE  85%|█████████████████████████████████████████      |  ETA: 0:00:39\u001b[39m\n",
      "\u001b[32mODE  86%|█████████████████████████████████████████      |  ETA: 0:00:38\u001b[39m\n",
      "\u001b[32mODE  86%|█████████████████████████████████████████      |  ETA: 0:00:37\u001b[39m\n",
      "\u001b[32mODE  86%|█████████████████████████████████████████      |  ETA: 0:00:37\u001b[39m\n",
      "\u001b[32mODE  86%|█████████████████████████████████████████      |  ETA: 0:00:36\u001b[39m\n",
      "\u001b[32mODE  87%|█████████████████████████████████████████      |  ETA: 0:00:35\u001b[39m\n",
      "\u001b[32mODE  87%|█████████████████████████████████████████      |  ETA: 0:00:34\u001b[39m\n",
      "\u001b[32mODE  87%|██████████████████████████████████████████     |  ETA: 0:00:34\u001b[39m\n",
      "\u001b[32mODE  88%|██████████████████████████████████████████     |  ETA: 0:00:33\u001b[39m\n",
      "\u001b[32mODE  88%|██████████████████████████████████████████     |  ETA: 0:00:32\u001b[39m\n",
      "\u001b[32mODE  88%|██████████████████████████████████████████     |  ETA: 0:00:31\u001b[39m\n",
      "\u001b[32mODE  88%|██████████████████████████████████████████     |  ETA: 0:00:31\u001b[39m\n",
      "\u001b[32mODE  89%|██████████████████████████████████████████     |  ETA: 0:00:30\u001b[39m\n",
      "\u001b[32mODE  89%|██████████████████████████████████████████     |  ETA: 0:00:29\u001b[39m\n",
      "\u001b[32mODE  89%|███████████████████████████████████████████    |  ETA: 0:00:28\u001b[39m\n",
      "\u001b[32mODE  90%|███████████████████████████████████████████    |  ETA: 0:00:27\u001b[39m\n",
      "\u001b[32mODE  90%|███████████████████████████████████████████    |  ETA: 0:00:27\u001b[39m\n",
      "\u001b[32mODE  90%|███████████████████████████████████████████    |  ETA: 0:00:26\u001b[39m\n",
      "\u001b[32mODE  91%|███████████████████████████████████████████    |  ETA: 0:00:25\u001b[39m\n",
      "\u001b[32mODE  91%|███████████████████████████████████████████    |  ETA: 0:00:24\u001b[39m\n",
      "\u001b[32mODE  91%|███████████████████████████████████████████    |  ETA: 0:00:23\u001b[39m\n",
      "\u001b[32mODE  92%|████████████████████████████████████████████   |  ETA: 0:00:22\u001b[39m\n",
      "\u001b[32mODE  92%|████████████████████████████████████████████   |  ETA: 0:00:21\u001b[39m\n",
      "\u001b[32mODE  92%|████████████████████████████████████████████   |  ETA: 0:00:20\u001b[39m\n",
      "\u001b[32mODE  93%|████████████████████████████████████████████   |  ETA: 0:00:20\u001b[39m\n",
      "\u001b[32mODE  93%|████████████████████████████████████████████   |  ETA: 0:00:19\u001b[39m\n",
      "\u001b[32mODE  93%|████████████████████████████████████████████   |  ETA: 0:00:18\u001b[39m\n",
      "\u001b[32mODE  94%|█████████████████████████████████████████████  |  ETA: 0:00:17\u001b[39m\n",
      "\u001b[32mODE  94%|█████████████████████████████████████████████  |  ETA: 0:00:16\u001b[39m\n",
      "\u001b[32mODE  94%|█████████████████████████████████████████████  |  ETA: 0:00:15\u001b[39m\n",
      "\u001b[32mODE  95%|█████████████████████████████████████████████  |  ETA: 0:00:14\u001b[39m\n",
      "\u001b[32mODE  95%|█████████████████████████████████████████████  |  ETA: 0:00:13\u001b[39m\n",
      "\u001b[32mODE  96%|█████████████████████████████████████████████  |  ETA: 0:00:12\u001b[39m\n",
      "\u001b[32mODE  96%|██████████████████████████████████████████████ |  ETA: 0:00:11\u001b[39m\n",
      "\u001b[32mODE  96%|██████████████████████████████████████████████ |  ETA: 0:00:10\u001b[39m\n",
      "\u001b[32mODE  97%|██████████████████████████████████████████████ |  ETA: 0:00:09\u001b[39m\n",
      "\u001b[32mODE  97%|██████████████████████████████████████████████ |  ETA: 0:00:08\u001b[39m\n",
      "\u001b[32mODE  97%|██████████████████████████████████████████████ |  ETA: 0:00:07\u001b[39m\n",
      "\u001b[32mODE  98%|██████████████████████████████████████████████ |  ETA: 0:00:06\u001b[39m\n",
      "\u001b[32mODE  98%|███████████████████████████████████████████████|  ETA: 0:00:05\u001b[39m\n",
      "\u001b[32mODE  99%|███████████████████████████████████████████████|  ETA: 0:00:04\u001b[39m\n",
      "\u001b[32mODE  99%|███████████████████████████████████████████████|  ETA: 0:00:03\u001b[39m\n",
      "\u001b[32mODE  99%|███████████████████████████████████████████████|  ETA: 0:00:02\u001b[39m\n",
      "\u001b[32mODE 100%|███████████████████████████████████████████████|  ETA: 0:00:01\u001b[39m\n",
      "\u001b[90mODE 100%|███████████████████████████████████████████████| Time: 0:04:29\u001b[39m\n"
     ]
    }
   ],
   "source": [
    "disturbance_func(t) = mod(t, 6) < 3 ? SVector(0., 0., 0.) : SVector(0., 0., 10.)\n",
    "\n",
    "f_setup(cache) = get_compiled_coordID(cache, \".robot.rh_fftip_mass_coord\")\n",
    "\n",
    "function f_control(cache, t, args, extra)\n",
    "    tcp_pos_coord_id = args\n",
    "    F = disturbance_func(t)\n",
    "    uᵣ, uᵥ = get_u(cache)\n",
    "    z = configuration(cache, tcp_pos_coord_id)\n",
    "    J = jacobian(cache, tcp_pos_coord_id)\n",
    "    mul!(uᵣ, J', F)\n",
    "    nothing\n",
    "end\n",
    "\n",
    "tspan = (0., 12.)\n",
    "vms_compiled = compile(vms)\n",
    "q = (zero_q(vms_compiled.robot), Float64[]) # Robot joint angle, vm joint angles\n",
    "q̇ = (zero_q̇(vms_compiled.robot), Float64[]) # Robot joint velocity, vm joint velocities\n",
    "g = VMRobotControl.DEFAULT_GRAVITY\n",
    "dcache = new_dynamics_cache(vms_compiled)\n",
    "prob = get_ode_problem(dcache, g, q, q̇, tspan; f_setup, f_control)\n",
    "@info \"Simulating shadow robot with impedance control.\"\n",
    "\n",
    "using Logging: global_logger\n",
    "using TerminalLoggers: TerminalLogger\n",
    "global_logger(TerminalLogger())\n",
    "\n",
    "sol = solve(prob, Tsit5(), progress=true; maxiters=1e6, abstol=1e-6, reltol=1e-6);"
   ]
  },
  {
   "cell_type": "markdown",
   "metadata": {},
   "source": [
    "### Visualizing the Results"
   ]
  },
  {
   "cell_type": "code",
   "execution_count": 10,
   "metadata": {},
   "outputs": [],
   "source": [
    "fig = Figure(size = (720, 720), figure_padding=0)\n",
    "display(fig)\n",
    "ls = LScene(fig[1, 1]; show_axis=false)\n",
    "cam = cam3d!(ls, camera=:perspective, center=false)\n",
    "cam.lookat[] = [0.25, 0.5, 0.1]\n",
    "cam.eyeposition[] = [-0.4, -0.8, 0.5]\n",
    "\n",
    "plotting_t = Observable(0.0)\n",
    "plotting_kcache = Observable(new_kinematics_cache(compile(robot)))\n",
    "robotvisualize!(ls, plotting_kcache;)\n",
    "\n",
    "tcp_pos_id = get_compiled_coordID(plotting_kcache[], \"rh_fftip_mass_coord\")\n",
    "tcp_pos = map(plotting_kcache) do kcache\n",
    "    Point3f(configuration(kcache, tcp_pos_id))\n",
    "end\n",
    "force = map(t -> 0.01 * Vec3f(disturbance_func(t)), plotting_t)\n",
    "arrowsize = map(f -> 0.1*(f'*f)^(0.25), force)\n",
    "arrows!(ls, map(p -> [p], tcp_pos), map(f -> [f], force); color = :red, arrowsize)\n",
    "\n",
    "savepath = joinpath(module_path, \"docs/src/assets/shadowhand_two_fingers_grasp.mp4\")\n",
    "animate_robot_odesolution(fig, sol, plotting_kcache, savepath; t=plotting_t);"
   ]
  }
 ],
 "metadata": {
  "kernelspec": {
   "display_name": "Julia 1.9.3",
   "language": "julia",
   "name": "julia-1.9"
  },
  "language_info": {
   "file_extension": ".jl",
   "mimetype": "application/julia",
   "name": "julia",
   "version": "1.9.3"
  }
 },
 "nbformat": 4,
 "nbformat_minor": 2
}
