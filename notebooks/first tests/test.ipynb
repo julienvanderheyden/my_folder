{
 "cells": [
  {
   "cell_type": "code",
   "execution_count": 1,
   "metadata": {},
   "outputs": [
    {
     "name": "stderr",
     "output_type": "stream",
     "text": [
      "\u001b[36m\u001b[1m[ \u001b[22m\u001b[39m\u001b[36m\u001b[1mInfo: \u001b[22m\u001b[39mPrecompiling VMRobotControl [7d923390-5bb2-4b12-9c06-5b46ef7ec375]\n",
      "\u001b[36m\u001b[1m[ \u001b[22m\u001b[39m\u001b[36m\u001b[1mInfo: \u001b[22m\u001b[39mPrecompiling VMRobotControlMakieExt [eb905980-c17a-52fb-868a-56f829bc8445]\n",
      "\u001b[36m\u001b[1m[ \u001b[22m\u001b[39m\u001b[36m\u001b[1mInfo: \u001b[22m\u001b[39mPrecompiling VMRobotControlDifferentialEquationsExt [8dceb1f5-daf4-58d1-992f-bbb034695ea0]\n"
     ]
    }
   ],
   "source": [
    "using Revise\n",
    "using GeometryBasics: Vec3f, Point3f\n",
    "using LinearAlgebra\n",
    "using GLMakie\n",
    "using StaticArrays\n",
    "using VMRobotControl\n",
    "using DifferentialEquations\n",
    "using MeshIO"
   ]
  },
  {
   "cell_type": "markdown",
   "metadata": {},
   "source": [
    "## Importing ShadowHand URDF"
   ]
  },
  {
   "cell_type": "markdown",
   "metadata": {},
   "source": [
    "### URDF Parsing"
   ]
  },
  {
   "cell_type": "code",
   "execution_count": 2,
   "metadata": {},
   "outputs": [
    {
     "data": {
      "text/plain": [
       "24DOF Mechanism{Float64} \"shadowhand_motor\" with 33 frames, 32 joints, 55 coordinates, 82 components"
      ]
     },
     "execution_count": 2,
     "metadata": {},
     "output_type": "execute_result"
    }
   ],
   "source": [
    "using FileIO, UUIDs\n",
    "try\n",
    "    FileIO.add_format(format\"DAE\", (), \".dae\", [:DigitalAssetExchangeFormatIO => UUID(\"43182933-f65b-495a-9e05-4d939cea427d\")])\n",
    "catch\n",
    "end\n",
    "\n",
    "cfg = URDFParserConfig(;suppress_warnings=true) # This is just to hide warnings about unsupported URDF features\n",
    "module_path = joinpath(splitpath(splitdir(pathof(VMRobotControl))[1])[1:end-1])\n",
    "robot = parseURDF(joinpath(module_path, \"URDFs/sr_description/sr_hand_vm_compatible.urdf\"), cfg)"
   ]
  },
  {
   "cell_type": "markdown",
   "metadata": {},
   "source": [
    "### Hand Visualization"
   ]
  },
  {
   "cell_type": "code",
   "execution_count": 3,
   "metadata": {},
   "outputs": [
    {
     "data": {
      "text/plain": [
       "GLMakie.Screen(...)"
      ]
     },
     "execution_count": 3,
     "metadata": {},
     "output_type": "execute_result"
    }
   ],
   "source": [
    "# Compile robot model\n",
    "m = compile(robot)\n",
    "kcache = Observable(new_kinematics_cache(m))  # This stores the robot's joint state\n",
    "\n",
    "# Create the figure\n",
    "fig = Figure(size=(800, 600))\n",
    "\n",
    "# Create interactive 3D scene\n",
    "ls = LScene(fig[1, 1]; show_axis=true)  # 3D interactive scene\n",
    "\n",
    "# Attach interactive camera controls\n",
    "cam3d!(ls)  # Enables mouse interaction (rotate, zoom, pan)\n",
    "\n",
    "# Plot the robot's visuals\n",
    "robotvisualize!(ls, kcache)\n",
    "\n",
    "# Display figure\n",
    "display(fig)"
   ]
  },
  {
   "cell_type": "markdown",
   "metadata": {},
   "source": [
    "### Hand properties : Frames, Joints, Coordinates & Components"
   ]
  },
  {
   "cell_type": "code",
   "execution_count": 5,
   "metadata": {},
   "outputs": [
    {
     "name": "stdout",
     "output_type": "stream",
     "text": [
      "Dict{String, VMRobotControl.CoordinateData} with 55 entries:\n",
      "  \"rh_lfdistal_mass_coord\" => FramePoint{Float64, String}(rh_lfdistal, [0.0, 0.0, 0.012])\n",
      "  \"rh_rfdistal_mass_coord\" => FramePoint{Float64, String}(rh_rfdistal, [0.0, 0.0, 0.012])\n",
      "  \"rh_thdistal_mass_coord\" => FramePoint{Float64, String}(rh_thdistal, [0.0, 0.0, 0.01375])\n",
      "  \"rh_rftip_mass_coord\" => FrameOrigin{String}(rh_rftip)\n",
      "  \"rh_palm_mass_coord\" => FramePoint{Float64, String}(rh_palm, [0.0, 0.0, 0.035])\n",
      "  \"rh_rfknuckle_mass_coord\" => FrameOrigin{String}(rh_rfknuckle)\n",
      "  \"rh_wrist_mass_coord\" => FramePoint{Float64, String}(rh_wrist, [0.0, 0.0, 0.029])\n",
      "  \"rh_ffdistal_inertia_coord\" => FrameAngularVelocity{String}(\"rh_ffdistal\")\n",
      "  \"rh_thhub_mass_coord\" => FrameOrigin{String}(rh_thhub)\n",
      "  \"rh_rfmiddle_mass_coord\" => FramePoint{Float64, String}(rh_rfmiddle, [0.0, 0.0, 0.0125])\n",
      "  \"rh_mftip_mass_coord\" => FrameOrigin{String}(rh_mftip)\n",
      "  \"rh_ffdistal_mass_coord\" => FramePoint{Float64, String}(rh_ffdistal, [0.0, 0.0, 0.012])\n",
      "  \"rh_mfknuckle_mass_coord\" => FrameOrigin{String}(rh_mfknuckle)\n",
      "  \"rh_lfmiddle_mass_coord\" => FramePoint{Float64, String}(rh_lfmiddle, [0.0, 0.0, 0.0125])\n",
      "  \"rh_forearm_inertia_coord\" => FrameAngularVelocity{String}(\"rh_forearm\")\n",
      "  \"rh_rfmiddle_inertia_coord\" => FrameAngularVelocity{String}(\"rh_rfmiddle\")\n",
      "  \"rh_ffknuckle_inertia_coord\" => FrameAngularVelocity{String}(\"rh_ffknuckle\")\n",
      "  \"rh_thmiddle_mass_coord\" => FramePoint{Float64, String}(rh_thmiddle, [0.0, 0.0, 0.016])\n",
      "  \"rh_lfproximal_inertia_coord\" => FrameAngularVelocity{String}(\"rh_lfproximal\")\n",
      "  \"rh_wrist_inertia_coord\" => FrameAngularVelocity{String}(\"rh_wrist\")\n",
      "  \"rh_thbase_mass_coord\" => FrameOrigin{String}(rh_thbase)\n",
      "  \"rh_lfproximal_mass_coord\" => FramePoint{Float64, String}(rh_lfproximal, [0.0, 0.0, 0.0225])\n",
      "  \"rh_mfmiddle_inertia_coord\" => FrameAngularVelocity{String}(\"rh_mfmiddle\")\n",
      "  \"rh_ffproximal_inertia_coord\" => FrameAngularVelocity{String}(\"rh_ffproximal\")\n",
      "  \"rh_thproximal_inertia_coord\" => FrameAngularVelocity{String}(\"rh_thproximal\")\n",
      "  \"rh_thbase_inertia_coord\" => FrameAngularVelocity{String}(\"rh_thbase\")\n",
      "  \"rh_mfknuckle_inertia_coord\" => FrameAngularVelocity{String}(\"rh_mfknuckle\")\n",
      "  \"rh_thdistal_inertia_coord\" => FrameAngularVelocity{String}(\"rh_thdistal\")\n",
      "  \"rh_ffmiddle_mass_coord\" => FramePoint{Float64, String}(rh_ffmiddle, [0.0, 0.0, 0.0125])\n",
      "  \"rh_thtip_mass_coord\" => FrameOrigin{String}(rh_thtip)\n",
      "  \"rh_mfproximal_inertia_coord\" => FrameAngularVelocity{String}(\"rh_mfproximal\")\n",
      "  \"rh_thhub_inertia_coord\" => FrameAngularVelocity{String}(\"rh_thhub\")\n",
      "  \"rh_thmiddle_inertia_coord\" => FrameAngularVelocity{String}(\"rh_thmiddle\")\n",
      "  \"rh_palm_inertia_coord\" => FrameAngularVelocity{String}(\"rh_palm\")\n",
      "  \"rh_mfmiddle_mass_coord\" => FramePoint{Float64, String}(rh_mfmiddle, [0.0, 0.0, 0.0125])\n",
      "  \"rh_fftip_mass_coord\" => FrameOrigin{String}(rh_fftip)\n",
      "  \"rh_rfproximal_inertia_coord\" => FrameAngularVelocity{String}(\"rh_rfproximal\")\n",
      "  \"rh_rfknuckle_inertia_coord\" => FrameAngularVelocity{String}(\"rh_rfknuckle\")\n",
      "  \"rh_lfknuckle_inertia_coord\" => FrameAngularVelocity{String}(\"rh_lfknuckle\")\n",
      "  \"rh_lfmetacarpal_mass_coord\" => FramePoint{Float64, String}(rh_lfmetacarpal, [0.03174867647058824, 0.0, 0.02235294117647059])\n",
      "  \"rh_lfmetacarpal_inertia_coord\" => FrameAngularVelocity{String}(\"rh_lfmetacarpal\")\n",
      "  \"rh_ffproximal_mass_coord\" => FramePoint{Float64, String}(rh_ffproximal, [0.0, 0.0, 0.0225])\n",
      "  \"rh_lfmiddle_inertia_coord\" => FrameAngularVelocity{String}(\"rh_lfmiddle\")\n",
      "  \"rh_rfproximal_mass_coord\" => FramePoint{Float64, String}(rh_rfproximal, [0.0, 0.0, 0.0225])\n",
      "  \"rh_ffmiddle_inertia_coord\" => FrameAngularVelocity{String}(\"rh_ffmiddle\")\n",
      "  \"rh_lftip_mass_coord\" => FrameOrigin{String}(rh_lftip)\n",
      "  \"rh_rfdistal_inertia_coord\" => FrameAngularVelocity{String}(\"rh_rfdistal\")\n",
      "  \"rh_forearm_mass_coord\" => FramePoint{Float64, String}(rh_forearm, [0.0, 0.0, 0.09])\n",
      "  \"rh_mfproximal_mass_coord\" => FramePoint{Float64, String}(rh_mfproximal, [0.0, 0.0, 0.0225])\n",
      "  \"rh_mfdistal_inertia_coord\" => FrameAngularVelocity{String}(\"rh_mfdistal\")\n",
      "  \"rh_thproximal_mass_coord\" => FramePoint{Float64, String}(rh_thproximal, [0.0, 0.0, 0.019])\n",
      "  \"rh_lfknuckle_mass_coord\" => FrameOrigin{String}(rh_lfknuckle)\n",
      "  \"rh_mfdistal_mass_coord\" => FramePoint{Float64, String}(rh_mfdistal, [0.0, 0.0, 0.012])\n",
      "  \"rh_lfdistal_inertia_coord\" => FrameAngularVelocity{String}(\"rh_lfdistal\")\n",
      "  \"rh_ffknuckle_mass_coord\" => FrameOrigin{String}(rh_ffknuckle)"
     ]
    }
   ],
   "source": [
    "#println(\"FRAMES\")\n",
    "#display(frames(robot))\n",
    "#println(\"JOINTS\")\n",
    "#display(joints(robot))\n",
    "#show(IOContext(stdout, :limit => false),  MIME(\"text/plain\"), joints(robot))\n",
    "#println(\"COORDINATES\")\n",
    "#show(coordinates(robot))\n",
    "show(IOContext(stdout, :limit => false),  MIME(\"text/plain\"), coordinates(robot))\n",
    "#println(\"COMPONENTS\")\n",
    "#display(components(robot))\n",
    "\n"
   ]
  },
  {
   "cell_type": "markdown",
   "metadata": {},
   "source": [
    "## Creating the Virtual Mechanism System"
   ]
  },
  {
   "cell_type": "markdown",
   "metadata": {},
   "source": [
    "### Gravity Compensation and Joint Damping"
   ]
  },
  {
   "cell_type": "markdown",
   "metadata": {},
   "source": [
    "Identify the actuated joints"
   ]
  },
  {
   "cell_type": "code",
   "execution_count": 6,
   "metadata": {},
   "outputs": [
    {
     "name": "stdout",
     "output_type": "stream",
     "text": [
      "Number of actuated joints :24\n",
      "List of the actuated joints :"
     ]
    },
    {
     "data": {
      "text/plain": [
       "24-element Vector{String}:\n",
       " \"rh_WRJ2\"\n",
       " \"rh_WRJ1\"\n",
       " \"rh_FFJ4\"\n",
       " \"rh_FFJ3\"\n",
       " \"rh_FFJ2\"\n",
       " \"rh_FFJ1\"\n",
       " \"rh_MFJ4\"\n",
       " \"rh_MFJ3\"\n",
       " \"rh_MFJ2\"\n",
       " \"rh_MFJ1\"\n",
       " \"rh_RFJ4\"\n",
       " \"rh_RFJ3\"\n",
       " \"rh_RFJ2\"\n",
       " \"rh_RFJ1\"\n",
       " \"rh_LFJ5\"\n",
       " \"rh_LFJ4\"\n",
       " \"rh_LFJ3\"\n",
       " \"rh_LFJ2\"\n",
       " \"rh_LFJ1\"\n",
       " \"rh_THJ5\"\n",
       " \"rh_THJ4\"\n",
       " \"rh_THJ3\"\n",
       " \"rh_THJ2\"\n",
       " \"rh_THJ1\""
      ]
     },
     "metadata": {},
     "output_type": "display_data"
    }
   ],
   "source": [
    "number_of_actuated_joints = 0\n",
    "actuated_joints = String[]\n",
    "\n",
    "for (joint_name, joint) in joints(robot)\n",
    "    if(typeof(joint).parameters[1] <: RevoluteData)\n",
    "        number_of_actuated_joints += 1\n",
    "        push!(actuated_joints, joint_name)\n",
    "    end\n",
    "end\n",
    "\n",
    "println(\"Number of actuated joints :\" , number_of_actuated_joints)\n",
    "print(\"List of the actuated joints :\")\n",
    "display(actuated_joints)"
   ]
  },
  {
   "cell_type": "markdown",
   "metadata": {},
   "source": [
    "Add Gravity Compensation"
   ]
  },
  {
   "cell_type": "code",
   "execution_count": 3,
   "metadata": {},
   "outputs": [],
   "source": [
    "add_gravity_compensation!(robot, VMRobotControl.DEFAULT_GRAVITY)"
   ]
  },
  {
   "cell_type": "markdown",
   "metadata": {},
   "source": [
    "Add joint limiting springs and linear damper"
   ]
  },
  {
   "cell_type": "code",
   "execution_count": 4,
   "metadata": {},
   "outputs": [],
   "source": [
    "joint_limits = cfg.joint_limits\n",
    "\n",
    "for joint_id in keys(joints(robot))\n",
    "    limits = joint_limits[joint_id]\n",
    "    isnothing(limits) && continue\n",
    "    add_coordinate!(robot, JointSubspace(joint_id);  id=\"$(joint_id)_coord\")\n",
    "    @assert ~isnothing(limits.lower) && ~isnothing(limits.upper)\n",
    "    add_deadzone_springs!(robot, 50.0, (limits.lower+0.1, limits.upper-0.1), \"$(joint_id)_coord\")\n",
    "    add_component!(robot, LinearDamper(0.01, \"$(joint_id)_coord\"); id=\"$(joint_id)_damper\")\n",
    "end"
   ]
  },
  {
   "cell_type": "markdown",
   "metadata": {},
   "source": [
    "### Virtual Mechanism Initialization"
   ]
  },
  {
   "cell_type": "markdown",
   "metadata": {},
   "source": [
    "Equivalent de \"TCP position\" : \"rh_fftip_mass_coord\" => FrameOrigin{String}(rh_fftip)"
   ]
  },
  {
   "cell_type": "code",
   "execution_count": 5,
   "metadata": {},
   "outputs": [],
   "source": [
    "vms = VirtualMechanismSystem(\"myShadowVMS\", robot)\n",
    "root = root_frame(vms.robot)\n",
    "#add_coordinate!(vms, FramePoint(\".robot.$root\", SVector(0.0, -0.1, 0.25));        id=\"Target position\")\n",
    "\n",
    "\n",
    "\n",
    "add_coordinate!(vms, FrameOrigin(\".robot.rh_palm\");        id=\"Target position\")\n",
    "add_coordinate!(vms, CoordDifference(\".robot.rh_fftip_mass_coord\", \"Target position\"); id=\"Position error\");\n"
   ]
  },
  {
   "cell_type": "code",
   "execution_count": 6,
   "metadata": {},
   "outputs": [
    {
     "data": {
      "text/plain": [
       "\"Linear Damper\""
      ]
     },
     "execution_count": 6,
     "metadata": {},
     "output_type": "execute_result"
    }
   ],
   "source": [
    "K = SMatrix{3, 3}(100., 0., 0., 0., 100., 0., 0., 0., 100.)\n",
    "add_component!(vms, LinearSpring(K, \"Position error\");           id=\"Linear Spring\")\n",
    "D = SMatrix{3, 3}(100., 0., 0., 0., 100.0, 0., 0., 0., 100.)\n",
    "add_component!(vms, LinearDamper(D, \"Position error\");           id=\"Linear Damper\")"
   ]
  },
  {
   "cell_type": "markdown",
   "metadata": {},
   "source": [
    "## Simulating the Robot"
   ]
  },
  {
   "cell_type": "markdown",
   "metadata": {},
   "source": [
    "### Setting Up the Simulation"
   ]
  },
  {
   "cell_type": "code",
   "execution_count": 7,
   "metadata": {},
   "outputs": [
    {
     "name": "stderr",
     "output_type": "stream",
     "text": [
      "\u001b[36m\u001b[1m[ \u001b[22m\u001b[39m\u001b[36m\u001b[1mInfo: \u001b[22m\u001b[39mSimulating shadow robot with impedance control.\n",
      "\u001b[32mODE   0%|█                                              |  ETA: N/A\u001b[39m\n",
      "\u001b[32mODE   2%|█                                              |  ETA: 0:02:31\u001b[39m\n",
      "\u001b[32mODE   4%|██                                             |  ETA: 0:01:43\u001b[39m\n",
      "\u001b[32mODE   6%|████                                           |  ETA: 0:01:24\u001b[39m\n",
      "\u001b[32mODE   9%|█████                                          |  ETA: 0:01:17\u001b[39m\n",
      "\u001b[32mODE  11%|██████                                         |  ETA: 0:01:11\u001b[39m\n",
      "\u001b[32mODE  13%|███████                                        |  ETA: 0:01:06\u001b[39m\n",
      "\u001b[32mODE  16%|████████                                       |  ETA: 0:01:02\u001b[39m\n",
      "\u001b[32mODE  18%|█████████                                      |  ETA: 0:01:00\u001b[39m\n",
      "\u001b[32mODE  20%|██████████                                     |  ETA: 0:00:57\u001b[39m\n",
      "\u001b[32mODE  22%|███████████                                    |  ETA: 0:00:55\u001b[39m\n",
      "\u001b[32mODE  25%|████████████                                   |  ETA: 0:00:52\u001b[39m\n",
      "\u001b[32mODE  27%|█████████████                                  |  ETA: 0:00:50\u001b[39m\n",
      "\u001b[32mODE  29%|██████████████                                 |  ETA: 0:00:49\u001b[39m\n",
      "\u001b[32mODE  32%|███████████████                                |  ETA: 0:00:47\u001b[39m\n",
      "\u001b[32mODE  34%|████████████████                               |  ETA: 0:00:46\u001b[39m\n",
      "\u001b[32mODE  36%|█████████████████                              |  ETA: 0:00:44\u001b[39m\n",
      "\u001b[32mODE  38%|███████████████████                            |  ETA: 0:00:42\u001b[39m\n",
      "\u001b[32mODE  41%|████████████████████                           |  ETA: 0:00:40\u001b[39m\n",
      "\u001b[32mODE  43%|█████████████████████                          |  ETA: 0:00:39\u001b[39m\n",
      "\u001b[32mODE  45%|██████████████████████                         |  ETA: 0:00:37\u001b[39m\n",
      "\u001b[32mODE  47%|███████████████████████                        |  ETA: 0:00:35\u001b[39m\n",
      "\u001b[32mODE  50%|████████████████████████                       |  ETA: 0:00:34\u001b[39m\n",
      "\u001b[32mODE  50%|████████████████████████                       |  ETA: 0:00:34\u001b[39m\n",
      "\u001b[32mODE  51%|████████████████████████                       |  ETA: 0:00:35\u001b[39m\n",
      "\u001b[32mODE  51%|█████████████████████████                      |  ETA: 0:00:35\u001b[39m\n",
      "\u001b[32mODE  51%|█████████████████████████                      |  ETA: 0:00:36\u001b[39m\n",
      "\u001b[32mODE  52%|█████████████████████████                      |  ETA: 0:00:37\u001b[39m\n",
      "\u001b[32mODE  52%|█████████████████████████                      |  ETA: 0:00:37\u001b[39m\n",
      "\u001b[32mODE  53%|█████████████████████████                      |  ETA: 0:00:38\u001b[39m\n",
      "\u001b[32mODE  53%|██████████████████████████                     |  ETA: 0:00:38\u001b[39m\n",
      "\u001b[32mODE  54%|██████████████████████████                     |  ETA: 0:00:39\u001b[39m\n",
      "\u001b[32mODE  55%|██████████████████████████                     |  ETA: 0:00:39\u001b[39m\n",
      "\u001b[32mODE  55%|██████████████████████████                     |  ETA: 0:00:39\u001b[39m\n",
      "\u001b[32mODE  56%|███████████████████████████                    |  ETA: 0:00:39\u001b[39m\n",
      "\u001b[32mODE  56%|███████████████████████████                    |  ETA: 0:00:40\u001b[39m\n",
      "\u001b[32mODE  57%|███████████████████████████                    |  ETA: 0:00:40\u001b[39m\n",
      "\u001b[32mODE  57%|███████████████████████████                    |  ETA: 0:00:40\u001b[39m\n",
      "\u001b[32mODE  58%|████████████████████████████                   |  ETA: 0:00:40\u001b[39m\n",
      "\u001b[32mODE  58%|████████████████████████████                   |  ETA: 0:00:40\u001b[39m\n",
      "\u001b[32mODE  59%|████████████████████████████                   |  ETA: 0:00:40\u001b[39m\n",
      "\u001b[32mODE  59%|████████████████████████████                   |  ETA: 0:00:40\u001b[39m\n",
      "\u001b[32mODE  60%|█████████████████████████████                  |  ETA: 0:00:40\u001b[39m\n",
      "\u001b[32mODE  61%|█████████████████████████████                  |  ETA: 0:00:40\u001b[39m\n",
      "\u001b[32mODE  61%|█████████████████████████████                  |  ETA: 0:00:40\u001b[39m\n",
      "\u001b[32mODE  62%|██████████████████████████████                 |  ETA: 0:00:39\u001b[39m\n",
      "\u001b[32mODE  62%|██████████████████████████████                 |  ETA: 0:00:39\u001b[39m\n",
      "\u001b[32mODE  63%|██████████████████████████████                 |  ETA: 0:00:39\u001b[39m\n",
      "\u001b[32mODE  63%|██████████████████████████████                 |  ETA: 0:00:39\u001b[39m\n",
      "\u001b[32mODE  64%|███████████████████████████████                |  ETA: 0:00:39\u001b[39m\n",
      "\u001b[32mODE  65%|███████████████████████████████                |  ETA: 0:00:38\u001b[39m\n",
      "\u001b[32mODE  65%|███████████████████████████████                |  ETA: 0:00:38\u001b[39m\n",
      "\u001b[32mODE  66%|███████████████████████████████                |  ETA: 0:00:38\u001b[39m\n",
      "\u001b[32mODE  66%|████████████████████████████████               |  ETA: 0:00:37\u001b[39m\n",
      "\u001b[32mODE  67%|████████████████████████████████               |  ETA: 0:00:37\u001b[39m\n",
      "\u001b[32mODE  68%|████████████████████████████████               |  ETA: 0:00:37\u001b[39m\n",
      "\u001b[32mODE  68%|█████████████████████████████████              |  ETA: 0:00:36\u001b[39m\n",
      "\u001b[32mODE  69%|█████████████████████████████████              |  ETA: 0:00:36\u001b[39m\n",
      "\u001b[32mODE  70%|█████████████████████████████████              |  ETA: 0:00:35\u001b[39m\n",
      "\u001b[32mODE  70%|█████████████████████████████████              |  ETA: 0:00:34\u001b[39m\n",
      "\u001b[32mODE  71%|██████████████████████████████████             |  ETA: 0:00:34\u001b[39m\n",
      "\u001b[32mODE  71%|██████████████████████████████████             |  ETA: 0:00:33\u001b[39m\n",
      "\u001b[32mODE  72%|██████████████████████████████████             |  ETA: 0:00:33\u001b[39m\n",
      "\u001b[32mODE  73%|███████████████████████████████████            |  ETA: 0:00:32\u001b[39m\n",
      "\u001b[32mODE  74%|███████████████████████████████████            |  ETA: 0:00:31\u001b[39m\n",
      "\u001b[32mODE  74%|███████████████████████████████████            |  ETA: 0:00:31\u001b[39m\n",
      "\u001b[32mODE  75%|████████████████████████████████████           |  ETA: 0:00:30\u001b[39m\n",
      "\u001b[32mODE  76%|████████████████████████████████████           |  ETA: 0:00:29\u001b[39m\n",
      "\u001b[32mODE  76%|████████████████████████████████████           |  ETA: 0:00:28\u001b[39m\n",
      "\u001b[32mODE  77%|█████████████████████████████████████          |  ETA: 0:00:28\u001b[39m\n",
      "\u001b[32mODE  78%|█████████████████████████████████████          |  ETA: 0:00:27\u001b[39m\n",
      "\u001b[32mODE  79%|██████████████████████████████████████         |  ETA: 0:00:26\u001b[39m\n",
      "\u001b[32mODE  80%|██████████████████████████████████████         |  ETA: 0:00:25\u001b[39m\n",
      "\u001b[32mODE  80%|██████████████████████████████████████         |  ETA: 0:00:24\u001b[39m\n",
      "\u001b[32mODE  81%|███████████████████████████████████████        |  ETA: 0:00:23\u001b[39m\n",
      "\u001b[32mODE  82%|███████████████████████████████████████        |  ETA: 0:00:22\u001b[39m\n",
      "\u001b[32mODE  83%|███████████████████████████████████████        |  ETA: 0:00:21\u001b[39m\n",
      "\u001b[32mODE  84%|████████████████████████████████████████       |  ETA: 0:00:20\u001b[39m\n",
      "\u001b[32mODE  85%|████████████████████████████████████████       |  ETA: 0:00:19\u001b[39m\n",
      "\u001b[32mODE  86%|█████████████████████████████████████████      |  ETA: 0:00:18\u001b[39m\n",
      "\u001b[32mODE  87%|█████████████████████████████████████████      |  ETA: 0:00:17\u001b[39m\n",
      "\u001b[32mODE  87%|██████████████████████████████████████████     |  ETA: 0:00:16\u001b[39m\n",
      "\u001b[32mODE  88%|██████████████████████████████████████████     |  ETA: 0:00:15\u001b[39m\n",
      "\u001b[32mODE  89%|███████████████████████████████████████████    |  ETA: 0:00:14\u001b[39m\n",
      "\u001b[32mODE  90%|███████████████████████████████████████████    |  ETA: 0:00:12\u001b[39m\n",
      "\u001b[32mODE  91%|███████████████████████████████████████████    |  ETA: 0:00:11\u001b[39m\n",
      "\u001b[32mODE  93%|████████████████████████████████████████████   |  ETA: 0:00:10\u001b[39m\n",
      "\u001b[32mODE  94%|████████████████████████████████████████████   |  ETA: 0:00:08\u001b[39m\n",
      "\u001b[32mODE  95%|█████████████████████████████████████████████  |  ETA: 0:00:07\u001b[39m\n",
      "\u001b[32mODE  96%|██████████████████████████████████████████████ |  ETA: 0:00:05\u001b[39m\n",
      "\u001b[32mODE  97%|██████████████████████████████████████████████ |  ETA: 0:00:04\u001b[39m\n",
      "\u001b[32mODE  98%|███████████████████████████████████████████████|  ETA: 0:00:02\u001b[39m\n",
      "\u001b[32mODE  99%|███████████████████████████████████████████████|  ETA: 0:00:01\u001b[39m\n",
      "\u001b[90mODE 100%|███████████████████████████████████████████████| Time: 0:02:08\u001b[39m\n"
     ]
    }
   ],
   "source": [
    "disturbance_func(t) = mod(t, 6) < 3 ? SVector(0., 0., 0.) : SVector(0., 0., 10.)\n",
    "\n",
    "f_setup(cache) = get_compiled_coordID(cache, \".robot.rh_fftip_mass_coord\")\n",
    "\n",
    "function f_control(cache, t, args, extra)\n",
    "    tcp_pos_coord_id = args\n",
    "    F = disturbance_func(t)\n",
    "    uᵣ, uᵥ = get_u(cache)\n",
    "    z = configuration(cache, tcp_pos_coord_id)\n",
    "    J = jacobian(cache, tcp_pos_coord_id)\n",
    "    mul!(uᵣ, J', F)\n",
    "    nothing\n",
    "end\n",
    "\n",
    "tspan = (0., 6.)\n",
    "vms_compiled = compile(vms)\n",
    "q = (zero_q(vms_compiled.robot), Float64[]) # Robot joint angle, vm joint angles\n",
    "q̇ = (zero_q̇(vms_compiled.robot), Float64[]) # Robot joint velocity, vm joint velocities\n",
    "g = VMRobotControl.DEFAULT_GRAVITY\n",
    "dcache = new_dynamics_cache(vms_compiled)\n",
    "prob = get_ode_problem(dcache, g, q, q̇, tspan; f_setup, f_control)\n",
    "@info \"Simulating shadow robot with impedance control.\"\n",
    "\n",
    "using Logging: global_logger\n",
    "using TerminalLoggers: TerminalLogger\n",
    "global_logger(TerminalLogger())\n",
    "\n",
    "sol = solve(prob, Tsit5(), progress=true; maxiters=1e6, abstol=1e-6, reltol=1e-6);"
   ]
  },
  {
   "cell_type": "markdown",
   "metadata": {},
   "source": [
    "### Visualizing the results"
   ]
  },
  {
   "cell_type": "code",
   "execution_count": 8,
   "metadata": {},
   "outputs": [],
   "source": [
    "fig = Figure(size = (720, 720), figure_padding=0)\n",
    "display(fig)\n",
    "ls = LScene(fig[1, 1]; show_axis=false)\n",
    "cam = cam3d!(ls, camera=:perspective, center=false)\n",
    "cam.lookat[] = [0.25, 0.5, 0.1]\n",
    "cam.eyeposition[] = [-0.4, -0.8, 0.5]\n",
    "\n",
    "plotting_t = Observable(0.0)\n",
    "plotting_kcache = Observable(new_kinematics_cache(compile(robot)))\n",
    "robotvisualize!(ls, plotting_kcache;)\n",
    "\n",
    "tcp_pos_id = get_compiled_coordID(plotting_kcache[], \"rh_fftip_mass_coord\")\n",
    "tcp_pos = map(plotting_kcache) do kcache\n",
    "    Point3f(configuration(kcache, tcp_pos_id))\n",
    "end\n",
    "force = map(t -> 0.01 * Vec3f(disturbance_func(t)), plotting_t)\n",
    "arrowsize = map(f -> 0.1*(f'*f)^(0.25), force)\n",
    "arrows!(ls, map(p -> [p], tcp_pos), map(f -> [f], force); color = :red, arrowsize)\n",
    "\n",
    "savepath = joinpath(module_path, \"docs/src/assets/shadowhand_first_test.mp4\")\n",
    "animate_robot_odesolution(fig, sol, plotting_kcache, savepath; t=plotting_t);"
   ]
  }
 ],
 "metadata": {
  "kernelspec": {
   "display_name": "Julia 1.9.3",
   "language": "julia",
   "name": "julia-1.9"
  },
  "language_info": {
   "file_extension": ".jl",
   "mimetype": "application/julia",
   "name": "julia",
   "version": "1.9.3"
  }
 },
 "nbformat": 4,
 "nbformat_minor": 2
}
