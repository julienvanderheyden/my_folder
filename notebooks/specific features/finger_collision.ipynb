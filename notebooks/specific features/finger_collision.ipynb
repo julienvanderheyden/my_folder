{
 "cells": [
  {
   "cell_type": "code",
   "execution_count": 2,
   "metadata": {},
   "outputs": [],
   "source": [
    "using GeometryBasics: Vec3f, Point3f\n",
    "using LinearAlgebra\n",
    "using GLMakie\n",
    "using StaticArrays\n",
    "using VMRobotControl\n",
    "using DifferentialEquations\n",
    "using MeshIO"
   ]
  },
  {
   "cell_type": "markdown",
   "metadata": {},
   "source": [
    "## Importing ShadowHand URDF"
   ]
  },
  {
   "cell_type": "markdown",
   "metadata": {},
   "source": [
    "### URDF Parsing"
   ]
  },
  {
   "cell_type": "code",
   "execution_count": 3,
   "metadata": {},
   "outputs": [
    {
     "data": {
      "text/plain": [
       "24DOF Mechanism{Float64} \"shadowhand_motor\" with 33 frames, 32 joints, 55 coordinates, 82 components"
      ]
     },
     "execution_count": 3,
     "metadata": {},
     "output_type": "execute_result"
    }
   ],
   "source": [
    "using FileIO, UUIDs\n",
    "try\n",
    "    FileIO.add_format(format\"DAE\", (), \".dae\", [:DigitalAssetExchangeFormatIO => UUID(\"43182933-f65b-495a-9e05-4d939cea427d\")])\n",
    "catch\n",
    "end\n",
    "\n",
    "cfg = URDFParserConfig(;suppress_warnings=true) # This is just to hide warnings about unsupported URDF features\n",
    "module_path = joinpath(splitpath(splitdir(pathof(VMRobotControl))[1])[1:end-1])\n",
    "robot = parseURDF(joinpath(module_path, \"URDFs/sr_description/sr_hand_vm_compatible.urdf\"), cfg)"
   ]
  },
  {
   "cell_type": "markdown",
   "metadata": {},
   "source": [
    "### Hand Visualization"
   ]
  },
  {
   "cell_type": "code",
   "execution_count": 60,
   "metadata": {},
   "outputs": [
    {
     "data": {
      "text/plain": [
       "GLMakie.Screen(...)"
      ]
     },
     "execution_count": 60,
     "metadata": {},
     "output_type": "execute_result"
    }
   ],
   "source": [
    "# Compile robot model\n",
    "m = compile(robot)\n",
    "kcache = Observable(new_kinematics_cache(m))  # This stores the robot's joint state\n",
    "\n",
    "# Create the figure\n",
    "fig = Figure(size=(800, 600))\n",
    "\n",
    "# Create interactive 3D scene\n",
    "ls = LScene(fig[1, 1]; show_axis=true)  # 3D interactive scene\n",
    "\n",
    "# Attach interactive camera controls\n",
    "cam3d!(ls)  # Enables mouse interaction (rotate, zoom, pan)\n",
    "\n",
    "# Plot the robot's visuals\n",
    "robotvisualize!(ls, kcache)\n",
    "\n",
    "# Display figure\n",
    "display(fig)"
   ]
  },
  {
   "cell_type": "code",
   "execution_count": 4,
   "metadata": {},
   "outputs": [
    {
     "name": "stdout",
     "output_type": "stream",
     "text": [
      "Dict{String, VMRobotControl.CoordinateData} with 55 entries:\n",
      "  \"rh_lfdistal_mass_coord\" => FramePoint{Float64, String}(rh_lfdistal, [0.0, 0.0, 0.012])\n",
      "  \"rh_rfdistal_mass_coord\" => FramePoint{Float64, String}(rh_rfdistal, [0.0, 0.0, 0.012])\n",
      "  \"rh_thdistal_mass_coord\" => FramePoint{Float64, String}(rh_thdistal, [0.0, 0.0, 0.01375])\n",
      "  \"rh_rftip_mass_coord\" => FrameOrigin{String}(rh_rftip)\n",
      "  \"rh_palm_mass_coord\" => FramePoint{Float64, String}(rh_palm, [0.0, 0.0, 0.035])\n",
      "  \"rh_rfknuckle_mass_coord\" => FrameOrigin{String}(rh_rfknuckle)\n",
      "  \"rh_wrist_mass_coord\" => FramePoint{Float64, String}(rh_wrist, [0.0, 0.0, 0.029])\n",
      "  \"rh_ffdistal_inertia_coord\" => FrameAngularVelocity{String}(\"rh_ffdistal\")\n",
      "  \"rh_thhub_mass_coord\" => FrameOrigin{String}(rh_thhub)\n",
      "  \"rh_rfmiddle_mass_coord\" => FramePoint{Float64, String}(rh_rfmiddle, [0.0, 0.0, 0.0125])\n",
      "  \"rh_mftip_mass_coord\" => FrameOrigin{String}(rh_mftip)\n",
      "  \"rh_ffdistal_mass_coord\" => FramePoint{Float64, String}(rh_ffdistal, [0.0, 0.0, 0.012])\n",
      "  \"rh_mfknuckle_mass_coord\" => FrameOrigin{String}(rh_mfknuckle)\n",
      "  \"rh_lfmiddle_mass_coord\" => FramePoint{Float64, String}(rh_lfmiddle, [0.0, 0.0, 0.0125])\n",
      "  \"rh_forearm_inertia_coord\" => FrameAngularVelocity{String}(\"rh_forearm\")\n",
      "  \"rh_rfmiddle_inertia_coord\" => FrameAngularVelocity{String}(\"rh_rfmiddle\")\n",
      "  \"rh_ffknuckle_inertia_coord\" => FrameAngularVelocity{String}(\"rh_ffknuckle\")\n",
      "  \"rh_thmiddle_mass_coord\" => FramePoint{Float64, String}(rh_thmiddle, [0.0, 0.0, 0.016])\n",
      "  \"rh_lfproximal_inertia_coord\" => FrameAngularVelocity{String}(\"rh_lfproximal\")\n",
      "  \"rh_wrist_inertia_coord\" => FrameAngularVelocity{String}(\"rh_wrist\")\n",
      "  \"rh_thbase_mass_coord\" => FrameOrigin{String}(rh_thbase)\n",
      "  \"rh_lfproximal_mass_coord\" => FramePoint{Float64, String}(rh_lfproximal, [0.0, 0.0, 0.0225])\n",
      "  \"rh_mfmiddle_inertia_coord\" => FrameAngularVelocity{String}(\"rh_mfmiddle\")\n",
      "  \"rh_ffproximal_inertia_coord\" => FrameAngularVelocity{String}(\"rh_ffproximal\")\n",
      "  \"rh_thproximal_inertia_coord\" => FrameAngularVelocity{String}(\"rh_thproximal\")\n",
      "  \"rh_thbase_inertia_coord\" => FrameAngularVelocity{String}(\"rh_thbase\")\n",
      "  \"rh_mfknuckle_inertia_coord\" => FrameAngularVelocity{String}(\"rh_mfknuckle\")\n",
      "  \"rh_thdistal_inertia_coord\" => FrameAngularVelocity{String}(\"rh_thdistal\")\n",
      "  \"rh_ffmiddle_mass_coord\" => FramePoint{Float64, String}(rh_ffmiddle, [0.0, 0.0, 0.0125])\n",
      "  \"rh_thtip_mass_coord\" => FrameOrigin{String}(rh_thtip)\n",
      "  \"rh_mfproximal_inertia_coord\" => FrameAngularVelocity{String}(\"rh_mfproximal\")\n",
      "  \"rh_thhub_inertia_coord\" => FrameAngularVelocity{String}(\"rh_thhub\")\n",
      "  \"rh_thmiddle_inertia_coord\" => FrameAngularVelocity{String}(\"rh_thmiddle\")\n",
      "  \"rh_palm_inertia_coord\" => FrameAngularVelocity{String}(\"rh_palm\")\n",
      "  \"rh_mfmiddle_mass_coord\" => FramePoint{Float64, String}(rh_mfmiddle, [0.0, 0.0, 0.0125])\n",
      "  \"rh_fftip_mass_coord\" => FrameOrigin{String}(rh_fftip)\n",
      "  \"rh_rfproximal_inertia_coord\" => FrameAngularVelocity{String}(\"rh_rfproximal\")\n",
      "  \"rh_rfknuckle_inertia_coord\" => FrameAngularVelocity{String}(\"rh_rfknuckle\")\n",
      "  \"rh_lfknuckle_inertia_coord\" => FrameAngularVelocity{String}(\"rh_lfknuckle\")\n",
      "  \"rh_lfmetacarpal_mass_coord\" => FramePoint{Float64, String}(rh_lfmetacarpal, [0.03174867647058824, 0.0, 0.02235294117647059])\n",
      "  \"rh_lfmetacarpal_inertia_coord\" => FrameAngularVelocity{String}(\"rh_lfmetacarpal\")\n",
      "  \"rh_ffproximal_mass_coord\" => FramePoint{Float64, String}(rh_ffproximal, [0.0, 0.0, 0.0225])\n",
      "  \"rh_lfmiddle_inertia_coord\" => FrameAngularVelocity{String}(\"rh_lfmiddle\")\n",
      "  \"rh_rfproximal_mass_coord\" => FramePoint{Float64, String}(rh_rfproximal, [0.0, 0.0, 0.0225])\n",
      "  \"rh_ffmiddle_inertia_coord\" => FrameAngularVelocity{String}(\"rh_ffmiddle\")\n",
      "  \"rh_lftip_mass_coord\" => FrameOrigin{String}(rh_lftip)\n",
      "  \"rh_rfdistal_inertia_coord\" => FrameAngularVelocity{String}(\"rh_rfdistal\")\n",
      "  \"rh_forearm_mass_coord\" => FramePoint{Float64, String}(rh_forearm, [0.0, 0.0, 0.09])\n",
      "  \"rh_mfproximal_mass_coord\" => FramePoint{Float64, String}(rh_mfproximal, [0.0, 0.0, 0.0225])\n",
      "  \"rh_mfdistal_inertia_coord\" => FrameAngularVelocity{String}(\"rh_mfdistal\")\n",
      "  \"rh_thproximal_mass_coord\" => FramePoint{Float64, String}(rh_thproximal, [0.0, 0.0, 0.019])\n",
      "  \"rh_lfknuckle_mass_coord\" => FrameOrigin{String}(rh_lfknuckle)\n",
      "  \"rh_mfdistal_mass_coord\" => FramePoint{Float64, String}(rh_mfdistal, [0.0, 0.0, 0.012])\n",
      "  \"rh_lfdistal_inertia_coord\" => FrameAngularVelocity{String}(\"rh_lfdistal\")\n",
      "  \"rh_ffknuckle_mass_coord\" => FrameOrigin{String}(rh_ffknuckle)"
     ]
    }
   ],
   "source": [
    "#println(\"FRAMES\")\n",
    "#display(frames(robot))\n",
    "#println(\"JOINTS\")\n",
    "#display(joints(robot))\n",
    "#show(IOContext(stdout, :limit => false),  MIME(\"text/plain\"), joints(robot))\n",
    "#println(\"COORDINATES\")\n",
    "#show(coordinates(robot))\n",
    "show(IOContext(stdout, :limit => false),  MIME(\"text/plain\"), coordinates(robot))\n",
    "#println(\"COMPONENTS\")\n",
    "#display(components(robot))"
   ]
  },
  {
   "cell_type": "markdown",
   "metadata": {},
   "source": [
    "## Creating the Virtual Mechanism System"
   ]
  },
  {
   "cell_type": "markdown",
   "metadata": {},
   "source": [
    "### Gravity Compensation and Joint Damping"
   ]
  },
  {
   "cell_type": "code",
   "execution_count": 4,
   "metadata": {},
   "outputs": [],
   "source": [
    "# GRAVITY COMPENSATION\n",
    "\n",
    "add_gravity_compensation!(robot, VMRobotControl.DEFAULT_GRAVITY)\n",
    "\n",
    "# JOINT DAMPING and LIMIT SPRINGS\n",
    "\n",
    "joint_limits = cfg.joint_limits\n",
    "\n",
    "for joint_id in keys(joints(robot))\n",
    "    limits = joint_limits[joint_id]\n",
    "    isnothing(limits) && continue\n",
    "    add_coordinate!(robot, JointSubspace(joint_id);  id=\"$(joint_id)_coord\")\n",
    "    @assert ~isnothing(limits.lower) && ~isnothing(limits.upper)\n",
    "    add_deadzone_springs!(robot, 50.0, (limits.lower+0.1, limits.upper-0.1), \"$(joint_id)_coord\")\n",
    "    add_component!(robot, LinearDamper(0.01, \"$(joint_id)_coord\"); id=\"$(joint_id)_damper\")\n",
    "end"
   ]
  },
  {
   "cell_type": "markdown",
   "metadata": {},
   "source": [
    "### Virtual Mechanism Initialization"
   ]
  },
  {
   "cell_type": "code",
   "execution_count": 5,
   "metadata": {},
   "outputs": [
    {
     "data": {
      "text/plain": [
       "\"lf th collision avoidance spring\""
      ]
     },
     "execution_count": 5,
     "metadata": {},
     "output_type": "execute_result"
    }
   ],
   "source": [
    "vms = VirtualMechanismSystem(\"myShadowVMS\", robot)\n",
    "root = root_frame(vms.robot)\n",
    "\n",
    "add_coordinate!(vms, CoordDifference(\".robot.rh_fftip_mass_coord\", \".robot.rh_mftip_mass_coord\"); id=\"fftip mftip error\")\n",
    "add_component!(vms, GaussianSpring(\"fftip mftip error\"; max_force=-10.0, width=0.006); id=\"ff mf collision avoidance spring\")\n",
    "\n",
    "add_coordinate!(vms, CoordDifference(\".robot.rh_mftip_mass_coord\", \".robot.rh_rftip_mass_coord\"); id=\"mftip rftip error\")\n",
    "add_coordinate!(vms, CoordDifference(\".robot.rh_rftip_mass_coord\", \".robot.rh_lftip_mass_coord\"); id=\"rftip lftip error\")\n",
    "\n",
    "add_coordinate!(vms, CoordDifference(\".robot.rh_fftip_mass_coord\", \".robot.rh_thtip_mass_coord\"); id=\"fftip thtip error\")\n",
    "add_coordinate!(vms, CoordDifference(\".robot.rh_mftip_mass_coord\", \".robot.rh_thtip_mass_coord\"); id=\"mftip thtip error\")\n",
    "add_coordinate!(vms, CoordDifference(\".robot.rh_rftip_mass_coord\", \".robot.rh_thtip_mass_coord\"); id=\"rftip thtip error\")\n",
    "add_coordinate!(vms, CoordDifference(\".robot.rh_lftip_mass_coord\", \".robot.rh_thtip_mass_coord\"); id=\"lftip thtip error\")\n",
    "\n",
    "add_component!(vms, GaussianSpring(\"mftip rftip error\"; max_force=-10.0, width=0.006); id=\"mf rf collision avoidance spring\")\n",
    "add_component!(vms, GaussianSpring(\"rftip lftip error\"; max_force=-10.0, width=0.006); id=\"rf lf collision avoidance spring\")\n",
    "\n",
    "add_component!(vms, GaussianSpring(\"fftip thtip error\"; max_force=-10.0, width=0.006); id=\"ff th collision avoidance spring\")\n",
    "add_component!(vms, GaussianSpring(\"mftip thtip error\"; max_force=-10.0, width=0.006); id=\"mf th collision avoidance spring\")\n",
    "add_component!(vms, GaussianSpring(\"rftip thtip error\"; max_force=-10.0, width=0.006); id=\"rf th collision avoidance spring\")\n",
    "add_component!(vms, GaussianSpring(\"lftip thtip error\"; max_force=-10.0, width=0.006); id=\"lf th collision avoidance spring\")"
   ]
  },
  {
   "cell_type": "code",
   "execution_count": 6,
   "metadata": {},
   "outputs": [
    {
     "data": {
      "text/plain": [
       "\"th damper\""
      ]
     },
     "execution_count": 6,
     "metadata": {},
     "output_type": "execute_result"
    }
   ],
   "source": [
    "add_coordinate!(vms, FramePoint(\".robot.$root\", SVector(0.0, -0.1, 0.35));        id=\"Target position\")\n",
    "add_coordinate!(vms, CoordDifference(\".robot.rh_fftip_mass_coord\", \"Target position\"); id=\"ff position error\")\n",
    "add_coordinate!(vms, CoordDifference(\".robot.rh_mftip_mass_coord\", \"Target position\"); id=\"mf position error\")\n",
    "add_coordinate!(vms, CoordDifference(\".robot.rh_rftip_mass_coord\", \"Target position\"); id=\"rf position error\")\n",
    "add_coordinate!(vms, CoordDifference(\".robot.rh_lftip_mass_coord\", \"Target position\"); id=\"lf position error\")\n",
    "add_coordinate!(vms, CoordDifference(\".robot.rh_thtip_mass_coord\", \"Target position\"); id=\"th position error\")\n",
    "\n",
    "K = SMatrix{3, 3}(100., 0., 0., 0., 100., 0., 0., 0., 100.)\n",
    "D = SMatrix{3, 3}(10., 0., 0., 0., 10.0, 0., 0., 0., 10.)\n",
    "\n",
    "add_component!(vms, LinearSpring(K, \"ff position error\"); id=\"ff spring\")\n",
    "add_component!(vms, LinearDamper(D, \"ff position error\"); id=\"ff damper\")\n",
    "\n",
    "add_component!(vms, LinearSpring(K, \"mf position error\"); id=\"mf spring\")\n",
    "add_component!(vms, LinearDamper(D, \"mf position error\"); id=\"mf damper\")\n",
    "\n",
    "add_component!(vms, LinearSpring(K, \"rf position error\"); id=\"rf spring\")\n",
    "add_component!(vms, LinearDamper(D, \"rf position error\"); id=\"rf damper\")\n",
    "\n",
    "add_component!(vms, LinearSpring(K, \"lf position error\"); id=\"lf spring\")\n",
    "add_component!(vms, LinearDamper(D, \"lf position error\"); id=\"lf damper\")\n",
    "\n",
    "add_component!(vms, LinearSpring(K, \"th position error\"); id=\"th spring\")\n",
    "add_component!(vms, LinearDamper(D, \"th position error\"); id=\"th damper\")"
   ]
  },
  {
   "cell_type": "markdown",
   "metadata": {},
   "source": [
    "## Simulating the Robot"
   ]
  },
  {
   "cell_type": "markdown",
   "metadata": {},
   "source": [
    "### Setting Up the Simulation"
   ]
  },
  {
   "cell_type": "code",
   "execution_count": 7,
   "metadata": {},
   "outputs": [
    {
     "name": "stderr",
     "output_type": "stream",
     "text": [
      "\u001b[36m\u001b[1m[ \u001b[22m\u001b[39m\u001b[36m\u001b[1mInfo: \u001b[22m\u001b[39mSimulating shadow robot with impedance control.\n",
      "\u001b[32mODE   0%|█                                              |  ETA: N/A\u001b[39m\n",
      "\u001b[32mODE   4%|██                                             |  ETA: 0:04:06\u001b[39m\n",
      "\u001b[32mODE   9%|█████                                          |  ETA: 0:01:54\u001b[39m\n",
      "\u001b[32mODE  14%|███████                                        |  ETA: 0:01:17\u001b[39m\n",
      "\u001b[32mODE  19%|█████████                                      |  ETA: 0:01:01\u001b[39m\n",
      "\u001b[32mODE  24%|████████████                                   |  ETA: 0:00:50\u001b[39m\n",
      "\u001b[32mODE  30%|██████████████                                 |  ETA: 0:00:43\u001b[39m\n",
      "\u001b[32mODE  35%|█████████████████                              |  ETA: 0:00:37\u001b[39m\n",
      "\u001b[32mODE  40%|███████████████████                            |  ETA: 0:00:32\u001b[39m\n",
      "\u001b[32mODE  46%|██████████████████████                         |  ETA: 0:00:27\u001b[39m\n",
      "\u001b[32mODE  51%|█████████████████████████                      |  ETA: 0:00:24\u001b[39m\n",
      "\u001b[32mODE  57%|███████████████████████████                    |  ETA: 0:00:24\u001b[39m\n",
      "\u001b[32mODE  62%|██████████████████████████████                 |  ETA: 0:00:20\u001b[39m\n",
      "\u001b[32mODE  68%|█████████████████████████████████              |  ETA: 0:00:17\u001b[39m\n",
      "\u001b[32mODE  74%|███████████████████████████████████            |  ETA: 0:00:13\u001b[39m\n",
      "\u001b[32mODE  79%|██████████████████████████████████████         |  ETA: 0:00:10\u001b[39m\n",
      "\u001b[32mODE  85%|████████████████████████████████████████       |  ETA: 0:00:07\u001b[39m\n",
      "\u001b[32mODE  91%|███████████████████████████████████████████    |  ETA: 0:00:04\u001b[39m\n",
      "\u001b[32mODE  96%|██████████████████████████████████████████████ |  ETA: 0:00:02\u001b[39m\n",
      "\u001b[90mODE 100%|███████████████████████████████████████████████| Time: 0:00:46\u001b[39m\n"
     ]
    }
   ],
   "source": [
    "disturbance_func(t) = mod(t, 6) < 3 ? SVector(0., 0., 0.) : SVector(0., 0., 0.)\n",
    "\n",
    "f_setup(cache) = get_compiled_coordID(cache, \".robot.rh_fftip_mass_coord\")\n",
    "\n",
    "function f_control(cache, t, args, extra)\n",
    "    tcp_pos_coord_id = args\n",
    "    F = disturbance_func(t)\n",
    "    uᵣ, uᵥ = get_u(cache)\n",
    "    z = configuration(cache, tcp_pos_coord_id)\n",
    "    J = jacobian(cache, tcp_pos_coord_id)\n",
    "    mul!(uᵣ, J', F)\n",
    "    nothing\n",
    "end\n",
    "\n",
    "tspan = (0., 6.)\n",
    "vms_compiled = compile(vms)\n",
    "q = (zero_q(vms_compiled.robot), Float64[]) # Robot joint angle, vm joint angles\n",
    "q̇ = (zero_q̇(vms_compiled.robot), Float64[]) # Robot joint velocity, vm joint velocities\n",
    "g = VMRobotControl.DEFAULT_GRAVITY\n",
    "dcache = new_dynamics_cache(vms_compiled)\n",
    "prob = get_ode_problem(dcache, g, q, q̇, tspan; f_setup, f_control)\n",
    "@info \"Simulating shadow robot with impedance control.\"\n",
    "\n",
    "using Logging: global_logger\n",
    "using TerminalLoggers: TerminalLogger\n",
    "global_logger(TerminalLogger())\n",
    "\n",
    "sol = solve(prob, Tsit5(), progress=true; maxiters=1e6, abstol=1e-6, reltol=1e-6);"
   ]
  },
  {
   "cell_type": "markdown",
   "metadata": {},
   "source": [
    "### Visualizing the Results"
   ]
  },
  {
   "cell_type": "code",
   "execution_count": 8,
   "metadata": {},
   "outputs": [],
   "source": [
    "fig = Figure(size = (720, 720), figure_padding=0)\n",
    "display(fig)\n",
    "ls = LScene(fig[1, 1]; show_axis=false)\n",
    "cam = cam3d!(ls, camera=:perspective, center=false)\n",
    "cam.lookat[] = [0.25, 0.5, 0.1]\n",
    "cam.eyeposition[] = [-0.4, -0.8, 0.5]\n",
    "\n",
    "plotting_t = Observable(0.0)\n",
    "plotting_kcache = Observable(new_kinematics_cache(compile(robot)))\n",
    "robotvisualize!(ls, plotting_kcache;)\n",
    "\n",
    "tcp_pos_id = get_compiled_coordID(plotting_kcache[], \"rh_fftip_mass_coord\")\n",
    "tcp_pos = map(plotting_kcache) do kcache\n",
    "    Point3f(configuration(kcache, tcp_pos_id))\n",
    "end\n",
    "force = map(t -> 0.01 * Vec3f(disturbance_func(t)), plotting_t)\n",
    "arrowsize = map(f -> 0.1*(f'*f)^(0.25), force)\n",
    "arrows!(ls, map(p -> [p], tcp_pos), map(f -> [f], force); color = :red, arrowsize)\n",
    "\n",
    "savepath = joinpath(module_path, \"docs/src/assets/shadowhand_point_grasp_with_finger_collision.mp4\")\n",
    "animate_robot_odesolution(fig, sol, plotting_kcache, savepath; t=plotting_t);"
   ]
  }
 ],
 "metadata": {
  "kernelspec": {
   "display_name": "Julia 1.9.3",
   "language": "julia",
   "name": "julia-1.9"
  },
  "language_info": {
   "file_extension": ".jl",
   "mimetype": "application/julia",
   "name": "julia",
   "version": "1.9.3"
  }
 },
 "nbformat": 4,
 "nbformat_minor": 2
}
