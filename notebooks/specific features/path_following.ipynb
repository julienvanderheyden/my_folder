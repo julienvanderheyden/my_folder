{
 "cells": [
  {
   "cell_type": "code",
   "execution_count": 1,
   "metadata": {},
   "outputs": [],
   "source": [
    "using GeometryBasics: Vec3f, Point3f\n",
    "using LinearAlgebra\n",
    "using GLMakie\n",
    "using StaticArrays\n",
    "using VMRobotControl\n",
    "using VMRobotControl.Splines: CubicSpline\n",
    "using DifferentialEquations\n",
    "using MeshIO"
   ]
  },
  {
   "cell_type": "markdown",
   "metadata": {},
   "source": [
    "## Importing ShadowHand URDF"
   ]
  },
  {
   "cell_type": "markdown",
   "metadata": {},
   "source": [
    "### URDF Parsing"
   ]
  },
  {
   "cell_type": "code",
   "execution_count": 2,
   "metadata": {},
   "outputs": [
    {
     "data": {
      "text/plain": [
       "24DOF Mechanism{Float64} \"shadowhand_motor\" with 33 frames, 32 joints, 55 coordinates, 82 components"
      ]
     },
     "execution_count": 2,
     "metadata": {},
     "output_type": "execute_result"
    }
   ],
   "source": [
    "using FileIO, UUIDs\n",
    "try\n",
    "    FileIO.add_format(format\"DAE\", (), \".dae\", [:DigitalAssetExchangeFormatIO => UUID(\"43182933-f65b-495a-9e05-4d939cea427d\")])\n",
    "catch\n",
    "end\n",
    "\n",
    "cfg = URDFParserConfig(;suppress_warnings=true) # This is just to hide warnings about unsupported URDF features\n",
    "module_path = joinpath(splitpath(splitdir(pathof(VMRobotControl))[1])[1:end-1])\n",
    "robot = parseURDF(joinpath(module_path, \"URDFs/sr_description/sr_hand_vm_compatible.urdf\"), cfg)"
   ]
  },
  {
   "cell_type": "markdown",
   "metadata": {},
   "source": [
    "### Definition of the Path"
   ]
  },
  {
   "cell_type": "code",
   "execution_count": 15,
   "metadata": {},
   "outputs": [
    {
     "data": {
      "text/html": [
       "# 2 methods for generic function <b>Rail</b> from \u001b[35mVMRobotControl\u001b[39m:<ul><li> Rail(spline::<b>Union{CubicSpline{3, T}, VMRobotControl.Splines.LoopingCubicSpline{3, T}}</b>)<i> where T</i> in VMRobotControl at <a href=\"https://github.com/Cambridge-Control-Lab/VMRobotControl.jl/tree/651d894b6b8b8001d81e5851ae4a1f22c95fc3e9//src/joints/joint_definitions.jl#L167\" target=\"_blank\">C:\\Users\\bilou\\OneDrive\\Documents\\Ecole\\MASTER 2\\TFE\\Julia Simulator\\VMRobotControl.jl\\src\\joints\\joint_definitions.jl:167</a></li> <li> Rail(spline::<b>Union{CubicSpline{3, T}, VMRobotControl.Splines.LoopingCubicSpline{3, T}}</b>, transform::<b>Transform{T}</b>)<i> where T</i> in VMRobotControl at <a href=\"https://github.com/Cambridge-Control-Lab/VMRobotControl.jl/tree/651d894b6b8b8001d81e5851ae4a1f22c95fc3e9//src/joints/joint_definitions.jl#L161\" target=\"_blank\">C:\\Users\\bilou\\OneDrive\\Documents\\Ecole\\MASTER 2\\TFE\\Julia Simulator\\VMRobotControl.jl\\src\\joints\\joint_definitions.jl:161</a></li> </ul>"
      ],
      "text/plain": [
       "# 2 methods for generic function \"Rail\" from \u001b[35mVMRobotControl\u001b[39m:\n",
       " [1] Rail(\u001b[90mspline\u001b[39m::\u001b[1mUnion\u001b[22m\u001b[0m{CubicSpline{3, T}, VMRobotControl.Splines.LoopingCubicSpline{3, T}}) where T\n",
       "\u001b[90m     @\u001b[39m \u001b[90mC:\\Users\\bilou\\OneDrive\\Documents\\Ecole\\MASTER 2\\TFE\\Julia Simulator\\VMRobotControl.jl\\src\\joints\\\u001b[39m\u001b[90m\u001b[4mjoint_definitions.jl:167\u001b[24m\u001b[39m\n",
       " [2] Rail(\u001b[90mspline\u001b[39m::\u001b[1mUnion\u001b[22m\u001b[0m{CubicSpline{3, T}, VMRobotControl.Splines.LoopingCubicSpline{3, T}}, \u001b[90mtransform\u001b[39m::\u001b[1mTransform\u001b[22m\u001b[0m{T}) where T\n",
       "\u001b[90m     @\u001b[39m \u001b[90mC:\\Users\\bilou\\OneDrive\\Documents\\Ecole\\MASTER 2\\TFE\\Julia Simulator\\VMRobotControl.jl\\src\\joints\\\u001b[39m\u001b[90m\u001b[4mjoint_definitions.jl:161\u001b[24m\u001b[39m"
      ]
     },
     "metadata": {},
     "output_type": "display_data"
    },
    {
     "data": {
      "text/html": [
       "# 2 methods for type constructor:<ul><li> CubicSpline(data::<b>VMRobotControl.Splines.CubicSplineData{D, T}</b>)<i> where {D, T}</i> in VMRobotControl.Splines at <a href=\"https://github.com/Cambridge-Control-Lab/VMRobotControl.jl/tree/651d894b6b8b8001d81e5851ae4a1f22c95fc3e9//src/splines.jl#L251\" target=\"_blank\">C:\\Users\\bilou\\OneDrive\\Documents\\Ecole\\MASTER 2\\TFE\\Julia Simulator\\VMRobotControl.jl\\src\\splines.jl:251</a></li> <li> CubicSpline(knots) in VMRobotControl.Splines at <a href=\"https://github.com/Cambridge-Control-Lab/VMRobotControl.jl/tree/651d894b6b8b8001d81e5851ae4a1f22c95fc3e9//src/splines.jl#L265\" target=\"_blank\">C:\\Users\\bilou\\OneDrive\\Documents\\Ecole\\MASTER 2\\TFE\\Julia Simulator\\VMRobotControl.jl\\src\\splines.jl:265</a></li> </ul>"
      ],
      "text/plain": [
       "# 2 methods for type constructor:\n",
       " [1] CubicSpline(\u001b[90mdata\u001b[39m::\u001b[1mVMRobotControl.Splines.CubicSplineData\u001b[22m\u001b[0m{D, T}) where {D, T}\n",
       "\u001b[90m     @\u001b[39m \u001b[90mC:\\Users\\bilou\\OneDrive\\Documents\\Ecole\\MASTER 2\\TFE\\Julia Simulator\\VMRobotControl.jl\\src\\\u001b[39m\u001b[90m\u001b[4msplines.jl:251\u001b[24m\u001b[39m\n",
       " [2] CubicSpline(\u001b[90mknots\u001b[39m)\n",
       "\u001b[90m     @\u001b[39m \u001b[90mC:\\Users\\bilou\\OneDrive\\Documents\\Ecole\\MASTER 2\\TFE\\Julia Simulator\\VMRobotControl.jl\\src\\\u001b[39m\u001b[90m\u001b[4msplines.jl:265\u001b[24m\u001b[39m"
      ]
     },
     "metadata": {},
     "output_type": "display_data"
    }
   ],
   "source": [
    "display(methods(Rail))\n",
    "display(methods(CubicSpline))"
   ]
  },
  {
   "cell_type": "code",
   "execution_count": 3,
   "metadata": {},
   "outputs": [
    {
     "data": {
      "text/plain": [
       "CubicSpline{3, Float64}(VMRobotControl.Splines.CubicSplineData{3, Float64}([0.0 -0.2 0.32; 0.0 -0.18000000000000005 0.32; … ; 0.0 -0.12000000000000001 0.32; 0.0 -0.1 0.32], [0.0 -0.2 0.32; 0.0 -0.1800000000000001 0.31999999999999995; … ; 0.0 -0.12000000000000002 0.31999999999999995; 0.0 -0.1 0.32]))"
      ]
     },
     "execution_count": 3,
     "metadata": {},
     "output_type": "execute_result"
    }
   ],
   "source": [
    "start = SVector(0.0, -0.2, 0.32)\n",
    "\n",
    "s_length = 20e-2\n",
    "Nk = 6\n",
    "L = 0.1\n",
    "y0 = start[2]\n",
    "y_vector = Vector(LinRange(y0, y0+L, Nk))\n",
    "spline_points = Matrix{Float64}(undef, 0, 3)\n",
    "for i = 1:Nk\n",
    "    spline_points = vcat(\n",
    "        spline_points,\n",
    "        hcat(start[1], y_vector[i], start[3])\n",
    "    )\n",
    "end\n",
    "\n",
    "spline = CubicSpline(spline_points)"
   ]
  },
  {
   "cell_type": "markdown",
   "metadata": {},
   "source": [
    "### Hand Visualization"
   ]
  },
  {
   "cell_type": "code",
   "execution_count": 11,
   "metadata": {},
   "outputs": [
    {
     "data": {
      "text/plain": [
       "GLMakie.Screen(...)"
      ]
     },
     "execution_count": 11,
     "metadata": {},
     "output_type": "execute_result"
    }
   ],
   "source": [
    "# Compile robot model\n",
    "m = compile(robot)\n",
    "kcache = Observable(new_kinematics_cache(m))  # This stores the robot's joint state\n",
    "\n",
    "# Create the figure\n",
    "fig = Figure(size=(800, 600))\n",
    "\n",
    "# Create interactive 3D scene\n",
    "ls = LScene(fig[1, 1]; show_axis=true)  # 3D interactive scene\n",
    "\n",
    "# Attach interactive camera controls\n",
    "cam3d!(ls)  # Enables mouse interaction (rotate, zoom, pan)\n",
    "\n",
    "# Plot the robot's visuals\n",
    "robotvisualize!(ls, kcache)\n",
    "\n",
    "# Display figure\n",
    "display(fig)"
   ]
  },
  {
   "cell_type": "markdown",
   "metadata": {},
   "source": [
    "## Creating the Virtual Mechanism System"
   ]
  },
  {
   "cell_type": "markdown",
   "metadata": {},
   "source": [
    "### Gravity Compensation and Joint Damping"
   ]
  },
  {
   "cell_type": "code",
   "execution_count": 4,
   "metadata": {},
   "outputs": [],
   "source": [
    "# GRAVITY COMPENSATION\n",
    "\n",
    "add_gravity_compensation!(robot, VMRobotControl.DEFAULT_GRAVITY)\n",
    "\n",
    "# JOINT DAMPING and LIMIT SPRINGS\n",
    "\n",
    "joint_limits = cfg.joint_limits\n",
    "\n",
    "for joint_id in keys(joints(robot))\n",
    "    limits = joint_limits[joint_id]\n",
    "    isnothing(limits) && continue\n",
    "    add_coordinate!(robot, JointSubspace(joint_id);  id=\"$(joint_id)_coord\")\n",
    "    @assert ~isnothing(limits.lower) && ~isnothing(limits.upper)\n",
    "    add_deadzone_springs!(robot, 50.0, (limits.lower+0.1, limits.upper-0.1), \"$(joint_id)_coord\")\n",
    "    add_component!(robot, LinearDamper(0.01, \"$(joint_id)_coord\"); id=\"$(joint_id)_damper\")\n",
    "end"
   ]
  },
  {
   "cell_type": "markdown",
   "metadata": {},
   "source": [
    "### Virtual Mechanism Initialization"
   ]
  },
  {
   "cell_type": "code",
   "execution_count": 5,
   "metadata": {},
   "outputs": [],
   "source": [
    "vm = Mechanism{Float64}(\"VirtualTrack\")\n",
    "\n",
    "cart_frame = add_frame!(vm, \"Cart\")\n",
    "add_joint!(vm, Rail(spline, zero(Transform{Float64}));\n",
    "        parent=root_frame(vm), child=cart_frame,        id=\"RailJoint\")\n",
    "\n",
    "add_coordinate!(vm, JointSubspace(\"RailJoint\");         id=\"CartDistance\")\n",
    "add_coordinate!(vm, FrameOrigin(cart_frame);            id=\"CartPosition\")\n",
    "add_component!(vm, LinearInerter(1.0, \"CartPosition\");  id=\"CartInertance\") # Cart mass\n",
    "add_component!(vm, LinearDamper(100.0, \"CartPosition\"); id=\"CartDamper\");"
   ]
  },
  {
   "cell_type": "code",
   "execution_count": 13,
   "metadata": {},
   "outputs": [],
   "source": [
    "vms = VirtualMechanismSystem(\"myShadowVMS\", robot, vm)\n",
    "root = root_frame(vms.robot)\n",
    "\n",
    "add_coordinate!(vms, CoordDifference(\".robot.rh_fftip_mass_coord\", \".virtual_mechanism.CartPosition\"); id=\"ff position error\")\n",
    "add_coordinate!(vms, CoordDifference(\".robot.rh_mftip_mass_coord\", \".virtual_mechanism.CartPosition\"); id=\"mf position error\")\n",
    "add_coordinate!(vms, CoordDifference(\".robot.rh_rftip_mass_coord\", \".virtual_mechanism.CartPosition\"); id=\"rf position error\")\n",
    "add_coordinate!(vms, CoordDifference(\".robot.rh_lftip_mass_coord\", \".virtual_mechanism.CartPosition\"); id=\"lf position error\")\n",
    "add_coordinate!(vms, CoordDifference(\".robot.rh_thtip_mass_coord\", \".virtual_mechanism.CartPosition\"); id=\"th position error\")\n",
    "\n",
    "K = 100.0 * identity(3)\n",
    "D = 30.0 * identity(3)\n",
    "add_component!(vms, LinearSpring(K, \"ff position error\");     id=\"ffSpring\")\n",
    "add_component!(vms, LinearDamper(D, \"ff position error\");     id=\"ffDamper\")\n",
    "add_component!(vms, LinearSpring(K, \"mf position error\");     id=\"mfSpring\")\n",
    "add_component!(vms, LinearDamper(D, \"mf position error\");     id=\"mfDamper\")\n",
    "add_component!(vms, LinearSpring(K, \"rf position error\");     id=\"rfSpring\")\n",
    "add_component!(vms, LinearDamper(D, \"rf position error\");     id=\"rfDamper\")\n",
    "add_component!(vms, LinearSpring(K, \"lf position error\");     id=\"lfSpring\")\n",
    "add_component!(vms, LinearDamper(D, \"lf position error\");     id=\"lfDamper\")\n",
    "add_component!(vms, LinearSpring(K, \"th position error\");     id=\"thSpring\")\n",
    "add_component!(vms, LinearDamper(D, \"th position error\");     id=\"thDamper\")\n",
    "\n",
    "\n",
    "max_power = 10.0\n",
    "force_source = ForceSource(SVector(2.0), max_power, \".virtual_mechanism.CartDistance\")\n",
    "add_component!(vms, force_source;   id=\"Force source\");"
   ]
  },
  {
   "cell_type": "markdown",
   "metadata": {},
   "source": [
    "## Simulating the Robot"
   ]
  },
  {
   "cell_type": "markdown",
   "metadata": {},
   "source": [
    "### Setting Up the Simulation"
   ]
  },
  {
   "cell_type": "code",
   "execution_count": 7,
   "metadata": {},
   "outputs": [
    {
     "data": {
      "text/plain": [
       "Logging.ConsoleLogger(IJulia.IJuliaStdio{Base.PipeEndpoint}(IOContext(Base.PipeEndpoint(Base.Libc.WindowsRawSocket(0x00000000000003ac) open, 0 bytes waiting))), Info, Logging.default_metafmt, true, 0, Dict{Any, Int64}())"
      ]
     },
     "execution_count": 7,
     "metadata": {},
     "output_type": "execute_result"
    }
   ],
   "source": [
    "using Logging: global_logger\n",
    "using TerminalLoggers: TerminalLogger\n",
    "global_logger(TerminalLogger())"
   ]
  },
  {
   "cell_type": "code",
   "execution_count": 14,
   "metadata": {},
   "outputs": [
    {
     "name": "stderr",
     "output_type": "stream",
     "text": [
      "\u001b[36m\u001b[1m[ \u001b[22m\u001b[39m\u001b[36m\u001b[1mInfo: \u001b[22m\u001b[39mSimulating shadow robot with path following\n",
      "\u001b[32mODE   0%|█                                              |  ETA: N/A\u001b[39m\n",
      "\u001b[32mODE   2%|█                                              |  ETA: 0:00:52\u001b[39m\n",
      "\u001b[32mODE   4%|██                                             |  ETA: 0:00:44\u001b[39m\n",
      "\u001b[32mODE   6%|███                                            |  ETA: 0:00:41\u001b[39m\n",
      "\u001b[32mODE   9%|█████                                          |  ETA: 0:00:39\u001b[39m\n",
      "\u001b[32mODE  11%|██████                                         |  ETA: 0:00:38\u001b[39m\n",
      "\u001b[32mODE  13%|███████                                        |  ETA: 0:00:36\u001b[39m\n",
      "\u001b[32mODE  16%|████████                                       |  ETA: 0:00:36\u001b[39m\n",
      "\u001b[32mODE  18%|█████████                                      |  ETA: 0:00:35\u001b[39m\n",
      "\u001b[32mODE  20%|██████████                                     |  ETA: 0:00:34\u001b[39m\n",
      "\u001b[32mODE  23%|███████████                                    |  ETA: 0:00:33\u001b[39m\n",
      "\u001b[32mODE  25%|████████████                                   |  ETA: 0:00:32\u001b[39m\n",
      "\u001b[32mODE  27%|█████████████                                  |  ETA: 0:00:31\u001b[39m\n",
      "\u001b[32mODE  30%|███████████████                                |  ETA: 0:00:30\u001b[39m\n",
      "\u001b[32mODE  32%|████████████████                               |  ETA: 0:00:29\u001b[39m\n",
      "\u001b[32mODE  35%|█████████████████                              |  ETA: 0:00:28\u001b[39m\n",
      "\u001b[32mODE  37%|██████████████████                             |  ETA: 0:00:27\u001b[39m\n",
      "\u001b[32mODE  39%|███████████████████                            |  ETA: 0:00:26\u001b[39m\n",
      "\u001b[32mODE  42%|████████████████████                           |  ETA: 0:00:25\u001b[39m\n",
      "\u001b[32mODE  44%|█████████████████████                          |  ETA: 0:00:23\u001b[39m\n",
      "\u001b[32mODE  47%|██████████████████████                         |  ETA: 0:00:22\u001b[39m\n",
      "\u001b[32mODE  49%|████████████████████████                       |  ETA: 0:00:21\u001b[39m\n",
      "\u001b[32mODE  52%|█████████████████████████                      |  ETA: 0:00:20\u001b[39m\n",
      "\u001b[32mODE  54%|██████████████████████████                     |  ETA: 0:00:19\u001b[39m\n",
      "\u001b[32mODE  56%|███████████████████████████                    |  ETA: 0:00:18\u001b[39m\n",
      "\u001b[32mODE  59%|████████████████████████████                   |  ETA: 0:00:17\u001b[39m\n",
      "\u001b[32mODE  61%|█████████████████████████████                  |  ETA: 0:00:16\u001b[39m\n",
      "\u001b[32mODE  64%|██████████████████████████████                 |  ETA: 0:00:15\u001b[39m\n",
      "\u001b[32mODE  66%|████████████████████████████████               |  ETA: 0:00:14\u001b[39m\n",
      "\u001b[32mODE  69%|█████████████████████████████████              |  ETA: 0:00:13\u001b[39m\n",
      "\u001b[32mODE  71%|██████████████████████████████████             |  ETA: 0:00:12\u001b[39m\n",
      "\u001b[32mODE  73%|███████████████████████████████████            |  ETA: 0:00:11\u001b[39m\n",
      "\u001b[32mODE  76%|████████████████████████████████████           |  ETA: 0:00:10\u001b[39m\n",
      "\u001b[32mODE  78%|█████████████████████████████████████          |  ETA: 0:00:09\u001b[39m\n",
      "\u001b[32mODE  81%|██████████████████████████████████████         |  ETA: 0:00:08\u001b[39m\n",
      "\u001b[32mODE  83%|████████████████████████████████████████       |  ETA: 0:00:07\u001b[39m\n",
      "\u001b[32mODE  86%|█████████████████████████████████████████      |  ETA: 0:00:06\u001b[39m\n",
      "\u001b[32mODE  88%|██████████████████████████████████████████     |  ETA: 0:00:05\u001b[39m\n",
      "\u001b[32mODE  91%|███████████████████████████████████████████    |  ETA: 0:00:04\u001b[39m\n",
      "\u001b[32mODE  93%|████████████████████████████████████████████   |  ETA: 0:00:03\u001b[39m\n",
      "\u001b[32mODE  95%|█████████████████████████████████████████████  |  ETA: 0:00:02\u001b[39m\n",
      "\u001b[32mODE  98%|██████████████████████████████████████████████ |  ETA: 0:00:01\u001b[39m\n",
      "\u001b[90mODE 100%|███████████████████████████████████████████████| Time: 0:00:39\u001b[39m\n"
     ]
    }
   ],
   "source": [
    "tspan = (0., 5.)\n",
    "vms_compiled = compile(vms)\n",
    "q = (zero_q(vms_compiled.robot), [0.0]) # Robot joint angle, vm joint angles\n",
    "q̇ = (zero_q̇(vms_compiled.robot), zeros(1)) # Robot joint velocity, vm joint velocities\n",
    "g = VMRobotControl.DEFAULT_GRAVITY\n",
    "dcache = new_dynamics_cache(vms_compiled)\n",
    "prob = get_ode_problem(dcache, g, q, q̇, tspan)\n",
    "@info \"Simulating shadow robot with path following\"\n",
    "\n",
    "sol = solve(prob, Tsit5(), progress=true; maxiters=1e6, abstol=1e-6, reltol=1e-6);"
   ]
  },
  {
   "cell_type": "markdown",
   "metadata": {},
   "source": [
    "### Visualizing the Results"
   ]
  },
  {
   "cell_type": "code",
   "execution_count": 21,
   "metadata": {},
   "outputs": [],
   "source": [
    "plotting_t = Observable(0.0)\n",
    "plotting_kcache = Observable(new_kinematics_cache(compile(vms)))\n",
    "plotting_vm_kcache = map(plotting_kcache) do k\n",
    "    VMRobotControl.virtual_mechanism_cache(k)\n",
    "end\n",
    "cartID = get_compiled_coordID(plotting_kcache[], \".virtual_mechanism.CartPosition\")\n",
    "\n",
    "fig = Figure(; size=(720, 720), figure_padding=0)\n",
    "display(fig)\n",
    "ls = LScene(fig[1, 1]; show_axis=false)\n",
    "cam = cam3d!(ls; center=false)\n",
    "cam.lookat[] = [0.25, 0.5, 0.1]\n",
    "cam.eyeposition[] = [-0.4, -0.8, 0.5]\n",
    "\n",
    "scatter!(ls, plotting_kcache, cartID; color=:red, marker=:rect, markersize=5)\n",
    "robotvisualize!(ls, plotting_kcache)\n",
    "robotsketch!(ls, plotting_vm_kcache)\n",
    "\n",
    "fps = 60\n",
    "T = sol.t[end]\n",
    "N_frames = Int(floor(fps * T))\n",
    "ts = LinRange(0.0, T, N_frames)\n",
    "savepath = joinpath(module_path, \"docs/src/assets/shadowhand_path_following.mp4\")\n",
    "animate_robot_odesolution(fig, sol, plotting_kcache, savepath; t=plotting_t);"
   ]
  }
 ],
 "metadata": {
  "kernelspec": {
   "display_name": "Julia 1.9.3",
   "language": "julia",
   "name": "julia-1.9"
  },
  "language_info": {
   "file_extension": ".jl",
   "mimetype": "application/julia",
   "name": "julia",
   "version": "1.9.3"
  }
 },
 "nbformat": 4,
 "nbformat_minor": 2
}
