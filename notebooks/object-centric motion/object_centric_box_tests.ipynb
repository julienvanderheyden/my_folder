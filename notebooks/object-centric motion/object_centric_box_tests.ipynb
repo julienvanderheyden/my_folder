{
 "cells": [
  {
   "cell_type": "code",
   "execution_count": 1,
   "id": "1d07c396",
   "metadata": {},
   "outputs": [
    {
     "data": {
      "text/plain": [
       "generate_q_init (generic function with 1 method)"
      ]
     },
     "execution_count": 1,
     "metadata": {},
     "output_type": "execute_result"
    }
   ],
   "source": [
    "using Revise\n",
    "using GeometryBasics: Vec3f, Point3f, Cylinder\n",
    "using LinearAlgebra\n",
    "using GLMakie\n",
    "using StaticArrays\n",
    "using VMRobotControl\n",
    "using VMRobotControl.Splines: CubicSpline\n",
    "using DifferentialEquations\n",
    "using MeshIO\n",
    "include(\"../functions.jl\")"
   ]
  },
  {
   "cell_type": "markdown",
   "id": "ad1174cf",
   "metadata": {},
   "source": [
    "### Creating the prismatic joints mechanisms"
   ]
  },
  {
   "cell_type": "code",
   "execution_count": 3,
   "id": "51da7fe4",
   "metadata": {},
   "outputs": [
    {
     "data": {
      "text/plain": [
       "\"spring\""
      ]
     },
     "execution_count": 3,
     "metadata": {},
     "output_type": "execute_result"
    }
   ],
   "source": [
    "box_position = SVector(0.0, -0.065, 0.32)\n",
    "box_dimensions = [0.03, 0.02, 0.03] \n",
    "\n",
    "m = Mechanism{Float64}(\"TestMechanism\")\n",
    "\n",
    "# add_frame!(m; id = \"base_frame\")\n",
    "# add_joint!(m, Rigid(Transform(box_position));  parent = root_frame(m), child = \"base_frame\", id = \"base_joint\")\n",
    "add_frame!(m; id=\"prism_frame_1\")\n",
    "add_joint!(m, Prismatic(SVector(1.0, 0.0, 0.0), Transform(box_position)); parent = root_frame(m), child=\"prism_frame_1\", id=\"prism_joint_1\")\n",
    "add_frame!(m; id=\"prism_frame_2\")\n",
    "add_joint!(m, Prismatic(SVector(0.0, 1.0, 0.0)); parent=\"prism_frame_1\", child=\"prism_frame_2\", id=\"prism_joint_2\")\n",
    "add_frame!(m; id=\"ee frame\")\n",
    "add_joint!(m, Prismatic(SVector(0.0,0.0,1.0)); parent=\"prism_frame_2\", child=\"ee frame\", id=\"prism_joint_3\")\n",
    "\n",
    "add_coordinate!(m, FrameOrigin(\"ee frame\"); id=\"ee position\")\n",
    "add_component!(m, PointMass(1.0, \"ee position\"); id=\"ee mass\")\n",
    "\n",
    "joint_damping = 50.0\n",
    "add_coordinate!(m, JointSubspace(\"prism_joint_1\"); id=\"prism joint 1\")\n",
    "add_component!(m, LinearDamper(joint_damping, \"prism joint 1\"); id=\"prism joint 1 damper\")\n",
    "add_coordinate!(m, JointSubspace(\"prism_joint_2\"); id=\"prism joint 2\")\n",
    "add_component!(m, LinearDamper(joint_damping, \"prism joint 2\"); id=\"prism joint 2 damper\")\n",
    "add_coordinate!(m, JointSubspace(\"prism_joint_3\"); id=\"prism joint 3\")\n",
    "add_component!(m, LinearDamper(joint_damping, \"prism joint 3\"); id=\"prism joint 3 damper\")\n",
    "\n",
    "# DEADZONE SPRINGS : CONSTRAINT THE MOTION INSIDE THE BOX\n",
    "\n",
    "margin_factor = 0.8\n",
    "add_deadzone_springs!(m, 1000.0, (-box_dimensions[1]*margin_factor, box_dimensions[1]*margin_factor), \"prism joint 1\")\n",
    "add_deadzone_springs!(m, 1000.0, (-box_dimensions[2]*margin_factor, box_dimensions[2]*margin_factor), \"prism joint 2\")\n",
    "add_deadzone_springs!(m, 1000.0, (-box_dimensions[3]*margin_factor, box_dimensions[3]*margin_factor), \"prism joint 3\")\n",
    "\n",
    "add_gravity_compensation!(m, VMRobotControl.DEFAULT_GRAVITY)\n",
    "\n",
    "add_coordinate!(m, ConstCoord(SVector(0.0, 0.0, 0.0)); id=\"base position\")\n",
    "add_coordinate!(m, CoordDifference(\"base position\", \"ee position\"); id=\"ee position diff\")\n",
    "K_matrix = SMatrix{3, 3}(10., 0., 0., 0., 10., 0., 0., 0., 10.)\n",
    "add_component!(m, LinearSpring(K_matrix,\"ee position diff\"); id=\"spring\")"
   ]
  },
  {
   "cell_type": "code",
   "execution_count": null,
   "id": "ca7b205b",
   "metadata": {},
   "outputs": [
    {
     "data": {
      "text/plain": [
       "GLMakie.Screen(...)"
      ]
     },
     "execution_count": 53,
     "metadata": {},
     "output_type": "execute_result"
    }
   ],
   "source": [
    "cm = compile(m)\n",
    "kcache = Observable(new_kinematics_cache(cm))\n",
    "\n",
    "# Setup the figure\n",
    "fig1 = Figure(size=(700, 350))\n",
    "ls1 = LScene(fig1[1, 1]; show_axis=false)\n",
    "\n",
    "robotsketch!(ls1, kcache; scale=0.05, linewidth=2.5, transparency=true)\n",
    "\n",
    "display(fig1)"
   ]
  },
  {
   "cell_type": "code",
   "execution_count": null,
   "id": "e2f2041f",
   "metadata": {},
   "outputs": [],
   "source": [
    "q = zero_q(cm)\n",
    "q̇ = zero_q̇(cm) \n",
    "\n",
    "dcache = new_dynamics_cache(cm)\n",
    "g = VMRobotControl.DEFAULT_GRAVITY\n",
    "prob = get_ode_problem(dcache, g, q, q̇, 10.0)\n",
    "sol = solve(prob, Tsit5(), abstol=1e-3, reltol=1e-3)\n",
    "\n",
    "display(fig1)\n",
    "animate_robot_odesolution(fig1, sol, kcache, \"robot_animation.mp4\")"
   ]
  },
  {
   "cell_type": "markdown",
   "id": "12ab2d88",
   "metadata": {},
   "source": [
    "### Adjusting the position of the box w. r. t. the hand"
   ]
  },
  {
   "cell_type": "code",
   "execution_count": 2,
   "id": "7c993db7",
   "metadata": {},
   "outputs": [
    {
     "data": {
      "text/plain": [
       "24DOF Mechanism{Float64} \"shadowhand_motor\" with 33 frames, 32 joints, 55 coordinates, 82 components"
      ]
     },
     "execution_count": 2,
     "metadata": {},
     "output_type": "execute_result"
    }
   ],
   "source": [
    "using FileIO, UUIDs\n",
    "try\n",
    "    FileIO.add_format(format\"DAE\", (), \".dae\", [:DigitalAssetExchangeFormatIO => UUID(\"43182933-f65b-495a-9e05-4d939cea427d\")])\n",
    "catch\n",
    "end\n",
    "\n",
    "cfg = URDFParserConfig(;suppress_warnings=true) # This is just to hide warnings about unsupported URDF features\n",
    "module_path = joinpath(splitpath(splitdir(pathof(VMRobotControl))[1])[1:end-1])\n",
    "robot = parseURDF(joinpath(module_path, \"URDFs/sr_description/sr_hand_vm_compatible.urdf\"), cfg)"
   ]
  },
  {
   "cell_type": "code",
   "execution_count": 9,
   "id": "03e78a08",
   "metadata": {},
   "outputs": [
    {
     "data": {
      "text/plain": [
       "GLMakie.Screen(...)"
      ]
     },
     "execution_count": 9,
     "metadata": {},
     "output_type": "execute_result"
    }
   ],
   "source": [
    "box_position = SVector(0.06, -0.03, 0.37)\n",
    "box_dimensions = [0.015, 0.05, 0.05] \n",
    "\n",
    "# Compile robot model\n",
    "c_robot = compile(robot)\n",
    "kcache = Observable(new_kinematics_cache(c_robot))  # This stores the robot's joint state\n",
    "\n",
    "# Create the figure\n",
    "fig = Figure(size=(800, 600))\n",
    "\n",
    "# Create interactive 3D scene\n",
    "ls = LScene(fig[1, 1]; show_axis=true)  # 3D interactive scene\n",
    "\n",
    "# Attach interactive camera controls\n",
    "cam3d!(ls)  # Enables mouse interaction (rotate, zoom, pan)\n",
    "\n",
    "# Plot the robot's visuals\n",
    "robotvisualize!(ls, kcache)\n",
    "display_frame(c_robot, ls, \"world\")\n",
    "# display_frame(c_robot, ls, \"rh_fftip\")\n",
    "# display_frame(c_robot, ls, \"rh_ffdistal\")\n",
    "# display_frame(c_robot, ls, \"rh_ffmiddle\")\n",
    "# display_frame(c_robot, ls, \"rh_ffproximal\")\n",
    "# display_frame(c_robot, ls, \"rh_thtip\")\n",
    "# display_frame(c_robot, ls, \"rh_thdistal\")\n",
    "# display_frame(c_robot, ls, \"rh_thmiddle\")\n",
    "\n",
    "\n",
    "# Target transform \n",
    "R = [1.0 0.0 0.0; \n",
    "     0.0 1.0 0.0;\n",
    "     0.0 0.0 1.0]\n",
    "\n",
    "t = [box_position[1] - box_dimensions[1], box_position[2] + box_dimensions[2], box_position[3] - box_dimensions[3]]\n",
    "\n",
    "t2 = [box_position[1] - box_dimensions[1], box_position[2] - box_dimensions[2], box_position[3] - box_dimensions[3]]\n",
    "\n",
    "# Construct the homogeneous transformation matrix\n",
    "T = [R t; 0 0 0 1]\n",
    "T2 = [R t2; 0 0 0 1]\n",
    "# display_transform(ls, T)\n",
    "#display_transform(ls, T2)\n",
    "\n",
    "box_visual_dimensions = box_dimensions - 0.004*SVector(1.,1.,1.)\n",
    "box = Rect3f(Point3f(box_position) - Vec3f(box_visual_dimensions), 2*Vec3f(box_visual_dimensions))\n",
    "mesh!(ls, box; color=:magenta, transparency=true)\n",
    "\n",
    "# Display figure\n",
    "display(fig)"
   ]
  }
 ],
 "metadata": {
  "kernelspec": {
   "display_name": "Julia 1.9.3",
   "language": "julia",
   "name": "julia-1.9"
  },
  "language_info": {
   "file_extension": ".jl",
   "mimetype": "application/julia",
   "name": "julia",
   "version": "1.9.3"
  }
 },
 "nbformat": 4,
 "nbformat_minor": 5
}
