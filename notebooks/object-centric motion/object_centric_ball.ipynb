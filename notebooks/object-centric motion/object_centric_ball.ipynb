{
 "cells": [
  {
   "cell_type": "code",
   "execution_count": 1,
   "id": "3428c2dc",
   "metadata": {},
   "outputs": [
    {
     "data": {
      "text/plain": [
       "generate_q_init (generic function with 1 method)"
      ]
     },
     "execution_count": 1,
     "metadata": {},
     "output_type": "execute_result"
    }
   ],
   "source": [
    "using Revise\n",
    "using GeometryBasics: Vec3f, Point3f, Cylinder\n",
    "using LinearAlgebra\n",
    "using GLMakie\n",
    "using StaticArrays\n",
    "using VMRobotControl\n",
    "using VMRobotControl.Splines: CubicSpline\n",
    "using DifferentialEquations\n",
    "using MeshIO\n",
    "include(\"../functions.jl\")"
   ]
  },
  {
   "cell_type": "markdown",
   "id": "a96210cf",
   "metadata": {},
   "source": [
    "## Importing ShadowHand URDF"
   ]
  },
  {
   "cell_type": "markdown",
   "id": "4e4c4f12",
   "metadata": {},
   "source": [
    "### URDF Parsing"
   ]
  },
  {
   "cell_type": "code",
   "execution_count": 13,
   "id": "2bbf43a2",
   "metadata": {},
   "outputs": [
    {
     "data": {
      "text/plain": [
       "24DOF Mechanism{Float64} \"shadowhand_motor\" with 33 frames, 32 joints, 55 coordinates, 82 components"
      ]
     },
     "execution_count": 13,
     "metadata": {},
     "output_type": "execute_result"
    }
   ],
   "source": [
    "using FileIO, UUIDs\n",
    "try\n",
    "    FileIO.add_format(format\"DAE\", (), \".dae\", [:DigitalAssetExchangeFormatIO => UUID(\"43182933-f65b-495a-9e05-4d939cea427d\")])\n",
    "catch\n",
    "end\n",
    "\n",
    "cfg = URDFParserConfig(;suppress_warnings=true) # This is just to hide warnings about unsupported URDF features\n",
    "module_path = joinpath(splitpath(splitdir(pathof(VMRobotControl))[1])[1:end-1])\n",
    "robot = parseURDF(joinpath(module_path, \"URDFs/sr_description/sr_hand_vm_compatible.urdf\"), cfg)"
   ]
  },
  {
   "cell_type": "code",
   "execution_count": 14,
   "id": "ba5c4f6c",
   "metadata": {},
   "outputs": [
    {
     "data": {
      "text/plain": [
       "\"rh_thdistal\""
      ]
     },
     "execution_count": 14,
     "metadata": {},
     "output_type": "execute_result"
    }
   ],
   "source": [
    "add_coordinate!(robot, FrameOrigin(\"rh_ffdistal\"); id=\"rh_ffdistal\")\n",
    "add_coordinate!(robot, FrameOrigin(\"rh_mfdistal\"); id=\"rh_mfdistal\")\n",
    "add_coordinate!(robot, FrameOrigin(\"rh_rfdistal\"); id=\"rh_rfdistal\")\n",
    "add_coordinate!(robot, FrameOrigin(\"rh_lfdistal\"); id=\"rh_lfdistal\")\n",
    "add_coordinate!(robot, FrameOrigin(\"rh_thdistal\"); id=\"rh_thdistal\")"
   ]
  },
  {
   "cell_type": "markdown",
   "id": "41e5be28",
   "metadata": {},
   "source": [
    "### Hand Visualization"
   ]
  },
  {
   "cell_type": "code",
   "execution_count": 4,
   "id": "596a00c3",
   "metadata": {},
   "outputs": [
    {
     "data": {
      "text/plain": [
       "4×4 Matrix{Float64}:\n",
       " 1.0  0.0  0.0   0.033\n",
       " 0.0  1.0  0.0  -0.01\n",
       " 0.0  0.0  1.0   0.38\n",
       " 0.0  0.0  0.0   1.0"
      ]
     },
     "metadata": {},
     "output_type": "display_data"
    }
   ],
   "source": [
    "# Target transform \n",
    "R = [1.0 0.0 0.0; \n",
    "     0.0 1.0 0.0;\n",
    "     0.0 0.0 1.0]\n",
    "\n",
    "t = [0.033, -0.01, 0.38]  # Example translation vector\n",
    "\n",
    "# Construct the homogeneous transformation matrix\n",
    "T = [R t; 0 0 0 1]\n",
    "\n",
    "display(T)  # Show the matrix"
   ]
  },
  {
   "cell_type": "code",
   "execution_count": 5,
   "id": "885b9894",
   "metadata": {},
   "outputs": [
    {
     "data": {
      "text/plain": [
       "GLMakie.Screen(...)"
      ]
     },
     "execution_count": 5,
     "metadata": {},
     "output_type": "execute_result"
    }
   ],
   "source": [
    "# Compile robot model\n",
    "m = compile(robot)\n",
    "kcache = Observable(new_kinematics_cache(m))  # This stores the robot's joint state\n",
    "\n",
    "# Create the figure\n",
    "fig = Figure(size=(800, 600))\n",
    "\n",
    "# Create interactive 3D scene\n",
    "ls = LScene(fig[1, 1]; show_axis=true)  # 3D interactive scene\n",
    "\n",
    "# Attach interactive camera controls\n",
    "cam3d!(ls)  # Enables mouse interaction (rotate, zoom, pan)\n",
    "\n",
    "# Plot the robot's visuals\n",
    "robotvisualize!(ls, kcache)\n",
    "display_frame(m, ls, \"rh_ffmiddle\")\n",
    "display_frame(m, ls, \"world\")\n",
    "#display_transform(ls, T)\n",
    "\n",
    "# Display figure\n",
    "display(fig)"
   ]
  },
  {
   "cell_type": "code",
   "execution_count": 47,
   "id": "7f5578a3",
   "metadata": {},
   "outputs": [
    {
     "name": "stdout",
     "output_type": "stream",
     "text": [
      "33-element Vector{String}:\n",
      " \"world\"\n",
      " \"rh_forearm\"\n",
      " \"rh_wrist\"\n",
      " \"rh_palm\"\n",
      " \"rh_manipulator\"\n",
      " \"rh_imu\"\n",
      " \"rh_ffknuckle\"\n",
      " \"rh_ffproximal\"\n",
      " \"rh_ffmiddle\"\n",
      " \"rh_ffdistal\"\n",
      " \"rh_fftip\"\n",
      " \"rh_mfknuckle\"\n",
      " \"rh_mfproximal\"\n",
      " \"rh_mfmiddle\"\n",
      " \"rh_mfdistal\"\n",
      " \"rh_mftip\"\n",
      " \"rh_rfknuckle\"\n",
      " \"rh_rfproximal\"\n",
      " \"rh_rfmiddle\"\n",
      " \"rh_rfdistal\"\n",
      " \"rh_rftip\"\n",
      " \"rh_lfmetacarpal\"\n",
      " \"rh_lfknuckle\"\n",
      " \"rh_lfproximal\"\n",
      " \"rh_lfmiddle\"\n",
      " \"rh_lfdistal\"\n",
      " \"rh_lftip\"\n",
      " \"rh_thbase\"\n",
      " \"rh_thproximal\"\n",
      " \"rh_thhub\"\n",
      " \"rh_thmiddle\"\n",
      " \"rh_thdistal\"\n",
      " \"rh_thtip\""
     ]
    }
   ],
   "source": [
    "show(IOContext(stdout, :limit => false),  MIME(\"text/plain\"), frames(robot))"
   ]
  },
  {
   "cell_type": "markdown",
   "id": "0e872bc9",
   "metadata": {},
   "source": [
    "## Creating the Virtual Mechanism System"
   ]
  },
  {
   "cell_type": "markdown",
   "id": "3cd3ba26",
   "metadata": {},
   "source": [
    "### Gravity Compensation, Joint Limits and Joint Damping"
   ]
  },
  {
   "cell_type": "code",
   "execution_count": 15,
   "id": "007aad8b",
   "metadata": {},
   "outputs": [],
   "source": [
    "# GRAVITY COMPENSATION\n",
    "\n",
    "add_gravity_compensation!(robot, VMRobotControl.DEFAULT_GRAVITY)\n",
    "\n",
    "# JOINT DAMPING and LIMIT SPRINGS\n",
    "\n",
    "joint_limits = cfg.joint_limits\n",
    "\n",
    "for joint_id in keys(joints(robot))\n",
    "    limits = joint_limits[joint_id]\n",
    "    isnothing(limits) && continue\n",
    "    add_coordinate!(robot, JointSubspace(joint_id);  id=\"$(joint_id)_coord\")\n",
    "    @assert ~isnothing(limits.lower) && ~isnothing(limits.upper)\n",
    "    add_deadzone_springs!(robot, 50.0, (limits.lower+0.1, limits.upper-0.1), \"$(joint_id)_coord\")\n",
    "    add_component!(robot, LinearDamper(0.01, \"$(joint_id)_coord\"); id=\"$(joint_id)_damper\")\n",
    "end"
   ]
  },
  {
   "cell_type": "markdown",
   "id": "152dd033",
   "metadata": {},
   "source": [
    "### Creation of the ball prismatic joints"
   ]
  },
  {
   "cell_type": "code",
   "execution_count": null,
   "id": "acaa44fd",
   "metadata": {},
   "outputs": [],
   "source": [
    "vm = Mechanism{Float64}(\"VirtualBall\")\n",
    "\n",
    "ball_radius = 0.045\n",
    "ball_position = SVector(0.0, -0.035, 0.32)\n",
    "\n",
    "attracted_frames = (\"rh_ffdistal_mass_coord\", \"rh_mfdistal_mass_coord\", \"rh_rfdistal_mass_coord\",\"rh_lfdistal_mass_coord\" , \n",
    "                    \"rh_thdistal_mass_coord\", \"rh_ffmiddle_mass_coord\",\"rh_mfmiddle_mass_coord\", \"rh_rfmiddle_mass_coord\",\n",
    "                    \"rh_lfmiddle_mass_coord\",  \"rh_thmiddle_mass_coord\", \"rh_ffproximal_mass_coord\", \"rh_mfproximal_mass_coord\",\n",
    "                    \"rh_rfproximal_mass_coord\", \"rh_lfproximal_mass_coord\", \"rh_thproximal_mass_coord\", \"rh_palm_mass_coord\")\n",
    "attracted_frames_names = (\"ffdistal\", \"mfdistal\", \"rfdistal\", \"lfdistal\", \"thdistal\", \"ffmiddle\", \"mfmiddle\", \"rfmiddle\", \"lfmiddle\", \"thmiddle\", \"ffprox\", \n",
    "                \"mfprox\", \"rfprox\", \"lfprox\", \"thprox\", \"palm\")\n",
    "\n",
    "\n",
    "for i in 1:length(attracted_frames)\n",
    "    add_frame!(vm; id = \"revo_frame_1_$(attracted_frames_names[i])\")\n",
    "    add_joint!(vm, Revolute(SVector(0.0,0.0,1.0),Transform(SVector(ball_position[1], ball_position[2], ball_position[3]))); parent=root_frame(vm), child=\"revo_frame_1_$(attracted_frames_names[i])\", id=\"revo_joint_1_$(attracted_frames_names[i])\")\n",
    "    add_frame!(vm; id=\"revo_frame_2_$(attracted_frames_names[i])\")\n",
    "    add_joint!(vm, Revolute(SVector(1.0,0.0,0.0)); parent=\"revo_frame_1_$(attracted_frames_names[i])\", child=\"revo_frame_2_$(attracted_frames_names[i])\", id=\"revo_joint_2_$(attracted_frames_names[i])\")\n",
    "    add_frame!(vm; id=\"ee_frame_$(attracted_frames_names[i])\")\n",
    "    add_joint!(vm, Rigid(Transform(SVector(0.0,0.0,ball_radius))); parent =\"revo_frame_2_$(attracted_frames_names[i])\", child =\"ee_frame_$(attracted_frames_names[i])\", id = \"fixed_joint_$(attracted_frames_names[i])\")\n",
    "\n",
    "    add_coordinate!(vm, FrameOrigin(\"ee_frame_$(attracted_frames_names[i])\"); id=\"$(attracted_frames_names[i]) ee position\")\n",
    "    add_component!(vm, PointMass(0.01, \"$(attracted_frames_names[i]) ee position\"); id=\"$(attracted_frames_names[i]) ee mass\")\n",
    "\n",
    "    add_coordinate!(vm, JointSubspace(\"revo_joint_1_$(attracted_frames_names[i])\"); id=\"revo_joint_1_$(attracted_frames_names[i])\")\n",
    "    #add_component!(vm, LinearDamper(10.0, \"revo_joint_1_$(attracted_frames_names[i])\"); id=\"revo_joint_1_$(attracted_frames_names[i])_damper\")\n",
    "    add_coordinate!(vm, JointSubspace(\"revo_joint_2_$(attracted_frames_names[i])\"); id=\"revo_joint_2_$(attracted_frames_names[i])\")\n",
    "    #add_component!(vm, LinearDamper(0.5, \"revo_joint_2_$(attracted_frames_names[i])\"); id=\"revo_joint_2_$(attracted_frames_names[i])_damper\")   \n",
    "    \n",
    "    I_mat = @SMatrix [0.1  0.    0.  ;0.    0.1  0.  ;0.    0.    0.1]\n",
    "    add_inertia!(vm, \"ee_frame_$(attracted_frames_names[i])\", I_mat; id=\"$(attracted_frames_names[i]) ee inertia\")\n",
    "end\n",
    "\n",
    "\n",
    "add_gravity_compensation!(vm, VMRobotControl.DEFAULT_GRAVITY)"
   ]
  },
  {
   "cell_type": "markdown",
   "id": "2efebdc5",
   "metadata": {},
   "source": [
    "### Addition of the multiples springs/dampers"
   ]
  },
  {
   "cell_type": "markdown",
   "id": "395c6dd1",
   "metadata": {},
   "source": [
    "Hand motion"
   ]
  },
  {
   "cell_type": "code",
   "execution_count": 17,
   "id": "8a0ca6c1",
   "metadata": {},
   "outputs": [
    {
     "data": {
      "text/plain": [
       "\"rf lf middle damper\""
      ]
     },
     "execution_count": 17,
     "metadata": {},
     "output_type": "execute_result"
    }
   ],
   "source": [
    "vms = VirtualMechanismSystem(\"myShadowVMS\", robot, vm)\n",
    "root = root_frame(vms.robot)\n",
    "\n",
    "D = SMatrix{3, 3}(50., 0., 0., 0., 50.0, 0., 0., 0., 50.)\n",
    "\n",
    "stiffnesses = [30.0, 30.0, 30.0, 30.0, 30.0, 50.0, 50.0, 50.0, 50.0, 50.0, 100.0, 100.0, 100.0, 100.0, 100.0, 50.0]\n",
    "\n",
    "# hand converging to the ball \n",
    "\n",
    "for i in 1:length(attracted_frames)\n",
    "    K = SMatrix{3, 3}(stiffnesses[i], 0., 0., 0., stiffnesses[i], 0., 0., 0., stiffnesses[i])\n",
    "    add_coordinate!(vms, CoordDifference(\".virtual_mechanism.$(attracted_frames_names[i]) ee position\", \".robot.$(attracted_frames[i])\"); id = \"ee $(attracted_frames_names[i]) diff\")\n",
    "    add_component!(vms, LinearSpring(K, \"ee $(attracted_frames_names[i]) diff\"); id = \"ee $(attracted_frames_names[i]) spring\")\n",
    "    add_component!(vms, LinearDamper(D, \"ee $(attracted_frames_names[i]) diff\"); id = \"ee $(attracted_frames_names[i]) damper\")\n",
    "end\n",
    "\n",
    "# fingers spacing : Joint level\n",
    "\n",
    "add_coordinate!(vms, ConstCoord(0.6); id = \"angular spring length\")\n",
    "\n",
    "#ff mf spacing\n",
    "add_coordinate!(vms, CoordDifference(\".robot.rh_MFJ4_coord\", \".robot.rh_FFJ4_coord\"); id=\"ff mf j4 angular diff\")\n",
    "add_coordinate!(vms, CoordDifference(\"ff mf j4 angular diff\", \"angular spring length\") ; id=\"ff mf j4 angular error\")\n",
    "add_component!(vms, LinearSpring(10.0, \"ff mf j4 angular error\"); id=\"ff mf angular spring\")\n",
    "add_component!(vms, LinearDamper(10.0, \"ff mf j4 angular error\"); id=\"ff mf angular damper\")\n",
    "\n",
    "#mf rf spacing\n",
    "add_coordinate!(vms, CoordSum(\".robot.rh_RFJ4_coord\", \".robot.rh_MFJ4_coord\"); id=\"mf rf j4 angular diff\")\n",
    "add_coordinate!(vms, CoordSum(\"mf rf j4 angular diff\", \"angular spring length\") ; id=\"mf rf j4 angular error\")\n",
    "add_component!(vms, LinearSpring(10.0, \"mf rf j4 angular error\"); id=\"mf rf angular spring\")\n",
    "add_component!(vms, LinearDamper(10.0, \"mf rf j4 angular error\"); id=\"mf rf angular damper\")\n",
    "\n",
    "#rf lf spacing\n",
    "add_coordinate!(vms, CoordDifference(\".robot.rh_RFJ4_coord\", \".robot.rh_LFJ4_coord\"); id=\"rf lf j4 angular diff\")\n",
    "add_coordinate!(vms, CoordDifference(\"rf lf j4 angular diff\", \"angular spring length\") ; id=\"rf lf j4 angular error\")\n",
    "add_component!(vms, LinearSpring(10.0, \"rf lf j4 angular error\"); id=\"rf lf angular spring\")\n",
    "add_component!(vms, LinearDamper(10.0, \"rf lf j4 angular error\"); id=\"rf lf angular damper\")\n",
    "\n",
    "#th spacing\n",
    "add_coordinate!(vms, ConstCoord(1.22); id=\"th spring length\")\n",
    "add_coordinate!(vms, CoordDifference(\".robot.rh_THJ4_coord\", \"th spring length\"); id=\"th j4 error\")\n",
    "add_component!(vms, LinearSpring(1.0, \"th j4 error\"); id=\"th j4 spring\")\n",
    "\n",
    "# finger spacing : finger level \n",
    "\n",
    "add_coordinate!(vms, ConstCoord(0.05); id = \"finger spring length\")\n",
    "\n",
    "finger_spacing_stiffness = 70.0\n",
    "\n",
    "add_coordinate!(vms, RotatedCoord(\".robot.rh_mfmiddle_mass_coord\", \".robot.rh_ffmiddle\"); id=\"ff mf middle diff\")\n",
    "add_coordinate!(vms, CoordSlice(\"ff mf middle diff\", SVector(1)); id=\"ff mf middle diff x\")\n",
    "add_coordinate!(vms, CoordNorm(\"ff mf middle diff x\"); id=\"ff mf middle norm\")\n",
    "add_coordinate!(vms, CoordDifference(\"ff mf middle norm\", \"finger spring length\"); id=\"ff mf middle error\")\n",
    "add_component!(vms, LinearSpring(finger_spacing_stiffness, \"ff mf middle error\"); id=\"ff mf middle spring\")\n",
    "add_component!(vms, LinearDamper(10.0, \"ff mf middle error\"); id=\"ff mf middle damper\")\n",
    "\n",
    "add_coordinate!(vms, RotatedCoord(\".robot.rh_rfmiddle_mass_coord\", \".robot.rh_mfmiddle\"); id=\"mf rf middle diff\")\n",
    "add_coordinate!(vms, CoordSlice(\"mf rf middle diff\", SVector(1)); id=\"mf rf middle diff x\")\n",
    "add_coordinate!(vms, CoordNorm(\"mf rf middle diff x\"); id=\"mf rf middle norm\")\n",
    "add_coordinate!(vms, CoordDifference(\"mf rf middle norm\", \"finger spring length\"); id=\"mf rf middle error\")\n",
    "add_component!(vms, LinearSpring(finger_spacing_stiffness, \"mf rf middle error\"); id=\"mf rf middle spring\")\n",
    "add_component!(vms, LinearDamper(10.0, \"mf rf middle error\"); id=\"mf rf middle damper\")\n",
    "\n",
    "add_coordinate!(vms, RotatedCoord(\".robot.rh_lfmiddle_mass_coord\", \".robot.rh_rfmiddle\"); id=\"rf lf middle diff\")\n",
    "add_coordinate!(vms, CoordSlice(\"rf lf middle diff\", SVector(1)); id=\"rf lf middle diff x\")\n",
    "add_coordinate!(vms, CoordNorm(\"rf lf middle diff x\"); id=\"rf lf middle norm\")\n",
    "add_coordinate!(vms, CoordDifference(\"rf lf middle norm\", \"finger spring length\"); id=\"rf lf middle error\")\n",
    "add_component!(vms, LinearSpring(finger_spacing_stiffness, \"rf lf middle error\"); id=\"rf lf middle spring\")\n",
    "add_component!(vms, LinearDamper(10.0, \"rf lf middle error\"); id=\"rf lf middle damper\")\n"
   ]
  },
  {
   "cell_type": "markdown",
   "id": "4de628c5",
   "metadata": {},
   "source": [
    "Ball collision model"
   ]
  },
  {
   "cell_type": "code",
   "execution_count": 18,
   "id": "56907fb7",
   "metadata": {},
   "outputs": [],
   "source": [
    "add_coordinate!(vms,  ConstCoord(ball_position);  id=\"ball position\")\n",
    "add_coordinate!(vms, ConstCoord(ball_radius); id=\"ball radius\")\n",
    "\n",
    "add_coordinate!(vms, FramePoint(\".robot.rh_palm\", SVector(0. , 0., 0.07)); id=\"second palm point\")\n",
    "\n",
    "repulsed_frames = (\".robot.rh_fftip_mass_coord\", \".robot.rh_mftip_mass_coord\", \".robot.rh_rftip_mass_coord\",\".robot.rh_lftip_mass_coord\" , \n",
    "                    \".robot.rh_thtip_mass_coord\", \".robot.rh_ffmiddle_mass_coord\",\".robot.rh_mfmiddle_mass_coord\", \".robot.rh_rfmiddle_mass_coord\",\n",
    "                    \".robot.rh_lfmiddle_mass_coord\",  \".robot.rh_thmiddle_mass_coord\", \".robot.rh_ffproximal_mass_coord\", \".robot.rh_mfproximal_mass_coord\",\n",
    "                    \".robot.rh_rfproximal_mass_coord\", \".robot.rh_lfproximal_mass_coord\", \".robot.rh_thproximal_mass_coord\", \".robot.rh_palm_mass_coord\", \"second palm point\",\n",
    "                    \".robot.rh_ffdistal\", \".robot.rh_mfdistal\", \".robot.rh_rfdistal\", \".robot.rh_lfdistal\", \".robot.rh_thdistal\")\n",
    "repulsed_frames_names = (\"fftip\", \"mftip\", \"rftip\", \"lftip\", \"thtip\", \"ffmiddle\", \"mfmiddle\", \"rfmiddle\", \"lfmiddle\", \"thmiddle\", \"ffprox\", \n",
    "                \"mfprox\", \"rfprox\", \"lfprox\", \"thprox\", \"palm\", \"palm2\", \"ffdistal\", \"mfdistal\", \"rfdistal\", \"lfdistal\", \"thdistal\")\n",
    "\n",
    "for i in 1:length(repulsed_frames)\n",
    "    frame = repulsed_frames[i]\n",
    "    add_coordinate!(vms, CoordDifference(frame, \"ball position\") ; id = \"$(repulsed_frames_names[i]) ball error\" )\n",
    "    add_coordinate!(vms, CoordNorm(\"$(repulsed_frames_names[i]) ball error\") ; id = \"$(repulsed_frames_names[i]) ball error norm\")\n",
    "    add_coordinate!(vms, CoordDifference(\"$(repulsed_frames_names[i]) ball error norm\", \"ball radius\"); id = \"shifted $(repulsed_frames_names[i]) ball error\" )\n",
    "\n",
    "    add_component!(vms, ReLUSpring(1000.0, \"shifted $(repulsed_frames_names[i]) ball error\", true); id=\"$(repulsed_frames_names[i]) ball repulsive spring\")\n",
    "    add_component!(vms, RectifiedDamper(100.0, \"$(repulsed_frames_names[i]) ball error norm\", (0.0, 1.1*ball_radius), true, false); id=\"$(repulsed_frames_names[i]) ball damper\")\n",
    "end"
   ]
  },
  {
   "cell_type": "markdown",
   "id": "ee255d26",
   "metadata": {},
   "source": [
    "## Simulating the Robot"
   ]
  },
  {
   "cell_type": "markdown",
   "id": "c7b849b3",
   "metadata": {},
   "source": [
    "### Setting Up the Simulation"
   ]
  },
  {
   "cell_type": "code",
   "execution_count": 19,
   "id": "e7936883",
   "metadata": {},
   "outputs": [
    {
     "name": "stderr",
     "output_type": "stream",
     "text": [
      "\u001b[36m\u001b[1m[ \u001b[22m\u001b[39m\u001b[36m\u001b[1mInfo: \u001b[22m\u001b[39mSimulating shadow robot with ball object centric motion\n",
      "\u001b[32mODE   0%|█                                              |  ETA: N/A\u001b[39m\n",
      "\u001b[32mODE  79%|██████████████████████████████████████         |  ETA: 0:00:07\u001b[39m\n",
      "\u001b[90mODE 100%|███████████████████████████████████████████████| Time: 0:00:29\u001b[39m\n"
     ]
    }
   ],
   "source": [
    "using Logging: global_logger\n",
    "using TerminalLoggers: TerminalLogger\n",
    "global_logger(TerminalLogger())\n",
    "\n",
    "\n",
    "tspan = (0., 15.)\n",
    "vms_compiled = compile(vms)\n",
    "\n",
    "q_init = zeros(24)\n",
    "q_init[21] = 1.2\n",
    "q = (q_init, zero_q(vms_compiled.virtual_mechanism)) # Robot joint angle, vm joint angles\n",
    "q̇ = (zero_q̇(vms_compiled.robot), zero_q̇(vms_compiled.virtual_mechanism)) # Robot joint velocity, vm joint velocities\n",
    "\n",
    "g = VMRobotControl.DEFAULT_GRAVITY\n",
    "dcache = new_dynamics_cache(vms_compiled)\n",
    "prob = get_ode_problem(dcache, g, q, q̇, tspan)\n",
    "@info \"Simulating shadow robot with ball object centric motion\"\n",
    "\n",
    "sol = solve(prob, Rosenbrock23(autodiff=false), progress=true; maxiters=1e6, abstol=1e-3, reltol=1e-3);"
   ]
  },
  {
   "cell_type": "markdown",
   "id": "ba8333ca",
   "metadata": {},
   "source": [
    "### Visualizing the Results"
   ]
  },
  {
   "cell_type": "code",
   "execution_count": 20,
   "id": "19dcb6e7",
   "metadata": {},
   "outputs": [
    {
     "ename": "LoadError",
     "evalue": "Screen not open!",
     "output_type": "error",
     "traceback": [
      "Screen not open!",
      "",
      "Stacktrace:",
      " [1] error(s::String)",
      "   @ Base .\\error.jl:35",
      " [2] colorbuffer(screen::GLMakie.Screen{GLFW.Window}, format::Makie.ImageStorageFormat)",
      "   @ GLMakie C:\\Users\\bilou\\.julia\\packages\\GLMakie\\fj8mE\\src\\screen.jl:862",
      " [3] recordframe!(io::VideoStream)",
      "   @ Makie C:\\Users\\bilou\\.julia\\packages\\Makie\\Q6F2P\\src\\ffmpeg-util.jl:292",
      " [4] Record(func::VMRobotControlMakieExt.var\"#89#90\"{Observable{Float64}}, figlike::Figure, iter::LinRange{Float64, Int64}; kw_args::Base.Pairs{Symbol, Any, Tuple{Symbol, Symbol, Symbol}, NamedTuple{(:format, :framerate, :visible), Tuple{SubString{String}, Int64, Bool}}})",
      "   @ Makie C:\\Users\\bilou\\.julia\\packages\\Makie\\Q6F2P\\src\\recording.jl:174",
      " [5] record(func::Function, figlike::Figure, path::String, iter::LinRange{Float64, Int64}; kw_args::Base.Pairs{Symbol, Integer, Tuple{Symbol, Symbol}, NamedTuple{(:framerate, :visible), Tuple{Int64, Bool}}})",
      "   @ Makie C:\\Users\\bilou\\.julia\\packages\\Makie\\Q6F2P\\src\\recording.jl:154",
      " [6] record",
      "   @ C:\\Users\\bilou\\.julia\\packages\\Makie\\Q6F2P\\src\\recording.jl:152 [inlined]",
      " [7] animate_robot_odesolution(fig::Figure, sol::ODESolution{Float64, 2, Vector{Vector{Float64}}, Nothing, Nothing, Vector{Float64}, Vector{Vector{Vector{Float64}}}, ODEProblem{Vector{Float64}, Tuple{Float64, Float64}, true, SciMLBase.NullParameters, ODEFunction{true, SciMLBase.AutoSpecialize, FunctionWrappersWrappers.FunctionWrappersWrapper{Tuple{FunctionWrappers.FunctionWrapper{Nothing, Tuple{Vector{Float64}, Vector{Float64}, SciMLBase.NullParameters, Float64}}, FunctionWrappers.FunctionWrapper{Nothing, Tuple{Vector{ForwardDiff.Dual{ForwardDiff.Tag{DiffEqBase.OrdinaryDiffEqTag, Float64}, Float64, 1}}, Vector{ForwardDiff.Dual{ForwardDiff.Tag{DiffEqBase.OrdinaryDiffEqTag, Float64}, Float64, 1}}, SciMLBase.NullParameters, Float64}}, FunctionWrappers.FunctionWrapper{Nothing, Tuple{Vector{ForwardDiff.Dual{ForwardDiff.Tag{DiffEqBase.OrdinaryDiffEqTag, Float64}, Float64, 1}}, Vector{Float64}, SciMLBase.NullParameters, ForwardDiff.Dual{ForwardDiff.Tag{DiffEqBase.OrdinaryDiffEqTag, Float64}, Float64, 1}}}, FunctionWrappers.FunctionWrapper{Nothing, Tuple{Vector{ForwardDiff.Dual{ForwardDiff.Tag{DiffEqBase.OrdinaryDiffEqTag, Float64}, Float64, 1}}, Vector{ForwardDiff.Dual{ForwardDiff.Tag{DiffEqBase.OrdinaryDiffEqTag, Float64}, Float64, 1}}, SciMLBase.NullParameters, ForwardDiff.Dual{ForwardDiff.Tag{DiffEqBase.OrdinaryDiffEqTag, Float64}, Float64, 1}}}}, false}, UniformScaling{Bool}, Nothing, Nothing, Nothing, Nothing, Nothing, Nothing, Nothing, Nothing, Nothing, Nothing, Nothing, typeof(SciMLBase.DEFAULT_OBSERVED), Nothing, SymbolicIndexingInterface.SymbolCache{Nothing, Nothing, Nothing}}, Base.Pairs{Symbol, Union{}, Tuple{}, NamedTuple{(), Tuple{}}}, SciMLBase.StandardODEProblem}, Rosenbrock23{1, false, Nothing, typeof(OrdinaryDiffEq.DEFAULT_PRECS), Val{:forward}, true, nothing}, OrdinaryDiffEq.InterpolationData{ODEFunction{true, SciMLBase.AutoSpecialize, FunctionWrappersWrappers.FunctionWrappersWrapper{Tuple{FunctionWrappers.FunctionWrapper{Nothing, Tuple{Vector{Float64}, Vector{Float64}, SciMLBase.NullParameters, Float64}}, FunctionWrappers.FunctionWrapper{Nothing, Tuple{Vector{ForwardDiff.Dual{ForwardDiff.Tag{DiffEqBase.OrdinaryDiffEqTag, Float64}, Float64, 1}}, Vector{ForwardDiff.Dual{ForwardDiff.Tag{DiffEqBase.OrdinaryDiffEqTag, Float64}, Float64, 1}}, SciMLBase.NullParameters, Float64}}, FunctionWrappers.FunctionWrapper{Nothing, Tuple{Vector{ForwardDiff.Dual{ForwardDiff.Tag{DiffEqBase.OrdinaryDiffEqTag, Float64}, Float64, 1}}, Vector{Float64}, SciMLBase.NullParameters, ForwardDiff.Dual{ForwardDiff.Tag{DiffEqBase.OrdinaryDiffEqTag, Float64}, Float64, 1}}}, FunctionWrappers.FunctionWrapper{Nothing, Tuple{Vector{ForwardDiff.Dual{ForwardDiff.Tag{DiffEqBase.OrdinaryDiffEqTag, Float64}, Float64, 1}}, Vector{ForwardDiff.Dual{ForwardDiff.Tag{DiffEqBase.OrdinaryDiffEqTag, Float64}, Float64, 1}}, SciMLBase.NullParameters, ForwardDiff.Dual{ForwardDiff.Tag{DiffEqBase.OrdinaryDiffEqTag, Float64}, Float64, 1}}}}, false}, UniformScaling{Bool}, Nothing, Nothing, Nothing, Nothing, Nothing, Nothing, Nothing, Nothing, Nothing, Nothing, Nothing, typeof(SciMLBase.DEFAULT_OBSERVED), Nothing, SymbolicIndexingInterface.SymbolCache{Nothing, Nothing, Nothing}}, Vector{Vector{Float64}}, Vector{Float64}, Vector{Vector{Vector{Float64}}}, OrdinaryDiffEq.Rosenbrock23Cache{Vector{Float64}, Vector{Float64}, Vector{Float64}, Matrix{Float64}, Matrix{Float64}, OrdinaryDiffEq.Rosenbrock23Tableau{Float64}, SciMLBase.TimeGradientWrapper{true, ODEFunction{true, SciMLBase.AutoSpecialize, FunctionWrappersWrappers.FunctionWrappersWrapper{Tuple{FunctionWrappers.FunctionWrapper{Nothing, Tuple{Vector{Float64}, Vector{Float64}, SciMLBase.NullParameters, Float64}}, FunctionWrappers.FunctionWrapper{Nothing, Tuple{Vector{ForwardDiff.Dual{ForwardDiff.Tag{DiffEqBase.OrdinaryDiffEqTag, Float64}, Float64, 1}}, Vector{ForwardDiff.Dual{ForwardDiff.Tag{DiffEqBase.OrdinaryDiffEqTag, Float64}, Float64, 1}}, SciMLBase.NullParameters, Float64}}, FunctionWrappers.FunctionWrapper{Nothing, Tuple{Vector{ForwardDiff.Dual{ForwardDiff.Tag{DiffEqBase.OrdinaryDiffEqTag, Float64}, Float64, 1}}, Vector{Float64}, SciMLBase.NullParameters, ForwardDiff.Dual{ForwardDiff.Tag{DiffEqBase.OrdinaryDiffEqTag, Float64}, Float64, 1}}}, FunctionWrappers.FunctionWrapper{Nothing, Tuple{Vector{ForwardDiff.Dual{ForwardDiff.Tag{DiffEqBase.OrdinaryDiffEqTag, Float64}, Float64, 1}}, Vector{ForwardDiff.Dual{ForwardDiff.Tag{DiffEqBase.OrdinaryDiffEqTag, Float64}, Float64, 1}}, SciMLBase.NullParameters, ForwardDiff.Dual{ForwardDiff.Tag{DiffEqBase.OrdinaryDiffEqTag, Float64}, Float64, 1}}}}, false}, UniformScaling{Bool}, Nothing, Nothing, Nothing, Nothing, Nothing, Nothing, Nothing, Nothing, Nothing, Nothing, Nothing, typeof(SciMLBase.DEFAULT_OBSERVED), Nothing, SymbolicIndexingInterface.SymbolCache{Nothing, Nothing, Nothing}}, Vector{Float64}, SciMLBase.NullParameters}, SciMLBase.UJacobianWrapper{true, ODEFunction{true, SciMLBase.AutoSpecialize, FunctionWrappersWrappers.FunctionWrappersWrapper{Tuple{FunctionWrappers.FunctionWrapper{Nothing, Tuple{Vector{Float64}, Vector{Float64}, SciMLBase.NullParameters, Float64}}, FunctionWrappers.FunctionWrapper{Nothing, Tuple{Vector{ForwardDiff.Dual{ForwardDiff.Tag{DiffEqBase.OrdinaryDiffEqTag, Float64}, Float64, 1}}, Vector{ForwardDiff.Dual{ForwardDiff.Tag{DiffEqBase.OrdinaryDiffEqTag, Float64}, Float64, 1}}, SciMLBase.NullParameters, Float64}}, FunctionWrappers.FunctionWrapper{Nothing, Tuple{Vector{ForwardDiff.Dual{ForwardDiff.Tag{DiffEqBase.OrdinaryDiffEqTag, Float64}, Float64, 1}}, Vector{Float64}, SciMLBase.NullParameters, ForwardDiff.Dual{ForwardDiff.Tag{DiffEqBase.OrdinaryDiffEqTag, Float64}, Float64, 1}}}, FunctionWrappers.FunctionWrapper{Nothing, Tuple{Vector{ForwardDiff.Dual{ForwardDiff.Tag{DiffEqBase.OrdinaryDiffEqTag, Float64}, Float64, 1}}, Vector{ForwardDiff.Dual{ForwardDiff.Tag{DiffEqBase.OrdinaryDiffEqTag, Float64}, Float64, 1}}, SciMLBase.NullParameters, ForwardDiff.Dual{ForwardDiff.Tag{DiffEqBase.OrdinaryDiffEqTag, Float64}, Float64, 1}}}}, false}, UniformScaling{Bool}, Nothing, Nothing, Nothing, Nothing, Nothing, Nothing, Nothing, Nothing, Nothing, Nothing, Nothing, typeof(SciMLBase.DEFAULT_OBSERVED), Nothing, SymbolicIndexingInterface.SymbolCache{Nothing, Nothing, Nothing}}, Float64, SciMLBase.NullParameters}, LinearSolve.LinearCache{Matrix{Float64}, Vector{Float64}, Vector{Float64}, SciMLBase.NullParameters, LinearSolve.DefaultLinearSolver, LinearSolve.DefaultLinearSolverInit{LU{Float64, Matrix{Float64}, Vector{Int64}}, LinearAlgebra.QRCompactWY{Float64, Matrix{Float64}, Matrix{Float64}}, Nothing, Nothing, Nothing, Nothing, Nothing, Nothing, LU{Float64, Matrix{Float64}, Vector{Int64}}, Tuple{LU{Float64, Matrix{Float64}, Vector{Int64}}, Vector{Int64}}, Nothing, Nothing, Nothing, SVD{Float64, Float64, Matrix{Float64}, Vector{Float64}}, Cholesky{Float64, Matrix{Float64}}, Cholesky{Float64, Matrix{Float64}}, Tuple{LU{Float64, Matrix{Float64}, Vector{Int32}}, Base.RefValue{Int32}}, Tuple{LU{Float64, Matrix{Float64}, Vector{Int64}}, Base.RefValue{Int64}}, QRPivoted{Float64, Matrix{Float64}, Vector{Float64}, Vector{Int64}}, Krylov.CraigmrSolver{Float64, Float64, Vector{Float64}}, Krylov.LsmrSolver{Float64, Float64, Vector{Float64}}}, LinearSolve.InvPreconditioner{Diagonal{Float64, Vector{Float64}}}, Diagonal{Float64, Vector{Float64}}, Float64, Bool}, FiniteDiff.JacobianCache{Vector{Float64}, Vector{Float64}, Vector{Float64}, Vector{Float64}, UnitRange{Int64}, Nothing, Val{:forward}(), Float64}, FiniteDiff.GradientCache{Nothing, Vector{Float64}, Vector{Float64}, Float64, Val{:forward}(), Float64, Val{true}()}, Float64, Rosenbrock23{1, false, Nothing, typeof(OrdinaryDiffEq.DEFAULT_PRECS), Val{:forward}, true, nothing}, Nothing}, Nothing}, SciMLBase.DEStats, Nothing}, cache::Observable{VMRobotControl.VirtualMechanismSystemCacheBundle{CompiledVirtualMechanismSystem{...}, VMRobotControl.VMSKinematicsCache{Float64}}}, saveas::String; t::Observable{Float64}, fps::Int64, fastforward::Nothing, unpack_ode_state::Function, f_setup::typeof(VMRobotControl.DEFAULT_F_SETUP), f_control::Function)",
      "   @ VMRobotControlMakieExt C:\\Users\\bilou\\OneDrive\\Documents\\Ecole\\MASTER2\\TFE\\Julia Simulator\\VMRobotControl.jl\\ext\\VMRobotControlMakieExt.jl:711",
      " [8] top-level scope",
      "   @ In[20]:22"
     ]
    }
   ],
   "source": [
    "fig = Figure(; size=(720, 720), figure_padding=0)\n",
    "display(fig)\n",
    "ls = LScene(fig[1, 1]; show_axis=false)\n",
    "cam = cam3d!(ls; center=true)\n",
    "cam.lookat[] = [0.025, 0., 0.24]\n",
    "cam.eyeposition[] = [-0.25, -0.6, 0.62]\n",
    "\n",
    "plotting_t = Observable(0.0)\n",
    "plotting_kcache = Observable(new_kinematics_cache(compile(vms)))\n",
    "robotvisualize!(ls, plotting_kcache)\n",
    "\n",
    "plotting_vm_kcache = map(plotting_kcache) do k\n",
    "    VMRobotControl.virtual_mechanism_cache(k)\n",
    "end\n",
    "robotsketch!(ls, plotting_vm_kcache; scale = 0.05)\n",
    "\n",
    "sphere = Sphere(Point3f(ball_position),ball_radius)\n",
    "mesh!(ls, sphere; color=:magenta, transparency=true)\n",
    "\n",
    "savepath = joinpath(module_path, \"docs/src/assets/shadowhand_object_centric_ball.mp4\")\n",
    "display(fig)\n",
    "animate_robot_odesolution(fig, sol, plotting_kcache, savepath;fps=20,  t=plotting_t);"
   ]
  }
 ],
 "metadata": {
  "kernelspec": {
   "display_name": "Julia 1.9.3",
   "language": "julia",
   "name": "julia-1.9"
  },
  "language_info": {
   "file_extension": ".jl",
   "mimetype": "application/julia",
   "name": "julia",
   "version": "1.9.3"
  }
 },
 "nbformat": 4,
 "nbformat_minor": 5
}
