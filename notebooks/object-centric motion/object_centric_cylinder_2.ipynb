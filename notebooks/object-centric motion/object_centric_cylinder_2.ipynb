{
 "cells": [
  {
   "cell_type": "code",
   "execution_count": 54,
   "metadata": {},
   "outputs": [
    {
     "data": {
      "text/plain": [
       "circle_center_tangent_to_lines (generic function with 1 method)"
      ]
     },
     "execution_count": 54,
     "metadata": {},
     "output_type": "execute_result"
    }
   ],
   "source": [
    "using Revise\n",
    "using GeometryBasics: Vec3f, Point3f, Cylinder\n",
    "using LinearAlgebra\n",
    "using GLMakie\n",
    "using StaticArrays\n",
    "using VMRobotControl\n",
    "using VMRobotControl.Splines: CubicSpline\n",
    "using DifferentialEquations\n",
    "using MeshIO\n",
    "include(\"../functions.jl\")"
   ]
  },
  {
   "cell_type": "markdown",
   "metadata": {},
   "source": [
    "## Importing ShadowHand URDF"
   ]
  },
  {
   "cell_type": "markdown",
   "metadata": {},
   "source": [
    "### URDF Parsing"
   ]
  },
  {
   "cell_type": "code",
   "execution_count": 55,
   "metadata": {},
   "outputs": [
    {
     "data": {
      "text/plain": [
       "24DOF Mechanism{Float64} \"shadowhand_motor\" with 33 frames, 32 joints, 55 coordinates, 82 components"
      ]
     },
     "execution_count": 55,
     "metadata": {},
     "output_type": "execute_result"
    }
   ],
   "source": [
    "using FileIO, UUIDs\n",
    "try\n",
    "    FileIO.add_format(format\"DAE\", (), \".dae\", [:DigitalAssetExchangeFormatIO => UUID(\"43182933-f65b-495a-9e05-4d939cea427d\")])\n",
    "catch\n",
    "end\n",
    "\n",
    "cfg = URDFParserConfig(;suppress_warnings=true) # This is just to hide warnings about unsupported URDF features\n",
    "module_path = joinpath(splitpath(splitdir(pathof(VMRobotControl))[1])[1:end-1])\n",
    "robot = parseURDF(joinpath(module_path, \"URDFs/sr_description/sr_hand_vm_compatible.urdf\"), cfg)"
   ]
  },
  {
   "cell_type": "code",
   "execution_count": 56,
   "metadata": {},
   "outputs": [
    {
     "data": {
      "text/plain": [
       "\"rh_thmiddle\""
      ]
     },
     "execution_count": 56,
     "metadata": {},
     "output_type": "execute_result"
    }
   ],
   "source": [
    "add_coordinate!(robot, FrameOrigin(\"rh_ffdistal\"); id=\"rh_ffdistal\")\n",
    "add_coordinate!(robot, FrameOrigin(\"rh_mfdistal\"); id=\"rh_mfdistal\")\n",
    "add_coordinate!(robot, FrameOrigin(\"rh_rfdistal\"); id=\"rh_rfdistal\")\n",
    "add_coordinate!(robot, FrameOrigin(\"rh_lfdistal\"); id=\"rh_lfdistal\")\n",
    "add_coordinate!(robot, FrameOrigin(\"rh_thdistal\"); id=\"rh_thdistal\")\n",
    "add_coordinate!(robot, FrameOrigin(\"rh_ffproximal\"); id=\"rh_ffproximal\")\n",
    "add_coordinate!(robot, FrameOrigin(\"rh_thmiddle\"); id=\"rh_thmiddle\")"
   ]
  },
  {
   "cell_type": "markdown",
   "metadata": {},
   "source": [
    "### Hand Visualization"
   ]
  },
  {
   "cell_type": "code",
   "execution_count": 4,
   "metadata": {},
   "outputs": [
    {
     "ename": "LoadError",
     "evalue": "UndefVarError: `rh_fftip_frame_id` not defined",
     "output_type": "error",
     "traceback": [
      "UndefVarError: `rh_fftip_frame_id` not defined",
      "",
      "Stacktrace:",
      " [1] top-level scope",
      "   @ In[4]:5"
     ]
    }
   ],
   "source": [
    "m = compile(robot)\n",
    "kcache = new_kinematics_cache(m)  \n",
    "\n",
    "rh_ffmiddle_frame_id = get_compiled_frameID(m, \"rh_fftip\")\n",
    "fftip_transform = get_transform(kcache, rh_fftip_frame_id)\n",
    "display(fftip_transform.origin)"
   ]
  },
  {
   "cell_type": "code",
   "execution_count": 70,
   "metadata": {},
   "outputs": [
    {
     "data": {
      "text/plain": [
       "4×4 Matrix{Float64}:\n",
       " 1.0  0.0  0.0   0.033\n",
       " 0.0  1.0  0.0  -0.01\n",
       " 0.0  0.0  1.0   0.38\n",
       " 0.0  0.0  0.0   1.0"
      ]
     },
     "metadata": {},
     "output_type": "display_data"
    }
   ],
   "source": [
    "# Target transform \n",
    "R = [1.0 0.0 0.0; \n",
    "     0.0 1.0 0.0;\n",
    "     0.0 0.0 1.0]\n",
    "\n",
    "t = [0.033, -0.01, 0.38]  # Example translation vector\n",
    "\n",
    "# Construct the homogeneous transformation matrix\n",
    "T = [R t; 0 0 0 1]\n",
    "\n",
    "display(T)  # Show the matrix"
   ]
  },
  {
   "cell_type": "code",
   "execution_count": 328,
   "metadata": {},
   "outputs": [
    {
     "data": {
      "text/plain": [
       "GLMakie.Screen(...)"
      ]
     },
     "execution_count": 328,
     "metadata": {},
     "output_type": "execute_result"
    }
   ],
   "source": [
    "# Compile robot model\n",
    "m = compile(robot)\n",
    "kcache = new_kinematics_cache(m)  \n",
    "medium_wrap_preshape = zeros(24)\n",
    "medium_wrap_preshape[21] = 1.2 # thumb extended\n",
    "kinematics!(kcache, 0.0, medium_wrap_preshape)\n",
    "\n",
    "cylinder_radius = 0.01\n",
    "cylinder_length = 0.2\n",
    "\n",
    "# Get the positions of the finger tips\n",
    "rh_fftip_frame_id = get_compiled_frameID(m, \"rh_fftip\")\n",
    "fftip_transform = get_transform(kcache, rh_fftip_frame_id)\n",
    "p11 = fftip_transform.origin\n",
    "\n",
    "rh_ffmiddle_frame_id = get_compiled_frameID(m, \"rh_ffmiddle\")\n",
    "ffmiddle_transform = get_transform(kcache, rh_ffmiddle_frame_id)\n",
    "p12 = ffmiddle_transform.origin\n",
    "\n",
    "rh_thtip_frame_id = get_compiled_frameID(m, \"rh_thtip\")\n",
    "thtip_transform = get_transform(kcache, rh_thtip_frame_id)\n",
    "p21 = thtip_transform.origin\n",
    "\n",
    "rh_thmiddle_frame_id = get_compiled_frameID(m, \"rh_thmiddle\")\n",
    "thmiddle_transform = get_transform(kcache, rh_thmiddle_frame_id)\n",
    "p22 = thmiddle_transform.origin\n",
    "\n",
    "if cylinder_radius < 0.015\n",
    "    cylinder_position = SVector(0.0, -0.03, 0.32)\n",
    "else\n",
    "    cylinder_position = circle_center_tangent_to_lines(p11, p12, p21, p22, cylinder_radius + 0.01) # add one centimeter to the radius to avoid intersection with the fingers\n",
    "    cylinder_position = SVector(cylinder_position[1], cylinder_position[2], cylinder_position[3])  # Convert to SVector\n",
    "end\n",
    "\n",
    "# Create the figure\n",
    "fig = Figure(size=(800, 600))\n",
    "\n",
    "\n",
    "# Create interactive 3D scene\n",
    "ls = LScene(fig[1, 1]; show_axis=true)  # 3D interactive scene\n",
    "\n",
    "X = SVector(1., 0., 0.)\n",
    "cylinder = Cylinder(Point3f(cylinder_position + (cylinder_length/2)*X), Point3f(cylinder_position - (cylinder_length/2)*X), cylinder_radius)\n",
    "mesh!(ls, cylinder; color=:magenta, transparency=true)\n",
    "\n",
    "# Attach interactive camera controls\n",
    "cam3d!(ls)  # Enables mouse interaction (rotate, zoom, pan)\n",
    "\n",
    "# Plot the robot's visuals\n",
    "robotvisualize!(ls, kcache)\n",
    "display_frame(m, ls, \"rh_thtip\")\n",
    "display_frame(m, ls, \"rh_thdistal\")\n",
    "display_frame(m, ls, \"world\")\n",
    "#display_transform(ls, T)\n",
    "\n",
    "# Display figure\n",
    "display(fig)"
   ]
  },
  {
   "cell_type": "code",
   "execution_count": 337,
   "metadata": {},
   "outputs": [
    {
     "name": "stdout",
     "output_type": "stream",
     "text": [
      "33-element Vector{String}:\n",
      " \"world\"\n",
      " \"rh_forearm\"\n",
      " \"rh_wrist\"\n",
      " \"rh_palm\"\n",
      " \"rh_manipulator\"\n",
      " \"rh_imu\"\n",
      " \"rh_ffknuckle\"\n",
      " \"rh_ffproximal\"\n",
      " \"rh_ffmiddle\"\n",
      " \"rh_ffdistal\"\n",
      " \"rh_fftip\"\n",
      " \"rh_mfknuckle\"\n",
      " \"rh_mfproximal\"\n",
      " \"rh_mfmiddle\"\n",
      " \"rh_mfdistal\"\n",
      " \"rh_mftip\"\n",
      " \"rh_rfknuckle\"\n",
      " \"rh_rfproximal\"\n",
      " \"rh_rfmiddle\"\n",
      " \"rh_rfdistal\"\n",
      " \"rh_rftip\"\n",
      " \"rh_lfmetacarpal\"\n",
      " \"rh_lfknuckle\"\n",
      " \"rh_lfproximal\"\n",
      " \"rh_lfmiddle\"\n",
      " \"rh_lfdistal\"\n",
      " \"rh_lftip\"\n",
      " \"rh_thbase\"\n",
      " \"rh_thproximal\"\n",
      " \"rh_thhub\"\n",
      " \"rh_thmiddle\"\n",
      " \"rh_thdistal\"\n",
      " \"rh_thtip\""
     ]
    }
   ],
   "source": [
    "show(IOContext(stdout, :limit => false),  MIME(\"text/plain\"), frames(robot))"
   ]
  },
  {
   "cell_type": "markdown",
   "metadata": {},
   "source": [
    "## Creating the Virtual Mechanism System"
   ]
  },
  {
   "cell_type": "markdown",
   "metadata": {},
   "source": [
    "### Gravity Compensation, Joint Limits and Joint Damping"
   ]
  },
  {
   "cell_type": "code",
   "execution_count": 57,
   "metadata": {},
   "outputs": [],
   "source": [
    "# GRAVITY COMPENSATION\n",
    "\n",
    "add_gravity_compensation!(robot, VMRobotControl.DEFAULT_GRAVITY)\n",
    "\n",
    "# JOINT DAMPING and LIMIT SPRINGS\n",
    "\n",
    "joint_limits = cfg.joint_limits\n",
    "\n",
    "for joint_id in keys(joints(robot))\n",
    "    limits = joint_limits[joint_id]\n",
    "    isnothing(limits) && continue\n",
    "    add_coordinate!(robot, JointSubspace(joint_id);  id=\"$(joint_id)_coord\")\n",
    "    @assert ~isnothing(limits.lower) && ~isnothing(limits.upper)\n",
    "    add_deadzone_springs!(robot, 0.01, (limits.lower+0.0, limits.upper-0.0), \"$(joint_id)_coord\")\n",
    "    add_component!(robot, LinearDamper(0.0001, \"$(joint_id)_coord\"); id=\"$(joint_id)_damper\")\n",
    "end"
   ]
  },
  {
   "cell_type": "markdown",
   "metadata": {},
   "source": [
    "### Creation of the cylinder prismatic joints"
   ]
  },
  {
   "cell_type": "code",
   "execution_count": 58,
   "metadata": {},
   "outputs": [],
   "source": [
    "vm = Mechanism{Float64}(\"VirtualTracks\")\n",
    "\n",
    "m = compile(robot)\n",
    "kcache = new_kinematics_cache(m)  \n",
    "medium_wrap_preshape = zeros(24)\n",
    "medium_wrap_preshape[21] = 1.2 # thumb extended\n",
    "kinematics!(kcache, 0.0, medium_wrap_preshape)\n",
    "\n",
    "cylinder_radius = 0.03\n",
    "cylinder_length = 0.2\n",
    "\n",
    "# Get the positions of the finger tips\n",
    "rh_fftip_frame_id = get_compiled_frameID(m, \"rh_fftip\")\n",
    "fftip_transform = get_transform(kcache, rh_fftip_frame_id)\n",
    "p11 = [fftip_transform.origin[2], fftip_transform.origin[3]]  \n",
    "\n",
    "rh_ffmiddle_frame_id = get_compiled_frameID(m, \"rh_ffmiddle\")\n",
    "ffmiddle_transform = get_transform(kcache, rh_ffmiddle_frame_id)\n",
    "p12 = [ffmiddle_transform.origin[2], ffmiddle_transform.origin[3]]\n",
    "\n",
    "rh_thtip_frame_id = get_compiled_frameID(m, \"rh_thtip\")\n",
    "thtip_transform = get_transform(kcache, rh_thtip_frame_id)\n",
    "p21 = [thtip_transform.origin[2], thtip_transform.origin[3]]\n",
    "\n",
    "rh_thmiddle_frame_id = get_compiled_frameID(m, \"rh_thmiddle\")\n",
    "thmiddle_transform = get_transform(kcache, rh_thmiddle_frame_id)\n",
    "p22 = [thmiddle_transform.origin[2], thmiddle_transform.origin[3]]\n",
    "\n",
    "if cylinder_radius < 0.015\n",
    "    # add one centimeter to the radius to avoid intersection with the fingers \n",
    "    rh_ffknuckle_frame_id = get_compiled_frameID(m, \"rh_ffknuckle\")\n",
    "    ffknuckle_transform = get_transform(kcache, rh_ffknuckle_frame_id)\n",
    "\n",
    "    cylinder_position = SVector(0.0, -0.03, ffknuckle_transform.origin[3] - cylinder_radius - 0.007)\n",
    "else\n",
    "    # add one centimeter to the radius to avoid intersection with the fingers\n",
    "    cylinder_position = circle_center_tangent_to_lines(p11, p12, p21, p22, cylinder_radius + 0.01) # add one centimeter to the radius to avoid intersection with the fingers\n",
    "    cylinder_position = SVector(0.0, cylinder_position[1], cylinder_position[2])  # Convert to SVector\n",
    "end\n",
    "\n",
    "attracted_frames = (\"rh_lfdistal_mass_coord\", \"rh_lfmiddle_mass_coord\", \"rh_lfproximal_mass_coord\", \"rh_rfdistal_mass_coord\", \n",
    "                    \"rh_rfmiddle_mass_coord\", \"rh_rfproximal_mass_coord\", \"rh_mfdistal_mass_coord\", \"rh_mfmiddle_mass_coord\",\n",
    "                    \"rh_mfproximal_mass_coord\", \"rh_ffdistal_mass_coord\", \"rh_ffmiddle_mass_coord\", \"rh_ffproximal_mass_coord\",\n",
    "                    \"rh_thdistal_mass_coord\", \"rh_thmiddle_mass_coord\") #, \"rh_thproximal_mass_coord\" , \"rh_palm_mass_coord\")\n",
    "\n",
    "attracted_frames_names = (\"lfdistal\", \"lfmiddle\", \"lfprox\", \"rfdistal\", \"rfmiddle\", \"rfprox\", \"mfdistal\", \"mfmiddle\", \"mfprox\", \"ffdistal\", \"ffmiddle\", \n",
    "                \"ffprox\", \"thdistal\", \"thmiddle\") #, \"thprox\", \"palm\")\n",
    "\n",
    "\n",
    "for i in 1:length(attracted_frames)\n",
    "    add_frame!(vm; id=\"center_frame_$(attracted_frames_names[i])\")\n",
    "    frame_pos = configuration(kcache, get_compiled_coordID(kcache, attracted_frames[i]))\n",
    "    add_joint!(vm, Rigid(Transform(SVector(frame_pos[1], cylinder_position[2], cylinder_position[3]))); parent=root_frame(vm), child=\"center_frame_$(attracted_frames_names[i])\", id=\"root_joint_$(attracted_frames_names[i])\")\n",
    "    add_frame!(vm; id=\"prism_frame_$(attracted_frames_names[i])\")\n",
    "    add_joint!(vm, Prismatic(SVector(1.0,0.0,0.0)); parent=\"center_frame_$(attracted_frames_names[i])\", child=\"prism_frame_$(attracted_frames_names[i])\", id=\"prism_joint_$(attracted_frames_names[i])\")\n",
    "    add_frame!(vm; id=\"revo_frame_$(attracted_frames_names[i])\")\n",
    "    add_joint!(vm, Revolute(SVector(1.0,0.0,0.0)); parent=\"prism_frame_$(attracted_frames_names[i])\", child=\"revo_frame_$(attracted_frames_names[i])\", id = \"revo_joint_$(attracted_frames_names[i])\")\n",
    "    add_frame!(vm; id=\"ee_frame_$(attracted_frames_names[i])\")\n",
    "    add_joint!(vm, Rigid(Transform(SVector(0.0,0.0,cylinder_radius))); parent =\"revo_frame_$(attracted_frames_names[i])\", child =\"ee_frame_$(attracted_frames_names[i])\", id = \"fixed_joint_$(attracted_frames_names[i])\")\n",
    "\n",
    "    add_coordinate!(vm, FrameOrigin(\"ee_frame_$(attracted_frames_names[i])\"); id=\"$(attracted_frames_names[i]) ee position\")\n",
    "    add_component!(vm, PointMass(0.001, \"$(attracted_frames_names[i]) ee position\"); id=\"$(attracted_frames_names[i]) ee mass\")\n",
    "\n",
    "    add_coordinate!(vm, JointSubspace(\"prism_joint_$(attracted_frames_names[i])\"); id=\"prism_joint_$(attracted_frames_names[i])\")\n",
    "    add_component!(vm, LinearDamper(0.1, \"prism_joint_$(attracted_frames_names[i])\"); id=\"prism_joint_$(attracted_frames_names[i])_damper\")\n",
    "    add_coordinate!(vm, JointSubspace(\"revo_joint_$(attracted_frames_names[i])\"); id=\"revo_joint_$(attracted_frames_names[i])\")\n",
    "    #add_component!(vm, LinearDamper(0.005, \"revo_joint_$(attracted_frames_names[i])\"); id=\"revo_joint_$(attracted_frames_names[i])_damper\")    \n",
    "\n",
    "    add_coordinate!(vm, FrameOrigin(\"center_frame_$(attracted_frames_names[i])\"); id=\"center_frame_$(attracted_frames_names[i])\")\n",
    "    add_coordinate!(vm, FrameOrigin(\"prism_frame_$(attracted_frames_names[i])\"); id=\"prism_frame_$(attracted_frames_names[i])\")\n",
    "    add_coordinate!(vm, CoordDifference(\"center_frame_$(attracted_frames_names[i])\", \"prism_frame_$(attracted_frames_names[i])\"); id=\"$(attracted_frames_names[i])_prismatic_error\")\n",
    "    comeback_stiffness = 0.1\n",
    "    comeback_stiffness_matrix = SMatrix{3, 3}(comeback_stiffness, 0., 0., 0., comeback_stiffness, 0., 0., 0., comeback_stiffness)\n",
    "    add_component!(vm, LinearSpring(comeback_stiffness_matrix, \"$(attracted_frames_names[i])_prismatic_error\"); id = \"$(attracted_frames_names[i])_comeback_spring\")\n",
    "end\n",
    "\n",
    "# WHY NOT REDUCING THE LAST RIGID JOINT (FOR THE LITTLE FINGER) SUCH THAT THIS FINGER EXERTS MORE FORCE? (read in a paper that this finger exerts more force) \n",
    "# ---> should also adapt the collision model then\n",
    "\n",
    "add_gravity_compensation!(vm, VMRobotControl.DEFAULT_GRAVITY)"
   ]
  },
  {
   "cell_type": "markdown",
   "metadata": {},
   "source": [
    "### Addition of the multiples springs/dampers"
   ]
  },
  {
   "cell_type": "markdown",
   "metadata": {},
   "source": [
    "Hand motion"
   ]
  },
  {
   "cell_type": "code",
   "execution_count": 82,
   "metadata": {},
   "outputs": [
    {
     "data": {
      "text/plain": [
       "\"wr j2 angular spring\""
      ]
     },
     "execution_count": 82,
     "metadata": {},
     "output_type": "execute_result"
    }
   ],
   "source": [
    "vms = VirtualMechanismSystem(\"myShadowVMS\", robot, vm)\n",
    "root = root_frame(vms.robot)\n",
    "\n",
    "D = SMatrix{3, 3}(0.05, 0., 0., 0., 0.05, 0., 0., 0., 0.05)\n",
    "\n",
    "base_stiffness = 0.05\n",
    "# phalanx_scaling_factor = -0.4 #phalanx scaling : distal stiffness bigger than proximal\n",
    "phalanx_scaling_factor = 0.5 #phalanx scaling : proximal stiffness bigger than distal\n",
    "#finger_scaling_factor = 0.0 #finger scaling : uniform stiffness across fingers\n",
    "#finger_scaling_factor = -0.3 #finger scaling : little finger stiffness bigger than thumb\n",
    "finger_scaling_factor = 0.3 #finger scaling : thumb stiffness bigger than little finger\n",
    "\n",
    "stiffnesses = generate_stiffnesses_linear_scaling(base_stiffness, phalanx_scaling_factor, finger_scaling_factor)\n",
    "\n",
    "damping_decay_rate = 161 # 20% of damping at |z| = 0.01\n",
    "exponential_damping_coeff = 0.1\n",
    "\n",
    "for i in 1:length(attracted_frames)\n",
    "    K = SMatrix{3, 3}(stiffnesses[i], 0., 0., 0., stiffnesses[i], 0., 0., 0., stiffnesses[i])\n",
    "    add_coordinate!(vms, CoordDifference(\".virtual_mechanism.$(attracted_frames_names[i]) ee position\", \".robot.$(attracted_frames[i])\"); id = \"ee $(attracted_frames_names[i]) diff\")\n",
    "    add_component!(vms, LinearSpring(K, \"ee $(attracted_frames_names[i]) diff\"); id = \"ee $(attracted_frames_names[i]) spring\")\n",
    "    add_component!(vms, LinearDamper(D, \"ee $(attracted_frames_names[i]) diff\"); id = \"ee $(attracted_frames_names[i]) damper\")\n",
    "\n",
    "    exponential_damping_matrix = SMatrix{3, 3}(exponential_damping_coeff, 0., 0., 0., exponential_damping_coeff, 0., 0., 0., exponential_damping_coeff)\n",
    "    add_component!(vms, ExponentialDamper(exponential_damping_matrix, \"ee $(attracted_frames_names[i]) diff\", damping_decay_rate); id = \"ee $(attracted_frames_names[i]) exp damper\")\n",
    "end\n",
    "\n",
    "add_component!(vms, LinearDamper(SMatrix{3, 3}(10.0, 0., 0., 0., 10.0, 0., 0., 0., 10.0), \"ee thmiddle diff\"); id = \"thmiddle mass damper\")\n",
    "\n",
    "#lightly constraint some joints to avoid unwanted motions \n",
    "add_component!(vms, LinearSpring(0.01, \".robot.rh_FFJ4_coord\"); id = \"ff j4 angular spring\")\n",
    "add_component!(vms, LinearSpring(0.01, \".robot.rh_MFJ4_coord\"); id = \"mf j4 angular spring\")\n",
    "add_component!(vms, LinearSpring(0.01, \".robot.rh_RFJ4_coord\"); id = \"rf j4 angular spring\")\n",
    "add_component!(vms, LinearSpring(0.01, \".robot.rh_LFJ4_coord\"); id = \"lf j4 angular spring\")\n",
    "add_component!(vms, LinearSpring(0.01, \".robot.rh_WRJ1_coord\"); id = \"wr j1 angular spring\")\n",
    "add_component!(vms, LinearSpring(0.01, \".robot.rh_WRJ2_coord\"); id = \"wr j2 angular spring\")\n"
   ]
  },
  {
   "cell_type": "markdown",
   "metadata": {},
   "source": [
    "Cylinder collision model"
   ]
  },
  {
   "cell_type": "code",
   "execution_count": 83,
   "metadata": {},
   "outputs": [],
   "source": [
    "add_coordinate!(vms,  ConstCoord(cylinder_position);  id=\"cylinder position\")\n",
    "add_coordinate!(vms, ConstCoord(cylinder_radius); id=\"cylinder radius\")\n",
    "\n",
    "add_coordinate!(vms, FramePoint(\".robot.rh_palm\", SVector(0. , 0., 0.07)); id=\"second palm point\")\n",
    "\n",
    "repulsed_frames = (\".robot.rh_fftip_mass_coord\", \".robot.rh_mftip_mass_coord\", \".robot.rh_rftip_mass_coord\",\".robot.rh_lftip_mass_coord\" , \n",
    "                    \".robot.rh_thtip_mass_coord\", \".robot.rh_ffmiddle_mass_coord\",\".robot.rh_mfmiddle_mass_coord\", \".robot.rh_rfmiddle_mass_coord\",\n",
    "                    \".robot.rh_lfmiddle_mass_coord\",  \".robot.rh_thmiddle_mass_coord\", \".robot.rh_ffproximal_mass_coord\", \".robot.rh_mfproximal_mass_coord\",\n",
    "                    \".robot.rh_rfproximal_mass_coord\", \".robot.rh_lfproximal_mass_coord\", \".robot.rh_thproximal_mass_coord\", \".robot.rh_palm_mass_coord\", \"second palm point\",\n",
    "                    \".robot.rh_ffdistal\", \".robot.rh_mfdistal\", \".robot.rh_rfdistal\", \".robot.rh_lfdistal\", \".robot.rh_thdistal\", \".robot.rh_thmiddle\")\n",
    "repulsed_frames_names = (\"fftip\", \"mftip\", \"rftip\", \"lftip\", \"thtip\", \"ffmiddle\", \"mfmiddle\", \"rfmiddle\", \"lfmiddle\", \"thmiddle\", \"ffprox\", \n",
    "                \"mfprox\", \"rfprox\", \"lfprox\", \"thprox\", \"palm\", \"palm2\", \"ffdistal\", \"mfdistal\", \"rfdistal\", \"lfdistal\", \"thdistal\", \"thmiddle2\")\n",
    "\n",
    "for i in 1:length(repulsed_frames)\n",
    "    frame = repulsed_frames[i]\n",
    "    add_coordinate!(vms, CoordDifference(frame, \"cylinder position\") ; id = \"$(repulsed_frames_names[i]) cylinder diff\" )\n",
    "    add_coordinate!(vms, CoordSlice(\"$(repulsed_frames_names[i]) cylinder diff\", SVector(2,3)); id=\"$(repulsed_frames_names[i]) planar error\")\n",
    "    add_coordinate!(vms, CoordNorm(\"$(repulsed_frames_names[i]) planar error\") ; id = \"$(repulsed_frames_names[i]) planar error norm\")\n",
    "    add_coordinate!(vms, CoordDifference(\"$(repulsed_frames_names[i]) planar error norm\", \"cylinder radius\"); id = \"shifted $(repulsed_frames_names[i]) cylinder error\" )\n",
    "\n",
    "    add_component!(vms, ReLUSpring(5.0, \"shifted $(repulsed_frames_names[i]) cylinder error\", true); id=\"$(repulsed_frames_names[i]) cylinder repulsive spring\")\n",
    "    add_component!(vms, RectifiedDamper(5.0, \"$(repulsed_frames_names[i]) planar error norm\", (0.0, 1.1*cylinder_radius), true, false); id=\"$(repulsed_frames_names[i]) cylinder damper\")\n",
    "end"
   ]
  },
  {
   "cell_type": "markdown",
   "metadata": {},
   "source": [
    "## Simulating the Robot"
   ]
  },
  {
   "cell_type": "markdown",
   "metadata": {},
   "source": [
    "### Setting Up the Simulation"
   ]
  },
  {
   "cell_type": "code",
   "execution_count": 84,
   "metadata": {},
   "outputs": [
    {
     "name": "stderr",
     "output_type": "stream",
     "text": [
      "\u001b[36m\u001b[1m[ \u001b[22m\u001b[39m\u001b[36m\u001b[1mInfo: \u001b[22m\u001b[39mSimulating shadow robot with cylinder object centric motion\n",
      "\u001b[32mODE   0%|█                                              |  ETA: N/A\u001b[39m\n",
      "\u001b[90mODE 100%|███████████████████████████████████████████████| Time: 0:00:03\u001b[39m\n"
     ]
    }
   ],
   "source": [
    "using Logging: global_logger\n",
    "using TerminalLoggers: TerminalLogger\n",
    "global_logger(TerminalLogger())\n",
    "\n",
    "\n",
    "tspan = (0., 25.)\n",
    "vms_compiled = compile(vms)\n",
    "\n",
    "q_init = zeros(24)\n",
    "q_init[21] = 1.2\n",
    "q = (q_init, zero_q(vms_compiled.virtual_mechanism)) # Robot joint angle, vm joint angles\n",
    "q̇ = (zero_q̇(vms_compiled.robot), zero_q̇(vms_compiled.virtual_mechanism)) # Robot joint velocity, vm joint velocities\n",
    "\n",
    "g = VMRobotControl.DEFAULT_GRAVITY\n",
    "dcache = new_dynamics_cache(vms_compiled)\n",
    "prob = get_ode_problem(dcache, g, q, q̇, tspan)\n",
    "@info \"Simulating shadow robot with cylinder object centric motion\"\n",
    "\n",
    "sol = solve(prob, Rosenbrock23(autodiff=false), progress=true; maxiters=1e6, abstol=1e-3, reltol=1e-3);"
   ]
  },
  {
   "cell_type": "markdown",
   "metadata": {},
   "source": [
    "### Visualizing the Results"
   ]
  },
  {
   "cell_type": "code",
   "execution_count": 87,
   "metadata": {},
   "outputs": [
    {
     "name": "stderr",
     "output_type": "stream",
     "text": [
      "\u001b[36m\u001b[1m┌ \u001b[22m\u001b[39m\u001b[36m\u001b[1mInfo: \u001b[22m\u001b[39mFastforwarding animation at 1.6666666666666667× speed, so that it\n",
      "\u001b[36m\u001b[1m└ \u001b[22m\u001b[39mplays in 15 seconds (was 25.0 seconds).\n"
     ]
    },
    {
     "ename": "LoadError",
     "evalue": "Screen not open!",
     "output_type": "error",
     "traceback": [
      "Screen not open!",
      "",
      "Stacktrace:",
      " [1] error(s::String)",
      "   @ Base .\\error.jl:35",
      " [2] colorbuffer(screen::GLMakie.Screen{GLFW.Window}, format::Makie.ImageStorageFormat)",
      "   @ GLMakie C:\\Users\\bilou\\.julia\\packages\\GLMakie\\fj8mE\\src\\screen.jl:862",
      " [3] recordframe!(io::VideoStream)",
      "   @ Makie C:\\Users\\bilou\\.julia\\packages\\Makie\\Q6F2P\\src\\ffmpeg-util.jl:292",
      " [4] Record(func::VMRobotControlMakieExt.var\"#89#90\"{Observable{Float64}}, figlike::Figure, iter::LinRange{Float64, Int64}; kw_args::Base.Pairs{Symbol, Any, Tuple{Symbol, Symbol, Symbol}, NamedTuple{(:format, :framerate, :visible), Tuple{SubString{String}, Int64, Bool}}})",
      "   @ Makie C:\\Users\\bilou\\.julia\\packages\\Makie\\Q6F2P\\src\\recording.jl:174",
      " [5] record(func::Function, figlike::Figure, path::String, iter::LinRange{Float64, Int64}; kw_args::Base.Pairs{Symbol, Integer, Tuple{Symbol, Symbol}, NamedTuple{(:framerate, :visible), Tuple{Int64, Bool}}})",
      "   @ Makie C:\\Users\\bilou\\.julia\\packages\\Makie\\Q6F2P\\src\\recording.jl:154",
      " [6] record",
      "   @ C:\\Users\\bilou\\.julia\\packages\\Makie\\Q6F2P\\src\\recording.jl:152 [inlined]",
      " [7] animate_robot_odesolution(fig::Figure, sol::ODESolution{Float64, 2, Vector{Vector{Float64}}, Nothing, Nothing, Vector{Float64}, Vector{Vector{Vector{Float64}}}, ODEProblem{Vector{Float64}, Tuple{Float64, Float64}, true, SciMLBase.NullParameters, ODEFunction{true, SciMLBase.AutoSpecialize, FunctionWrappersWrappers.FunctionWrappersWrapper{Tuple{FunctionWrappers.FunctionWrapper{Nothing, Tuple{Vector{Float64}, Vector{Float64}, SciMLBase.NullParameters, Float64}}, FunctionWrappers.FunctionWrapper{Nothing, Tuple{Vector{ForwardDiff.Dual{ForwardDiff.Tag{DiffEqBase.OrdinaryDiffEqTag, Float64}, Float64, 1}}, Vector{ForwardDiff.Dual{ForwardDiff.Tag{DiffEqBase.OrdinaryDiffEqTag, Float64}, Float64, 1}}, SciMLBase.NullParameters, Float64}}, FunctionWrappers.FunctionWrapper{Nothing, Tuple{Vector{ForwardDiff.Dual{ForwardDiff.Tag{DiffEqBase.OrdinaryDiffEqTag, Float64}, Float64, 1}}, Vector{Float64}, SciMLBase.NullParameters, ForwardDiff.Dual{ForwardDiff.Tag{DiffEqBase.OrdinaryDiffEqTag, Float64}, Float64, 1}}}, FunctionWrappers.FunctionWrapper{Nothing, Tuple{Vector{ForwardDiff.Dual{ForwardDiff.Tag{DiffEqBase.OrdinaryDiffEqTag, Float64}, Float64, 1}}, Vector{ForwardDiff.Dual{ForwardDiff.Tag{DiffEqBase.OrdinaryDiffEqTag, Float64}, Float64, 1}}, SciMLBase.NullParameters, ForwardDiff.Dual{ForwardDiff.Tag{DiffEqBase.OrdinaryDiffEqTag, Float64}, Float64, 1}}}}, false}, UniformScaling{Bool}, Nothing, Nothing, Nothing, Nothing, Nothing, Nothing, Nothing, Nothing, Nothing, Nothing, Nothing, typeof(SciMLBase.DEFAULT_OBSERVED), Nothing, SymbolicIndexingInterface.SymbolCache{Nothing, Nothing, Nothing}}, Base.Pairs{Symbol, Union{}, Tuple{}, NamedTuple{(), Tuple{}}}, SciMLBase.StandardODEProblem}, Rosenbrock23{1, false, Nothing, typeof(OrdinaryDiffEq.DEFAULT_PRECS), Val{:forward}, true, nothing}, OrdinaryDiffEq.InterpolationData{ODEFunction{true, SciMLBase.AutoSpecialize, FunctionWrappersWrappers.FunctionWrappersWrapper{Tuple{FunctionWrappers.FunctionWrapper{Nothing, Tuple{Vector{Float64}, Vector{Float64}, SciMLBase.NullParameters, Float64}}, FunctionWrappers.FunctionWrapper{Nothing, Tuple{Vector{ForwardDiff.Dual{ForwardDiff.Tag{DiffEqBase.OrdinaryDiffEqTag, Float64}, Float64, 1}}, Vector{ForwardDiff.Dual{ForwardDiff.Tag{DiffEqBase.OrdinaryDiffEqTag, Float64}, Float64, 1}}, SciMLBase.NullParameters, Float64}}, FunctionWrappers.FunctionWrapper{Nothing, Tuple{Vector{ForwardDiff.Dual{ForwardDiff.Tag{DiffEqBase.OrdinaryDiffEqTag, Float64}, Float64, 1}}, Vector{Float64}, SciMLBase.NullParameters, ForwardDiff.Dual{ForwardDiff.Tag{DiffEqBase.OrdinaryDiffEqTag, Float64}, Float64, 1}}}, FunctionWrappers.FunctionWrapper{Nothing, Tuple{Vector{ForwardDiff.Dual{ForwardDiff.Tag{DiffEqBase.OrdinaryDiffEqTag, Float64}, Float64, 1}}, Vector{ForwardDiff.Dual{ForwardDiff.Tag{DiffEqBase.OrdinaryDiffEqTag, Float64}, Float64, 1}}, SciMLBase.NullParameters, ForwardDiff.Dual{ForwardDiff.Tag{DiffEqBase.OrdinaryDiffEqTag, Float64}, Float64, 1}}}}, false}, UniformScaling{Bool}, Nothing, Nothing, Nothing, Nothing, Nothing, Nothing, Nothing, Nothing, Nothing, Nothing, Nothing, typeof(SciMLBase.DEFAULT_OBSERVED), Nothing, SymbolicIndexingInterface.SymbolCache{Nothing, Nothing, Nothing}}, Vector{Vector{Float64}}, Vector{Float64}, Vector{Vector{Vector{Float64}}}, OrdinaryDiffEq.Rosenbrock23Cache{Vector{Float64}, Vector{Float64}, Vector{Float64}, Matrix{Float64}, Matrix{Float64}, OrdinaryDiffEq.Rosenbrock23Tableau{Float64}, SciMLBase.TimeGradientWrapper{true, ODEFunction{true, SciMLBase.AutoSpecialize, FunctionWrappersWrappers.FunctionWrappersWrapper{Tuple{FunctionWrappers.FunctionWrapper{Nothing, Tuple{Vector{Float64}, Vector{Float64}, SciMLBase.NullParameters, Float64}}, FunctionWrappers.FunctionWrapper{Nothing, Tuple{Vector{ForwardDiff.Dual{ForwardDiff.Tag{DiffEqBase.OrdinaryDiffEqTag, Float64}, Float64, 1}}, Vector{ForwardDiff.Dual{ForwardDiff.Tag{DiffEqBase.OrdinaryDiffEqTag, Float64}, Float64, 1}}, SciMLBase.NullParameters, Float64}}, FunctionWrappers.FunctionWrapper{Nothing, Tuple{Vector{ForwardDiff.Dual{ForwardDiff.Tag{DiffEqBase.OrdinaryDiffEqTag, Float64}, Float64, 1}}, Vector{Float64}, SciMLBase.NullParameters, ForwardDiff.Dual{ForwardDiff.Tag{DiffEqBase.OrdinaryDiffEqTag, Float64}, Float64, 1}}}, FunctionWrappers.FunctionWrapper{Nothing, Tuple{Vector{ForwardDiff.Dual{ForwardDiff.Tag{DiffEqBase.OrdinaryDiffEqTag, Float64}, Float64, 1}}, Vector{ForwardDiff.Dual{ForwardDiff.Tag{DiffEqBase.OrdinaryDiffEqTag, Float64}, Float64, 1}}, SciMLBase.NullParameters, ForwardDiff.Dual{ForwardDiff.Tag{DiffEqBase.OrdinaryDiffEqTag, Float64}, Float64, 1}}}}, false}, UniformScaling{Bool}, Nothing, Nothing, Nothing, Nothing, Nothing, Nothing, Nothing, Nothing, Nothing, Nothing, Nothing, typeof(SciMLBase.DEFAULT_OBSERVED), Nothing, SymbolicIndexingInterface.SymbolCache{Nothing, Nothing, Nothing}}, Vector{Float64}, SciMLBase.NullParameters}, SciMLBase.UJacobianWrapper{true, ODEFunction{true, SciMLBase.AutoSpecialize, FunctionWrappersWrappers.FunctionWrappersWrapper{Tuple{FunctionWrappers.FunctionWrapper{Nothing, Tuple{Vector{Float64}, Vector{Float64}, SciMLBase.NullParameters, Float64}}, FunctionWrappers.FunctionWrapper{Nothing, Tuple{Vector{ForwardDiff.Dual{ForwardDiff.Tag{DiffEqBase.OrdinaryDiffEqTag, Float64}, Float64, 1}}, Vector{ForwardDiff.Dual{ForwardDiff.Tag{DiffEqBase.OrdinaryDiffEqTag, Float64}, Float64, 1}}, SciMLBase.NullParameters, Float64}}, FunctionWrappers.FunctionWrapper{Nothing, Tuple{Vector{ForwardDiff.Dual{ForwardDiff.Tag{DiffEqBase.OrdinaryDiffEqTag, Float64}, Float64, 1}}, Vector{Float64}, SciMLBase.NullParameters, ForwardDiff.Dual{ForwardDiff.Tag{DiffEqBase.OrdinaryDiffEqTag, Float64}, Float64, 1}}}, FunctionWrappers.FunctionWrapper{Nothing, Tuple{Vector{ForwardDiff.Dual{ForwardDiff.Tag{DiffEqBase.OrdinaryDiffEqTag, Float64}, Float64, 1}}, Vector{ForwardDiff.Dual{ForwardDiff.Tag{DiffEqBase.OrdinaryDiffEqTag, Float64}, Float64, 1}}, SciMLBase.NullParameters, ForwardDiff.Dual{ForwardDiff.Tag{DiffEqBase.OrdinaryDiffEqTag, Float64}, Float64, 1}}}}, false}, UniformScaling{Bool}, Nothing, Nothing, Nothing, Nothing, Nothing, Nothing, Nothing, Nothing, Nothing, Nothing, Nothing, typeof(SciMLBase.DEFAULT_OBSERVED), Nothing, SymbolicIndexingInterface.SymbolCache{Nothing, Nothing, Nothing}}, Float64, SciMLBase.NullParameters}, LinearSolve.LinearCache{Matrix{Float64}, Vector{Float64}, Vector{Float64}, SciMLBase.NullParameters, LinearSolve.DefaultLinearSolver, LinearSolve.DefaultLinearSolverInit{LU{Float64, Matrix{Float64}, Vector{Int64}}, LinearAlgebra.QRCompactWY{Float64, Matrix{Float64}, Matrix{Float64}}, Nothing, Nothing, Nothing, Nothing, Nothing, Nothing, LU{Float64, Matrix{Float64}, Vector{Int64}}, Tuple{LU{Float64, Matrix{Float64}, Vector{Int64}}, Vector{Int64}}, Nothing, Nothing, Nothing, SVD{Float64, Float64, Matrix{Float64}, Vector{Float64}}, Cholesky{Float64, Matrix{Float64}}, Cholesky{Float64, Matrix{Float64}}, Tuple{LU{Float64, Matrix{Float64}, Vector{Int32}}, Base.RefValue{Int32}}, Tuple{LU{Float64, Matrix{Float64}, Vector{Int64}}, Base.RefValue{Int64}}, QRPivoted{Float64, Matrix{Float64}, Vector{Float64}, Vector{Int64}}, Krylov.CraigmrSolver{Float64, Float64, Vector{Float64}}, Krylov.LsmrSolver{Float64, Float64, Vector{Float64}}}, LinearSolve.InvPreconditioner{Diagonal{Float64, Vector{Float64}}}, Diagonal{Float64, Vector{Float64}}, Float64, Bool}, FiniteDiff.JacobianCache{Vector{Float64}, Vector{Float64}, Vector{Float64}, Vector{Float64}, UnitRange{Int64}, Nothing, Val{:forward}(), Float64}, FiniteDiff.GradientCache{Nothing, Vector{Float64}, Vector{Float64}, Float64, Val{:forward}(), Float64, Val{true}()}, Float64, Rosenbrock23{1, false, Nothing, typeof(OrdinaryDiffEq.DEFAULT_PRECS), Val{:forward}, true, nothing}, Nothing}, Nothing}, SciMLBase.DEStats, Nothing}, cache::Observable{VMRobotControl.VirtualMechanismSystemCacheBundle{CompiledVirtualMechanismSystem{...}, VMRobotControl.VMSKinematicsCache{Float64}}}, saveas::String; t::Observable{Float64}, fps::Int64, fastforward::Nothing, unpack_ode_state::Function, f_setup::typeof(VMRobotControl.DEFAULT_F_SETUP), f_control::Function)",
      "   @ VMRobotControlMakieExt C:\\Users\\bilou\\OneDrive\\Documents\\Ecole\\MASTER2\\TFE\\Julia Simulator\\VMRobotControl.jl\\ext\\VMRobotControlMakieExt.jl:711",
      " [8] top-level scope",
      "   @ In[87]:23"
     ]
    }
   ],
   "source": [
    "fig = Figure(; size=(720, 720), figure_padding=0)\n",
    "display(fig)\n",
    "ls = LScene(fig[1, 1]; show_axis=false)\n",
    "cam = cam3d!(ls; center=true)\n",
    "#cam.lookat[] = [0.025, 0., 0.24]\n",
    "cam.eyeposition[] = [-0.25, -0.6, 0.0]\n",
    "\n",
    "plotting_t = Observable(0.0)\n",
    "plotting_kcache = Observable(new_kinematics_cache(compile(vms)))\n",
    "robotvisualize!(ls, plotting_kcache)\n",
    "\n",
    "plotting_vm_kcache = map(plotting_kcache) do k\n",
    "    VMRobotControl.virtual_mechanism_cache(k)\n",
    "end\n",
    "robotsketch!(ls, plotting_vm_kcache; scale = 0.05)\n",
    "\n",
    "X = SVector(1., 0., 0.)\n",
    "cylinder = Cylinder(Point3f(cylinder_position + (cylinder_length/2)*X), Point3f(cylinder_position - (cylinder_length/2)*X), cylinder_radius)\n",
    "mesh!(ls, cylinder; color=:magenta, transparency=true)\n",
    "\n",
    "savepath = joinpath(module_path, \"docs/src/assets/shadowhand_object_centric_cylinder_2.mp4\")\n",
    "display(fig)\n",
    "animate_robot_odesolution(fig, sol, plotting_kcache, savepath;fps=20,  t=plotting_t);"
   ]
  }
 ],
 "metadata": {
  "kernelspec": {
   "display_name": "Julia 1.9.3",
   "language": "julia",
   "name": "julia-1.9"
  },
  "language_info": {
   "file_extension": ".jl",
   "mimetype": "application/julia",
   "name": "julia",
   "version": "1.9.3"
  }
 },
 "nbformat": 4,
 "nbformat_minor": 2
}
