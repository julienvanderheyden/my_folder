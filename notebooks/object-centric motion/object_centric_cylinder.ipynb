{
 "cells": [
  {
   "cell_type": "code",
   "execution_count": 1,
   "metadata": {},
   "outputs": [
    {
     "data": {
      "text/plain": [
       "generate_q_init (generic function with 1 method)"
      ]
     },
     "execution_count": 1,
     "metadata": {},
     "output_type": "execute_result"
    }
   ],
   "source": [
    "using Revise\n",
    "using GeometryBasics: Vec3f, Point3f, Cylinder\n",
    "using LinearAlgebra\n",
    "using GLMakie\n",
    "using StaticArrays\n",
    "using VMRobotControl\n",
    "using VMRobotControl.Splines: CubicSpline\n",
    "using DifferentialEquations\n",
    "using MeshIO\n",
    "include(\"../functions.jl\")"
   ]
  },
  {
   "cell_type": "markdown",
   "metadata": {},
   "source": [
    "## Importing ShadowHand URDF"
   ]
  },
  {
   "cell_type": "markdown",
   "metadata": {},
   "source": [
    "### URDF Parsing"
   ]
  },
  {
   "cell_type": "code",
   "execution_count": 2,
   "metadata": {},
   "outputs": [
    {
     "data": {
      "text/plain": [
       "24DOF Mechanism{Float64} \"shadowhand_motor\" with 33 frames, 32 joints, 55 coordinates, 82 components"
      ]
     },
     "execution_count": 2,
     "metadata": {},
     "output_type": "execute_result"
    }
   ],
   "source": [
    "using FileIO, UUIDs\n",
    "try\n",
    "    FileIO.add_format(format\"DAE\", (), \".dae\", [:DigitalAssetExchangeFormatIO => UUID(\"43182933-f65b-495a-9e05-4d939cea427d\")])\n",
    "catch\n",
    "end\n",
    "\n",
    "cfg = URDFParserConfig(;suppress_warnings=true) # This is just to hide warnings about unsupported URDF features\n",
    "module_path = joinpath(splitpath(splitdir(pathof(VMRobotControl))[1])[1:end-1])\n",
    "robot = parseURDF(joinpath(module_path, \"URDFs/sr_description/sr_hand_vm_compatible.urdf\"), cfg)"
   ]
  },
  {
   "cell_type": "code",
   "execution_count": 3,
   "metadata": {},
   "outputs": [
    {
     "data": {
      "text/plain": [
       "\"rh_thdistal\""
      ]
     },
     "execution_count": 3,
     "metadata": {},
     "output_type": "execute_result"
    }
   ],
   "source": [
    "add_coordinate!(robot, FrameOrigin(\"rh_ffdistal\"); id=\"rh_ffdistal\")\n",
    "add_coordinate!(robot, FrameOrigin(\"rh_mfdistal\"); id=\"rh_mfdistal\")\n",
    "add_coordinate!(robot, FrameOrigin(\"rh_rfdistal\"); id=\"rh_rfdistal\")\n",
    "add_coordinate!(robot, FrameOrigin(\"rh_lfdistal\"); id=\"rh_lfdistal\")\n",
    "add_coordinate!(robot, FrameOrigin(\"rh_thdistal\"); id=\"rh_thdistal\")"
   ]
  },
  {
   "cell_type": "markdown",
   "metadata": {},
   "source": [
    "### Hand Visualization"
   ]
  },
  {
   "cell_type": "code",
   "execution_count": 4,
   "metadata": {},
   "outputs": [
    {
     "ename": "LoadError",
     "evalue": "UndefVarError: `rh_fftip_frame_id` not defined",
     "output_type": "error",
     "traceback": [
      "UndefVarError: `rh_fftip_frame_id` not defined",
      "",
      "Stacktrace:",
      " [1] top-level scope",
      "   @ In[4]:5"
     ]
    }
   ],
   "source": [
    "m = compile(robot)\n",
    "kcache = new_kinematics_cache(m)  \n",
    "\n",
    "rh_ffmiddle_frame_id = get_compiled_frameID(m, \"rh_fftip\")\n",
    "fftip_transform = get_transform(kcache, rh_fftip_frame_id)\n",
    "display(fftip_transform.origin)"
   ]
  },
  {
   "cell_type": "code",
   "execution_count": null,
   "metadata": {},
   "outputs": [
    {
     "data": {
      "text/plain": [
       "4×4 Matrix{Float64}:\n",
       " 1.0  0.0  0.0   0.011\n",
       " 0.0  1.0  0.0  -0.075\n",
       " 0.0  0.0  1.0   0.38\n",
       " 0.0  0.0  0.0   1.0"
      ]
     },
     "metadata": {},
     "output_type": "display_data"
    }
   ],
   "source": [
    "# Target transform \n",
    "R = [1.0 0.0 0.0; \n",
    "     0.0 1.0 0.0;\n",
    "     0.0 0.0 1.0]\n",
    "\n",
    "t = [0.033, -0.01, 0.38]  # Example translation vector\n",
    "\n",
    "# Construct the homogeneous transformation matrix\n",
    "T = [R t; 0 0 0 1]\n",
    "\n",
    "display(T)  # Show the matrix"
   ]
  },
  {
   "cell_type": "code",
   "execution_count": 16,
   "metadata": {},
   "outputs": [
    {
     "data": {
      "text/plain": [
       "GLMakie.Screen(...)"
      ]
     },
     "execution_count": 16,
     "metadata": {},
     "output_type": "execute_result"
    },
    {
     "name": "stderr",
     "output_type": "stream",
     "text": [
      "WARNING: both GLMakie and LinearAlgebra export \"rotate!\"; uses of it in module Main must be qualified\n"
     ]
    }
   ],
   "source": [
    "# Compile robot model\n",
    "m = compile(robot)\n",
    "kcache = Observable(new_kinematics_cache(m))  # This stores the robot's joint state\n",
    "\n",
    "# Create the figure\n",
    "fig = Figure(size=(800, 600))\n",
    "\n",
    "# Create interactive 3D scene\n",
    "ls = LScene(fig[1, 1]; show_axis=true)  # 3D interactive scene\n",
    "\n",
    "# Attach interactive camera controls\n",
    "cam3d!(ls)  # Enables mouse interaction (rotate, zoom, pan)\n",
    "\n",
    "# Plot the robot's visuals\n",
    "robotvisualize!(ls, kcache)\n",
    "display_frame(m, ls, \"rh_ffdistal\")\n",
    "display_frame(m, ls, \"world\")\n",
    "#display_transform(ls, T)\n",
    "\n",
    "# Display figure\n",
    "display(fig)"
   ]
  },
  {
   "cell_type": "code",
   "execution_count": null,
   "metadata": {},
   "outputs": [],
   "source": [
    "show(IOContext(stdout, :limit => false),  MIME(\"text/plain\"), coordinates(robot))"
   ]
  },
  {
   "cell_type": "markdown",
   "metadata": {},
   "source": [
    "## Creating the Virtual Mechanism System"
   ]
  },
  {
   "cell_type": "markdown",
   "metadata": {},
   "source": [
    "### Gravity Compensation, Joint Limits and Joint Damping"
   ]
  },
  {
   "cell_type": "code",
   "execution_count": 5,
   "metadata": {},
   "outputs": [],
   "source": [
    "# GRAVITY COMPENSATION\n",
    "\n",
    "add_gravity_compensation!(robot, VMRobotControl.DEFAULT_GRAVITY)\n",
    "\n",
    "# JOINT DAMPING and LIMIT SPRINGS\n",
    "\n",
    "joint_limits = cfg.joint_limits\n",
    "\n",
    "for joint_id in keys(joints(robot))\n",
    "    limits = joint_limits[joint_id]\n",
    "    isnothing(limits) && continue\n",
    "    add_coordinate!(robot, JointSubspace(joint_id);  id=\"$(joint_id)_coord\")\n",
    "    @assert ~isnothing(limits.lower) && ~isnothing(limits.upper)\n",
    "    add_deadzone_springs!(robot, 50.0, (limits.lower+0.1, limits.upper-0.1), \"$(joint_id)_coord\")\n",
    "    add_component!(robot, LinearDamper(0.01, \"$(joint_id)_coord\"); id=\"$(joint_id)_damper\")\n",
    "end"
   ]
  },
  {
   "cell_type": "markdown",
   "metadata": {},
   "source": [
    "### Creation of the cylinder prismatic joints"
   ]
  },
  {
   "cell_type": "code",
   "execution_count": 12,
   "metadata": {},
   "outputs": [],
   "source": [
    "vm = Mechanism{Float64}(\"VirtualTracks\")\n",
    "\n",
    "cylinder_radius = 0.025\n",
    "cylinder_length = 0.2\n",
    "cylinder_position = SVector(0.0, -0.035, 0.32)\n",
    "\n",
    "m = compile(robot)\n",
    "kcache = new_kinematics_cache(m)  \n",
    "q_init = zeros(24)\n",
    "q_init[21] = 1.2\n",
    "kinematics!(kcache, 0.0, q_init)\n",
    "\n",
    "attracted_frames = (\"rh_ffdistal_mass_coord\", \"rh_mfdistal_mass_coord\", \"rh_rfdistal_mass_coord\",\"rh_lfdistal_mass_coord\" , \n",
    "                    \"rh_thdistal_mass_coord\", \"rh_ffmiddle_mass_coord\",\"rh_mfmiddle_mass_coord\", \"rh_rfmiddle_mass_coord\",\n",
    "                    \"rh_lfmiddle_mass_coord\",  \"rh_thmiddle_mass_coord\", \"rh_ffproximal_mass_coord\", \"rh_mfproximal_mass_coord\",\n",
    "                    \"rh_rfproximal_mass_coord\", \"rh_lfproximal_mass_coord\", \"rh_thproximal_mass_coord\", \"rh_palm_mass_coord\")\n",
    "attracted_frames_names = (\"ffdistal\", \"mfdistal\", \"rfdistal\", \"lfdistal\", \"thdistal\", \"ffmiddle\", \"mfmiddle\", \"rfmiddle\", \"lfmiddle\", \"thmiddle\", \"ffprox\", \n",
    "                \"mfprox\", \"rfprox\", \"lfprox\", \"thprox\", \"palm\")\n",
    "\n",
    "\n",
    "for i in 1:length(attracted_frames)\n",
    "    add_frame!(vm; id=\"center_frame_$(attracted_frames_names[i])\")\n",
    "    frame_pos = configuration(kcache, get_compiled_coordID(kcache, attracted_frames[i]))\n",
    "    add_joint!(vm, Rigid(Transform(SVector(frame_pos[1], cylinder_position[2], cylinder_position[3]))); parent=root_frame(vm), child=\"center_frame_$(attracted_frames_names[i])\", id=\"root_joint_$(attracted_frames_names[i])\")\n",
    "    add_frame!(vm; id=\"prism_frame_$(attracted_frames_names[i])\")\n",
    "    add_joint!(vm, Prismatic(SVector(1.0,0.0,0.0)); parent=\"center_frame_$(attracted_frames_names[i])\", child=\"prism_frame_$(attracted_frames_names[i])\", id=\"prism_joint_$(attracted_frames_names[i])\")\n",
    "    add_frame!(vm; id=\"revo_frame_$(attracted_frames_names[i])\")\n",
    "    add_joint!(vm, Revolute(SVector(1.0,0.0,0.0)); parent=\"prism_frame_$(attracted_frames_names[i])\", child=\"revo_frame_$(attracted_frames_names[i])\", id = \"revo_joint_$(attracted_frames_names[i])\")\n",
    "    add_frame!(vm; id=\"ee_frame_$(attracted_frames_names[i])\")\n",
    "    add_joint!(vm, Rigid(Transform(SVector(0.0,0.0,cylinder_radius))); parent =\"revo_frame_$(attracted_frames_names[i])\", child =\"ee_frame_$(attracted_frames_names[i])\", id = \"fixed_joint_$(attracted_frames_names[i])\")\n",
    "\n",
    "    add_coordinate!(vm, FrameOrigin(\"ee_frame_$(attracted_frames_names[i])\"); id=\"$(attracted_frames_names[i]) ee position\")\n",
    "    add_component!(vm, PointMass(0.01, \"$(attracted_frames_names[i]) ee position\"); id=\"$(attracted_frames_names[i]) ee mass\")\n",
    "\n",
    "    add_coordinate!(vm, JointSubspace(\"prism_joint_$(attracted_frames_names[i])\"); id=\"prism_joint_$(attracted_frames_names[i])\")\n",
    "    add_component!(vm, LinearDamper(10.0, \"prism_joint_$(attracted_frames_names[i])\"); id=\"prism_joint_$(attracted_frames_names[i])_damper\")\n",
    "    add_coordinate!(vm, JointSubspace(\"revo_joint_$(attracted_frames_names[i])\"); id=\"revo_joint_$(attracted_frames_names[i])\")\n",
    "    add_component!(vm, LinearDamper(0.5, \"revo_joint_$(attracted_frames_names[i])\"); id=\"revo_joint_$(attracted_frames_names[i])_damper\")    \n",
    "\n",
    "    add_coordinate!(vm, FrameOrigin(\"center_frame_$(attracted_frames_names[i])\"); id=\"center_frame_$(attracted_frames_names[i])\")\n",
    "    add_coordinate!(vm, FrameOrigin(\"prism_frame_$(attracted_frames_names[i])\"); id=\"prism_frame_$(attracted_frames_names[i])\")\n",
    "    add_coordinate!(vm, CoordDifference(\"center_frame_$(attracted_frames_names[i])\", \"prism_frame_$(attracted_frames_names[i])\"); id=\"$(attracted_frames_names[i])_prismatic_error\")\n",
    "    comeback_stiffness = 10.0\n",
    "    comeback_stiffness_matrix = SMatrix{3, 3}(comeback_stiffness, 0., 0., 0., comeback_stiffness, 0., 0., 0., comeback_stiffness)\n",
    "    add_component!(vm, LinearSpring(comeback_stiffness_matrix, \"$(attracted_frames_names[i])_prismatic_error\"); id = \"$(attracted_frames_names[i])_comeback_spring\")\n",
    "end\n",
    "\n",
    "\n",
    "add_gravity_compensation!(vm, VMRobotControl.DEFAULT_GRAVITY)"
   ]
  },
  {
   "cell_type": "markdown",
   "metadata": {},
   "source": [
    "### Addition of the multiples springs/dampers"
   ]
  },
  {
   "cell_type": "markdown",
   "metadata": {},
   "source": [
    "Hand motion"
   ]
  },
  {
   "cell_type": "code",
   "execution_count": null,
   "metadata": {},
   "outputs": [],
   "source": [
    "vms = VirtualMechanismSystem(\"myShadowVMS\", robot, vm)\n",
    "root = root_frame(vms.robot)\n",
    "\n",
    "D = SMatrix{3, 3}(50., 0., 0., 0., 50.0, 0., 0., 0., 50.)\n",
    "\n",
    "stiffnesses = [30.0, 30.0, 30.0, 30.0, 30.0, 50.0, 50.0, 50.0, 50.0, 50.0, 100.0, 100.0, 100.0, 100.0, 100.0, 50.0]\n",
    "\n",
    "for i in 1:length(attracted_frames)\n",
    "    K = SMatrix{3, 3}(stiffnesses[i], 0., 0., 0., stiffnesses[i], 0., 0., 0., stiffnesses[i])\n",
    "    add_coordinate!(vms, CoordDifference(\".virtual_mechanism.$(attracted_frames_names[i]) ee position\", \".robot.$(attracted_frames[i])\"); id = \"ee $(attracted_frames_names[i]) diff\")\n",
    "    add_component!(vms, LinearSpring(K, \"ee $(attracted_frames_names[i]) diff\"); id = \"ee $(attracted_frames_names[i]) spring\")\n",
    "    add_component!(vms, LinearDamper(D, \"ee $(attracted_frames_names[i]) diff\"); id = \"ee $(attracted_frames_names[i]) damper\")\n",
    "end\n"
   ]
  },
  {
   "cell_type": "markdown",
   "metadata": {},
   "source": [
    "Cylinder collision model"
   ]
  },
  {
   "cell_type": "code",
   "execution_count": 14,
   "metadata": {},
   "outputs": [],
   "source": [
    "add_coordinate!(vms,  ConstCoord(cylinder_position);  id=\"cylinder position\")\n",
    "add_coordinate!(vms, ConstCoord(cylinder_radius); id=\"cylinder radius\")\n",
    "\n",
    "add_coordinate!(vms, FramePoint(\".robot.rh_palm\", SVector(0. , 0., 0.07)); id=\"second palm point\")\n",
    "\n",
    "repulsed_frames = (\".robot.rh_fftip_mass_coord\", \".robot.rh_mftip_mass_coord\", \".robot.rh_rftip_mass_coord\",\".robot.rh_lftip_mass_coord\" , \n",
    "                    \".robot.rh_thtip_mass_coord\", \".robot.rh_ffmiddle_mass_coord\",\".robot.rh_mfmiddle_mass_coord\", \".robot.rh_rfmiddle_mass_coord\",\n",
    "                    \".robot.rh_lfmiddle_mass_coord\",  \".robot.rh_thmiddle_mass_coord\", \".robot.rh_ffproximal_mass_coord\", \".robot.rh_mfproximal_mass_coord\",\n",
    "                    \".robot.rh_rfproximal_mass_coord\", \".robot.rh_lfproximal_mass_coord\", \".robot.rh_thproximal_mass_coord\", \".robot.rh_palm_mass_coord\", \"second palm point\",\n",
    "                    \".robot.rh_ffdistal\", \".robot.rh_mfdistal\", \".robot.rh_rfdistal\", \".robot.rh_lfdistal\", \".robot.rh_thdistal\")\n",
    "repulsed_frames_names = (\"fftip\", \"mftip\", \"rftip\", \"lftip\", \"thtip\", \"ffmiddle\", \"mfmiddle\", \"rfmiddle\", \"lfmiddle\", \"thmiddle\", \"ffprox\", \n",
    "                \"mfprox\", \"rfprox\", \"lfprox\", \"thprox\", \"palm\", \"palm2\", \"ffdistal\", \"mfdistal\", \"rfdistal\", \"lfdistal\", \"thdistal\")\n",
    "\n",
    "for i in 1:length(repulsed_frames)\n",
    "    frame = repulsed_frames[i]\n",
    "    add_coordinate!(vms, CoordDifference(frame, \"cylinder position\") ; id = \"$(repulsed_frames_names[i]) cylinder diff\" )\n",
    "    add_coordinate!(vms, CoordSlice(\"$(repulsed_frames_names[i]) cylinder diff\", SVector(2,3)); id=\"$(repulsed_frames_names[i]) planar error\")\n",
    "    add_coordinate!(vms, CoordNorm(\"$(repulsed_frames_names[i]) planar error\") ; id = \"$(repulsed_frames_names[i]) planar error norm\")\n",
    "    add_coordinate!(vms, CoordDifference(\"$(repulsed_frames_names[i]) planar error norm\", \"cylinder radius\"); id = \"shifted $(repulsed_frames_names[i]) cylinder error\" )\n",
    "\n",
    "    add_component!(vms, ReLUSpring(1000.0, \"shifted $(repulsed_frames_names[i]) cylinder error\", true); id=\"$(repulsed_frames_names[i]) cylinder repulsive spring\")\n",
    "    add_component!(vms, RectifiedDamper(100.0, \"$(repulsed_frames_names[i]) planar error norm\", (0.0, 1.1*cylinder_radius), true, false); id=\"$(repulsed_frames_names[i]) cylinder damper\")\n",
    "end"
   ]
  },
  {
   "cell_type": "markdown",
   "metadata": {},
   "source": [
    "## Simulating the Robot"
   ]
  },
  {
   "cell_type": "markdown",
   "metadata": {},
   "source": [
    "### Setting Up the Simulation"
   ]
  },
  {
   "cell_type": "code",
   "execution_count": 15,
   "metadata": {},
   "outputs": [
    {
     "name": "stderr",
     "output_type": "stream",
     "text": [
      "\u001b[36m\u001b[1m[ \u001b[22m\u001b[39m\u001b[36m\u001b[1mInfo: \u001b[22m\u001b[39mSimulating shadow robot with cylinder object centric motion\n",
      "\u001b[32mODE   0%|█                                              |  ETA: N/A\u001b[39m\n",
      "\u001b[32mODE  78%|█████████████████████████████████████          |  ETA: 0:00:06\u001b[39m\n",
      "\u001b[90mODE 100%|███████████████████████████████████████████████| Time: 0:00:24\u001b[39m\n"
     ]
    }
   ],
   "source": [
    "using Logging: global_logger\n",
    "using TerminalLoggers: TerminalLogger\n",
    "global_logger(TerminalLogger())\n",
    "\n",
    "\n",
    "tspan = (0., 15.)\n",
    "vms_compiled = compile(vms)\n",
    "\n",
    "q_init = zeros(24)\n",
    "q_init[21] = 1.2\n",
    "q = (q_init, zero_q(vms_compiled.virtual_mechanism)) # Robot joint angle, vm joint angles\n",
    "q̇ = (zero_q̇(vms_compiled.robot), zero_q̇(vms_compiled.virtual_mechanism)) # Robot joint velocity, vm joint velocities\n",
    "\n",
    "g = VMRobotControl.DEFAULT_GRAVITY\n",
    "dcache = new_dynamics_cache(vms_compiled)\n",
    "prob = get_ode_problem(dcache, g, q, q̇, tspan)\n",
    "@info \"Simulating shadow robot with cylinder object centric motion\"\n",
    "\n",
    "sol = solve(prob, Rosenbrock23(autodiff=false), progress=true; maxiters=1e6, abstol=1e-3, reltol=1e-3);"
   ]
  },
  {
   "cell_type": "markdown",
   "metadata": {},
   "source": [
    "### Visualizing the Results"
   ]
  },
  {
   "cell_type": "code",
   "execution_count": 16,
   "metadata": {},
   "outputs": [],
   "source": [
    "fig = Figure(; size=(720, 720), figure_padding=0)\n",
    "display(fig)\n",
    "ls = LScene(fig[1, 1]; show_axis=false)\n",
    "cam = cam3d!(ls; center=true)\n",
    "cam.lookat[] = [0.025, 0., 0.24]\n",
    "cam.eyeposition[] = [-0.25, -0.6, 0.62]\n",
    "\n",
    "plotting_t = Observable(0.0)\n",
    "plotting_kcache = Observable(new_kinematics_cache(compile(vms)))\n",
    "robotvisualize!(ls, plotting_kcache)\n",
    "\n",
    "plotting_vm_kcache = map(plotting_kcache) do k\n",
    "    VMRobotControl.virtual_mechanism_cache(k)\n",
    "end\n",
    "robotsketch!(ls, plotting_vm_kcache; scale = 0.05)\n",
    "\n",
    "X = SVector(1., 0., 0.)\n",
    "cylinder = Cylinder(Point3f(cylinder_position + (cylinder_length/2)*X), Point3f(cylinder_position - (cylinder_length/2)*X), cylinder_radius)\n",
    "mesh!(ls, cylinder; color=:magenta, transparency=true)\n",
    "\n",
    "savepath = joinpath(module_path, \"docs/src/assets/shadowhand_object_centric_cylinder.mp4\")\n",
    "display(fig)\n",
    "animate_robot_odesolution(fig, sol, plotting_kcache, savepath;fps=20,  t=plotting_t);"
   ]
  }
 ],
 "metadata": {
  "kernelspec": {
   "display_name": "Julia 1.9.3",
   "language": "julia",
   "name": "julia-1.9"
  },
  "language_info": {
   "file_extension": ".jl",
   "mimetype": "application/julia",
   "name": "julia",
   "version": "1.9.3"
  }
 },
 "nbformat": 4,
 "nbformat_minor": 2
}
