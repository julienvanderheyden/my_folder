{
 "cells": [
  {
   "cell_type": "code",
   "execution_count": 1,
   "id": "518eaa10",
   "metadata": {},
   "outputs": [
    {
     "data": {
      "text/plain": [
       "generate_q_init (generic function with 1 method)"
      ]
     },
     "execution_count": 1,
     "metadata": {},
     "output_type": "execute_result"
    },
    {
     "name": "stderr",
     "output_type": "stream",
     "text": [
      "WARNING: both GLMakie and LinearAlgebra export \"rotate!\"; uses of it in module Main must be qualified\n"
     ]
    }
   ],
   "source": [
    "using Revise\n",
    "using GeometryBasics: Vec3f, Point3f, Cylinder\n",
    "using LinearAlgebra\n",
    "using GLMakie\n",
    "using StaticArrays\n",
    "using VMRobotControl\n",
    "using VMRobotControl.Splines: CubicSpline\n",
    "using DifferentialEquations\n",
    "using MeshIO\n",
    "include(\"../functions.jl\")"
   ]
  },
  {
   "cell_type": "code",
   "execution_count": 76,
   "id": "0d7c3a36",
   "metadata": {},
   "outputs": [
    {
     "data": {
      "text/plain": [
       "2DOF Mechanism{Float64} \"TestMechanism\" with 5 frames, 4 joints, 4 coordinates, 4 components"
      ]
     },
     "execution_count": 76,
     "metadata": {},
     "output_type": "execute_result"
    }
   ],
   "source": [
    "m = Mechanism{Float64}(\"TestMechanism\")\n",
    "\n",
    "add_frame!(m; id = \"base_frame\")\n",
    "add_joint!(m, Rigid(Transform(SVector(0.0, -0.035, 0.32)));  parent = root_frame(m), child = \"base_frame\", id = \"base_joint\")\n",
    "add_frame!(m; id=\"revo_frame_1\")\n",
    "add_joint!(m, Revolute(SVector(0.0, 0.0, 1.0)); parent = \"base_frame\", child=\"revo_frame_1\", id=\"revo_joint_1\")\n",
    "add_frame!(m; id=\"revo_frame_2\")\n",
    "add_joint!(m, Revolute(SVector(1.0, 0.0, 0.0)); parent=\"revo_frame_1\", child=\"revo_frame_2\", id=\"revo_joint_2\")\n",
    "add_frame!(m; id=\"ee frame\")\n",
    "add_joint!(m, Rigid(Transform(SVector(0.0,0.0,0.15))); parent=\"revo_frame_2\", child=\"ee frame\", id=\"ee_joint\")\n",
    "\n",
    "add_coordinate!(m, FrameOrigin(\"ee frame\"); id=\"ee position\")\n",
    "add_component!(m, PointMass(1.0, \"ee position\"); id=\"ee mass\")\n",
    "\n",
    "# add_coordinate!(m, ConstCoord(SVector(0.0, 0.0, 0.0)); id=\"base position\")\n",
    "# add_coordinate!(m, CoordDifference(\"base position\", \"ee position\"); id=\"ee position diff\")\n",
    "# K_matrix = SMatrix{3, 3}(100., 0., 0., 0., 100., 0., 0., 0., 100.)\n",
    "# add_component!(m, LinearSpring(K_matrix,\"ee position diff\"); id=\"spring\")\n",
    "\n",
    "add_coordinate!(m, JointSubspace(\"revo_joint_1\"); id=\"revo joint 1\")\n",
    "add_component!(m, LinearDamper(0.1, \"revo joint 1\"); id=\"revo joint 1 damper\")\n",
    "add_coordinate!(m, JointSubspace(\"revo_joint_2\"); id=\"revo joint 2\")\n",
    "add_component!(m, LinearDamper(0.1, \"revo joint 2\"); id=\"revo joint 2 damper\")\n",
    "\n",
    "I_mat = @SMatrix [\n",
    "    0.1  0.    0.  ;\n",
    "    0.    0.1  0.  ;\n",
    "    0.    0.    0.1\n",
    "]\n",
    "\n",
    "# add_inertia!(m, \"revo_frame_1\", I_mat; id=\"revo1 inertia\")\n",
    "# add_inertia!(m, \"revo_frame_2\", I_mat; id=\"revo2 inertia\")\n",
    "add_inertia!(m, \"ee frame\", I_mat; id=\"ee inertia\")"
   ]
  },
  {
   "cell_type": "code",
   "execution_count": 77,
   "id": "f0ff979f",
   "metadata": {},
   "outputs": [
    {
     "data": {
      "text/plain": [
       "GLMakie.Screen(...)"
      ]
     },
     "execution_count": 77,
     "metadata": {},
     "output_type": "execute_result"
    }
   ],
   "source": [
    "cm = compile(m)\n",
    "kcache = Observable(new_kinematics_cache(cm))\n",
    "\n",
    "# Setup the figure\n",
    "fig1 = Figure(size=(700, 350))\n",
    "ls1 = LScene(fig1[1, 1]; show_axis=false)\n",
    "\n",
    "robotsketch!(ls1, kcache; scale=0.3, linewidth=2.5, transparency=true)\n",
    "\n",
    "display(fig1)"
   ]
  },
  {
   "cell_type": "code",
   "execution_count": 78,
   "id": "e7bc8298",
   "metadata": {},
   "outputs": [
    {
     "data": {
      "text/plain": [
       "\"robot_animation.mp4\""
      ]
     },
     "execution_count": 78,
     "metadata": {},
     "output_type": "execute_result"
    }
   ],
   "source": [
    "q = [0.1, 0.1]\n",
    "q̇ = zero_q̇(cm) \n",
    "\n",
    "dcache = new_dynamics_cache(cm)\n",
    "g = VMRobotControl.DEFAULT_GRAVITY\n",
    "prob = get_ode_problem(dcache, g, q, q̇, 10.0)\n",
    "sol = solve(prob, Tsit5(), abstol=1e-3, reltol=1e-3)\n",
    "\n",
    "display(fig1)\n",
    "animate_robot_odesolution(fig1, sol, kcache, \"robot_animation.mp4\")"
   ]
  }
 ],
 "metadata": {
  "kernelspec": {
   "display_name": "Julia 1.9.3",
   "language": "julia",
   "name": "julia-1.9"
  },
  "language_info": {
   "file_extension": ".jl",
   "mimetype": "application/julia",
   "name": "julia",
   "version": "1.9.3"
  }
 },
 "nbformat": 4,
 "nbformat_minor": 5
}
