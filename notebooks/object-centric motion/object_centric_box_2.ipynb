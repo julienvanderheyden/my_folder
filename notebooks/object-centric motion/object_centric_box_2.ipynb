{
 "cells": [
  {
   "cell_type": "code",
   "execution_count": 1,
   "id": "87c092d5",
   "metadata": {},
   "outputs": [
    {
     "data": {
      "text/plain": [
       "circle_center_tangent_to_lines (generic function with 1 method)"
      ]
     },
     "execution_count": 1,
     "metadata": {},
     "output_type": "execute_result"
    }
   ],
   "source": [
    "using Revise\n",
    "using GeometryBasics: Vec3f, Point3f, Cylinder\n",
    "using LinearAlgebra\n",
    "using GLMakie\n",
    "using StaticArrays\n",
    "using VMRobotControl\n",
    "using VMRobotControl.Splines: CubicSpline\n",
    "using DifferentialEquations\n",
    "using MeshIO\n",
    "include(\"../functions.jl\")"
   ]
  },
  {
   "cell_type": "markdown",
   "id": "ff4f8864",
   "metadata": {},
   "source": [
    "## Importing ShadowHand URDF"
   ]
  },
  {
   "cell_type": "markdown",
   "id": "ba2a4380",
   "metadata": {},
   "source": [
    "### URDF Parsing"
   ]
  },
  {
   "cell_type": "code",
   "execution_count": 2,
   "id": "5f231e16",
   "metadata": {},
   "outputs": [
    {
     "data": {
      "text/plain": [
       "24DOF Mechanism{Float64} \"shadowhand_motor\" with 33 frames, 32 joints, 55 coordinates, 82 components"
      ]
     },
     "execution_count": 2,
     "metadata": {},
     "output_type": "execute_result"
    }
   ],
   "source": [
    "using FileIO, UUIDs\n",
    "try\n",
    "    FileIO.add_format(format\"DAE\", (), \".dae\", [:DigitalAssetExchangeFormatIO => UUID(\"43182933-f65b-495a-9e05-4d939cea427d\")])\n",
    "catch\n",
    "end\n",
    "\n",
    "cfg = URDFParserConfig(;suppress_warnings=true) # This is just to hide warnings about unsupported URDF features\n",
    "module_path = joinpath(splitpath(splitdir(pathof(VMRobotControl))[1])[1:end-1])\n",
    "robot = parseURDF(joinpath(module_path, \"URDFs/sr_description/sr_hand_vm_compatible.urdf\"), cfg)"
   ]
  },
  {
   "cell_type": "code",
   "execution_count": 3,
   "id": "642487b3",
   "metadata": {},
   "outputs": [
    {
     "data": {
      "text/plain": [
       "\"rh_thmiddle\""
      ]
     },
     "execution_count": 3,
     "metadata": {},
     "output_type": "execute_result"
    }
   ],
   "source": [
    "add_coordinate!(robot, FrameOrigin(\"rh_fftip\"); id = \"rh_fftip\")\n",
    "add_coordinate!(robot, FrameOrigin(\"rh_ffdistal\"); id=\"rh_ffdistal\")\n",
    "add_coordinate!(robot, FrameOrigin(\"rh_ffmiddle\"); id=\"rh_ffmiddle\")\n",
    "add_coordinate!(robot, FrameOrigin(\"rh_ffproximal\"); id=\"rh_ffproximal\")\n",
    "add_coordinate!(robot, FrameOrigin(\"rh_thtip\"); id = \"rh_thtip\")\n",
    "add_coordinate!(robot, FrameOrigin(\"rh_thdistal\"); id=\"rh_thdistal\")\n",
    "add_coordinate!(robot, FrameOrigin(\"rh_thmiddle\"); id=\"rh_thmiddle\")"
   ]
  },
  {
   "cell_type": "markdown",
   "id": "ca240e4a",
   "metadata": {},
   "source": [
    "### Hand Visualization"
   ]
  },
  {
   "cell_type": "code",
   "execution_count": 16,
   "id": "3125f8ef",
   "metadata": {},
   "outputs": [
    {
     "data": {
      "text/plain": [
       "4×4 Matrix{Float64}:\n",
       " 1.0  0.0  0.0   0.033\n",
       " 0.0  1.0  0.0  -0.01\n",
       " 0.0  0.0  1.0   0.38\n",
       " 0.0  0.0  0.0   1.0"
      ]
     },
     "metadata": {},
     "output_type": "display_data"
    }
   ],
   "source": [
    "# Target transform \n",
    "R = [1.0 0.0 0.0; \n",
    "     0.0 1.0 0.0;\n",
    "     0.0 0.0 1.0]\n",
    "\n",
    "t = [0.033, -0.01, 0.38]  # Example translation vector\n",
    "\n",
    "# Construct the homogeneous transformation matrix\n",
    "T = [R t; 0 0 0 1]\n",
    "\n",
    "display(T)  # Show the matrix"
   ]
  },
  {
   "cell_type": "code",
   "execution_count": 105,
   "id": "6ca708c8",
   "metadata": {},
   "outputs": [
    {
     "data": {
      "text/plain": [
       "GLMakie.Screen(...)"
      ]
     },
     "execution_count": 105,
     "metadata": {},
     "output_type": "execute_result"
    }
   ],
   "source": [
    "# Compile robot model\n",
    "m = compile(robot)\n",
    "kcache = Observable(new_kinematics_cache(m))  # This stores the robot's joint state\n",
    "\n",
    "# Create the figure\n",
    "fig = Figure(size=(800, 600))\n",
    "\n",
    "# Create interactive 3D scene\n",
    "ls = LScene(fig[1, 1]; show_axis=true)  # 3D interactive scene\n",
    "\n",
    "# Attach interactive camera controls\n",
    "cam3d!(ls)  # Enables mouse interaction (rotate, zoom, pan)\n",
    "\n",
    "box_dimensions = [0.02, 0.05, 0.05] \n",
    "# box_position = SVector(0.053, -0.03, 0.37)\n",
    "box_position = SVector(0.042 + box_dimensions[1], -0.03, 0.32+box_dimensions[3])\n",
    "\n",
    "box_visual_dimensions = box_dimensions - 0.004*SVector(1.,1.,1.)\n",
    "box = Rect3f(Point3f(box_position) - Vec3f(box_visual_dimensions), 2*Vec3f(box_visual_dimensions))\n",
    "mesh!(ls, box; color=:magenta, transparency=true)\n",
    "\n",
    "\n",
    "# Plot the robot's visuals\n",
    "robotvisualize!(ls, kcache)\n",
    "display_frame(m, ls, \"rh_ffmiddle\")\n",
    "display_frame(m, ls, \"world\")\n",
    "#display_transform(ls, T)\n",
    "\n",
    "# Display figure\n",
    "display(fig)"
   ]
  },
  {
   "cell_type": "code",
   "execution_count": 152,
   "id": "90fec8f5",
   "metadata": {},
   "outputs": [
    {
     "name": "stdout",
     "output_type": "stream",
     "text": [
      "OrderedCollections.OrderedDict{String, VMRobotControl.MechanismJoint{<:VMRobotControl.AbstractJointData{Float64}, String}} with 32 entries:\n",
      "  \"rh_world_joint\" => MechanismJoint{Rigid{Float64}, String}(Rigid{Float64}(Transform{Float64}([0.0, 0.0, 0.0], Rotor{Float64}(1.0, [0.0, 0.0, 0.0]))), \"world\", \"rh_forearm\")\n",
      "  \"rh_WRJ2\" => MechanismJoint{RevoluteData{Float64}, String}(RevoluteData{Float64}([0.0, 1.0, 0.0], Transform{Float64}([0.0, -0.01, 0.21301], Rotor{Float64}(1.0, [0.0, 0.0, 0.0]))), \"rh_forearm\", \"rh_wrist\")\n",
      "  \"rh_ee_fixed_joint\" => MechanismJoint{Rigid{Float64}, String}(Rigid{Float64}(Transform{Float64}([0.0, 0.0, 0.05], Rotor{Float64}(1.0, [0.0, 0.0, 0.0]))), \"rh_palm\", \"rh_manipulator\")\n",
      "  \"rh_WRJ1\" => MechanismJoint{RevoluteData{Float64}, String}(RevoluteData{Float64}([1.0, 0.0, 0.0], Transform{Float64}([0.0, 0.0, 0.034], Rotor{Float64}(1.0, [0.0, 0.0, 0.0]))), \"rh_wrist\", \"rh_palm\")\n",
      "  \"rh_palm_to_imu\" => MechanismJoint{Rigid{Float64}, String}(Rigid{Float64}(Transform{Float64}([0.01785, 0.00765, 0.049125], Rotor{Float64}(2.31079e-7, [-2.31079e-7, 0.707107, 0.707107]))), \"rh_palm\", \"rh_imu\")\n",
      "  \"rh_FFJ4\" => MechanismJoint{RevoluteData{Float64}, String}(RevoluteData{Float64}([0.0, -1.0, 0.0], Transform{Float64}([0.033, 0.0, 0.095], Rotor{Float64}(1.0, [0.0, 0.0, 0.0]))), \"rh_palm\", \"rh_ffknuckle\")\n",
      "  \"rh_FFJ3\" => MechanismJoint{RevoluteData{Float64}, String}(RevoluteData{Float64}([1.0, 0.0, 0.0], Transform{Float64}([0.0, 0.0, 0.0], Rotor{Float64}(1.0, [0.0, 0.0, 0.0]))), \"rh_ffknuckle\", \"rh_ffproximal\")\n",
      "  \"rh_FFJ2\" => MechanismJoint{RevoluteData{Float64}, String}(RevoluteData{Float64}([1.0, 0.0, 0.0], Transform{Float64}([0.0, 0.0, 0.045], Rotor{Float64}(1.0, [0.0, 0.0, 0.0]))), \"rh_ffproximal\", \"rh_ffmiddle\")\n",
      "  \"rh_FFJ1\" => MechanismJoint{RevoluteData{Float64}, String}(RevoluteData{Float64}([1.0, 0.0, 0.0], Transform{Float64}([0.0, 0.0, 0.025], Rotor{Float64}(1.0, [0.0, 0.0, 0.0]))), \"rh_ffmiddle\", \"rh_ffdistal\")\n",
      "  \"rh_FFtip\" => MechanismJoint{Rigid{Float64}, String}(Rigid{Float64}(Transform{Float64}([0.0, 0.0, 0.026], Rotor{Float64}(1.0, [0.0, 0.0, 0.0]))), \"rh_ffdistal\", \"rh_fftip\")\n",
      "  \"rh_MFJ4\" => MechanismJoint{RevoluteData{Float64}, String}(RevoluteData{Float64}([0.0, -1.0, 0.0], Transform{Float64}([0.011, 0.0, 0.099], Rotor{Float64}(1.0, [0.0, 0.0, 0.0]))), \"rh_palm\", \"rh_mfknuckle\")\n",
      "  \"rh_MFJ3\" => MechanismJoint{RevoluteData{Float64}, String}(RevoluteData{Float64}([1.0, 0.0, 0.0], Transform{Float64}([0.0, 0.0, 0.0], Rotor{Float64}(1.0, [0.0, 0.0, 0.0]))), \"rh_mfknuckle\", \"rh_mfproximal\")\n",
      "  \"rh_MFJ2\" => MechanismJoint{RevoluteData{Float64}, String}(RevoluteData{Float64}([1.0, 0.0, 0.0], Transform{Float64}([0.0, 0.0, 0.045], Rotor{Float64}(1.0, [0.0, 0.0, 0.0]))), \"rh_mfproximal\", \"rh_mfmiddle\")\n",
      "  \"rh_MFJ1\" => MechanismJoint{RevoluteData{Float64}, String}(RevoluteData{Float64}([1.0, 0.0, 0.0], Transform{Float64}([0.0, 0.0, 0.025], Rotor{Float64}(1.0, [0.0, 0.0, 0.0]))), \"rh_mfmiddle\", \"rh_mfdistal\")\n",
      "  \"rh_MFtip\" => MechanismJoint{Rigid{Float64}, String}(Rigid{Float64}(Transform{Float64}([0.0, 0.0, 0.026], Rotor{Float64}(1.0, [0.0, 0.0, 0.0]))), \"rh_mfdistal\", \"rh_mftip\")\n",
      "  \"rh_RFJ4\" => MechanismJoint{RevoluteData{Float64}, String}(RevoluteData{Float64}([0.0, 1.0, 0.0], Transform{Float64}([-0.011, 0.0, 0.095], Rotor{Float64}(1.0, [0.0, 0.0, 0.0]))), \"rh_palm\", \"rh_rfknuckle\")\n",
      "  \"rh_RFJ3\" => MechanismJoint{RevoluteData{Float64}, String}(RevoluteData{Float64}([1.0, 0.0, 0.0], Transform{Float64}([0.0, 0.0, 0.0], Rotor{Float64}(1.0, [0.0, 0.0, 0.0]))), \"rh_rfknuckle\", \"rh_rfproximal\")\n",
      "  \"rh_RFJ2\" => MechanismJoint{RevoluteData{Float64}, String}(RevoluteData{Float64}([1.0, 0.0, 0.0], Transform{Float64}([0.0, 0.0, 0.045], Rotor{Float64}(1.0, [0.0, 0.0, 0.0]))), \"rh_rfproximal\", \"rh_rfmiddle\")\n",
      "  \"rh_RFJ1\" => MechanismJoint{RevoluteData{Float64}, String}(RevoluteData{Float64}([1.0, 0.0, 0.0], Transform{Float64}([0.0, 0.0, 0.025], Rotor{Float64}(1.0, [0.0, 0.0, 0.0]))), \"rh_rfmiddle\", \"rh_rfdistal\")\n",
      "  \"rh_RFtip\" => MechanismJoint{Rigid{Float64}, String}(Rigid{Float64}(Transform{Float64}([0.0, 0.0, 0.026], Rotor{Float64}(1.0, [0.0, 0.0, 0.0]))), \"rh_rfdistal\", \"rh_rftip\")\n",
      "  \"rh_LFJ5\" => MechanismJoint{RevoluteData{Float64}, String}(RevoluteData{Float64}([1.0, 0.0, 0.0], Transform{Float64}([-0.033, 0.0, 0.02071], Rotor{Float64}(0.887018, [0.0, -0.461735, 0.0]))), \"rh_palm\", \"rh_lfmetacarpal\")\n",
      "  \"rh_LFJ4\" => MechanismJoint{RevoluteData{Float64}, String}(RevoluteData{Float64}([0.0, 1.0, 0.0], Transform{Float64}([0.0539727, 0.0, 0.0377946], Rotor{Float64}(0.887018, [0.0, 0.461735, 0.0]))), \"rh_lfmetacarpal\", \"rh_lfknuckle\")\n",
      "  \"rh_LFJ3\" => MechanismJoint{RevoluteData{Float64}, String}(RevoluteData{Float64}([1.0, 0.0, 0.0], Transform{Float64}([0.0, 0.0, 0.0], Rotor{Float64}(1.0, [0.0, 0.0, 0.0]))), \"rh_lfknuckle\", \"rh_lfproximal\")\n",
      "  \"rh_LFJ2\" => MechanismJoint{RevoluteData{Float64}, String}(RevoluteData{Float64}([1.0, 0.0, 0.0], Transform{Float64}([0.0, 0.0, 0.045], Rotor{Float64}(1.0, [0.0, 0.0, 0.0]))), \"rh_lfproximal\", \"rh_lfmiddle\")\n",
      "  \"rh_LFJ1\" => MechanismJoint{RevoluteData{Float64}, String}(RevoluteData{Float64}([1.0, 0.0, 0.0], Transform{Float64}([0.0, 0.0, 0.025], Rotor{Float64}(1.0, [0.0, 0.0, 0.0]))), \"rh_lfmiddle\", \"rh_lfdistal\")\n",
      "  \"rh_LFtip\" => MechanismJoint{Rigid{Float64}, String}(Rigid{Float64}(Transform{Float64}([0.0, 0.0, 0.026], Rotor{Float64}(1.0, [0.0, 0.0, 0.0]))), \"rh_lfdistal\", \"rh_lftip\")\n",
      "  \"rh_THJ5\" => MechanismJoint{RevoluteData{Float64}, String}(RevoluteData{Float64}([0.0, 0.0, -1.0], Transform{Float64}([0.034, -0.00858, 0.029], Rotor{Float64}(0.653281, [-0.270598, 0.270598, -0.653281]))), \"rh_palm\", \"rh_thbase\")\n",
      "  \"rh_THJ4\" => MechanismJoint{RevoluteData{Float64}, String}(RevoluteData{Float64}([0.0, 1.0, 0.0], Transform{Float64}([0.0, 0.0, 0.0], Rotor{Float64}(1.0, [0.0, 0.0, 0.0]))), \"rh_thbase\", \"rh_thproximal\")\n",
      "  \"rh_THJ3\" => MechanismJoint{RevoluteData{Float64}, String}(RevoluteData{Float64}([0.0, 1.0, 0.0], Transform{Float64}([0.0, 0.0, 0.038], Rotor{Float64}(1.0, [0.0, 0.0, 0.0]))), \"rh_thproximal\", \"rh_thhub\")\n",
      "  \"rh_THJ2\" => MechanismJoint{RevoluteData{Float64}, String}(RevoluteData{Float64}([1.0, 0.0, 0.0], Transform{Float64}([0.0, 0.0, 0.0], Rotor{Float64}(1.0, [0.0, 0.0, 0.0]))), \"rh_thhub\", \"rh_thmiddle\")\n",
      "  \"rh_THJ1\" => MechanismJoint{RevoluteData{Float64}, String}(RevoluteData{Float64}([1.0, 0.0, 0.0], Transform{Float64}([0.0, 0.0, 0.032], Rotor{Float64}(1.0, [0.0, 0.0, 0.0]))), \"rh_thmiddle\", \"rh_thdistal\")\n",
      "  \"rh_thtip\" => MechanismJoint{Rigid{Float64}, String}(Rigid{Float64}(Transform{Float64}([0.0, 0.0, 0.0275], Rotor{Float64}(1.0, [0.0, 0.0, 0.0]))), \"rh_thdistal\", \"rh_thtip\")"
     ]
    }
   ],
   "source": [
    "show(IOContext(stdout, :limit => false),  MIME(\"text/plain\"), joints(robot))"
   ]
  },
  {
   "cell_type": "markdown",
   "id": "835745ad",
   "metadata": {},
   "source": [
    "## Creating the Virtual Mechanism System"
   ]
  },
  {
   "cell_type": "markdown",
   "id": "4c3e754e",
   "metadata": {},
   "source": [
    "### Gravity Compensation, Joint Limits and Joint Damping"
   ]
  },
  {
   "cell_type": "code",
   "execution_count": 4,
   "id": "7d60a17e",
   "metadata": {},
   "outputs": [],
   "source": [
    "# GRAVITY COMPENSATION\n",
    "\n",
    "add_gravity_compensation!(robot, VMRobotControl.DEFAULT_GRAVITY)\n",
    "\n",
    "# JOINT DAMPING and LIMIT SPRINGS\n",
    "\n",
    "joint_limits = cfg.joint_limits\n",
    "\n",
    "for joint_id in keys(joints(robot))\n",
    "    limits = joint_limits[joint_id]\n",
    "    isnothing(limits) && continue\n",
    "    add_coordinate!(robot, JointSubspace(joint_id);  id=\"$(joint_id)_coord\")\n",
    "    @assert ~isnothing(limits.lower) && ~isnothing(limits.upper)\n",
    "    add_deadzone_springs!(robot, 0.01, (limits.lower+0.0, limits.upper-0.0), \"$(joint_id)_coord\")\n",
    "    add_component!(robot, LinearDamper(0.0001, \"$(joint_id)_coord\"); id=\"$(joint_id)_damper\")\n",
    "end"
   ]
  },
  {
   "cell_type": "markdown",
   "id": "51f17be5",
   "metadata": {},
   "source": [
    "### Creation of the box prismatic joints"
   ]
  },
  {
   "cell_type": "code",
   "execution_count": 5,
   "id": "afff5a50",
   "metadata": {},
   "outputs": [],
   "source": [
    "vm = Mechanism{Float64}(\"VirtualBox\")\n",
    "\n",
    "# box_position = SVector(0.055, -0.01, 0.37)\n",
    "# box_dimensions = [0.01, 0.05, 0.05] \n",
    "\n",
    "box_dimensions = [0.007, 0.05, 0.05] \n",
    "# box_position = SVector(0.053, -0.03, 0.37)\n",
    "box_position = SVector(0.042 + box_dimensions[1], -0.03, 0.32+box_dimensions[3])\n",
    "\n",
    "\n",
    "# box_position = SVector(0.0, -0.065, 0.32)\n",
    "# box_dimensions = [0.03, 0.02, 0.03]\n",
    "\n",
    "\n",
    "attracted_frames = (\"rh_fftip\", \"rh_ffdistal\", \"rh_ffmiddle\",\"rh_ffproximal\", \"rh_thtip\", \"rh_thdistal\")\n",
    "attracted_frames_names = (\"fftip\", \"ffdistal\", \"ffmiddle\", \"ffprox\", \"thtip\", \"thdistal\")\n",
    "orientation = (-1.0, -1.0, -1.0, -1.0, 1.0, 1.0)\n",
    "\n",
    "\n",
    "for i in 1:length(attracted_frames)\n",
    "    add_frame!(vm; id = \"base_frame_$(attracted_frames_names[i])\")\n",
    "    add_joint!(vm, Rigid(Transform(box_position)); parent=root_frame(vm), child=\"base_frame_$(attracted_frames_names[i])\", id=\"base_joint_$(attracted_frames_names[i])\")\n",
    "    add_frame!(vm; id = \"prism_frame_1_$(attracted_frames_names[i])\")\n",
    "    add_joint!(vm, Prismatic(SVector(0.0,1.0,0.0)); parent=\"base_frame_$(attracted_frames_names[i])\", child=\"prism_frame_1_$(attracted_frames_names[i])\", id=\"prism_joint_1_$(attracted_frames_names[i])\")\n",
    "    add_frame!(vm; id=\"prism_frame_2_$(attracted_frames_names[i])\")\n",
    "    add_joint!(vm, Prismatic(SVector(0.0,0.0,1.0)); parent=\"prism_frame_1_$(attracted_frames_names[i])\", child=\"prism_frame_2_$(attracted_frames_names[i])\", id=\"prism_joint_2_$(attracted_frames_names[i])\")\n",
    "    add_frame!(vm; id=\"ee_frame_$(attracted_frames_names[i])\")\n",
    "    add_joint!(vm, Rigid(Transform(SVector(orientation[i]*box_dimensions[1],0.0,0.0))); parent =\"prism_frame_2_$(attracted_frames_names[i])\", child =\"ee_frame_$(attracted_frames_names[i])\", id = \"rigid_joint_$(attracted_frames_names[i])\")\n",
    "\n",
    "    add_coordinate!(vm, FrameOrigin(\"ee_frame_$(attracted_frames_names[i])\"); id=\"$(attracted_frames_names[i]) ee position\")\n",
    "    add_component!(vm, PointMass(0.01, \"$(attracted_frames_names[i]) ee position\"); id=\"$(attracted_frames_names[i]) ee mass\")\n",
    "\n",
    "\n",
    "    joint_damping = 0.05\n",
    "    add_coordinate!(vm, JointSubspace(\"prism_joint_1_$(attracted_frames_names[i])\"); id=\"prism_joint_1_$(attracted_frames_names[i])\")\n",
    "    add_component!(vm, LinearDamper(joint_damping, \"prism_joint_1_$(attracted_frames_names[i])\"); id=\"prism_joint_1_$(attracted_frames_names[i])_damper\")\n",
    "    add_coordinate!(vm, JointSubspace(\"prism_joint_2_$(attracted_frames_names[i])\"); id=\"prism_joint_2_$(attracted_frames_names[i])\")\n",
    "    add_component!(vm, LinearDamper(joint_damping, \"prism_joint_2_$(attracted_frames_names[i])\"); id=\"prism_joint_2_$(attracted_frames_names[i])_damper\")   \n",
    "\n",
    "    # DEADZONE SPRINGS : CONSTRAINT THE MOTION INSIDE THE BOX\n",
    "    \n",
    "    # margin_factor = 0.8\n",
    "    # deadzone_stiffness = 5.0\n",
    "    # add_deadzone_springs!(vm, deadzone_stiffness, (-box_dimensions[2]*margin_factor, box_dimensions[2]*margin_factor), \"prism_joint_1_$(attracted_frames_names[i])\")\n",
    "    # add_deadzone_springs!(vm, deadzone_stiffness, (-box_dimensions[3]*margin_factor, box_dimensions[3]*margin_factor), \"prism_joint_2_$(attracted_frames_names[i])\")\n",
    "\n",
    "    margin = 0.015\n",
    "    deadzone_stiffness = 5.0\n",
    "    add_deadzone_springs!(vm, deadzone_stiffness, (-box_dimensions[2] + margin, box_dimensions[2] - margin), \"prism_joint_1_$(attracted_frames_names[i])\")\n",
    "    add_deadzone_springs!(vm, deadzone_stiffness, (-box_dimensions[3] + margin, box_dimensions[3] - margin), \"prism_joint_2_$(attracted_frames_names[i])\")\n",
    "end\n",
    "\n",
    "\n",
    "add_gravity_compensation!(vm, VMRobotControl.DEFAULT_GRAVITY)"
   ]
  },
  {
   "cell_type": "markdown",
   "id": "8262e47c",
   "metadata": {},
   "source": [
    "### Addition of the multiples springs/dampers"
   ]
  },
  {
   "cell_type": "markdown",
   "id": "40e005c5",
   "metadata": {},
   "source": [
    "Hand motion"
   ]
  },
  {
   "cell_type": "code",
   "execution_count": 24,
   "id": "acda829b",
   "metadata": {},
   "outputs": [
    {
     "data": {
      "text/plain": [
       "\"th distal y damper\""
      ]
     },
     "execution_count": 24,
     "metadata": {},
     "output_type": "execute_result"
    }
   ],
   "source": [
    "vms = VirtualMechanismSystem(\"myShadowVMS\", robot, vm)\n",
    "\n",
    "D = SMatrix{3, 3}(0.05, 0., 0., 0., 0.05, 0., 0., 0., 0.05)\n",
    "\n",
    "x_stiffnesses = [0.01, 0.01, 0.01, 0.01, 0.05, 0.05]\n",
    "yz_stiffness = 0.1\n",
    "\n",
    "#damping_decay_rate = 161 # 20% of damping at |z| = 0.01\n",
    "damping_decay_rate = 460 # 20% of damping at |z| = 0.005\n",
    "exponential_damping_coeff = 0.1\n",
    "exponential_damping_matrix = SMatrix{3, 3}(exponential_damping_coeff, 0., 0., 0., exponential_damping_coeff, 0., 0., 0., exponential_damping_coeff)\n",
    "\n",
    "# Establishing contact with the box \n",
    "\n",
    "for i in 1:length(attracted_frames)\n",
    "    K = SMatrix{3, 3}(x_stiffnesses[i], 0., 0., 0., yz_stiffness, 0., 0., 0., yz_stiffness)\n",
    "    add_coordinate!(vms, CoordDifference(\".virtual_mechanism.$(attracted_frames_names[i]) ee position\", \".robot.$(attracted_frames[i])\"); id = \"ee $(attracted_frames_names[i]) diff\")\n",
    "    add_component!(vms, LinearSpring(K, \"ee $(attracted_frames_names[i]) diff\"); id = \"ee $(attracted_frames_names[i]) spring\")\n",
    "    add_component!(vms, LinearDamper(D, \"ee $(attracted_frames_names[i]) diff\"); id = \"ee $(attracted_frames_names[i]) damper\")\n",
    "    add_component!(vms, ExponentialDamper(exponential_damping_matrix, \"ee $(attracted_frames_names[i]) diff\", damping_decay_rate); id = \"ee $(attracted_frames_names[i]) exp damper\")\n",
    "end\n",
    "\n",
    "# \"Closing\" the finger ---> connecting the two extremes to the corners of the box\n",
    "K = SMatrix{3, 3}(yz_stiffness, 0., 0., 0., yz_stiffness, 0., 0., 0., yz_stiffness)\n",
    "\n",
    "ext_corner = SVector(box_position[1] - box_dimensions[1], box_position[2] + box_dimensions[2], box_position[3] - box_dimensions[3])\n",
    "add_coordinate!(vms, ConstCoord(ext_corner); id = \"ext corner\")\n",
    "add_coordinate!(vms, CoordDifference(\".virtual_mechanism.ffprox ee position\", \"ext corner\"); id = \"ext corner diff\")\n",
    "add_component!(vms, LinearSpring(K, \"ext corner diff\"); id = \"ext corner spring\")\n",
    "add_component!(vms, LinearDamper(D, \"ext corner diff\"); id = \"ext corner damper\")\n",
    "\n",
    "int_corner = SVector(box_position[1] - box_dimensions[1], box_position[2] - box_dimensions[2], box_position[3] - box_dimensions[3])\n",
    "add_coordinate!(vms, ConstCoord(int_corner); id = \"int corner\")\n",
    "add_coordinate!(vms, CoordDifference(\".virtual_mechanism.fftip ee position\", \"int corner\"); id = \"int corner diff\")\n",
    "add_component!(vms, LinearSpring(K, \"int corner diff\"); id = \"int corner spring\")\n",
    "add_component!(vms, LinearDamper(D, \"int corner diff\"); id = \"int corner damper\")\n",
    "\n",
    "# Thumb push \n",
    "add_coordinate!(vms,  ConstCoord(box_position);  id=\"box position\")\n",
    "add_coordinate!(vms, CoordDifference(\"box position\", \".robot.rh_thdistal\"); id = \"th distal box diff\")\n",
    "add_coordinate!(vms, CoordSlice(\"th distal box diff\", SVector(2)); id = \"th distal y diff\")\n",
    "add_component!(vms, LinearSpring(yz_stiffness, \"th distal y diff\"); id = \"th distal y spring\")\n",
    "add_component!(vms, LinearDamper(0.05, \"th distal y diff\"); id = \"th distal y damper\")"
   ]
  },
  {
   "cell_type": "markdown",
   "id": "2de2b4c2",
   "metadata": {},
   "source": [
    "Box collision model"
   ]
  },
  {
   "cell_type": "code",
   "execution_count": 25,
   "id": "9f713388",
   "metadata": {},
   "outputs": [],
   "source": [
    "add_coordinate!(vms, ConstCoord(box_dimensions[1]); id=\"box dimension 1\")\n",
    "add_coordinate!(vms, ConstCoord(box_dimensions[2]); id=\"box dimension 2\")\n",
    "add_coordinate!(vms, ConstCoord(box_dimensions[3]); id=\"box dimension 3\")\n",
    "\n",
    "repulsed_frames = (\".robot.rh_fftip_mass_coord\", \".robot.rh_ffmiddle_mass_coord\", \".robot.rh_ffproximal_mass_coord\", \".robot.rh_fftip\", \n",
    "                    \".robot.rh_ffmiddle\", \".robot.rh_ffproximal\", \".robot.rh_thtip\", \".robot.rh_thdistal\", \".robot.rh_thdistal_mass_coord\", \n",
    "                    \".robot.rh_thproximal_mass_coord\", \".robot.rh_thmiddle\")\n",
    "frames_names = (\"fftip_mass\", \"ffmiddle_mass\", \"ffprox_mass\", \"fftip\", \"ffmiddle\", \"ffprox\", \"thtip\", \"thdistal\", \"thdistal_mass\", \"thproximal_mass\", \"thmiddle\")\n",
    "\n",
    "for i in 1:length(repulsed_frames)\n",
    "    frame = repulsed_frames[i]\n",
    "    add_coordinate!(vms, CoordDifference(frame, \"box position\") ; id = \"$(frames_names[i]) box diff\" )\n",
    "    for j in 1:3\n",
    "        add_coordinate!(vms, CoordSlice(\"$(frames_names[i]) box diff\", SVector(j)); id = \"$(frames_names[i]) box diff dimension $(j)\")\n",
    "        add_coordinate!(vms, CoordNorm(\"$(frames_names[i]) box diff dimension $(j)\"); id = \"$(frames_names[i]) box norm dimension $(j)\")\n",
    "        add_coordinate!(vms, CoordDifference(\"$(frames_names[i]) box norm dimension $(j)\",\"box dimension $(j)\"); id = \"shifted $(frames_names[i]) box norm dimension $(j)\")\n",
    "\n",
    "        add_component!(vms, ReLUSpring(0.0, \"shifted $(frames_names[i]) box norm dimension $(j)\", true); id=\"$(frames_names[i]) dimension $(j) repulsive spring\")\n",
    "        add_component!(vms, RectifiedDamper(0.0, \"$(frames_names[i]) box norm dimension $(j)\", (0.0, 1.1*box_dimensions[j]), true, false); id=\"$(frames_names[i]) dimension $(j) damper\")\n",
    "    end\n",
    "end"
   ]
  },
  {
   "cell_type": "markdown",
   "id": "49bfb7e6",
   "metadata": {},
   "source": [
    "## Simulating the Robot"
   ]
  },
  {
   "cell_type": "markdown",
   "id": "67449b43",
   "metadata": {},
   "source": [
    "### Setting Up the Simulation"
   ]
  },
  {
   "cell_type": "code",
   "execution_count": 26,
   "id": "ae81ef5e",
   "metadata": {},
   "outputs": [
    {
     "name": "stderr",
     "output_type": "stream",
     "text": [
      "\u001b[36m\u001b[1m[ \u001b[22m\u001b[39m\u001b[36m\u001b[1mInfo: \u001b[22m\u001b[39mSimulating shadow robot with box object centric motion\n",
      "\u001b[32mODE   0%|█                                              |  ETA: N/A\u001b[39m\n",
      "\u001b[90mODE 100%|███████████████████████████████████████████████| Time: 0:00:02\u001b[39m\n"
     ]
    }
   ],
   "source": [
    "using Logging: global_logger\n",
    "using TerminalLoggers: TerminalLogger\n",
    "global_logger(TerminalLogger())\n",
    "\n",
    "function setup_box_collision_model(cache, repulsed_frames, frames_names)\n",
    "    repulsed_frames_coord_ID = []\n",
    "    repulsive_springs_damper_ID = []\n",
    "    for i in 1:length(repulsed_frames)\n",
    "        frame = repulsed_frames[i]\n",
    "        push!(repulsed_frames_coord_ID, get_compiled_coordID(cache, frame))\n",
    "        frame_springs_dampers_vec = []\n",
    "        for j in 1:3\n",
    "            push!(frame_springs_dampers_vec, get_compiled_componentID(cache, \"$(frames_names[i]) dimension $(j) repulsive spring\"))\n",
    "            push!(frame_springs_dampers_vec, get_compiled_componentID(cache, \"$(frames_names[i]) dimension $(j) damper\"))\n",
    "        end\n",
    "        push!(repulsive_springs_damper_ID, frame_springs_dampers_vec)\n",
    "    end\n",
    "\n",
    "    return box_position, box_dimensions, repulsed_frames_coord_ID, repulsive_springs_damper_ID\n",
    "end\n",
    "\n",
    "function update_box_collision_model(cache, collision_args)\n",
    "    box_position, box_dimensions, repulsed_frames_coord_ID, repulsive_springs_damper_ID = collision_args\n",
    "    margin = 0.001\n",
    "    for i in 1:length(repulsed_frames_coord_ID)\n",
    "        frame_pos = configuration(cache, repulsed_frames_coord_ID[i])\n",
    "        for j in 1:3\n",
    "            # get the indices different from j\n",
    "            others = filter(x -> x ≠ j, 1:3) \n",
    "            #Check if the position of the frame is inside \"the field of action\" of the spring\n",
    "            if abs(frame_pos[others[1]] - box_position[others[1]]) < (box_dimensions[others[1]]-margin) && abs(frame_pos[others[2]] - box_position[others[2]]) < (box_dimensions[others[2]]-margin)\n",
    "                cache[repulsive_springs_damper_ID[i][2*j-1]] = remake(cache[repulsive_springs_damper_ID[i][2*j-1]] ; stiffness = 5.0)\n",
    "                cache[repulsive_springs_damper_ID[i][2*j]] = remake(cache[repulsive_springs_damper_ID[i][2*j]] ; damping = 5.0)          \n",
    "            else\n",
    "                cache[repulsive_springs_damper_ID[i][2*j-1]] = remake(cache[repulsive_springs_damper_ID[i][2*j-1]] ; stiffness = 0.0)\n",
    "                cache[repulsive_springs_damper_ID[i][2*j]] = remake(cache[repulsive_springs_damper_ID[i][2*j]] ; damping = 0.0)\n",
    "            end\n",
    "        end\n",
    "    end\n",
    "end\n",
    "\n",
    "function f_setup(cache)\n",
    "\n",
    "    box_collision_args = setup_box_collision_model(cache, repulsed_frames, frames_names)\n",
    "    return box_collision_args\n",
    "    \n",
    "end\n",
    "\n",
    "function f_control(cache, t, args, extra)\n",
    "    \n",
    "    collision_args = args \n",
    "    update_box_collision_model(cache, collision_args)\n",
    "\n",
    "end\n",
    "\n",
    "tspan = (0., 15.)\n",
    "vms_compiled = compile(vms)\n",
    "\n",
    "q_init = generate_q_init(vms_compiled; mf=true, rf=true, lf=true)\n",
    "q_init[23] = -0.7\n",
    "q_init[24] = -0.26\n",
    "\n",
    "q = (q_init, zero_q(vms_compiled.virtual_mechanism)) # Robot joint angle, vm joint angles\n",
    "q̇ = (zero_q̇(vms_compiled.robot), zero_q̇(vms_compiled.virtual_mechanism)) # Robot joint velocity, vm joint velocities\n",
    "\n",
    "g = VMRobotControl.DEFAULT_GRAVITY\n",
    "dcache = new_dynamics_cache(vms_compiled)\n",
    "prob = get_ode_problem(dcache, g, q, q̇, tspan; f_setup, f_control)\n",
    "@info \"Simulating shadow robot with box object centric motion\"\n",
    "\n",
    "sol = solve(prob, Rosenbrock23(autodiff=false), progress=true; maxiters=1e6, abstol=1e-3, reltol=1e-3);"
   ]
  },
  {
   "cell_type": "code",
   "execution_count": 27,
   "id": "244f2207",
   "metadata": {},
   "outputs": [],
   "source": [
    "fig = Figure(; size=(720, 720), figure_padding=0)\n",
    "display(fig)\n",
    "ls = LScene(fig[1, 1]; show_axis=false)\n",
    "cam = cam3d!(ls; center=true)\n",
    "cam.lookat[] = [0.025, 0., 0.24]\n",
    "cam.eyeposition[] = [-0.0, -0.2, 0.37]\n",
    "\n",
    "plotting_t = Observable(0.0)\n",
    "plotting_kcache = Observable(new_kinematics_cache(compile(vms)))\n",
    "\n",
    "robotvisualize!(ls, plotting_kcache)\n",
    "\n",
    "box_visual_dimensions = box_dimensions - 0.004*SVector(1.,1.,1.)\n",
    "box = Rect3f(Point3f(box_position) - Vec3f(box_visual_dimensions), 2*Vec3f(box_visual_dimensions))\n",
    "mesh!(ls, box; color=:magenta, transparency=true)\n",
    "\n",
    "plotting_vm_kcache = map(plotting_kcache) do k\n",
    "    VMRobotControl.virtual_mechanism_cache(k)\n",
    "end\n",
    "robotsketch!(ls, plotting_vm_kcache; scale = 0.01)\n",
    "\n",
    "\n",
    "savepath = joinpath(module_path, \"docs/src/assets/shadowhand_object_centric_box_.mp4\")\n",
    "display(fig)\n",
    "animate_robot_odesolution(fig, sol, plotting_kcache, savepath; t=plotting_t);"
   ]
  }
 ],
 "metadata": {
  "kernelspec": {
   "display_name": "Julia 1.9.3",
   "language": "julia",
   "name": "julia-1.9"
  },
  "language_info": {
   "file_extension": ".jl",
   "mimetype": "application/julia",
   "name": "julia",
   "version": "1.9.3"
  }
 },
 "nbformat": 4,
 "nbformat_minor": 5
}
