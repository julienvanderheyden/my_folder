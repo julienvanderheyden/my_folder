{
 "cells": [
  {
   "cell_type": "code",
   "execution_count": 1,
   "metadata": {},
   "outputs": [
    {
     "data": {
      "text/plain": [
       "generate_q_init (generic function with 1 method)"
      ]
     },
     "execution_count": 1,
     "metadata": {},
     "output_type": "execute_result"
    }
   ],
   "source": [
    "using Revise\n",
    "using GeometryBasics: Vec3f, Point3f, Cylinder\n",
    "using LinearAlgebra\n",
    "using GLMakie\n",
    "using StaticArrays\n",
    "using VMRobotControl\n",
    "using VMRobotControl.Splines: CubicSpline\n",
    "using DifferentialEquations\n",
    "using MeshIO\n",
    "using Logging: global_logger\n",
    "using TerminalLoggers: TerminalLogger\n",
    "global_logger(TerminalLogger())\n",
    "\n",
    "include(\"../functions.jl\")"
   ]
  },
  {
   "cell_type": "markdown",
   "metadata": {},
   "source": [
    "## Importing ShadowHand URDF"
   ]
  },
  {
   "cell_type": "markdown",
   "metadata": {},
   "source": [
    "### URDF Parsing"
   ]
  },
  {
   "cell_type": "code",
   "execution_count": 2,
   "metadata": {},
   "outputs": [
    {
     "data": {
      "text/plain": [
       "24DOF Mechanism{Float64} \"shadowhand_motor\" with 33 frames, 32 joints, 55 coordinates, 82 components"
      ]
     },
     "execution_count": 2,
     "metadata": {},
     "output_type": "execute_result"
    }
   ],
   "source": [
    "using FileIO, UUIDs\n",
    "try\n",
    "    FileIO.add_format(format\"DAE\", (), \".dae\", [:DigitalAssetExchangeFormatIO => UUID(\"43182933-f65b-495a-9e05-4d939cea427d\")])\n",
    "catch\n",
    "end\n",
    "\n",
    "cfg = URDFParserConfig(;suppress_warnings=true) # This is just to hide warnings about unsupported URDF features\n",
    "module_path = joinpath(splitpath(splitdir(pathof(VMRobotControl))[1])[1:end-1])\n",
    "robot = parseURDF(joinpath(module_path, \"URDFs/sr_description/sr_hand_vm_compatible.urdf\"), cfg)"
   ]
  },
  {
   "cell_type": "markdown",
   "metadata": {},
   "source": [
    "### Hand Visualization"
   ]
  },
  {
   "cell_type": "code",
   "execution_count": 5,
   "metadata": {},
   "outputs": [
    {
     "data": {
      "text/plain": [
       "4×4 Matrix{Float64}:\n",
       " 1.0  0.0  0.0   0.0\n",
       " 0.0  1.0  0.0  -0.01\n",
       " 0.0  0.0  1.0   0.31701\n",
       " 0.0  0.0  0.0   1.0"
      ]
     },
     "metadata": {},
     "output_type": "display_data"
    }
   ],
   "source": [
    "# Target transform \n",
    "R = [1.0 0.0 0.0; \n",
    "     0.0 1.0 0.0;\n",
    "     0.0 0.0 1.0]\n",
    "\n",
    "t = [0.00, -0.01, 0.31701]  # Example translation vector\n",
    "\n",
    "# Construct the homogeneous transformation matrix\n",
    "T = [R t; 0 0 0 1]\n",
    "\n",
    "display(T)  # Show the matrix"
   ]
  },
  {
   "cell_type": "code",
   "execution_count": 42,
   "metadata": {},
   "outputs": [
    {
     "data": {
      "text/plain": [
       "GLMakie.Screen(...)"
      ]
     },
     "execution_count": 42,
     "metadata": {},
     "output_type": "execute_result"
    }
   ],
   "source": [
    "# Compile robot model\n",
    "m = compile(robot)\n",
    "kcache = Observable(new_kinematics_cache(m))  # This stores the robot's joint state\n",
    "\n",
    "# Create the figure\n",
    "fig = Figure(size=(800, 600))\n",
    "\n",
    "# Create interactive 3D scene\n",
    "ls = LScene(fig[1, 1]; show_axis=true)  # 3D interactive scene\n",
    "\n",
    "# Attach interactive camera controls\n",
    "cam3d!(ls)  # Enables mouse interaction (rotate, zoom, pan)\n",
    "\n",
    "# Plot the robot's visuals\n",
    "robotvisualize!(ls, kcache)\n",
    "display_frame(m, ls, \"world\")\n",
    "#display_transform(ls, T)\n",
    "\n",
    "# Display figure\n",
    "display(fig)"
   ]
  },
  {
   "cell_type": "code",
   "execution_count": 215,
   "metadata": {},
   "outputs": [
    {
     "name": "stdout",
     "output_type": "stream",
     "text": [
      "Dict{String, VMRobotControl.CoordinateData} with 55 entries:\n",
      "  \"rh_lfdistal_mass_coord\" => FramePoint{Float64, String}(rh_lfdistal, [0.0, 0.0, 0.012])\n",
      "  \"rh_rfdistal_mass_coord\" => FramePoint{Float64, String}(rh_rfdistal, [0.0, 0.0, 0.012])\n",
      "  \"rh_thdistal_mass_coord\" => FramePoint{Float64, String}(rh_thdistal, [0.0, 0.0, 0.01375])\n",
      "  \"rh_rftip_mass_coord\" => FrameOrigin{String}(rh_rftip)\n",
      "  \"rh_palm_mass_coord\" => FramePoint{Float64, String}(rh_palm, [0.0, 0.0, 0.035])\n",
      "  \"rh_rfknuckle_mass_coord\" => FrameOrigin{String}(rh_rfknuckle)\n",
      "  \"rh_wrist_mass_coord\" => FramePoint{Float64, String}(rh_wrist, [0.0, 0.0, 0.029])\n",
      "  \"rh_ffdistal_inertia_coord\" => FrameAngularVelocity{String}(\"rh_ffdistal\")\n",
      "  \"rh_thhub_mass_coord\" => FrameOrigin{String}(rh_thhub)\n",
      "  \"rh_rfmiddle_mass_coord\" => FramePoint{Float64, String}(rh_rfmiddle, [0.0, 0.0, 0.0125])\n",
      "  \"rh_mftip_mass_coord\" => FrameOrigin{String}(rh_mftip)\n",
      "  \"rh_ffdistal_mass_coord\" => FramePoint{Float64, String}(rh_ffdistal, [0.0, 0.0, 0.012])\n",
      "  \"rh_mfknuckle_mass_coord\" => FrameOrigin{String}(rh_mfknuckle)\n",
      "  \"rh_lfmiddle_mass_coord\" => FramePoint{Float64, String}(rh_lfmiddle, [0.0, 0.0, 0.0125])\n",
      "  \"rh_forearm_inertia_coord\" => FrameAngularVelocity{String}(\"rh_forearm\")\n",
      "  \"rh_rfmiddle_inertia_coord\" => FrameAngularVelocity{String}(\"rh_rfmiddle\")\n",
      "  \"rh_ffknuckle_inertia_coord\" => FrameAngularVelocity{String}(\"rh_ffknuckle\")\n",
      "  \"rh_thmiddle_mass_coord\" => FramePoint{Float64, String}(rh_thmiddle, [0.0, 0.0, 0.016])\n",
      "  \"rh_lfproximal_inertia_coord\" => FrameAngularVelocity{String}(\"rh_lfproximal\")\n",
      "  \"rh_wrist_inertia_coord\" => FrameAngularVelocity{String}(\"rh_wrist\")\n",
      "  \"rh_thbase_mass_coord\" => FrameOrigin{String}(rh_thbase)\n",
      "  \"rh_lfproximal_mass_coord\" => FramePoint{Float64, String}(rh_lfproximal, [0.0, 0.0, 0.0225])\n",
      "  \"rh_mfmiddle_inertia_coord\" => FrameAngularVelocity{String}(\"rh_mfmiddle\")\n",
      "  \"rh_ffproximal_inertia_coord\" => FrameAngularVelocity{String}(\"rh_ffproximal\")\n",
      "  \"rh_thproximal_inertia_coord\" => FrameAngularVelocity{String}(\"rh_thproximal\")\n",
      "  \"rh_thbase_inertia_coord\" => FrameAngularVelocity{String}(\"rh_thbase\")\n",
      "  \"rh_mfknuckle_inertia_coord\" => FrameAngularVelocity{String}(\"rh_mfknuckle\")\n",
      "  \"rh_thdistal_inertia_coord\" => FrameAngularVelocity{String}(\"rh_thdistal\")\n",
      "  \"rh_ffmiddle_mass_coord\" => FramePoint{Float64, String}(rh_ffmiddle, [0.0, 0.0, 0.0125])\n",
      "  \"rh_thtip_mass_coord\" => FrameOrigin{String}(rh_thtip)\n",
      "  \"rh_mfproximal_inertia_coord\" => FrameAngularVelocity{String}(\"rh_mfproximal\")\n",
      "  \"rh_thhub_inertia_coord\" => FrameAngularVelocity{String}(\"rh_thhub\")\n",
      "  \"rh_thmiddle_inertia_coord\" => FrameAngularVelocity{String}(\"rh_thmiddle\")\n",
      "  \"rh_palm_inertia_coord\" => FrameAngularVelocity{String}(\"rh_palm\")\n",
      "  \"rh_mfmiddle_mass_coord\" => FramePoint{Float64, String}(rh_mfmiddle, [0.0, 0.0, 0.0125])\n",
      "  \"rh_fftip_mass_coord\" => FrameOrigin{String}(rh_fftip)\n",
      "  \"rh_rfproximal_inertia_coord\" => FrameAngularVelocity{String}(\"rh_rfproximal\")\n",
      "  \"rh_rfknuckle_inertia_coord\" => FrameAngularVelocity{String}(\"rh_rfknuckle\")\n",
      "  \"rh_lfknuckle_inertia_coord\" => FrameAngularVelocity{String}(\"rh_lfknuckle\")\n",
      "  \"rh_lfmetacarpal_mass_coord\" => FramePoint{Float64, String}(rh_lfmetacarpal, [0.03174867647058824, 0.0, 0.02235294117647059])\n",
      "  \"rh_lfmetacarpal_inertia_coord\" => FrameAngularVelocity{String}(\"rh_lfmetacarpal\")\n",
      "  \"rh_ffproximal_mass_coord\" => FramePoint{Float64, String}(rh_ffproximal, [0.0, 0.0, 0.0225])\n",
      "  \"rh_lfmiddle_inertia_coord\" => FrameAngularVelocity{String}(\"rh_lfmiddle\")\n",
      "  \"rh_rfproximal_mass_coord\" => FramePoint{Float64, String}(rh_rfproximal, [0.0, 0.0, 0.0225])\n",
      "  \"rh_ffmiddle_inertia_coord\" => FrameAngularVelocity{String}(\"rh_ffmiddle\")\n",
      "  \"rh_lftip_mass_coord\" => FrameOrigin{String}(rh_lftip)\n",
      "  \"rh_rfdistal_inertia_coord\" => FrameAngularVelocity{String}(\"rh_rfdistal\")\n",
      "  \"rh_forearm_mass_coord\" => FramePoint{Float64, String}(rh_forearm, [0.0, 0.0, 0.09])\n",
      "  \"rh_mfproximal_mass_coord\" => FramePoint{Float64, String}(rh_mfproximal, [0.0, 0.0, 0.0225])\n",
      "  \"rh_mfdistal_inertia_coord\" => FrameAngularVelocity{String}(\"rh_mfdistal\")\n",
      "  \"rh_thproximal_mass_coord\" => FramePoint{Float64, String}(rh_thproximal, [0.0, 0.0, 0.019])\n",
      "  \"rh_lfknuckle_mass_coord\" => FrameOrigin{String}(rh_lfknuckle)\n",
      "  \"rh_mfdistal_mass_coord\" => FramePoint{Float64, String}(rh_mfdistal, [0.0, 0.0, 0.012])\n",
      "  \"rh_lfdistal_inertia_coord\" => FrameAngularVelocity{String}(\"rh_lfdistal\")\n",
      "  \"rh_ffknuckle_mass_coord\" => FrameOrigin{String}(rh_ffknuckle)"
     ]
    }
   ],
   "source": [
    "show(IOContext(stdout, :limit => false),  MIME(\"text/plain\"), coordinates(robot))"
   ]
  },
  {
   "cell_type": "markdown",
   "metadata": {},
   "source": [
    "## Creating the Virtual Mechanism System"
   ]
  },
  {
   "cell_type": "markdown",
   "metadata": {},
   "source": [
    "### Gravity Compensation, Joint Limits and Joint Damping"
   ]
  },
  {
   "cell_type": "code",
   "execution_count": 3,
   "metadata": {},
   "outputs": [],
   "source": [
    "# GRAVITY COMPENSATION\n",
    "\n",
    "add_gravity_compensation!(robot, VMRobotControl.DEFAULT_GRAVITY)\n",
    "\n",
    "# JOINT DAMPING and LIMIT SPRINGS\n",
    "\n",
    "joint_limits = cfg.joint_limits\n",
    "\n",
    "for joint_id in keys(joints(robot))\n",
    "    limits = joint_limits[joint_id]\n",
    "    isnothing(limits) && continue\n",
    "    add_coordinate!(robot, JointSubspace(joint_id);  id=\"$(joint_id)_coord\")\n",
    "    @assert ~isnothing(limits.lower) && ~isnothing(limits.upper)\n",
    "    add_deadzone_springs!(robot, 50.0, (limits.lower+0.1, limits.upper-0.1), \"$(joint_id)_coord\")\n",
    "    add_component!(robot, LinearDamper(0.01, \"$(joint_id)_coord\"); id=\"$(joint_id)_damper\")\n",
    "end"
   ]
  },
  {
   "cell_type": "markdown",
   "metadata": {},
   "source": [
    "### Addition of the multiples springs/dampers"
   ]
  },
  {
   "cell_type": "markdown",
   "metadata": {},
   "source": [
    "Virtual Mechanism system"
   ]
  },
  {
   "cell_type": "code",
   "execution_count": 4,
   "metadata": {},
   "outputs": [
    {
     "data": {
      "text/plain": [
       "\"world\""
      ]
     },
     "execution_count": 4,
     "metadata": {},
     "output_type": "execute_result"
    }
   ],
   "source": [
    "vms = VirtualMechanismSystem(\"myShadowVMS\", robot)\n",
    "root = root_frame(vms.robot)"
   ]
  },
  {
   "cell_type": "markdown",
   "metadata": {},
   "source": [
    "Repulsive cylinder"
   ]
  },
  {
   "cell_type": "code",
   "execution_count": 5,
   "metadata": {},
   "outputs": [],
   "source": [
    "cylinder_radius = 0.025\n",
    "cylinder_length = 0.2\n",
    "cylinder_position = SVector(0.0, -0.045, 0.32)\n",
    "\n",
    "add_coordinate!(vms,  ConstCoord(cylinder_position);  id=\"cylinder position\")\n",
    "add_coordinate!(vms, ConstCoord(cylinder_radius); id=\"cylinder radius\")\n",
    "\n",
    "add_coordinate!(vms, FramePoint(\".robot.rh_palm\", SVector(0. , 0., 0.07)); id=\"second palm point\")\n",
    "\n",
    "repulsed_frames = (\".robot.rh_fftip_mass_coord\", \".robot.rh_mftip_mass_coord\", \".robot.rh_rftip_mass_coord\",\".robot.rh_lftip_mass_coord\" , \n",
    "                    \".robot.rh_thtip_mass_coord\", \".robot.rh_ffmiddle_mass_coord\",\".robot.rh_mfmiddle_mass_coord\", \".robot.rh_rfmiddle_mass_coord\",\n",
    "                    \".robot.rh_lfmiddle_mass_coord\",  \".robot.rh_thmiddle_mass_coord\", \".robot.rh_ffproximal_mass_coord\", \".robot.rh_mfproximal_mass_coord\",\n",
    "                    \".robot.rh_rfproximal_mass_coord\", \".robot.rh_lfproximal_mass_coord\", \".robot.rh_thproximal_mass_coord\", \".robot.rh_palm_mass_coord\", \"second palm point\")\n",
    "frames_names = (\"fftip\", \"mftip\", \"rftip\", \"lftip\", \"thtip\", \"ffmiddle\", \"mfmiddle\", \"rfmiddle\", \"lfmiddle\", \"thmiddle\", \"ffprox\", \n",
    "                \"mfprox\", \"rfprox\", \"lfprox\", \"thprox\", \"palm\", \"palm2\")\n",
    "\n",
    "for i in 1:length(repulsed_frames)\n",
    "    frame = repulsed_frames[i]\n",
    "    add_coordinate!(vms, CoordDifference(frame, \"cylinder position\") ; id = \"$(frames_names[i]) cylinder diff\" )\n",
    "    add_coordinate!(vms, CoordSlice(\"$(frames_names[i]) cylinder diff\", SVector(2,3)); id=\"$(frames_names[i]) planar error\")\n",
    "    add_coordinate!(vms, CoordNorm(\"$(frames_names[i]) planar error\") ; id = \"$(frames_names[i]) planar error norm\")\n",
    "    add_coordinate!(vms, CoordDifference(\"$(frames_names[i]) planar error norm\", \"cylinder radius\"); id = \"shifted $(frames_names[i]) cylinder error\" )\n",
    "\n",
    "    add_component!(vms, ReLUSpring(1000.0, \"shifted $(frames_names[i]) cylinder error\", true); id=\"$(frames_names[i]) cylinder repulsive spring\")\n",
    "    add_component!(vms, RectifiedDamper(100.0, \"$(frames_names[i]) planar error norm\", (0.0, 1.1*cylinder_radius), true, false); id=\"$(frames_names[i]) cylinder damper\")\n",
    "end"
   ]
  },
  {
   "cell_type": "markdown",
   "metadata": {},
   "source": [
    "Hand motion"
   ]
  },
  {
   "cell_type": "code",
   "execution_count": 6,
   "metadata": {},
   "outputs": [
    {
     "data": {
      "text/plain": [
       "\"th damper\""
      ]
     },
     "execution_count": 6,
     "metadata": {},
     "output_type": "execute_result"
    }
   ],
   "source": [
    "# TARGET REACHING\n",
    "add_coordinate!(vms,  ConstCoord(cylinder_position);  id=\"Target position\")\n",
    "\n",
    "add_coordinate!(vms, CoordDifference(\".robot.rh_fftip_mass_coord\", \"Target position\"); id=\"ff position error\")\n",
    "add_coordinate!(vms, CoordDifference(\".robot.rh_mftip_mass_coord\", \"Target position\"); id=\"mf position error\")\n",
    "add_coordinate!(vms, CoordDifference(\".robot.rh_rftip_mass_coord\", \"Target position\"); id=\"rf position error\")\n",
    "add_coordinate!(vms, CoordDifference(\".robot.rh_lftip_mass_coord\", \"Target position\"); id=\"lf position error\")\n",
    "add_coordinate!(vms, CoordDifference(\".robot.rh_thtip_mass_coord\", \"Target position\"); id=\"th position error\")\n",
    "\n",
    "K_matrix = SMatrix{3, 3}(10., 0., 0., 0., 10., 0., 0., 0., 10.)\n",
    "D_matrix = SMatrix{3, 3}(10., 0., 0., 0., 10., 0., 0., 0., 10.)\n",
    "\n",
    "add_component!(vms, LinearSpring(K_matrix, \"ff position error\"); id=\"ff spring\")\n",
    "add_component!(vms, LinearDamper(D_matrix, \"ff position error\"); id=\"ff damper\")\n",
    "\n",
    "add_component!(vms, LinearSpring(K_matrix, \"mf position error\"); id=\"mf spring\")\n",
    "add_component!(vms, LinearDamper(D_matrix, \"mf position error\"); id=\"mf damper\")\n",
    "\n",
    "add_component!(vms, LinearSpring(K_matrix, \"rf position error\"); id=\"rf spring\")\n",
    "add_component!(vms, LinearDamper(D_matrix, \"rf position error\"); id=\"rf damper\")\n",
    "\n",
    "add_component!(vms, LinearSpring(K_matrix, \"lf position error\"); id=\"lf spring\")\n",
    "add_component!(vms, LinearDamper(D_matrix, \"lf position error\"); id=\"lf damper\")\n",
    "\n",
    "add_component!(vms, LinearSpring(K_matrix, \"th position error\"); id=\"th spring\")\n",
    "add_component!(vms, LinearDamper(D_matrix, \"th position error\"); id=\"th damper\")"
   ]
  },
  {
   "cell_type": "markdown",
   "metadata": {},
   "source": [
    "## Simulating the Robot"
   ]
  },
  {
   "cell_type": "markdown",
   "metadata": {},
   "source": [
    "### Setting Up the Simulation"
   ]
  },
  {
   "cell_type": "code",
   "execution_count": 7,
   "metadata": {},
   "outputs": [
    {
     "name": "stderr",
     "output_type": "stream",
     "text": [
      "\u001b[36m\u001b[1m[ \u001b[22m\u001b[39m\u001b[36m\u001b[1mInfo: \u001b[22m\u001b[39mSimulating shadow robot with repulsive cylinder\n",
      "\u001b[32mODE   0%|█                                              |  ETA: N/A\u001b[39m\n",
      "\u001b[32mODE  23%|███████████                                    |  ETA: 0:00:33\u001b[39m\n",
      "\u001b[32mODE  80%|██████████████████████████████████████         |  ETA: 0:00:05\u001b[39m\n",
      "\u001b[90mODE 100%|███████████████████████████████████████████████| Time: 0:00:21\u001b[39m\n"
     ]
    }
   ],
   "source": [
    "tspan = (0., 4.)\n",
    "vms_compiled = compile(vms)\n",
    "\n",
    "q = (zero_q(vms_compiled.robot), zero_q(vms_compiled.virtual_mechanism)) # Robot joint angle, vm joint angles\n",
    "q̇ = (zero_q̇(vms_compiled.robot), zero_q̇(vms_compiled.virtual_mechanism)) # Robot joint velocity, vm joint velocities\n",
    "\n",
    "g = VMRobotControl.DEFAULT_GRAVITY\n",
    "dcache = new_dynamics_cache(vms_compiled)\n",
    "prob = get_ode_problem(dcache, g, q, q̇, tspan)\n",
    "@info \"Simulating shadow robot with repulsive cylinder\"\n",
    "\n",
    "sol = solve(prob, Rosenbrock23(autodiff=false), progress=true; maxiters=1e6, abstol=1e-5, reltol=1e-5);"
   ]
  },
  {
   "cell_type": "markdown",
   "metadata": {},
   "source": [
    "### Visualizing the Results"
   ]
  },
  {
   "cell_type": "code",
   "execution_count": 9,
   "metadata": {},
   "outputs": [],
   "source": [
    "fig = Figure(; size=(720, 720), figure_padding=0)\n",
    "display(fig)\n",
    "ls = LScene(fig[1, 1]; show_axis=false)\n",
    "cam = cam3d!(ls; center=true)\n",
    "cam.lookat[] = [0.025, 0., 0.24]\n",
    "cam.eyeposition[] = [0.25, -0.6, 0.62]\n",
    "\n",
    "plotting_t = Observable(0.0)\n",
    "plotting_kcache = Observable(new_kinematics_cache(compile(vms)))\n",
    "\n",
    "\n",
    "robotvisualize!(ls, plotting_kcache)\n",
    "\n",
    "X = SVector(1., 0., 0.)\n",
    "cylinder = Cylinder(Point3f(cylinder_position + (cylinder_length/2)*X), Point3f(cylinder_position - (cylinder_length/2)*X), cylinder_radius)\n",
    "mesh!(ls, cylinder; color=:magenta, transparency=true)\n",
    "\n",
    "\n",
    "savepath = joinpath(module_path, \"docs/src/assets/shadowhand_cylinder_collision_model.mp4\")\n",
    "display(fig)\n",
    "animate_robot_odesolution(fig, sol, plotting_kcache, savepath; t=plotting_t);"
   ]
  }
 ],
 "metadata": {
  "kernelspec": {
   "display_name": "Julia 1.9.3",
   "language": "julia",
   "name": "julia-1.9"
  },
  "language_info": {
   "file_extension": ".jl",
   "mimetype": "application/julia",
   "name": "julia",
   "version": "1.9.3"
  }
 },
 "nbformat": 4,
 "nbformat_minor": 2
}
