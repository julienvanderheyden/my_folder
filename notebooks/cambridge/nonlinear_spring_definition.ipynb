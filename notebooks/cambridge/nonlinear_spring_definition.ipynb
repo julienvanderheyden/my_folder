{
 "cells": [
  {
   "cell_type": "code",
   "execution_count": 212,
   "metadata": {},
   "outputs": [
    {
     "data": {
      "text/plain": [
       "display_transform (generic function with 1 method)"
      ]
     },
     "execution_count": 212,
     "metadata": {},
     "output_type": "execute_result"
    }
   ],
   "source": [
    "using Revise\n",
    "using GeometryBasics: Vec3f, Point3f\n",
    "using LinearAlgebra\n",
    "using GLMakie\n",
    "using StaticArrays\n",
    "using VMRobotControl\n",
    "using DifferentialEquations\n",
    "using MeshIO\n",
    "\n",
    "using VMRobotControl: remake\n",
    "include(\"functions.jl\")"
   ]
  },
  {
   "cell_type": "markdown",
   "metadata": {},
   "source": [
    "## Creating a simple mechanism for test purposes"
   ]
  },
  {
   "cell_type": "code",
   "execution_count": 213,
   "metadata": {},
   "outputs": [
    {
     "data": {
      "text/plain": [
       "\"J1\""
      ]
     },
     "execution_count": 213,
     "metadata": {},
     "output_type": "execute_result"
    }
   ],
   "source": [
    "mechanism = Mechanism{Float64}(\"TestRobot\")\n",
    "F0 = root_frame(mechanism)\n",
    "F1 = add_frame!(mechanism; id=\"L1_frame\")\n",
    "\n",
    "# Define the unit vectors to make things easier\n",
    "X = SVector(1., 0., 0.)\n",
    "Y = SVector(0., 1., 0.)\n",
    "Z = SVector(0., 0., 1.)\n",
    "\n",
    "J1 = Prismatic(X)\n",
    "add_joint!(mechanism, J1; parent=\"root_frame\", child=\"L1_frame\", id=\"J1\")"
   ]
  },
  {
   "cell_type": "code",
   "execution_count": 214,
   "metadata": {},
   "outputs": [
    {
     "data": {
      "text/plain": [
       "1DOF Mechanism{Float64} \"TestRobot\" with 2 frames, 1 joint, 3 coordinates, 3 components"
      ]
     },
     "execution_count": 214,
     "metadata": {},
     "output_type": "execute_result"
    }
   ],
   "source": [
    "add_coordinate!(mechanism, FrameOrigin(F0); id=\"base_centre_of_mass\")\n",
    "add_coordinate!(mechanism, FrameOrigin(F1); id=\"ee_centre_of_mass\")\n",
    "\n",
    "add_component!(mechanism, PointMass(1.0, \"base_centre_of_mass\"); id=\"base_mass\")\n",
    "add_component!(mechanism, PointMass(1.0, \"ee_centre_of_mass\"); id=\"ee_mass\")\n",
    "\n",
    "I_mat = @SMatrix [\n",
    "    0.01  0.    0.  ;\n",
    "    0.    0.01  0.  ;\n",
    "    0.    0.    0.01\n",
    "]\n",
    "\n",
    "add_inertia!(mechanism, F1, I_mat; id=\"L1_inertia\")"
   ]
  },
  {
   "cell_type": "code",
   "execution_count": 215,
   "metadata": {},
   "outputs": [],
   "source": [
    "add_coordinate!(mechanism, JointSubspace(\"J1\"); id=\"J1\")\n",
    "add_component!(mechanism, LinearDamper(0.5, \"J1\"); id=\"J1_damper\")\n",
    "add_gravity_compensation!(mechanism, VMRobotControl.DEFAULT_GRAVITY)"
   ]
  },
  {
   "cell_type": "code",
   "execution_count": 216,
   "metadata": {},
   "outputs": [
    {
     "data": {
      "text/plain": [
       "GLMakie.Screen(...)"
      ]
     },
     "execution_count": 216,
     "metadata": {},
     "output_type": "execute_result"
    }
   ],
   "source": [
    "m = compile(mechanism)\n",
    "kcache = Observable(new_kinematics_cache(m))\n",
    "\n",
    "# Setup the figure\n",
    "fig1 = Figure(size=(700, 350))\n",
    "ls = LScene(fig1[1, 1]; show_axis=false)\n",
    "\n",
    "# Or a sketch of it's kinematic structure\n",
    "robotsketch!(ls, kcache; scale=0.3, linewidth=2.5, transparency=true)\n",
    "\n",
    "display(fig1)"
   ]
  },
  {
   "cell_type": "markdown",
   "metadata": {},
   "source": [
    "## Introducing virtual mechanisms"
   ]
  },
  {
   "cell_type": "code",
   "execution_count": 252,
   "metadata": {},
   "outputs": [
    {
     "data": {
      "text/plain": [
       "\"force source\""
      ]
     },
     "execution_count": 252,
     "metadata": {},
     "output_type": "execute_result"
    }
   ],
   "source": [
    "vms = VirtualMechanismSystem(\"testVMS\", mechanism)\n",
    "\n",
    "obstacle_radius = 1.0\n",
    "obstacle_pos = -1.5*X\n",
    "\n",
    "add_coordinate!(vms, FrameOrigin(\".robot.L1_frame\"); id=\"ee_position\")\n",
    "add_coordinate!(vms, FramePoint(\".robot.root_frame\", obstacle_pos); id=\"obstacle_position\")\n",
    "add_coordinate!(vms, CoordDifference(\"ee_position\", \"obstacle_position\"); id=\"obstacle_error\")\n",
    "add_coordinate!(vms, CoordNorm(\"obstacle_error\"); id=\"obstacle_error_norm\")\n",
    "add_coordinate!(vms, ConstCoord(obstacle_radius); id = \"relu_spring_length\")\n",
    "add_coordinate!(vms, CoordDifference(\"obstacle_error_norm\", \"relu_spring_length\"); id=\"shifted_obstacle_error\")\n",
    "\n",
    "add_component!(vms, ReLUSpring(100.0, \"shifted_obstacle_error\", true); id=\"relu spring\")\n",
    "add_component!(vms, RectifiedDamper(100.0, \"obstacle_error_norm\", (0.0, 1.1*obstacle_radius), true, false); id = \"relu damper\")\n",
    "\n",
    "add_component!(vms, ForceSource(SVector(-0.5),10.0, \".robot.J1\"); id=\"force source\") # Just to see the effect of the \"obstacle\""
   ]
  },
  {
   "cell_type": "markdown",
   "metadata": {},
   "source": [
    "## Simulating"
   ]
  },
  {
   "cell_type": "code",
   "execution_count": 253,
   "metadata": {},
   "outputs": [
    {
     "name": "stderr",
     "output_type": "stream",
     "text": [
      "\u001b[32mODE   0%|█                                              |  ETA: N/A\u001b[39m\n",
      "\u001b[90mODE 100%|███████████████████████████████████████████████| Time: 0:00:00\u001b[39m\n"
     ]
    }
   ],
   "source": [
    "tspan = (0., 8.)\n",
    "vms_compiled = compile(vms)\n",
    "q = (zero_q(vms_compiled.robot), Float64[]) # Robot joint angle, vm joint angles\n",
    "q̇ = (zero_q̇(vms_compiled.robot), Float64[]) # Robot joint velocity, vm joint velocities\n",
    "g = VMRobotControl.DEFAULT_GRAVITY\n",
    "dcache = new_dynamics_cache(vms_compiled)\n",
    "prob = get_ode_problem(dcache, g, q, q̇, tspan)\n",
    "\n",
    "using Logging: global_logger\n",
    "using TerminalLoggers: TerminalLogger\n",
    "global_logger(TerminalLogger())\n",
    "\n",
    "sol = solve(prob, Tsit5(), progress=true; maxiters=1e6, abstol=1e-6, reltol=1e-6);"
   ]
  },
  {
   "cell_type": "markdown",
   "metadata": {},
   "source": [
    "## Visualizing the result"
   ]
  },
  {
   "cell_type": "code",
   "execution_count": 254,
   "metadata": {},
   "outputs": [
    {
     "ename": "LoadError",
     "evalue": "Screen not open!",
     "output_type": "error",
     "traceback": [
      "Screen not open!",
      "",
      "Stacktrace:",
      " [1] error(s::String)",
      "   @ Base .\\error.jl:35",
      " [2] colorbuffer(screen::GLMakie.Screen{GLFW.Window}, format::Makie.ImageStorageFormat)",
      "   @ GLMakie C:\\Users\\bilou\\.julia\\packages\\GLMakie\\fj8mE\\src\\screen.jl:862",
      " [3] recordframe!(io::VideoStream)",
      "   @ Makie C:\\Users\\bilou\\.julia\\packages\\Makie\\Q6F2P\\src\\ffmpeg-util.jl:292",
      " [4] Record(func::VMRobotControlMakieExt.var\"#89#90\"{Observable{Float64}}, figlike::Figure, iter::LinRange{Float64, Int64}; kw_args::Base.Pairs{Symbol, Any, Tuple{Symbol, Symbol, Symbol}, NamedTuple{(:format, :framerate, :visible), Tuple{SubString{String}, Int64, Bool}}})",
      "   @ Makie C:\\Users\\bilou\\.julia\\packages\\Makie\\Q6F2P\\src\\recording.jl:174",
      " [5] record(func::Function, figlike::Figure, path::String, iter::LinRange{Float64, Int64}; kw_args::Base.Pairs{Symbol, Integer, Tuple{Symbol, Symbol}, NamedTuple{(:framerate, :visible), Tuple{Int64, Bool}}})",
      "   @ Makie C:\\Users\\bilou\\.julia\\packages\\Makie\\Q6F2P\\src\\recording.jl:154",
      " [6] record",
      "   @ C:\\Users\\bilou\\.julia\\packages\\Makie\\Q6F2P\\src\\recording.jl:152 [inlined]",
      " [7] animate_robot_odesolution(fig::Figure, sol::ODESolution{Float64, 2, Vector{Vector{Float64}}, Nothing, Nothing, Vector{Float64}, Vector{Vector{Vector{Float64}}}, ODEProblem{Vector{Float64}, Tuple{Float64, Float64}, true, SciMLBase.NullParameters, ODEFunction{true, SciMLBase.AutoSpecialize, FunctionWrappersWrappers.FunctionWrappersWrapper{Tuple{FunctionWrappers.FunctionWrapper{Nothing, Tuple{Vector{Float64}, Vector{Float64}, SciMLBase.NullParameters, Float64}}, FunctionWrappers.FunctionWrapper{Nothing, Tuple{Vector{ForwardDiff.Dual{ForwardDiff.Tag{DiffEqBase.OrdinaryDiffEqTag, Float64}, Float64, 1}}, Vector{ForwardDiff.Dual{ForwardDiff.Tag{DiffEqBase.OrdinaryDiffEqTag, Float64}, Float64, 1}}, SciMLBase.NullParameters, Float64}}, FunctionWrappers.FunctionWrapper{Nothing, Tuple{Vector{ForwardDiff.Dual{ForwardDiff.Tag{DiffEqBase.OrdinaryDiffEqTag, Float64}, Float64, 1}}, Vector{Float64}, SciMLBase.NullParameters, ForwardDiff.Dual{ForwardDiff.Tag{DiffEqBase.OrdinaryDiffEqTag, Float64}, Float64, 1}}}, FunctionWrappers.FunctionWrapper{Nothing, Tuple{Vector{ForwardDiff.Dual{ForwardDiff.Tag{DiffEqBase.OrdinaryDiffEqTag, Float64}, Float64, 1}}, Vector{ForwardDiff.Dual{ForwardDiff.Tag{DiffEqBase.OrdinaryDiffEqTag, Float64}, Float64, 1}}, SciMLBase.NullParameters, ForwardDiff.Dual{ForwardDiff.Tag{DiffEqBase.OrdinaryDiffEqTag, Float64}, Float64, 1}}}}, false}, UniformScaling{Bool}, Nothing, Nothing, Nothing, Nothing, Nothing, Nothing, Nothing, Nothing, Nothing, Nothing, Nothing, typeof(SciMLBase.DEFAULT_OBSERVED), Nothing, SymbolicIndexingInterface.SymbolCache{Nothing, Nothing, Nothing}}, Base.Pairs{Symbol, Union{}, Tuple{}, NamedTuple{(), Tuple{}}}, SciMLBase.StandardODEProblem}, Tsit5{typeof(OrdinaryDiffEq.trivial_limiter!), typeof(OrdinaryDiffEq.trivial_limiter!), Static.False}, OrdinaryDiffEq.InterpolationData{ODEFunction{true, SciMLBase.AutoSpecialize, FunctionWrappersWrappers.FunctionWrappersWrapper{Tuple{FunctionWrappers.FunctionWrapper{Nothing, Tuple{Vector{Float64}, Vector{Float64}, SciMLBase.NullParameters, Float64}}, FunctionWrappers.FunctionWrapper{Nothing, Tuple{Vector{ForwardDiff.Dual{ForwardDiff.Tag{DiffEqBase.OrdinaryDiffEqTag, Float64}, Float64, 1}}, Vector{ForwardDiff.Dual{ForwardDiff.Tag{DiffEqBase.OrdinaryDiffEqTag, Float64}, Float64, 1}}, SciMLBase.NullParameters, Float64}}, FunctionWrappers.FunctionWrapper{Nothing, Tuple{Vector{ForwardDiff.Dual{ForwardDiff.Tag{DiffEqBase.OrdinaryDiffEqTag, Float64}, Float64, 1}}, Vector{Float64}, SciMLBase.NullParameters, ForwardDiff.Dual{ForwardDiff.Tag{DiffEqBase.OrdinaryDiffEqTag, Float64}, Float64, 1}}}, FunctionWrappers.FunctionWrapper{Nothing, Tuple{Vector{ForwardDiff.Dual{ForwardDiff.Tag{DiffEqBase.OrdinaryDiffEqTag, Float64}, Float64, 1}}, Vector{ForwardDiff.Dual{ForwardDiff.Tag{DiffEqBase.OrdinaryDiffEqTag, Float64}, Float64, 1}}, SciMLBase.NullParameters, ForwardDiff.Dual{ForwardDiff.Tag{DiffEqBase.OrdinaryDiffEqTag, Float64}, Float64, 1}}}}, false}, UniformScaling{Bool}, Nothing, Nothing, Nothing, Nothing, Nothing, Nothing, Nothing, Nothing, Nothing, Nothing, Nothing, typeof(SciMLBase.DEFAULT_OBSERVED), Nothing, SymbolicIndexingInterface.SymbolCache{Nothing, Nothing, Nothing}}, Vector{Vector{Float64}}, Vector{Float64}, Vector{Vector{Vector{Float64}}}, OrdinaryDiffEq.Tsit5Cache{Vector{Float64}, Vector{Float64}, Vector{Float64}, typeof(OrdinaryDiffEq.trivial_limiter!), typeof(OrdinaryDiffEq.trivial_limiter!), Static.False}, Nothing}, SciMLBase.DEStats, Nothing}, cache::Observable{VMRobotControl.MechanismCacheBundle{CompiledMechanism{Float64, VMRobotControl.RBTree{Float64, VMRobotControl.TypeStableCollections.TypeStableCollection{Tuple{Vector{CompiledMechanismJoint(Float64, PrismaticData{Float64})}}}, VMRobotControl.TypeStableCollections.TypeStableCollection{Tuple{Vector{CompiledCoord{FrameAngularVelocity{CompiledFrameID}}}, Vector{CompiledCoord{JointSubspace{VMRobotControl.CompiledJointID{CompiledMechanismJoint(Float64, PrismaticData{Float64})}}}}, Vector{CompiledCoord{FrameOrigin{CompiledFrameID}}}}}}, VMRobotControl.TypeStableCollections.TypeStableCollection{Tuple{Vector{Inertia{Float64, CompiledCoordID{FrameAngularVelocity{CompiledFrameID}}}}, Vector{LinearDamper{Float64, Float64, CompiledCoordID{JointSubspace{VMRobotControl.CompiledJointID{CompiledMechanismJoint(Float64, PrismaticData{Float64})}}}}}, Vector{PointMass{Float64, CompiledCoordID{FrameOrigin{CompiledFrameID}}}}, Vector{GravityCompensator{Float64, CompiledCoordID{FrameOrigin{CompiledFrameID}}}}}}}, VMRobotControl.MechKinematicsCache{Float64}}}, saveas::String; t::Observable{Float64}, fps::Int64, fastforward::Nothing, unpack_ode_state::Function, f_setup::typeof(VMRobotControl.DEFAULT_F_SETUP), f_control::Function)",
      "   @ VMRobotControlMakieExt C:\\Users\\bilou\\OneDrive\\Documents\\Ecole\\MASTER 2\\TFE\\Julia Simulator\\VMRobotControl.jl\\ext\\VMRobotControlMakieExt.jl:711",
      " [8] animate_robot_odesolution(fig::Figure, sol::ODESolution{Float64, 2, Vector{Vector{Float64}}, Nothing, Nothing, Vector{Float64}, Vector{Vector{Vector{Float64}}}, ODEProblem{Vector{Float64}, Tuple{Float64, Float64}, true, SciMLBase.NullParameters, ODEFunction{true, SciMLBase.AutoSpecialize, FunctionWrappersWrappers.FunctionWrappersWrapper{Tuple{FunctionWrappers.FunctionWrapper{Nothing, Tuple{Vector{Float64}, Vector{Float64}, SciMLBase.NullParameters, Float64}}, FunctionWrappers.FunctionWrapper{Nothing, Tuple{Vector{ForwardDiff.Dual{ForwardDiff.Tag{DiffEqBase.OrdinaryDiffEqTag, Float64}, Float64, 1}}, Vector{ForwardDiff.Dual{ForwardDiff.Tag{DiffEqBase.OrdinaryDiffEqTag, Float64}, Float64, 1}}, SciMLBase.NullParameters, Float64}}, FunctionWrappers.FunctionWrapper{Nothing, Tuple{Vector{ForwardDiff.Dual{ForwardDiff.Tag{DiffEqBase.OrdinaryDiffEqTag, Float64}, Float64, 1}}, Vector{Float64}, SciMLBase.NullParameters, ForwardDiff.Dual{ForwardDiff.Tag{DiffEqBase.OrdinaryDiffEqTag, Float64}, Float64, 1}}}, FunctionWrappers.FunctionWrapper{Nothing, Tuple{Vector{ForwardDiff.Dual{ForwardDiff.Tag{DiffEqBase.OrdinaryDiffEqTag, Float64}, Float64, 1}}, Vector{ForwardDiff.Dual{ForwardDiff.Tag{DiffEqBase.OrdinaryDiffEqTag, Float64}, Float64, 1}}, SciMLBase.NullParameters, ForwardDiff.Dual{ForwardDiff.Tag{DiffEqBase.OrdinaryDiffEqTag, Float64}, Float64, 1}}}}, false}, UniformScaling{Bool}, Nothing, Nothing, Nothing, Nothing, Nothing, Nothing, Nothing, Nothing, Nothing, Nothing, Nothing, typeof(SciMLBase.DEFAULT_OBSERVED), Nothing, SymbolicIndexingInterface.SymbolCache{Nothing, Nothing, Nothing}}, Base.Pairs{Symbol, Union{}, Tuple{}, NamedTuple{(), Tuple{}}}, SciMLBase.StandardODEProblem}, Tsit5{typeof(OrdinaryDiffEq.trivial_limiter!), typeof(OrdinaryDiffEq.trivial_limiter!), Static.False}, OrdinaryDiffEq.InterpolationData{ODEFunction{true, SciMLBase.AutoSpecialize, FunctionWrappersWrappers.FunctionWrappersWrapper{Tuple{FunctionWrappers.FunctionWrapper{Nothing, Tuple{Vector{Float64}, Vector{Float64}, SciMLBase.NullParameters, Float64}}, FunctionWrappers.FunctionWrapper{Nothing, Tuple{Vector{ForwardDiff.Dual{ForwardDiff.Tag{DiffEqBase.OrdinaryDiffEqTag, Float64}, Float64, 1}}, Vector{ForwardDiff.Dual{ForwardDiff.Tag{DiffEqBase.OrdinaryDiffEqTag, Float64}, Float64, 1}}, SciMLBase.NullParameters, Float64}}, FunctionWrappers.FunctionWrapper{Nothing, Tuple{Vector{ForwardDiff.Dual{ForwardDiff.Tag{DiffEqBase.OrdinaryDiffEqTag, Float64}, Float64, 1}}, Vector{Float64}, SciMLBase.NullParameters, ForwardDiff.Dual{ForwardDiff.Tag{DiffEqBase.OrdinaryDiffEqTag, Float64}, Float64, 1}}}, FunctionWrappers.FunctionWrapper{Nothing, Tuple{Vector{ForwardDiff.Dual{ForwardDiff.Tag{DiffEqBase.OrdinaryDiffEqTag, Float64}, Float64, 1}}, Vector{ForwardDiff.Dual{ForwardDiff.Tag{DiffEqBase.OrdinaryDiffEqTag, Float64}, Float64, 1}}, SciMLBase.NullParameters, ForwardDiff.Dual{ForwardDiff.Tag{DiffEqBase.OrdinaryDiffEqTag, Float64}, Float64, 1}}}}, false}, UniformScaling{Bool}, Nothing, Nothing, Nothing, Nothing, Nothing, Nothing, Nothing, Nothing, Nothing, Nothing, Nothing, typeof(SciMLBase.DEFAULT_OBSERVED), Nothing, SymbolicIndexingInterface.SymbolCache{Nothing, Nothing, Nothing}}, Vector{Vector{Float64}}, Vector{Float64}, Vector{Vector{Vector{Float64}}}, OrdinaryDiffEq.Tsit5Cache{Vector{Float64}, Vector{Float64}, Vector{Float64}, typeof(OrdinaryDiffEq.trivial_limiter!), typeof(OrdinaryDiffEq.trivial_limiter!), Static.False}, Nothing}, SciMLBase.DEStats, Nothing}, cache::Observable{VMRobotControl.MechanismCacheBundle{CompiledMechanism{Float64, VMRobotControl.RBTree{Float64, VMRobotControl.TypeStableCollections.TypeStableCollection{Tuple{Vector{CompiledMechanismJoint(Float64, PrismaticData{Float64})}}}, VMRobotControl.TypeStableCollections.TypeStableCollection{Tuple{Vector{CompiledCoord{FrameAngularVelocity{CompiledFrameID}}}, Vector{CompiledCoord{JointSubspace{VMRobotControl.CompiledJointID{CompiledMechanismJoint(Float64, PrismaticData{Float64})}}}}, Vector{CompiledCoord{FrameOrigin{CompiledFrameID}}}}}}, VMRobotControl.TypeStableCollections.TypeStableCollection{Tuple{Vector{Inertia{Float64, CompiledCoordID{FrameAngularVelocity{CompiledFrameID}}}}, Vector{LinearDamper{Float64, Float64, CompiledCoordID{JointSubspace{VMRobotControl.CompiledJointID{CompiledMechanismJoint(Float64, PrismaticData{Float64})}}}}}, Vector{PointMass{Float64, CompiledCoordID{FrameOrigin{CompiledFrameID}}}}, Vector{GravityCompensator{Float64, CompiledCoordID{FrameOrigin{CompiledFrameID}}}}}}}, VMRobotControl.MechKinematicsCache{Float64}}}, saveas::String)",
      "   @ VMRobotControlMakieExt C:\\Users\\bilou\\OneDrive\\Documents\\Ecole\\MASTER 2\\TFE\\Julia Simulator\\VMRobotControl.jl\\ext\\VMRobotControlMakieExt.jl:689",
      " [9] top-level scope",
      "   @ In[254]:3"
     ]
    }
   ],
   "source": [
    "display(fig1)\n",
    "\n",
    "animate_robot_odesolution(fig1, sol, kcache, \"robot_animation.mp4\")"
   ]
  }
 ],
 "metadata": {
  "kernelspec": {
   "display_name": "Julia 1.9.3",
   "language": "julia",
   "name": "julia-1.9"
  },
  "language_info": {
   "file_extension": ".jl",
   "mimetype": "application/julia",
   "name": "julia",
   "version": "1.9.3"
  }
 },
 "nbformat": 4,
 "nbformat_minor": 2
}
