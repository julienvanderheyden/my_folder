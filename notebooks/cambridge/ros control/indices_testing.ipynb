{
 "cells": [
  {
   "cell_type": "code",
   "execution_count": 29,
   "metadata": {},
   "outputs": [
    {
     "data": {
      "text/plain": [
       "generate_q_init (generic function with 1 method)"
      ]
     },
     "execution_count": 29,
     "metadata": {},
     "output_type": "execute_result"
    }
   ],
   "source": [
    "using Revise\n",
    "using GeometryBasics: Vec3f, Point3f\n",
    "using LinearAlgebra\n",
    "using GLMakie\n",
    "using StaticArrays\n",
    "using VMRobotControl\n",
    "using VMRobotControl.Splines: CubicSpline\n",
    "using DifferentialEquations\n",
    "using MeshIO\n",
    "include(\"../../functions.jl\")"
   ]
  },
  {
   "cell_type": "markdown",
   "metadata": {},
   "source": [
    "## Importing ShadowHand URDF"
   ]
  },
  {
   "cell_type": "markdown",
   "metadata": {},
   "source": [
    "### URDF Parsing"
   ]
  },
  {
   "cell_type": "code",
   "execution_count": 34,
   "metadata": {},
   "outputs": [
    {
     "data": {
      "text/plain": [
       "24DOF Mechanism{Float64} \"shadowhand_motor\" with 33 frames, 32 joints, 55 coordinates, 82 components"
      ]
     },
     "execution_count": 34,
     "metadata": {},
     "output_type": "execute_result"
    }
   ],
   "source": [
    "using FileIO, UUIDs\n",
    "try\n",
    "    FileIO.add_format(format\"DAE\", (), \".dae\", [:DigitalAssetExchangeFormatIO => UUID(\"43182933-f65b-495a-9e05-4d939cea427d\")])\n",
    "catch\n",
    "end\n",
    "\n",
    "module_path = joinpath(splitpath(splitdir(pathof(VMRobotControl))[1])[1:end-1])\n",
    "\n",
    "shadow_cfg = URDFParserConfig(;suppress_warnings=true) # This is just to hide warnings about unsupported URDF features\n",
    "shadow_robot = parseURDF(joinpath(module_path, \"URDFs/sr_description/sr_hand_vm_compatible.urdf\"), shadow_cfg)\n",
    "vm_cfg = URDFParserConfig(;suppress_warnings=true) \n",
    "# For the moment the urdfs are the same but we might want to change the properties of the virtual robot\n",
    "vm_robot = parseURDF(joinpath(module_path, \"URDFs/sr_description/sr_hand_vm_compatible.urdf\"), vm_cfg) "
   ]
  },
  {
   "cell_type": "markdown",
   "metadata": {},
   "source": [
    "## Creating the Virtual Mechanism System"
   ]
  },
  {
   "cell_type": "markdown",
   "metadata": {},
   "source": [
    "### Gravity Compensation, Joint Limits and Joint Damping"
   ]
  },
  {
   "cell_type": "code",
   "execution_count": 35,
   "metadata": {},
   "outputs": [],
   "source": [
    "add_gravity_compensation!(vm_robot, VMRobotControl.DEFAULT_GRAVITY)\n",
    "\n",
    "joint_limits = vm_cfg.joint_limits\n",
    "\n",
    "for joint_id in keys(joints(vm_robot))\n",
    "    limits = joint_limits[joint_id]\n",
    "    isnothing(limits) && continue\n",
    "    add_coordinate!(vm_robot, JointSubspace(joint_id);  id=\"$(joint_id)_coord\")\n",
    "    @assert ~isnothing(limits.lower) && ~isnothing(limits.upper)\n",
    "    add_deadzone_springs!(vm_robot, 50.0, (limits.lower+0.1, limits.upper-0.1), \"$(joint_id)_coord\")\n",
    "    add_component!(vm_robot, LinearDamper(0.01, \"$(joint_id)_coord\"); id=\"$(joint_id)_damper\")\n",
    "end\n"
   ]
  },
  {
   "cell_type": "markdown",
   "metadata": {},
   "source": [
    "### Addition of the multiple springs/dampers"
   ]
  },
  {
   "cell_type": "code",
   "execution_count": 36,
   "metadata": {},
   "outputs": [],
   "source": [
    "vms = VirtualMechanismSystem(\"myShadowVMS\", shadow_robot, vm_robot)\n",
    "\n",
    "# MOTION MECHANISMS\n",
    "add_coordinate!(vms, FrameOrigin(\".virtual_mechanism.rh_fftip\"); id=\"fftip position\")\n",
    "add_coordinate!(vms, FrameOrigin(\".virtual_mechanism.rh_palm\"); id=\"palm position\")\n",
    "add_coordinate!(vms, CoordDifference(\"fftip position\", \"palm position\"); id=\"fftip position error\")\n",
    "\n",
    "add_component!(vms, LinearSpring(50.0, \"fftip position error\"); id=\"fftip position spring\")\n",
    "add_component!(vms, LinearDamper(5.0, \"fftip position error\"); id=\"fftip position damper\")\n",
    "\n",
    "joint_limits = shadow_cfg.joint_limits\n",
    "\n",
    "for joint_id in keys(joints(shadow_robot))\n",
    "    limits = joint_limits[joint_id]\n",
    "    isnothing(limits) && continue\n",
    "    add_coordinate!(shadow_robot, JointSubspace(joint_id);  id=\"$(joint_id)_coord\")\n",
    "    add_coordinate!(vms, CoordDifference(\".robot.$(joint_id)_coord\", \".virtual_mechanism.$(joint_id)_coord\");id=\"$(joint_id) coord diff\")\n",
    "    add_component!(vms, LinearSpring(0.1, \"$(joint_id) coord diff\"); id = \"$(joint_id) coord spring\")\n",
    "    add_component!(vms, LinearDamper(0.01, \"$(joint_id) coord diff\"); id = \"$(joint_id) coord damper\")\n",
    "end\n"
   ]
  },
  {
   "cell_type": "code",
   "execution_count": 37,
   "metadata": {},
   "outputs": [
    {
     "data": {
      "text/plain": [
       "CompiledVirtualMechanismSystem{Float64, ...}(myShadowVMS...)"
      ]
     },
     "execution_count": 37,
     "metadata": {},
     "output_type": "execute_result"
    }
   ],
   "source": [
    "cvms = compile(vms)"
   ]
  },
  {
   "cell_type": "markdown",
   "metadata": {},
   "source": [
    "## Simulating the Robot"
   ]
  },
  {
   "cell_type": "markdown",
   "metadata": {},
   "source": [
    "### Setting Up the Simulation"
   ]
  },
  {
   "cell_type": "code",
   "execution_count": 6,
   "metadata": {},
   "outputs": [
    {
     "name": "stderr",
     "output_type": "stream",
     "text": [
      "\u001b[36m\u001b[1m[ \u001b[22m\u001b[39m\u001b[36m\u001b[1mInfo: \u001b[22m\u001b[39mSimulating shadow robot to make some tests\n",
      "\u001b[32mODE   0%|█                                              |  ETA: N/A\u001b[39m\n",
      "\u001b[90mODE 100%|███████████████████████████████████████████████| Time: 0:00:02\u001b[39m\n"
     ]
    }
   ],
   "source": [
    "using Logging: global_logger\n",
    "using TerminalLoggers: TerminalLogger\n",
    "global_logger(TerminalLogger())\n",
    "\n",
    "\"\"\"\n",
    "Update the vms based on the \"coord\", which is a coordinate varying between \n",
    "0 and 1, 0 being the starting position of the lateral pinch motion while 1 being \n",
    "the end\n",
    "\"\"\"\n",
    "function update_power_sphere_coord(args, cache, coord)\n",
    "    nothing\n",
    "end\n",
    "\n",
    "function f_setup(cache) \n",
    "    nothing\n",
    "    # return  (get_compiled_coordID(cache, \"angular spring length\"), get_compiled_coordID(cache, \"th spring length\"), get_compiled_coordID(cache, \"J3 target angle\"),\n",
    "    #         get_compiled_coordID(cache, \"J2 target angle\"), get_compiled_coordID(cache, \"J1 target angle\"), get_compiled_coordID(cache, \"th J5 target angle\"),\n",
    "    #         get_compiled_coordID(cache, \"th J2 target angle\"), get_compiled_coordID(cache, \"th J1 target angle\"))\n",
    "end\n",
    "\n",
    "function f_control(cache, t, args, extra)\n",
    "\n",
    "    # t_start = 0.\n",
    "    # t_end = 4. #we want to reach the end position at t = t_end \n",
    "    \n",
    "    # if t >= t_start && t <= t_end \n",
    "    #     coord_value = (t - t_start) /(t_end -t_start)\n",
    "    #     update_power_sphere_coord(args, cache, coord_value)\n",
    "    # end\n",
    "    nothing\n",
    "end\n",
    "\n",
    "tspan = (0., 5.)\n",
    "vms_compiled = compile(vms)\n",
    "\n",
    "q = (zero_q(vms_compiled.robot), zero_q(vms_compiled.virtual_mechanism)) # Robot joint angle, vm joint angles\n",
    "q̇ = (zero_q̇(vms_compiled.robot), zero_q̇(vms_compiled.virtual_mechanism)) # Robot joint velocity, vm joint velocities\n",
    "\n",
    "g = VMRobotControl.DEFAULT_GRAVITY\n",
    "dcache = new_dynamics_cache(vms_compiled)\n",
    "prob = get_ode_problem(dcache, g, q, q̇, tspan; f_setup, f_control)\n",
    "@info \"Simulating shadow robot to make some tests\"\n",
    "\n",
    "sol = solve(prob, Rosenbrock23(autodiff=false), progress=true; maxiters=1e6, abstol=1e-4, reltol=1e-4);"
   ]
  },
  {
   "cell_type": "markdown",
   "metadata": {},
   "source": [
    "### Visualizing the Results"
   ]
  },
  {
   "cell_type": "code",
   "execution_count": 29,
   "metadata": {},
   "outputs": [],
   "source": [
    "fig = Figure(; size=(720, 720), figure_padding=0)\n",
    "display(fig)\n",
    "ls = LScene(fig[1, 1]; show_axis=false)\n",
    "cam = cam3d!(ls; center=true)\n",
    "cam.lookat[] = [0.025, 0., 0.24]\n",
    "cam.eyeposition[] = [-0.25, -0.6, 0.62]\n",
    "\n",
    "plotting_t = Observable(0.0)\n",
    "plotting_kcache = Observable(new_kinematics_cache(compile(vms)))\n",
    "robotvisualize!(ls, plotting_kcache)\n",
    "\n",
    "savepath = joinpath(module_path, \"docs/src/assets/shadowhand_tests.mp4\")\n",
    "display(fig)\n",
    "animate_robot_odesolution(fig, sol, plotting_kcache, savepath; t=plotting_t);"
   ]
  },
  {
   "cell_type": "code",
   "execution_count": null,
   "metadata": {},
   "outputs": [
    {
     "data": {
      "text/plain": [
       "24-element Vector{Any}:\n",
       " -0.00020660406593791774\n",
       " -5.5005491840259505e-5\n",
       "  0.16705569376630222\n",
       "  0.2513085783178839\n",
       "  0.002077724918037598\n",
       "  1.0715007862990576e-5\n",
       "  0.16700021902800208\n",
       "  0.2512055862214286\n",
       "  0.0022134859100442134\n",
       "  1.1136773430899554e-5\n",
       "  0.16705249718606965\n",
       "  0.2513020148594966\n",
       "  0.002092635228933274\n",
       " -1.0990282475013898e-5\n",
       "  0.2167196631625505\n",
       "  0.10056490893996937\n",
       " -0.05776378894500269\n",
       "  0.5242856928186829\n",
       " -0.002281632736553128\n",
       " -0.008936111440931396\n",
       "  0.10943951038094998\n",
       "  0.5963359179926188\n",
       "  0.005077856175425158\n",
       "  1.0000000133567926"
      ]
     },
     "metadata": {},
     "output_type": "display_data"
    }
   ],
   "source": [
    "joint_names = [\"rh_WRJ1\", \"rh_WRJ2\", \"rh_FFJ1\", \"rh_FFJ2\", \"rh_FFJ3\", \"rh_FFJ4\", \"rh_MFJ1\",\n",
    "                \"rh_MFJ2\", \"rh_MFJ3\", \"rh_MFJ4\", \"rh_RFJ1\", \"rh_RFJ2\", \"rh_RFJ3\", \"rh_RFJ4\", \n",
    "                \"rh_LFJ1\", \"rh_LFJ2\", \"rh_LFJ3\", \"rh_LFJ4\", \"rh_LFJ5\", \"rh_THJ1\", \"rh_THJ2\", \n",
    "                \"rh_THJ3\", \"rh_THJ4\", \"rh_THJ5\"]\n",
    "\n",
    "function generate_virtual_robot_idxs(vms_compiled, ordered_joint_names)\n",
    "    robot_idxs = []\n",
    "\n",
    "    for joint_name in ordered_joint_names\n",
    "        joint_id = get_compiled_jointID(vms_compiled.virtual_mechanism, joint_name)\n",
    "        joint = vms_compiled.virtual_mechanism[joint_id]\n",
    "        joint_idx = q_idxs(joint)\n",
    "        push!(robot_idxs, joint_idx[1])\n",
    "    end\n",
    "\n",
    "    return robot_idxs\n",
    "end\n",
    "\n",
    "conversion_list = generate_virtual_robot_idxs(vms_compiled, joint_names)\n",
    "\n",
    "qr, qv = get_q(dcache)\n",
    "\n",
    "function get_virtual_hand_state(q_vm, idxs)\n",
    "    hand_state = []\n",
    "    for idx in idxs\n",
    "        push!(hand_state, q_vm[idx])\n",
    "    end \n",
    "    return hand_state\n",
    "end\n",
    "\n",
    "hand_state = get_virtual_hand_state(qv, conversion_list)\n",
    "display(hand_state)"
   ]
  }
 ],
 "metadata": {
  "kernelspec": {
   "display_name": "Julia 1.9.3",
   "language": "julia",
   "name": "julia-1.9"
  },
  "language_info": {
   "file_extension": ".jl",
   "mimetype": "application/julia",
   "name": "julia",
   "version": "1.9.3"
  }
 },
 "nbformat": 4,
 "nbformat_minor": 2
}
