{
 "cells": [
  {
   "cell_type": "code",
   "execution_count": 1,
   "metadata": {},
   "outputs": [
    {
     "data": {
      "text/plain": [
       "display_transform (generic function with 1 method)"
      ]
     },
     "metadata": {},
     "output_type": "display_data"
    }
   ],
   "source": [
    "using Revise\n",
    "using GeometryBasics: Vec3f, Point3f\n",
    "using LinearAlgebra\n",
    "using GLMakie\n",
    "using StaticArrays\n",
    "using VMRobotControl\n",
    "using VMRobotControl.Splines: CubicSpline\n",
    "using VMRobotControl: remake\n",
    "using DifferentialEquations\n",
    "using MeshIO\n",
    "include(\"../../functions.jl\")"
   ]
  },
  {
   "cell_type": "markdown",
   "metadata": {},
   "source": [
    "## Creating a simple mechanism for test purposes"
   ]
  },
  {
   "cell_type": "code",
   "execution_count": 2,
   "metadata": {},
   "outputs": [],
   "source": [
    "mechanism = Mechanism{Float64}(\"TestRobot\")\n",
    "F0 = root_frame(mechanism)\n",
    "F1 = add_frame!(mechanism; id=\"L1_frame\")\n",
    "F2 = add_frame!(mechanism; id=\"L2_frame\")\n",
    "\n",
    "# Define the unit vectors to make things easier\n",
    "X = SVector(1., 0., 0.)\n",
    "Y = SVector(0., 1., 0.)\n",
    "Z = SVector(0., 0., 1.)\n",
    "\n",
    "J1 = Prismatic(X)\n",
    "J2 = Prismatic(Y)\n",
    "add_joint!(mechanism, J1; parent=\"root_frame\", child=\"L1_frame\", id=\"J1\")\n",
    "add_joint!(mechanism, J2; parent=\"L1_frame\", child=\"L2_frame\", id=\"J2\")\n",
    "\n",
    "add_coordinate!(mechanism, FrameOrigin(F0); id=\"base_centre_of_mass\")\n",
    "add_coordinate!(mechanism, FrameOrigin(F1); id=\"l1_centre_of_mass\")\n",
    "add_coordinate!(mechanism, FrameOrigin(F2); id=\"l2_centre_of_mass\")\n",
    "\n",
    "add_component!(mechanism, PointMass(1.0, \"base_centre_of_mass\"); id=\"base_mass\")\n",
    "add_component!(mechanism, PointMass(1.0, \"l1_centre_of_mass\"); id=\"l1_mass\")\n",
    "add_component!(mechanism, PointMass(1.0, \"l2_centre_of_mass\"); id=\"l2_mass\")\n",
    "\n",
    "I_mat = @SMatrix [\n",
    "    0.01  0.    0.  ;\n",
    "    0.    0.01  0.  ;\n",
    "    0.    0.    0.01\n",
    "]\n",
    "\n",
    "add_inertia!(mechanism, F1, I_mat; id=\"L1_inertia\")\n",
    "add_inertia!(mechanism, F2, I_mat; id=\"L2_inertia\")\n",
    "\n",
    "add_coordinate!(mechanism, JointSubspace(\"J1\"); id=\"J1\")\n",
    "add_component!(mechanism, LinearDamper(0.5, \"J1\"); id=\"J1_damper\")\n",
    "add_coordinate!(mechanism, JointSubspace(\"J2\"); id=\"J2\")\n",
    "add_component!(mechanism, LinearDamper(0.5, \"J2\"); id=\"J2_damper\")\n",
    "add_gravity_compensation!(mechanism, VMRobotControl.DEFAULT_GRAVITY)"
   ]
  },
  {
   "cell_type": "markdown",
   "metadata": {},
   "source": [
    "### Visualization"
   ]
  },
  {
   "cell_type": "code",
   "execution_count": 3,
   "metadata": {},
   "outputs": [
    {
     "data": {
      "text/plain": [
       "GLMakie.Screen(...)"
      ]
     },
     "metadata": {},
     "output_type": "display_data"
    }
   ],
   "source": [
    "m = compile(mechanism)\n",
    "kcache = Observable(new_kinematics_cache(m))\n",
    "\n",
    "# Setup the figure\n",
    "fig1 = Figure(size=(700, 350))\n",
    "ls = LScene(fig1[1, 1]; show_axis=false)\n",
    "\n",
    "# Or a sketch of it's kinematic structure\n",
    "robotsketch!(ls, kcache; scale=0.3, linewidth=2.5, transparency=true)\n",
    "\n",
    "display(fig1)\n"
   ]
  },
  {
   "cell_type": "markdown",
   "metadata": {},
   "source": [
    "## Introducing Virtual Mechanisms"
   ]
  },
  {
   "cell_type": "code",
   "execution_count": 4,
   "metadata": {},
   "outputs": [
    {
     "data": {
      "text/plain": [
       "\"ee_damper\""
      ]
     },
     "metadata": {},
     "output_type": "display_data"
    }
   ],
   "source": [
    "vms = VirtualMechanismSystem(\"testVMS\", mechanism)\n",
    "root = root_frame(vms.robot)\n",
    "\n",
    "refpos = -0.5*X -0.5*Y\n",
    "add_coordinate!(vms, FrameOrigin(\".robot.L2_frame\"); id=\"ee_position\")\n",
    "add_coordinate!(vms, ConstCoord(refpos); id=\"ref\")\n",
    "add_coordinate!(vms, CoordDifference(\"ee_position\", \"ref\"); id=\"ee_error\")\n",
    "add_coordinate!(vms, FramePoint(\".robot.$root\", SVector(0.0, -0.075, 0.32));  id=\"Target position\")\n",
    "\n",
    "ee_stiffness = SMatrix{3, 3}(100.0, 0.0, 0.0, 0.0, 100.0, 0.0, 0.0, 0.0, 100.0)\n",
    "ee_damping = SMatrix{3, 3}(15.0, 0.0, 0.0, 0.0, 15.0, 0.0, 0.0, 0.0, 15.0)\n",
    "\n",
    "add_component!(vms, LinearSpring(ee_stiffness, \"ee_error\"); id=\"ee_spring\")\n",
    "add_component!(vms, LinearDamper(ee_damping, \"ee_error\"); id=\"ee_damper\")"
   ]
  },
  {
   "cell_type": "markdown",
   "metadata": {},
   "source": [
    "## Simulating the Robot"
   ]
  },
  {
   "cell_type": "markdown",
   "metadata": {},
   "source": [
    "### Setting Up the Simulation"
   ]
  },
  {
   "cell_type": "code",
   "execution_count": 5,
   "metadata": {},
   "outputs": [
    {
     "name": "stderr",
     "output_type": "stream",
     "text": [
      "\u001b[32mODE   0%|█                                              |  ETA: N/A\u001b[39m\n",
      "\u001b[90mODE 100%|███████████████████████████████████████████████| Time: 0:00:03\u001b[39m\n"
     ]
    }
   ],
   "source": [
    "phase_2 = false\n",
    "\n",
    "f_setup(cache) = return (get_compiled_coordID(cache, \"ref\"), phase_2)\n",
    "\n",
    "function f_control(cache, t, args, extra)\n",
    "    ref_pos_coord_id, phase_2 = args\n",
    "    \n",
    "    if t > 3 && !phase_2\n",
    "        cache[ref_pos_coord_id] = remake(cache[ref_pos_coord_id]; coord_data=ConstCoord(-1*X))\n",
    "        phase_2 = true\n",
    "    end \n",
    "\n",
    "    nothing\n",
    "end\n",
    "\n",
    "tspan = (0., 5)\n",
    "vms_compiled = compile(vms)\n",
    "q = (zero_q(vms_compiled.robot), Float64[]) # Robot joint angle, vm joint angles\n",
    "q̇ = (zero_q̇(vms_compiled.robot), Float64[]) # Robot joint velocity, vm joint velocities\n",
    "g = VMRobotControl.DEFAULT_GRAVITY\n",
    "dcache = new_dynamics_cache(vms_compiled)\n",
    "prob = get_ode_problem(dcache, g, q, q̇, tspan; f_setup, f_control)\n",
    "\n",
    "using Logging: global_logger\n",
    "using TerminalLoggers: TerminalLogger\n",
    "global_logger(TerminalLogger())\n",
    "\n",
    "sol = solve(prob, Tsit5(), progress=true; maxiters=1e6, abstol=1e-6, reltol=1e-6);"
   ]
  },
  {
   "cell_type": "markdown",
   "metadata": {},
   "source": [
    "### Visualizing the Results"
   ]
  },
  {
   "cell_type": "code",
   "execution_count": 7,
   "metadata": {},
   "outputs": [
    {
     "data": {
      "text/plain": [
       "\"robot_animation.mp4\""
      ]
     },
     "metadata": {},
     "output_type": "display_data"
    }
   ],
   "source": [
    "dcache = new_dynamics_cache(m)\n",
    "display(fig1)\n",
    "animate_robot_odesolution(fig1, sol, kcache, \"robot_animation.mp4\")"
   ]
  },
  {
   "cell_type": "code",
   "execution_count": 19,
   "metadata": {},
   "outputs": [
    {
     "data": {
      "text/plain": [
       "retcode: Success\n",
       "Interpolation: specialized 4th order \"free\" interpolation\n",
       "t: 103-element Vector{Float64}:\n",
       " 0.0\n",
       " 9.999999999999999e-5\n",
       " 0.0010999999999999998\n",
       " 0.005484202058669556\n",
       " 0.012478169895907838\n",
       " 0.02087539187631083\n",
       " 0.03173402139454368\n",
       " 0.0446438771468398\n",
       " 0.06006057789123498\n",
       " 0.0775481542725942\n",
       " ⋮\n",
       " 4.0152999491485\n",
       " 4.09211273193741\n",
       " 4.180796019940446\n",
       " 4.2730247630650195\n",
       " 4.380197444098506\n",
       " 4.508072668880143\n",
       " 4.6730771771992465\n",
       " 4.824672365072814\n",
       " 5.0\n",
       "u: 103-element Vector{Vector{Float64}}:\n",
       " [0.0, 0.0]\n",
       " [-2.498708625494845e-7, -0.004996126168620006]\n",
       " [-3.0078506539192585e-5, -0.05453267870039511]\n",
       " [-0.0007308693648124558, -0.26274706545050436]\n",
       " [-0.0036486629493644998, -0.5658116639156922]\n",
       " [-0.009773939753921395, -0.8852830312184409]\n",
       " [-0.02133602079845812, -1.232452668334619]\n",
       " [-0.039446424252848826, -1.5584520591464437]\n",
       " [-0.06578526346696698, -1.8404767724005746]\n",
       " [-0.09989712389165716, -2.0417645099910597]\n",
       " ⋮\n",
       " [-0.9999577259905861, -0.0005348907418043129]\n",
       " [-0.9999878223871232, -0.0002642012841803903]\n",
       " [-1.0000019992740294, -7.742960615092654e-5]\n",
       " [-1.0000047785771813, 2.478465171656261e-6]\n",
       " [-1.0000031178455246, 2.0687313704207048e-5]\n",
       " [-1.000000947397216, 1.1761619474353292e-5]\n",
       " [-0.9999999595886572, 1.7812565411030898e-6]\n",
       " [-0.9999999079084229, -4.079338741834287e-7]\n",
       " [-0.9999999779471571, -2.7556972413130157e-7]"
      ]
     },
     "metadata": {},
     "output_type": "display_data"
    }
   ],
   "source": [
    "display(sol)"
   ]
  },
  {
   "cell_type": "markdown",
   "metadata": {},
   "source": [
    "### Saving into csv "
   ]
  },
  {
   "cell_type": "code",
   "execution_count": null,
   "metadata": {},
   "outputs": [],
   "source": [
    "using CSV, Tables\n",
    "\n",
    "function save_solution_to_csv(sol, filename, joint_names, vms_compiled; rate=nothing, time_vector=nothing)\n",
    "    # Generate time vector based on rate or use the provided one\n",
    "    if time_vector === nothing\n",
    "        if rate === nothing\n",
    "            error(\"Either 'rate' or 'time_vector' must be provided.\")\n",
    "        end\n",
    "        t_min, t_max = sol.t[begin], sol.t[end]\n",
    "        time_vector = collect(t_min:1/rate:t_max)  # Uniform sampling\n",
    "    end\n",
    "\n",
    "    # Prepare header (positions and velocities)\n",
    "    pos_names = [joint_names[i] * \"_pos\" for i in 1:length(joint_names)]\n",
    "    vel_names = [joint_names[i] * \"_vel\" for i in 1:length(joint_names)]\n",
    "    header = [\"time\"; pos_names; vel_names]\n",
    "\n",
    "    # Initialize data array with time\n",
    "    data = time_vector\n",
    "    pos_data = []\n",
    "    vel_data = []\n",
    "\n",
    "    n = length(joint_names)\n",
    "\n",
    "    # Loop through each joint and collect its values at all time steps\n",
    "    for joint_name in joint_names\n",
    "        # Get the joint ID from the compiled robot\n",
    "        jointID = get_compiled_jointID(vms_compiled, \".robot.\" * joint_name)\n",
    "        joint = vms_compiled[jointID]\n",
    "\n",
    "        # Get the indices for position and velocity\n",
    "        joint_index = q_idxs(joint)[1]\n",
    "\n",
    "        joint_positions = [sol(t)[joint_index] for t in time_vector]  # Positions\n",
    "        joint_velocities = [sol(t)[n + joint_index] for t in time_vector]  # Velocities\n",
    "\n",
    "        # First iteration \n",
    "        if length(pos_data) == 0\n",
    "            pos_data = joint_positions\n",
    "            vel_data = joint_velocities\n",
    "        else\n",
    "            pos_data = hcat(pos_data, joint_positions)\n",
    "            vel_data = hcat(vel_data,joint_velocities)\n",
    "        end\n",
    "    end\n",
    "\n",
    "    data = hcat(data, pos_data, vel_data)\n",
    "\n",
    "    CSV.write(filename, Tables.table(data); header=header)\n",
    "\n",
    "    println(\"CSV saved to $filename\")\n",
    "end\n",
    "\n",
    "\n",
    "joint_names = collect(keys(joints(vms.robot)))\n",
    "save_solution_to_csv(sol, \"two_joints_solution.csv\" , joint_names, vms_compiled; rate=10)\n"
   ]
  }
 ],
 "metadata": {
  "kernelspec": {
   "display_name": "Julia 1.9.3",
   "language": "julia",
   "name": "julia-1.9"
  },
  "language_info": {
   "file_extension": ".jl",
   "mimetype": "application/julia",
   "name": "julia",
   "version": "1.9.3"
  }
 },
 "nbformat": 4,
 "nbformat_minor": 2
}
