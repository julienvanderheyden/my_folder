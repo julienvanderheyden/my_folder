{
 "cells": [
  {
   "cell_type": "code",
   "execution_count": 1,
   "metadata": {},
   "outputs": [
    {
     "data": {
      "text/plain": [
       "display_transform (generic function with 1 method)"
      ]
     },
     "execution_count": 1,
     "metadata": {},
     "output_type": "execute_result"
    },
    {
     "name": "stderr",
     "output_type": "stream",
     "text": [
      "WARNING: both GLMakie and Base export \"Text\"; uses of it in module Main must be qualified\n"
     ]
    }
   ],
   "source": [
    "using Revise\n",
    "using GeometryBasics: Vec3f, Point3f\n",
    "using LinearAlgebra\n",
    "using GLMakie\n",
    "using StaticArrays\n",
    "using VMRobotControl\n",
    "using VMRobotControl.Splines: CubicSpline\n",
    "using DifferentialEquations\n",
    "using MeshIO\n",
    "include(\"../functions.jl\")"
   ]
  },
  {
   "cell_type": "markdown",
   "metadata": {},
   "source": [
    "## Importing ShadowHand URDF"
   ]
  },
  {
   "cell_type": "markdown",
   "metadata": {},
   "source": [
    "### URDF Parsing"
   ]
  },
  {
   "cell_type": "code",
   "execution_count": 3,
   "metadata": {},
   "outputs": [
    {
     "data": {
      "text/plain": [
       "24DOF Mechanism{Float64} \"shadowhand_motor\" with 33 frames, 32 joints, 55 coordinates, 82 components"
      ]
     },
     "execution_count": 3,
     "metadata": {},
     "output_type": "execute_result"
    }
   ],
   "source": [
    "using FileIO, UUIDs\n",
    "try\n",
    "    FileIO.add_format(format\"DAE\", (), \".dae\", [:DigitalAssetExchangeFormatIO => UUID(\"43182933-f65b-495a-9e05-4d939cea427d\")])\n",
    "catch\n",
    "end\n",
    "\n",
    "cfg = URDFParserConfig(;suppress_warnings=true) # This is just to hide warnings about unsupported URDF features\n",
    "module_path = joinpath(splitpath(splitdir(pathof(VMRobotControl))[1])[1:end-1])\n",
    "robot = parseURDF(joinpath(module_path, \"URDFs/sr_description/sr_hand_vm_compatible.urdf\"), cfg)"
   ]
  },
  {
   "cell_type": "markdown",
   "metadata": {},
   "source": [
    "### Hand Visualization"
   ]
  },
  {
   "cell_type": "code",
   "execution_count": 8,
   "metadata": {},
   "outputs": [
    {
     "data": {
      "text/plain": [
       "GLMakie.Screen(...)"
      ]
     },
     "execution_count": 8,
     "metadata": {},
     "output_type": "execute_result"
    }
   ],
   "source": [
    "# Compile robot model\n",
    "m = compile(robot)\n",
    "kcache = Observable(new_kinematics_cache(m))  # This stores the robot's joint state\n",
    "\n",
    "# Create the figure\n",
    "fig = Figure(size=(800, 600))\n",
    "\n",
    "# Create interactive 3D scene\n",
    "ls = LScene(fig[1, 1]; show_axis=true)  # 3D interactive scene\n",
    "\n",
    "# Attach interactive camera controls\n",
    "cam3d!(ls)  # Enables mouse interaction (rotate, zoom, pan)\n",
    "\n",
    "# Plot the robot's visuals\n",
    "robotvisualize!(ls, kcache)\n",
    "display_frame(m, ls, \"rh_ffmiddle\")\n",
    "\n",
    "# Display figure\n",
    "display(fig)"
   ]
  },
  {
   "cell_type": "code",
   "execution_count": 7,
   "metadata": {},
   "outputs": [
    {
     "name": "stdout",
     "output_type": "stream",
     "text": [
      "Dict{String, VMRobotControl.CoordinateData} with 2 entries:\n",
      "  \"Target xy\" => CoordSlice{2, String}(Target position, [1, 2])\n",
      "  \"Target position\" => FramePoint{Float64, String}(.robot.world, [0.0, -0.1, 0.32])"
     ]
    },
    {
     "name": "stderr",
     "output_type": "stream",
     "text": [
      "WARNING: both GLMakie and LinearAlgebra export \"rotate!\"; uses of it in module Main must be qualified\n"
     ]
    }
   ],
   "source": [
    "show(IOContext(stdout, :limit => false),  MIME(\"text/plain\"), coordinates(vms))"
   ]
  },
  {
   "cell_type": "markdown",
   "metadata": {},
   "source": [
    "## Creating the Virtual Mechanism System"
   ]
  },
  {
   "cell_type": "markdown",
   "metadata": {},
   "source": [
    "### Gravity Compensation, Joint Limits and Joint Damping"
   ]
  },
  {
   "cell_type": "code",
   "execution_count": 9,
   "metadata": {},
   "outputs": [],
   "source": [
    "# GRAVITY COMPENSATION\n",
    "\n",
    "add_gravity_compensation!(robot, VMRobotControl.DEFAULT_GRAVITY)\n",
    "\n",
    "# JOINT DAMPING and LIMIT SPRINGS\n",
    "\n",
    "joint_limits = cfg.joint_limits\n",
    "\n",
    "for joint_id in keys(joints(robot))\n",
    "    limits = joint_limits[joint_id]\n",
    "    isnothing(limits) && continue\n",
    "    add_coordinate!(robot, JointSubspace(joint_id);  id=\"$(joint_id)_coord\")\n",
    "    @assert ~isnothing(limits.lower) && ~isnothing(limits.upper)\n",
    "    add_deadzone_springs!(robot, 50.0, (limits.lower+0.1, limits.upper-0.1), \"$(joint_id)_coord\")\n",
    "    add_component!(robot, LinearDamper(0.01, \"$(joint_id)_coord\"); id=\"$(joint_id)_damper\")\n",
    "end"
   ]
  },
  {
   "cell_type": "markdown",
   "metadata": {},
   "source": [
    "### Virtual Mechanism Initialization"
   ]
  },
  {
   "cell_type": "code",
   "execution_count": 12,
   "metadata": {},
   "outputs": [
    {
     "data": {
      "text/plain": [
       "\"ff mf middle damper\""
      ]
     },
     "execution_count": 12,
     "metadata": {},
     "output_type": "execute_result"
    }
   ],
   "source": [
    "vms = VirtualMechanismSystem(\"myShadowVMS\", robot)\n",
    "root = root_frame(vms.robot)\n",
    "\n",
    "# FINGER SPACING --> PRE-SHAPING\n",
    "add_coordinate!(vms, CoordDifference(\".robot.rh_ffmiddle_mass_coord\", \".robot.rh_mfmiddle_mass_coord\"); id=\"ff mf middle diff\")\n",
    "add_coordinate!(vms, CoordSlice(\"ff mf middle diff\", SVector(1,3)); id = \"ff mf middle diff xz\")\n",
    "\n",
    "add_coordinate!(vms, CoordNorm(\"ff mf middle diff xz\"); id=\"ff mf middle planar norm\")\n",
    "\n",
    "fingers_spacing = 0.032\n",
    "add_coordinate!(vms, ConstCoord(fingers_spacing); id = \"fingers spacing\")\n",
    "\n",
    "add_coordinate!(vms, CoordDifference(\"ff mf middle planar norm\", \"fingers spacing\"); id = \"ff mf middle planar error\")\n",
    "\n",
    "K = 100.0\n",
    "D = 50.0 \n",
    "\n",
    "add_component!(vms, LinearSpring(K, \"ff mf middle planar error\");     id=\"ff mf middle spring\")\n",
    "add_component!(vms, LinearDamper(D, \"ff mf middle planar error\");     id=\"ff mf middle damper\")"
   ]
  },
  {
   "cell_type": "markdown",
   "metadata": {},
   "source": [
    "## Simulating the Robot"
   ]
  },
  {
   "cell_type": "markdown",
   "metadata": {},
   "source": [
    "### Setting Up the Simulation"
   ]
  },
  {
   "cell_type": "code",
   "execution_count": 16,
   "metadata": {},
   "outputs": [
    {
     "name": "stderr",
     "output_type": "stream",
     "text": [
      "\u001b[36m\u001b[1m[ \u001b[22m\u001b[39m\u001b[36m\u001b[1mInfo: \u001b[22m\u001b[39mSimulating shadow robot with fingers spacing\n",
      "\u001b[32mODE   0%|█                                              |  ETA: N/A\u001b[39m\n",
      "\u001b[32mODE   3%|██                                             |  ETA: 0:00:49\u001b[39m\n",
      "\u001b[32mODE   5%|███                                            |  ETA: 0:00:39\u001b[39m\n",
      "\u001b[32mODE   8%|████                                           |  ETA: 0:00:46\u001b[39m\n",
      "\u001b[32mODE  11%|██████                                         |  ETA: 0:00:41\u001b[39m\n",
      "\u001b[32mODE  14%|███████                                        |  ETA: 0:00:37\u001b[39m\n",
      "\u001b[32mODE  17%|█████████                                      |  ETA: 0:00:34\u001b[39m\n",
      "\u001b[32mODE  20%|██████████                                     |  ETA: 0:00:32\u001b[39m\n",
      "\u001b[32mODE  23%|███████████                                    |  ETA: 0:00:30\u001b[39m\n",
      "\u001b[32mODE  26%|█████████████                                  |  ETA: 0:00:28\u001b[39m\n",
      "\u001b[32mODE  29%|██████████████                                 |  ETA: 0:00:27\u001b[39m\n",
      "\u001b[32mODE  30%|███████████████                                |  ETA: 0:00:28\u001b[39m\n",
      "\u001b[32mODE  30%|███████████████                                |  ETA: 0:00:30\u001b[39m\n",
      "\u001b[32mODE  30%|███████████████                                |  ETA: 0:00:32\u001b[39m\n",
      "\u001b[32mODE  30%|███████████████                                |  ETA: 0:00:34\u001b[39m\n",
      "\u001b[32mODE  31%|███████████████                                |  ETA: 0:00:36\u001b[39m\n",
      "\u001b[32mODE  31%|███████████████                                |  ETA: 0:00:38\u001b[39m\n",
      "\u001b[32mODE  31%|███████████████                                |  ETA: 0:00:40\u001b[39m\n",
      "\u001b[32mODE  31%|███████████████                                |  ETA: 0:00:42\u001b[39m\n",
      "\u001b[32mODE  31%|███████████████                                |  ETA: 0:00:44\u001b[39m\n",
      "\u001b[32mODE  31%|███████████████                                |  ETA: 0:00:46\u001b[39m\n",
      "\u001b[32mODE  31%|███████████████                                |  ETA: 0:00:48\u001b[39m\n",
      "\u001b[32mODE  31%|███████████████                                |  ETA: 0:00:50\u001b[39m\n",
      "\u001b[32mODE  31%|███████████████                                |  ETA: 0:00:52\u001b[39m\n",
      "\u001b[32mODE  31%|███████████████                                |  ETA: 0:00:53\u001b[39m\n",
      "\u001b[32mODE  32%|███████████████                                |  ETA: 0:00:55\u001b[39m\n",
      "\u001b[32mODE  32%|███████████████                                |  ETA: 0:00:56\u001b[39m\n",
      "\u001b[32mODE  32%|████████████████                               |  ETA: 0:00:58\u001b[39m\n",
      "\u001b[32mODE  32%|████████████████                               |  ETA: 0:00:59\u001b[39m\n",
      "\u001b[32mODE  34%|████████████████                               |  ETA: 0:00:59\u001b[39m\n",
      "\u001b[32mODE  36%|██████████████████                             |  ETA: 0:00:55\u001b[39m\n",
      "\u001b[32mODE  39%|███████████████████                            |  ETA: 0:00:50\u001b[39m\n",
      "\u001b[32mODE  42%|████████████████████                           |  ETA: 0:00:46\u001b[39m\n",
      "\u001b[32mODE  45%|██████████████████████                         |  ETA: 0:00:43\u001b[39m\n",
      "\u001b[32mODE  48%|███████████████████████                        |  ETA: 0:00:39\u001b[39m\n",
      "\u001b[32mODE  51%|████████████████████████                       |  ETA: 0:00:36\u001b[39m\n",
      "\u001b[32mODE  54%|██████████████████████████                     |  ETA: 0:00:33\u001b[39m\n",
      "\u001b[32mODE  57%|███████████████████████████                    |  ETA: 0:00:30\u001b[39m\n",
      "\u001b[32mODE  60%|████████████████████████████                   |  ETA: 0:00:27\u001b[39m\n",
      "\u001b[32mODE  62%|██████████████████████████████                 |  ETA: 0:00:25\u001b[39m\n",
      "\u001b[32mODE  65%|███████████████████████████████                |  ETA: 0:00:23\u001b[39m\n",
      "\u001b[32mODE  68%|████████████████████████████████               |  ETA: 0:00:20\u001b[39m\n",
      "\u001b[32mODE  71%|██████████████████████████████████             |  ETA: 0:00:18\u001b[39m\n",
      "\u001b[32mODE  74%|███████████████████████████████████            |  ETA: 0:00:16\u001b[39m\n",
      "\u001b[32mODE  77%|████████████████████████████████████           |  ETA: 0:00:14\u001b[39m\n",
      "\u001b[32mODE  79%|██████████████████████████████████████         |  ETA: 0:00:12\u001b[39m\n",
      "\u001b[32mODE  82%|███████████████████████████████████████        |  ETA: 0:00:10\u001b[39m\n",
      "\u001b[32mODE  85%|█████████████████████████████████████████      |  ETA: 0:00:08\u001b[39m\n",
      "\u001b[32mODE  88%|██████████████████████████████████████████     |  ETA: 0:00:07\u001b[39m\n",
      "\u001b[32mODE  90%|███████████████████████████████████████████    |  ETA: 0:00:06\u001b[39m\n",
      "\u001b[32mODE  90%|███████████████████████████████████████████    |  ETA: 0:00:06\u001b[39m\n",
      "\u001b[32mODE  90%|███████████████████████████████████████████    |  ETA: 0:00:06\u001b[39m\n",
      "\u001b[32mODE  90%|███████████████████████████████████████████    |  ETA: 0:00:06\u001b[39m\n",
      "\u001b[32mODE  90%|███████████████████████████████████████████    |  ETA: 0:00:06\u001b[39m\n",
      "\u001b[32mODE  91%|███████████████████████████████████████████    |  ETA: 0:00:06\u001b[39m\n",
      "\u001b[32mODE  91%|███████████████████████████████████████████    |  ETA: 0:00:06\u001b[39m\n",
      "\u001b[32mODE  91%|███████████████████████████████████████████    |  ETA: 0:00:06\u001b[39m\n",
      "\u001b[32mODE  91%|███████████████████████████████████████████    |  ETA: 0:00:06\u001b[39m\n",
      "\u001b[32mODE  91%|███████████████████████████████████████████    |  ETA: 0:00:06\u001b[39m\n",
      "\u001b[32mODE  91%|███████████████████████████████████████████    |  ETA: 0:00:06\u001b[39m\n",
      "\u001b[32mODE  91%|███████████████████████████████████████████    |  ETA: 0:00:06\u001b[39m\n",
      "\u001b[32mODE  91%|███████████████████████████████████████████    |  ETA: 0:00:06\u001b[39m\n",
      "\u001b[32mODE  91%|███████████████████████████████████████████    |  ETA: 0:00:06\u001b[39m\n",
      "\u001b[32mODE  91%|███████████████████████████████████████████    |  ETA: 0:00:06\u001b[39m\n",
      "\u001b[32mODE  91%|███████████████████████████████████████████    |  ETA: 0:00:06\u001b[39m\n",
      "\u001b[32mODE  91%|███████████████████████████████████████████    |  ETA: 0:00:06\u001b[39m\n",
      "\u001b[32mODE  92%|████████████████████████████████████████████   |  ETA: 0:00:06\u001b[39m\n",
      "\u001b[32mODE  92%|████████████████████████████████████████████   |  ETA: 0:00:06\u001b[39m\n",
      "\u001b[32mODE  92%|████████████████████████████████████████████   |  ETA: 0:00:06\u001b[39m\n",
      "\u001b[32mODE  92%|████████████████████████████████████████████   |  ETA: 0:00:06\u001b[39m\n",
      "\u001b[32mODE  93%|████████████████████████████████████████████   |  ETA: 0:00:05\u001b[39m\n",
      "\u001b[32mODE  96%|██████████████████████████████████████████████ |  ETA: 0:00:03\u001b[39m\n",
      "\u001b[32mODE  99%|███████████████████████████████████████████████|  ETA: 0:00:01\u001b[39m\n",
      "\u001b[90mODE 100%|███████████████████████████████████████████████| Time: 0:01:13\u001b[39m\n"
     ]
    }
   ],
   "source": [
    "using Logging: global_logger\n",
    "using TerminalLoggers: TerminalLogger\n",
    "global_logger(TerminalLogger())\n",
    "\n",
    "disturbance_func(t) = mod(t, 6) < 3 ? SVector(0., 0., 0.) : SVector(0., 10., 0.)\n",
    "\n",
    "f_setup(cache) = get_compiled_coordID(cache, \".robot.rh_fftip_mass_coord\")\n",
    "\n",
    "function f_control(cache, t, args, extra)\n",
    "    tcp_pos_coord_id = args\n",
    "    F = disturbance_func(t)\n",
    "    uᵣ, uᵥ = get_u(cache)\n",
    "    z = configuration(cache, tcp_pos_coord_id)\n",
    "    J = jacobian(cache, tcp_pos_coord_id)\n",
    "    mul!(uᵣ, J', F)\n",
    "    nothing\n",
    "end\n",
    "\n",
    "tspan = (0., 10.)\n",
    "vms_compiled = compile(vms)\n",
    "\n",
    "q = (zero_q(vms_compiled.robot), zero_q(vms_compiled.virtual_mechanism)) # Robot joint angle, vm joint angles\n",
    "q̇ = (zero_q̇(vms_compiled.robot), zero_q̇(vms_compiled.virtual_mechanism)) # Robot joint velocity, vm joint velocities\n",
    "\n",
    "g = VMRobotControl.DEFAULT_GRAVITY\n",
    "dcache = new_dynamics_cache(vms_compiled)\n",
    "prob = get_ode_problem(dcache, g, q, q̇, tspan; f_setup, f_control)\n",
    "@info \"Simulating shadow robot with fingers spacing\"\n",
    "\n",
    "sol = solve(prob, Tsit5(), progress=true; maxiters=1e6, abstol=1e-6, reltol=1e-6);"
   ]
  },
  {
   "cell_type": "markdown",
   "metadata": {},
   "source": [
    "### Visualizing the Results"
   ]
  },
  {
   "cell_type": "code",
   "execution_count": 19,
   "metadata": {},
   "outputs": [],
   "source": [
    "fig = Figure(; size=(720, 720), figure_padding=0)\n",
    "display(fig)\n",
    "ls = LScene(fig[1, 1]; show_axis=false)\n",
    "cam = cam3d!(ls; center=false)\n",
    "cam.lookat[] = [0.25, 0.5, 0.1]\n",
    "cam.eyeposition[] = [-0.4, -0.8, 0.5]\n",
    "\n",
    "plotting_t = Observable(0.0)\n",
    "plotting_kcache = Observable(new_kinematics_cache(compile(vms)))\n",
    "robotvisualize!(ls, plotting_kcache)\n",
    "\n",
    "tcp_pos_id = get_compiled_coordID(plotting_kcache[], \".robot.rh_fftip_mass_coord\")\n",
    "tcp_pos = map(plotting_kcache) do kcache\n",
    "    Point3f(configuration(kcache, tcp_pos_id))\n",
    "end\n",
    "force = map(t -> 0.01 * Vec3f(disturbance_func(t)), plotting_t)\n",
    "arrowsize = map(f -> 0.1*(f'*f)^(0.25), force)\n",
    "arrows!(ls, map(p -> [p], tcp_pos), map(f -> [f], force); color = :red, arrowsize)\n",
    "\n",
    "fps = 60\n",
    "T = sol.t[end]\n",
    "N_frames = Int(floor(fps * T))\n",
    "ts = LinRange(0.0, T, N_frames)\n",
    "savepath = joinpath(module_path, \"docs/src/assets/shadowhand_two_phases_ball_grasp.mp4\")\n",
    "display(fig)\n",
    "animate_robot_odesolution(fig, sol, plotting_kcache, savepath; t=plotting_t);"
   ]
  }
 ],
 "metadata": {
  "kernelspec": {
   "display_name": "Julia 1.9.3",
   "language": "julia",
   "name": "julia-1.9"
  },
  "language_info": {
   "file_extension": ".jl",
   "mimetype": "application/julia",
   "name": "julia",
   "version": "1.9.3"
  }
 },
 "nbformat": 4,
 "nbformat_minor": 2
}
