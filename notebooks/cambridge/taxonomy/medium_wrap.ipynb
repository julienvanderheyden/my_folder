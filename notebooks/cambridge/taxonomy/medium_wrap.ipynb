{
 "cells": [
  {
   "cell_type": "code",
   "execution_count": 1,
   "metadata": {},
   "outputs": [
    {
     "data": {
      "text/plain": [
       "generate_q_init (generic function with 1 method)"
      ]
     },
     "metadata": {},
     "output_type": "display_data"
    }
   ],
   "source": [
    "using Revise\n",
    "using GeometryBasics: Vec3f, Point3f\n",
    "using LinearAlgebra\n",
    "using GLMakie\n",
    "using StaticArrays\n",
    "using VMRobotControl\n",
    "using VMRobotControl.Splines: CubicSpline\n",
    "using DifferentialEquations\n",
    "using MeshIO\n",
    "include(\"../../functions.jl\")"
   ]
  },
  {
   "cell_type": "markdown",
   "metadata": {},
   "source": [
    "## Importing ShadowHand URDF"
   ]
  },
  {
   "cell_type": "markdown",
   "metadata": {},
   "source": [
    "### URDF Parsing"
   ]
  },
  {
   "cell_type": "code",
   "execution_count": 2,
   "metadata": {},
   "outputs": [
    {
     "data": {
      "text/plain": [
       "24DOF Mechanism{Float64} \"shadowhand_motor\" with 33 frames, 32 joints, 55 coordinates, 82 components"
      ]
     },
     "metadata": {},
     "output_type": "display_data"
    }
   ],
   "source": [
    "using FileIO, UUIDs\n",
    "try\n",
    "    FileIO.add_format(format\"DAE\", (), \".dae\", [:DigitalAssetExchangeFormatIO => UUID(\"43182933-f65b-495a-9e05-4d939cea427d\")])\n",
    "catch\n",
    "end\n",
    "\n",
    "cfg = URDFParserConfig(;suppress_warnings=true) # This is just to hide warnings about unsupported URDF features\n",
    "module_path = joinpath(splitpath(splitdir(pathof(VMRobotControl))[1])[1:end-1])\n",
    "robot = parseURDF(joinpath(module_path, \"URDFs/sr_description/sr_hand_vm_compatible.urdf\"), cfg)"
   ]
  },
  {
   "cell_type": "markdown",
   "metadata": {},
   "source": [
    "### Kinematic computations : Obtaining rail points"
   ]
  },
  {
   "cell_type": "code",
   "execution_count": 12,
   "metadata": {},
   "outputs": [
    {
     "data": {
      "text/plain": [
       "3-element SVector{3, Float64} with indices SOneTo(3):\n",
       "  0.011\n",
       " -0.01\n",
       "  0.44201000000000007"
      ]
     },
     "metadata": {},
     "output_type": "display_data"
    }
   ],
   "source": [
    "m = compile(robot)\n",
    "kcache = new_kinematics_cache(m)  \n",
    "\n",
    "rh_mftip_frame_id = get_compiled_frameID(m, \"rh_mftip\")\n",
    "mftip_transform = get_transform(kcache, rh_mftip_frame_id)\n",
    "display(mftip_transform.origin)"
   ]
  },
  {
   "cell_type": "markdown",
   "metadata": {},
   "source": [
    "### Hand Visualization"
   ]
  },
  {
   "cell_type": "code",
   "execution_count": 212,
   "metadata": {},
   "outputs": [
    {
     "data": {
      "text/plain": [
       "4×4 Matrix{Float64}:\n",
       " 1.0  0.0  0.0   0.011\n",
       " 0.0  1.0  0.0  -0.075\n",
       " 0.0  0.0  1.0   0.38\n",
       " 0.0  0.0  0.0   1.0"
      ]
     },
     "metadata": {},
     "output_type": "display_data"
    }
   ],
   "source": [
    "# Target transform \n",
    "R = [1.0 0.0 0.0; \n",
    "     0.0 1.0 0.0;\n",
    "     0.0 0.0 1.0]\n",
    "\n",
    "t = [0.011, -0.075, 0.38]  # Example translation vector\n",
    "\n",
    "# Construct the homogeneous transformation matrix\n",
    "T = [R t; 0 0 0 1]\n",
    "\n",
    "display(T)  # Show the matrix"
   ]
  },
  {
   "cell_type": "code",
   "execution_count": 16,
   "metadata": {},
   "outputs": [
    {
     "data": {
      "text/plain": [
       "GLMakie.Screen(...)"
      ]
     },
     "execution_count": 16,
     "metadata": {},
     "output_type": "execute_result"
    }
   ],
   "source": [
    "# Compile robot model\n",
    "m = compile(robot)\n",
    "kcache = Observable(new_kinematics_cache(m))  # This stores the robot's joint state\n",
    "\n",
    "# Create the figure\n",
    "fig = Figure(size=(800, 600))\n",
    "\n",
    "# Create interactive 3D scene\n",
    "ls = LScene(fig[1, 1]; show_axis=true)  # 3D interactive scene\n",
    "\n",
    "# Attach interactive camera controls\n",
    "cam3d!(ls)  # Enables mouse interaction (rotate, zoom, pan)\n",
    "\n",
    "# Plot the robot's visuals\n",
    "robotvisualize!(ls, kcache)\n",
    "display_frame(m, ls, \"rh_ffmiddle\")\n",
    "display_frame(m, ls, \"world\")\n",
    "#display_transform(ls, T)\n",
    "\n",
    "# Display figure\n",
    "display(fig)"
   ]
  },
  {
   "cell_type": "code",
   "execution_count": 13,
   "metadata": {},
   "outputs": [
    {
     "name": "stdout",
     "output_type": "stream",
     "text": [
      "33-element Vector{String}:\n",
      " \"world\"\n",
      " \"rh_forearm\"\n",
      " \"rh_wrist\"\n",
      " \"rh_palm\"\n",
      " \"rh_manipulator\"\n",
      " \"rh_imu\"\n",
      " \"rh_ffknuckle\"\n",
      " \"rh_ffproximal\"\n",
      " \"rh_ffmiddle\"\n",
      " \"rh_ffdistal\"\n",
      " \"rh_fftip\"\n",
      " \"rh_mfknuckle\"\n",
      " \"rh_mfproximal\"\n",
      " \"rh_mfmiddle\"\n",
      " \"rh_mfdistal\"\n",
      " \"rh_mftip\"\n",
      " \"rh_rfknuckle\"\n",
      " \"rh_rfproximal\"\n",
      " \"rh_rfmiddle\"\n",
      " \"rh_rfdistal\"\n",
      " \"rh_rftip\"\n",
      " \"rh_lfmetacarpal\"\n",
      " \"rh_lfknuckle\"\n",
      " \"rh_lfproximal\"\n",
      " \"rh_lfmiddle\"\n",
      " \"rh_lfdistal\"\n",
      " \"rh_lftip\"\n",
      " \"rh_thbase\"\n",
      " \"rh_thproximal\"\n",
      " \"rh_thhub\"\n",
      " \"rh_thmiddle\"\n",
      " \"rh_thdistal\"\n",
      " \"rh_thtip\""
     ]
    }
   ],
   "source": [
    "show(IOContext(stdout, :limit => false),  MIME(\"text/plain\"), frames(robot))"
   ]
  },
  {
   "cell_type": "markdown",
   "metadata": {},
   "source": [
    "## Creating the Virtual Mechanism System"
   ]
  },
  {
   "cell_type": "markdown",
   "metadata": {},
   "source": [
    "### Gravity Compensation, Joint Limits and Joint Damping"
   ]
  },
  {
   "cell_type": "code",
   "execution_count": 3,
   "metadata": {},
   "outputs": [],
   "source": [
    "# GRAVITY COMPENSATION\n",
    "\n",
    "add_gravity_compensation!(robot, VMRobotControl.DEFAULT_GRAVITY)\n",
    "\n",
    "# JOINT DAMPING and LIMIT SPRINGS\n",
    "\n",
    "joint_limits = cfg.joint_limits\n",
    "\n",
    "for joint_id in keys(joints(robot))\n",
    "    limits = joint_limits[joint_id]\n",
    "    isnothing(limits) && continue\n",
    "    add_coordinate!(robot, JointSubspace(joint_id);  id=\"$(joint_id)_coord\")\n",
    "    @assert ~isnothing(limits.lower) && ~isnothing(limits.upper)\n",
    "    add_deadzone_springs!(robot, 50.0, (limits.lower+0.1, limits.upper-0.1), \"$(joint_id)_coord\")\n",
    "    add_component!(robot, LinearDamper(0.01, \"$(joint_id)_coord\"); id=\"$(joint_id)_damper\")\n",
    "end"
   ]
  },
  {
   "cell_type": "markdown",
   "metadata": {},
   "source": [
    "### Creation of the rail"
   ]
  },
  {
   "cell_type": "code",
   "execution_count": 4,
   "metadata": {},
   "outputs": [],
   "source": [
    "vm = Mechanism{Float64}(\"VirtualTracks\")\n",
    "\n",
    "track_points = Matrix{Float64}([0.011 -0.01 0.442; 0.011  -0.075  0.41 ; 0.011 -0.065 0.32; 0.011 -0.0275 0.28; 0.011 -0.01 0.34])\n",
    "spline = CubicSpline(track_points)\n",
    "\n",
    "add_frame!(vm; id = \"cart_frame\")\n",
    "add_joint!(vm, Rail(spline, zero(Transform{Float64})); parent=root_frame(vm), child=\"cart_frame\", id=\"RailJoint\")\n",
    "add_coordinate!(vm, FrameOrigin(\"cart_frame\"); id=\"cart position\")\n",
    "add_coordinate!(vm, JointSubspace(\"RailJoint\");  id=\"CartDistance\")\n",
    "add_coordinate!(vm, ConstCoord(0.0); id = \"Cart target position\")\n",
    "add_coordinate!(vm, CoordDifference(\"CartDistance\", \"Cart target position\"); id =\"Cart position error\")\n",
    "add_component!(vm, LinearInerter(1.0, \"cart position\");  id=\"CartInertance\") # Cart mass\n",
    "add_component!(vm, LinearSpring(1000.0, \"Cart position error\"); id = \"cart positioning spring\")\n",
    "add_component!(vm, LinearDamper(100.0, \"CartDistance\"); id=\"CartDamper\");"
   ]
  },
  {
   "cell_type": "markdown",
   "metadata": {},
   "source": [
    "### Addition of the multiples springs/dampers"
   ]
  },
  {
   "cell_type": "code",
   "execution_count": 19,
   "metadata": {},
   "outputs": [
    {
     "data": {
      "text/plain": [
       "\"th j4 angular damper\""
      ]
     },
     "metadata": {},
     "output_type": "display_data"
    }
   ],
   "source": [
    "vms = VirtualMechanismSystem(\"myShadowVMS\", robot, vm)\n",
    "root = root_frame(vms.robot)\n",
    "\n",
    "m = compile(robot)\n",
    "kcache = new_kinematics_cache(m)  \n",
    "\n",
    "cart_init_pos = SVector(0.011, -0.01, 0.442)\n",
    "\n",
    "#Linking the four fingers to the same point, with non-zero equilibrium springs\n",
    "\n",
    "K = SMatrix{3, 3}(100., 0., 0., 0., 100., 0., 0., 0., 100.)\n",
    "D = SMatrix{3, 3}(10., 0., 0., 0., 10.0, 0., 0., 0., 10.)\n",
    "\n",
    "#lightly constraining some joints to avoid unwanted motions\n",
    "add_component!(vms, LinearSpring(10.0, \".robot.rh_LFJ5_coord\"); id = \"lf j5 angular spring\")\n",
    "add_component!(vms, LinearSpring(10.0, \".robot.rh_FFJ4_coord\"); id = \"ff j4 angular spring\")\n",
    "add_component!(vms, LinearSpring(10.0, \".robot.rh_MFJ4_coord\"); id = \"mf j4 angular spring\")\n",
    "add_component!(vms, LinearSpring(10.0, \".robot.rh_RFJ4_coord\"); id = \"rf j4 angular spring\")\n",
    "add_component!(vms, LinearSpring(10.0, \".robot.rh_LFJ4_coord\"); id = \"lf j4 angular spring\")\n",
    "add_component!(vms, LinearSpring(10.0, \".robot.rh_WRJ1_coord\"); id = \"wr j1 angular spring\")\n",
    "\n",
    "#Linking fingers to this target \n",
    "rh_fftip_frame_id = get_compiled_frameID(m, \"rh_fftip\")\n",
    "fftip_transform = get_transform(kcache, rh_fftip_frame_id)\n",
    "add_coordinate!(vms, FrameOrigin(\".robot.rh_fftip\"); id=\"ff position\")\n",
    "add_coordinate!(vms, FramePoint(\".virtual_mechanism.cart_frame\", fftip_transform.origin - cart_init_pos); id = \"ff Target position\") \n",
    "add_coordinate!(vms, CoordDifference(\"ff Target position\", \"ff position\"); id=\"ff position error\")\n",
    "\n",
    "add_component!(vms, LinearSpring(K, \"ff position error\");           id=\"ff position spring\")\n",
    "add_component!(vms, LinearDamper(D, \"ff position error\");           id=\"ff position damper\")\n",
    "\n",
    "rh_mftip_frame_id = get_compiled_frameID(m, \"rh_mftip\")\n",
    "mftip_transform = get_transform(kcache, rh_mftip_frame_id)\n",
    "add_coordinate!(vms, FrameOrigin(\".robot.rh_mftip\"); id=\"mf position\")\n",
    "add_coordinate!(vms, FramePoint(\".virtual_mechanism.cart_frame\", mftip_transform.origin - cart_init_pos); id = \"mf Target position\") \n",
    "add_coordinate!(vms, CoordDifference(\"mf Target position\", \"mf position\"); id=\"mf position error\")\n",
    "\n",
    "add_component!(vms, LinearSpring(K, \"mf position error\");           id=\"mf position spring\")\n",
    "add_component!(vms, LinearDamper(D, \"mf position error\");           id=\"mf position damper\")\n",
    "\n",
    "rh_rftip_frame_id = get_compiled_frameID(m, \"rh_rftip\")\n",
    "rftip_transform = get_transform(kcache, rh_rftip_frame_id)\n",
    "add_coordinate!(vms, FrameOrigin(\".robot.rh_rftip\"); id=\"rf position\")\n",
    "add_coordinate!(vms, FramePoint(\".virtual_mechanism.cart_frame\", rftip_transform.origin - cart_init_pos); id = \"rf Target position\") \n",
    "add_coordinate!(vms, CoordDifference(\"rf Target position\", \"rf position\"); id=\"rf position error\")\n",
    "\n",
    "add_component!(vms, LinearSpring(K, \"rf position error\");           id=\"rf position spring\")\n",
    "add_component!(vms, LinearDamper(D, \"rf position error\");           id=\"rf position damper\")\n",
    "\n",
    "rh_lftip_frame_id = get_compiled_frameID(m, \"rh_lftip\")\n",
    "lftip_transform = get_transform(kcache, rh_lftip_frame_id)\n",
    "add_coordinate!(vms, FrameOrigin(\".robot.rh_lftip\"); id=\"lf position\")\n",
    "add_coordinate!(vms, FramePoint(\".virtual_mechanism.cart_frame\", lftip_transform.origin - cart_init_pos); id = \"lf Target position\") \n",
    "add_coordinate!(vms, CoordDifference(\"lf Target position\", \"lf position\"); id=\"lf position error\")\n",
    "\n",
    "add_component!(vms, LinearSpring(K, \"lf position error\");           id=\"lf position spring\")\n",
    "add_component!(vms, LinearDamper(D, \"lf position error\");           id=\"lf position damper\")\n",
    "\n",
    "# THUMB HANDLING \n",
    "add_coordinate!(vms, FrameOrigin(\".robot.rh_thtip\"); id =\"th position\")\n",
    "add_coordinate!(vms, FrameOrigin(\".robot.rh_ffmiddle\"); id= \"ff middle position\")\n",
    "add_coordinate!(vms, CoordDifference(\"th position\", \"ff middle position\"); id = \"th ff dist\")\n",
    "add_coordinate!(vms, CoordNorm(\"th ff dist\"); id=\"th ff norm\")\n",
    "add_coordinate!(vms, ConstCoord(0.3); id=\"th spring length\")\n",
    "add_coordinate!(vms, CoordDifference(\"th ff norm\", \"th spring length\"); id = \"th position error\")\n",
    "\n",
    "add_component!(vms, LinearSpring(100.0, \"th position error\"); id=\"th position spring\")\n",
    "add_component!(vms, LinearDamper(10.0, \"th position error\"); id=\"th position damper\")\n",
    "\n",
    "add_coordinate!(vms, ConstCoord(1.22); id=\"th j4 target angle\")\n",
    "add_coordinate!(vms, JointSubspace(\".robot.rh_THJ4\"); id= \"th j4 angle\") \n",
    "add_coordinate!(vms, CoordDifference(\"th j4 target angle\", \"th j4 angle\"); id=\"th j4 angle error\")\n",
    "\n",
    "add_component!(vms, LinearSpring(1.0, \"th j4 angle error\"); id=\"th j4 angular spring\")\n",
    "add_component!(vms, LinearDamper(0.1, \"th j4 angle error\"); id=\"th j4 angular damper\")\n"
   ]
  },
  {
   "cell_type": "markdown",
   "metadata": {},
   "source": [
    "## Simulating the Robot"
   ]
  },
  {
   "cell_type": "markdown",
   "metadata": {},
   "source": [
    "### Setting Up the Simulation"
   ]
  },
  {
   "cell_type": "code",
   "execution_count": 20,
   "metadata": {},
   "outputs": [
    {
     "name": "stderr",
     "output_type": "stream",
     "text": [
      "\u001b[36m\u001b[1m[ \u001b[22m\u001b[39m\u001b[36m\u001b[1mInfo: \u001b[22m\u001b[39mSimulating shadow robot with medium wrap\n",
      "\u001b[32mODE   0%|█                                              |  ETA: N/A\u001b[39m\n",
      "\u001b[32mODE  18%|█████████                                      |  ETA: 0:00:42\u001b[39m\n",
      "\u001b[32mODE  39%|███████████████████                            |  ETA: 0:00:31\u001b[39m\n",
      "\u001b[32mODE  57%|███████████████████████████                    |  ETA: 0:00:22\u001b[39m\n",
      "\u001b[32mODE  74%|███████████████████████████████████            |  ETA: 0:00:13\u001b[39m\n",
      "\u001b[90mODE 100%|███████████████████████████████████████████████| Time: 0:00:38\u001b[39m\n"
     ]
    }
   ],
   "source": [
    "using Logging: global_logger\n",
    "using TerminalLoggers: TerminalLogger\n",
    "global_logger(TerminalLogger())\n",
    "\n",
    "\"\"\"\n",
    "Update the vms based on the \"coord\", which is a coordinate varying between \n",
    "0 and 1, 0 being the starting position of the medium wrap motion while 1 being \n",
    "the end\n",
    "\"\"\"\n",
    "function update_medium_wrap_coord(args, cache, coord)\n",
    "    target_rail_id, th_spring_length_id, th_j5_target_angle_id = args\n",
    "    # target_rail_id = args\n",
    "\n",
    "    #update the cart position on the track\n",
    "    rail_min = 0\n",
    "    rail_max = 0.25\n",
    "    rail_value = rail_min + (rail_max - rail_min)*coord # linear proportion\n",
    "    cache[target_rail_id] = remake(cache[target_rail_id] ; coord_data=ConstCoord(rail_value))\n",
    "\n",
    "    #update the length of the spring between the thumb and the ff finger\n",
    "    length_max = 0.12\n",
    "    length_min = 0.0\n",
    "    length_value = length_max - (length_max - length_min)*coord \n",
    "    cache[th_spring_length_id] = remake(cache[th_spring_length_id] ; coord_data = ConstCoord(length_value))\n",
    "\n",
    "    #update the angle of the thumb\n",
    "    angle_max = 1.22\n",
    "    angle_min = 0.0\n",
    "    angle_value = angle_max - (angle_max - angle_min)*coord\n",
    "    cache[th_j5_target_angle_id] = remake(cache[th_j5_target_angle_id] ; coord_data = ConstCoord(angle_value))\n",
    "\n",
    "    nothing\n",
    "end\n",
    "\n",
    "function f_setup(cache) \n",
    "    return (get_compiled_coordID(cache, \".virtual_mechanism.Cart target position\") , get_compiled_coordID(cache, \"th spring length\"), get_compiled_coordID(cache, \"th j4 target angle\"))\n",
    "end\n",
    "\n",
    "function f_control(cache, t, args, extra)\n",
    "\n",
    "    t_end = 6. #we want to reach the end position at t = t_end \n",
    "    \n",
    "    if t <= t_end \n",
    "        coord_value = t/t_end\n",
    "        update_medium_wrap_coord(args, cache, coord_value)\n",
    "    end\n",
    "end\n",
    "\n",
    "tspan = (0., 8.)\n",
    "vms_compiled = compile(vms)\n",
    "\n",
    "q = (zero_q(vms_compiled.robot), zero_q(vms_compiled.virtual_mechanism)) # Robot joint angle, vm joint angles\n",
    "q̇ = (zero_q̇(vms_compiled.robot), zero_q̇(vms_compiled.virtual_mechanism)) # Robot joint velocity, vm joint velocities\n",
    "\n",
    "g = VMRobotControl.DEFAULT_GRAVITY\n",
    "dcache = new_dynamics_cache(vms_compiled)\n",
    "prob = get_ode_problem(dcache, g, q, q̇, tspan; f_setup, f_control)\n",
    "@info \"Simulating shadow robot with medium wrap\"\n",
    "\n",
    "sol = solve(prob, Rosenbrock23(autodiff=false), progress=true; maxiters=1e6, abstol=1e-3, reltol=1e-3);"
   ]
  },
  {
   "cell_type": "markdown",
   "metadata": {},
   "source": [
    "### Visualizing the Results"
   ]
  },
  {
   "cell_type": "code",
   "execution_count": 21,
   "metadata": {},
   "outputs": [],
   "source": [
    "fig = Figure(; size=(720, 720), figure_padding=0)\n",
    "display(fig)\n",
    "ls = LScene(fig[1, 1]; show_axis=false)\n",
    "cam = cam3d!(ls; center=true)\n",
    "cam.lookat[] = [0.025, 0., 0.24]\n",
    "cam.eyeposition[] = [-0.25, -0.6, 0.62]\n",
    "\n",
    "plotting_t = Observable(0.0)\n",
    "plotting_kcache = Observable(new_kinematics_cache(compile(vms)))\n",
    "robotvisualize!(ls, plotting_kcache)\n",
    "\n",
    "plotting_vm_kcache = map(plotting_kcache) do k\n",
    "    VMRobotControl.virtual_mechanism_cache(k)\n",
    "end\n",
    "cartID = get_compiled_coordID(plotting_kcache[], \".virtual_mechanism.cart position\")\n",
    "scatter!(ls, plotting_kcache, cartID; color=:red, marker=:rect, markersize=5)\n",
    "robotsketch!(ls, plotting_vm_kcache; scale = 0.1)\n",
    "\n",
    "\n",
    "\n",
    "savepath = joinpath(module_path, \"docs/src/assets/shadowhand_medium_wrap.mp4\")\n",
    "display(fig)\n",
    "animate_robot_odesolution(fig, sol, plotting_kcache, savepath; t=plotting_t);"
   ]
  }
 ],
 "metadata": {
  "kernelspec": {
   "display_name": "Julia 1.9.3",
   "language": "julia",
   "name": "julia-1.9"
  },
  "language_info": {
   "file_extension": ".jl",
   "mimetype": "application/julia",
   "name": "julia",
   "version": "1.9.3"
  }
 },
 "nbformat": 4,
 "nbformat_minor": 2
}
