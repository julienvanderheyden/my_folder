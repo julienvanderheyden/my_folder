{
 "cells": [
  {
   "cell_type": "code",
   "execution_count": 1,
   "metadata": {},
   "outputs": [
    {
     "data": {
      "text/plain": [
       "generate_q_init (generic function with 1 method)"
      ]
     },
     "execution_count": 1,
     "metadata": {},
     "output_type": "execute_result"
    }
   ],
   "source": [
    "using Revise\n",
    "using GeometryBasics: Vec3f, Point3f\n",
    "using LinearAlgebra\n",
    "using GLMakie\n",
    "using StaticArrays\n",
    "using VMRobotControl\n",
    "using VMRobotControl.Splines: CubicSpline\n",
    "using DifferentialEquations\n",
    "using MeshIO\n",
    "include(\"../../functions.jl\")"
   ]
  },
  {
   "cell_type": "markdown",
   "metadata": {},
   "source": [
    "## Importing ShadowHand URDF"
   ]
  },
  {
   "cell_type": "markdown",
   "metadata": {},
   "source": [
    "### URDF Parsing"
   ]
  },
  {
   "cell_type": "code",
   "execution_count": 2,
   "metadata": {},
   "outputs": [
    {
     "data": {
      "text/plain": [
       "24DOF Mechanism{Float64} \"shadowhand_motor\" with 33 frames, 32 joints, 55 coordinates, 82 components"
      ]
     },
     "execution_count": 2,
     "metadata": {},
     "output_type": "execute_result"
    }
   ],
   "source": [
    "using FileIO, UUIDs\n",
    "try\n",
    "    FileIO.add_format(format\"DAE\", (), \".dae\", [:DigitalAssetExchangeFormatIO => UUID(\"43182933-f65b-495a-9e05-4d939cea427d\")])\n",
    "catch\n",
    "end\n",
    "\n",
    "cfg = URDFParserConfig(;suppress_warnings=true) # This is just to hide warnings about unsupported URDF features\n",
    "module_path = joinpath(splitpath(splitdir(pathof(VMRobotControl))[1])[1:end-1])\n",
    "robot = parseURDF(joinpath(module_path, \"URDFs/sr_description/sr_hand_vm_compatible.urdf\"), cfg)"
   ]
  },
  {
   "cell_type": "markdown",
   "metadata": {},
   "source": [
    "### Kinematic computations "
   ]
  },
  {
   "cell_type": "code",
   "execution_count": 3,
   "metadata": {},
   "outputs": [
    {
     "data": {
      "text/plain": [
       "3-element SVector{3, Float64} with indices SOneTo(3):\n",
       "  0.033\n",
       " -0.01\n",
       "  0.38701"
      ]
     },
     "metadata": {},
     "output_type": "display_data"
    }
   ],
   "source": [
    "m = compile(robot)\n",
    "kcache = new_kinematics_cache(m)  \n",
    "\n",
    "rh_mftip_frame_id = get_compiled_frameID(m, \"rh_ffmiddle\")\n",
    "mftip_transform = get_transform(kcache, rh_mftip_frame_id)\n",
    "display(mftip_transform.origin)"
   ]
  },
  {
   "cell_type": "markdown",
   "metadata": {},
   "source": [
    "### Hand Visualization"
   ]
  },
  {
   "cell_type": "code",
   "execution_count": 4,
   "metadata": {},
   "outputs": [
    {
     "data": {
      "text/plain": [
       "4×4 Matrix{Float64}:\n",
       " 1.0  0.0  0.0   0.045\n",
       " 0.0  1.0  0.0  -0.01\n",
       " 0.0  0.0  1.0   0.38701\n",
       " 0.0  0.0  0.0   1.0"
      ]
     },
     "metadata": {},
     "output_type": "display_data"
    }
   ],
   "source": [
    "# Target transform \n",
    "R = [1.0 0.0 0.0; \n",
    "     0.0 1.0 0.0;\n",
    "     0.0 0.0 1.0]\n",
    "\n",
    "t = [0.045, -0.01, 0.38701]  # Example translation vector\n",
    "\n",
    "# Construct the homogeneous transformation matrix\n",
    "T = [R t; 0 0 0 1]\n",
    "\n",
    "display(T)  # Show the matrix"
   ]
  },
  {
   "cell_type": "code",
   "execution_count": 5,
   "metadata": {},
   "outputs": [
    {
     "data": {
      "text/plain": [
       "GLMakie.Screen(...)"
      ]
     },
     "execution_count": 5,
     "metadata": {},
     "output_type": "execute_result"
    }
   ],
   "source": [
    "# Compile robot model\n",
    "m = compile(robot)\n",
    "kcache = Observable(new_kinematics_cache(m))  # This stores the robot's joint state\n",
    "\n",
    "# Create the figure\n",
    "fig = Figure(size=(800, 600))\n",
    "\n",
    "# Create interactive 3D scene\n",
    "ls = LScene(fig[1, 1]; show_axis=true)  # 3D interactive scene\n",
    "\n",
    "# Attach interactive camera controls\n",
    "cam3d!(ls)  # Enables mouse interaction (rotate, zoom, pan)\n",
    "\n",
    "# Plot the robot's visuals\n",
    "robotvisualize!(ls, kcache)\n",
    "display_frame(m, ls, \"rh_ffmiddle\")\n",
    "display_frame(m, ls, \"world\")\n",
    "display_transform(ls, T)\n",
    "\n",
    "# Display figure\n",
    "display(fig)"
   ]
  },
  {
   "cell_type": "code",
   "execution_count": null,
   "metadata": {},
   "outputs": [
    {
     "name": "stdout",
     "output_type": "stream",
     "text": [
      "33-element Vector{String}:\n",
      " \"world\"\n",
      " \"rh_forearm\"\n",
      " \"rh_wrist\"\n",
      " \"rh_palm\"\n",
      " \"rh_manipulator\"\n",
      " \"rh_imu\"\n",
      " \"rh_ffknuckle\"\n",
      " \"rh_ffproximal\"\n",
      " \"rh_ffmiddle\"\n",
      " \"rh_ffdistal\"\n",
      " \"rh_fftip\"\n",
      " \"rh_mfknuckle\"\n",
      " \"rh_mfproximal\"\n",
      " \"rh_mfmiddle\"\n",
      " \"rh_mfdistal\"\n",
      " \"rh_mftip\"\n",
      " \"rh_rfknuckle\"\n",
      " \"rh_rfproximal\"\n",
      " \"rh_rfmiddle\"\n",
      " \"rh_rfdistal\"\n",
      " \"rh_rftip\"\n",
      " \"rh_lfmetacarpal\"\n",
      " \"rh_lfknuckle\"\n",
      " \"rh_lfproximal\"\n",
      " \"rh_lfmiddle\"\n",
      " \"rh_lfdistal\"\n",
      " \"rh_lftip\"\n",
      " \"rh_thbase\"\n",
      " \"rh_thproximal\"\n",
      " \"rh_thhub\"\n",
      " \"rh_thmiddle\"\n",
      " \"rh_thdistal\"\n",
      " \"rh_thtip\""
     ]
    }
   ],
   "source": [
    "show(IOContext(stdout, :limit => false),  MIME(\"text/plain\"), frames(robot))\n",
    "show(IOContext(stdout, :limit => false),  MIME(\"text/plain\"), keys(joints(robot)))"
   ]
  },
  {
   "cell_type": "markdown",
   "metadata": {},
   "source": [
    "## Creating the Virtual Mechanism System"
   ]
  },
  {
   "cell_type": "markdown",
   "metadata": {},
   "source": [
    "### Gravity Compensation, Joint Limits and Joint Damping"
   ]
  },
  {
   "cell_type": "code",
   "execution_count": 6,
   "metadata": {},
   "outputs": [],
   "source": [
    "# GRAVITY COMPENSATION\n",
    "\n",
    "add_gravity_compensation!(robot, VMRobotControl.DEFAULT_GRAVITY)\n",
    "\n",
    "# JOINT DAMPING and LIMIT SPRINGS\n",
    "\n",
    "joint_limits = cfg.joint_limits\n",
    "\n",
    "for joint_id in keys(joints(robot))\n",
    "    limits = joint_limits[joint_id]\n",
    "    isnothing(limits) && continue\n",
    "    add_coordinate!(robot, JointSubspace(joint_id);  id=\"$(joint_id)_coord\")\n",
    "    @assert ~isnothing(limits.lower) && ~isnothing(limits.upper)\n",
    "    add_deadzone_springs!(robot, 50.0, (limits.lower+0.1, limits.upper-0.1), \"$(joint_id)_coord\")\n",
    "    add_component!(robot, LinearDamper(0.01, \"$(joint_id)_coord\"); id=\"$(joint_id)_damper\")\n",
    "end"
   ]
  },
  {
   "cell_type": "markdown",
   "metadata": {},
   "source": [
    "### Addition of the multiples springs/dampers"
   ]
  },
  {
   "cell_type": "code",
   "execution_count": null,
   "metadata": {},
   "outputs": [
    {
     "data": {
      "text/plain": [
       "\"ff j2 spring\""
      ]
     },
     "execution_count": 7,
     "metadata": {},
     "output_type": "execute_result"
    }
   ],
   "source": [
    "vms = VirtualMechanismSystem(\"myShadowVMS\", robot)\n",
    "root = root_frame(vms.robot)\n",
    "\n",
    "m = compile(robot)\n",
    "kcache = new_kinematics_cache(m)  \n",
    "\n",
    "cart_init_pos = SVector(0.011, -0.01, 0.442)\n",
    "\n",
    "#Linking the four fingers to the same point, with non-zero equilibrium springs\n",
    "\n",
    "K = SMatrix{3, 3}(100., 0., 0., 0., 100., 0., 0., 0., 100.)\n",
    "D = SMatrix{3, 3}(10., 0., 0., 0., 10.0, 0., 0., 0., 10.)\n",
    "\n",
    "#lightly constraining some joints to avoid unwanted motions\n",
    "add_component!(vms, LinearSpring(10.0, \".robot.rh_LFJ5_coord\"); id = \"lf j5 angular spring\")\n",
    "add_component!(vms, LinearSpring(10.0, \".robot.rh_FFJ4_coord\"); id = \"ff j4 angular spring\")\n",
    "add_component!(vms, LinearSpring(10.0, \".robot.rh_MFJ4_coord\"); id = \"mf j4 angular spring\")\n",
    "add_component!(vms, LinearSpring(10.0, \".robot.rh_RFJ4_coord\"); id = \"rf j4 angular spring\")\n",
    "add_component!(vms, LinearSpring(10.0, \".robot.rh_LFJ4_coord\"); id = \"lf j4 angular spring\")\n",
    "add_component!(vms, LinearSpring(10.0, \".robot.rh_WRJ1_coord\"); id = \"wr j1 angular spring\")\n",
    "add_component!(vms, LinearSpring(0.001, \".robot.rh_FFJ3_coord\"); id = \"ff j3 angular spring\")\n",
    "\n",
    "\n",
    "# THUMB HANDLING \n",
    "add_coordinate!(vms, FrameOrigin(\".robot.rh_thtip\"); id =\"th position\")\n",
    "add_coordinate!(vms, FramePoint(\".robot.rh_ffmiddle\", SVector(0.012,0.0,0.0)); id= \"th target position\")\n",
    "add_coordinate!(vms, CoordDifference(\"th position\", \"th target position\"); id = \"th target dist\")\n",
    "add_coordinate!(vms, CoordNorm(\"th target dist\"); id=\"th target norm\")\n",
    "add_coordinate!(vms, ConstCoord(0.07); id=\"th spring length\")\n",
    "add_coordinate!(vms, CoordDifference(\"th target norm\", \"th spring length\"); id = \"th position error\")\n",
    "\n",
    "add_component!(vms, LinearSpring(100.0, \"th position error\"); id=\"th position spring\")\n",
    "add_component!(vms, LinearDamper(100.0, \"th position error\"); id=\"th position damper\")\n",
    "\n",
    "add_coordinate!(vms, ConstCoord(1.57); id = \"ff j2 angle target\")\n",
    "add_coordinate!(vms, CoordDifference(\".robot.rh_FFJ2_coord\", \"ff j2 angle target\") ; id =\"ff j2 angle error\")\n",
    "add_component!(vms, LinearSpring(0.0, \"ff j2 angle error\"); id = \"ff j2 spring\")\n",
    "\n",
    "# add_coordinate!(vms, ConstCoord(1.00); id=\"th j5 target angle\")\n",
    "# add_coordinate!(vms, JointSubspace(\".robot.rh_THJ5\"); id= \"th j5 angle\")\n",
    "# add_coordinate!(vms, CoordDifference(\"th j5 target angle\", \"th j5 angle\"); id=\"th j5 angle error\")\n",
    "\n",
    "# add_component!(vms, LinearSpring(100.0, \"th j5 angle error\"); id=\"th j5 angular spring\")\n",
    "# add_component!(vms, LinearDamper(10.0, \"th j5 angle error\"); id=\"th j5 angular damper\")\n"
   ]
  },
  {
   "cell_type": "markdown",
   "metadata": {},
   "source": [
    "## Simulating the Robot"
   ]
  },
  {
   "cell_type": "markdown",
   "metadata": {},
   "source": [
    "### Setting Up the Simulation"
   ]
  },
  {
   "cell_type": "code",
   "execution_count": 8,
   "metadata": {},
   "outputs": [
    {
     "name": "stderr",
     "output_type": "stream",
     "text": [
      "\u001b[36m\u001b[1m[ \u001b[22m\u001b[39m\u001b[36m\u001b[1mInfo: \u001b[22m\u001b[39mSimulating shadow robot with lateral pinch\n",
      "\u001b[32mODE   0%|█                                              |  ETA: N/A\u001b[39m\n",
      "\u001b[32mODE   2%|█                                              |  ETA: 0:08:05\u001b[39m\n",
      "\u001b[32mODE   4%|██                                             |  ETA: 0:04:23\u001b[39m\n",
      "\u001b[32mODE   6%|███                                            |  ETA: 0:03:08\u001b[39m\n",
      "\u001b[32mODE   8%|████                                           |  ETA: 0:02:29\u001b[39m\n",
      "\u001b[32mODE  10%|█████                                          |  ETA: 0:02:05\u001b[39m\n",
      "\u001b[32mODE  12%|██████                                         |  ETA: 0:01:49\u001b[39m\n",
      "\u001b[32mODE  14%|███████                                        |  ETA: 0:01:40\u001b[39m\n",
      "\u001b[32mODE  16%|████████                                       |  ETA: 0:01:31\u001b[39m\n",
      "\u001b[32mODE  18%|█████████                                      |  ETA: 0:01:24\u001b[39m\n",
      "\u001b[32mODE  20%|██████████                                     |  ETA: 0:01:20\u001b[39m\n",
      "\u001b[32mODE  21%|███████████                                    |  ETA: 0:01:18\u001b[39m\n",
      "\u001b[32mODE  23%|███████████                                    |  ETA: 0:01:17\u001b[39m\n",
      "\u001b[32mODE  24%|████████████                                   |  ETA: 0:01:16\u001b[39m\n",
      "\u001b[32mODE  25%|████████████                                   |  ETA: 0:01:15\u001b[39m\n",
      "\u001b[32mODE  26%|█████████████                                  |  ETA: 0:01:13\u001b[39m\n",
      "\u001b[32mODE  27%|█████████████                                  |  ETA: 0:01:12\u001b[39m\n",
      "\u001b[32mODE  29%|██████████████                                 |  ETA: 0:01:10\u001b[39m\n",
      "\u001b[32mODE  30%|███████████████                                |  ETA: 0:01:09\u001b[39m\n",
      "\u001b[32mODE  31%|███████████████                                |  ETA: 0:01:07\u001b[39m\n",
      "\u001b[32mODE  32%|████████████████                               |  ETA: 0:01:06\u001b[39m\n",
      "\u001b[32mODE  33%|████████████████                               |  ETA: 0:01:05\u001b[39m\n",
      "\u001b[32mODE  35%|█████████████████                              |  ETA: 0:01:03\u001b[39m\n",
      "\u001b[32mODE  36%|█████████████████                              |  ETA: 0:01:02\u001b[39m\n",
      "\u001b[32mODE  37%|██████████████████                             |  ETA: 0:01:00\u001b[39m\n",
      "\u001b[32mODE  38%|██████████████████                             |  ETA: 0:00:59\u001b[39m\n",
      "\u001b[32mODE  40%|███████████████████                            |  ETA: 0:00:57\u001b[39m\n",
      "\u001b[32mODE  41%|████████████████████                           |  ETA: 0:00:56\u001b[39m\n",
      "\u001b[32mODE  42%|████████████████████                           |  ETA: 0:00:54\u001b[39m\n",
      "\u001b[32mODE  44%|█████████████████████                          |  ETA: 0:00:52\u001b[39m\n",
      "\u001b[32mODE  45%|██████████████████████                         |  ETA: 0:00:50\u001b[39m\n",
      "\u001b[32mODE  47%|██████████████████████                         |  ETA: 0:00:49\u001b[39m\n",
      "\u001b[32mODE  48%|███████████████████████                        |  ETA: 0:00:46\u001b[39m\n",
      "\u001b[32mODE  50%|████████████████████████                       |  ETA: 0:00:44\u001b[39m\n",
      "\u001b[32mODE  52%|█████████████████████████                      |  ETA: 0:00:41\u001b[39m\n",
      "\u001b[32mODE  56%|███████████████████████████                    |  ETA: 0:00:36\u001b[39m\n",
      "\u001b[32mODE  59%|████████████████████████████                   |  ETA: 0:00:33\u001b[39m\n",
      "\u001b[32mODE  61%|█████████████████████████████                  |  ETA: 0:00:30\u001b[39m\n",
      "\u001b[32mODE  64%|███████████████████████████████                |  ETA: 0:00:27\u001b[39m\n",
      "\u001b[32mODE  67%|████████████████████████████████               |  ETA: 0:00:24\u001b[39m\n",
      "\u001b[32mODE  70%|█████████████████████████████████              |  ETA: 0:00:22\u001b[39m\n",
      "\u001b[32mODE  72%|███████████████████████████████████            |  ETA: 0:00:20\u001b[39m\n",
      "\u001b[32mODE  75%|████████████████████████████████████           |  ETA: 0:00:17\u001b[39m\n",
      "\u001b[32mODE  78%|█████████████████████████████████████          |  ETA: 0:00:15\u001b[39m\n",
      "\u001b[32mODE  81%|███████████████████████████████████████        |  ETA: 0:00:13\u001b[39m\n",
      "\u001b[32mODE  85%|████████████████████████████████████████       |  ETA: 0:00:10\u001b[39m\n",
      "\u001b[32mODE  88%|██████████████████████████████████████████     |  ETA: 0:00:08\u001b[39m\n",
      "\u001b[32mODE  92%|████████████████████████████████████████████   |  ETA: 0:00:05\u001b[39m\n",
      "\u001b[32mODE  95%|█████████████████████████████████████████████  |  ETA: 0:00:03\u001b[39m\n",
      "\u001b[32mODE  99%|███████████████████████████████████████████████|  ETA: 0:00:01\u001b[39m\n",
      "\u001b[90mODE 100%|███████████████████████████████████████████████| Time: 0:00:59\u001b[39m\n"
     ]
    }
   ],
   "source": [
    "using Logging: global_logger\n",
    "using TerminalLoggers: TerminalLogger\n",
    "global_logger(TerminalLogger())\n",
    "\n",
    "\"\"\"\n",
    "Update the vms based on the \"coord\", which is a coordinate varying between \n",
    "0 and 1, 0 being the starting position of the lateral pinch motion while 1 being \n",
    "the end\n",
    "\"\"\"\n",
    "function update_lateral_pinch_coord(args, cache, coord)\n",
    "    #target_rail_id, th_spring_length_id, th_j5_target_angle_id = args\n",
    "    th_spring_length_id, th_target_pos_id, ffmiddle_frame_id, ff_j2_spring_id = args\n",
    "\n",
    "    #update the length of the spring between the thumb and the ff finger\n",
    "\n",
    "    # First phase : the thumb converges to the top of the phalanx\n",
    "    if coord < 0.6\n",
    "        length_max = 0.07\n",
    "        length_min = 0.0\n",
    "        length_value = length_max - (length_max - length_min)*(coord/0.6) \n",
    "        cache[th_spring_length_id] = remake(cache[th_spring_length_id] ; coord_data = ConstCoord(length_value))\n",
    "\n",
    "    # phase 2 : a force is applied to go \"into\" the phalanx\n",
    "    elseif coord > 0.8\n",
    "        cache[th_target_pos_id] = remake(cache[th_target_pos_id]; coord_data = FramePoint(ffmiddle_frame_id, SVector(0.,0.,0.)))\n",
    "    end\n",
    "\n",
    "    #update the spring of the second phalanx\n",
    "    j2_activation_coord = 0.3\n",
    "    if coord > j2_activation_coord\n",
    "        stiff_max = 0.1\n",
    "        stiff_min = 0.0\n",
    "        stiff_value = stiff_min + (stiff_max - stiff_min)*((coord - j2_activation_coord)/(1.0 - j2_activation_coord))\n",
    "        cache[ff_j2_spring_id] = remake(cache[ff_j2_spring_id] ; stiffness = stiff_value)\n",
    "    end \n",
    "\n",
    "    # #update the angle of the thumb\n",
    "    # angle_max = 1.0\n",
    "    # angle_min = 0.0\n",
    "    # angle_value = angle_max - (angle_max - angle_min)*coord\n",
    "    # cache[th_j5_target_angle_id] = remake(cache[th_j5_target_angle_id] ; coord_data = ConstCoord(angle_value))\n",
    "\n",
    "    nothing\n",
    "end\n",
    "\n",
    "function f_setup(cache) \n",
    "    return  (get_compiled_coordID(cache, \"th spring length\"), get_compiled_coordID(cache, \"th target position\"), \n",
    "            get_compiled_frameID(cache, \".robot.rh_ffmiddle\"), get_compiled_componentID(cache, \"ff j2 spring\"))#, get_compiled_coordID(cache, \"th j5 target angle\"))\n",
    "end\n",
    "\n",
    "function f_control(cache, t, args, extra)\n",
    "\n",
    "    t_start = 2.\n",
    "    t_end = 8. #we want to reach the end position at t = t_end \n",
    "    \n",
    "    if t >= t_start && t <= t_end \n",
    "        coord_value = (t - t_start) /(t_end -t_start)\n",
    "        update_lateral_pinch_coord(args, cache, coord_value)\n",
    "    end\n",
    "end\n",
    "\n",
    "tspan = (0., 10.)\n",
    "vms_compiled = compile(vms)\n",
    "\n",
    "q_init = generate_q_init(vms_compiled; mf=true, rf=true, lf=true)\n",
    "q = (q_init, zero_q(vms_compiled.virtual_mechanism)) # Robot joint angle, vm joint angles\n",
    "q̇ = (zero_q̇(vms_compiled.robot), zero_q̇(vms_compiled.virtual_mechanism)) # Robot joint velocity, vm joint velocities\n",
    "\n",
    "g = VMRobotControl.DEFAULT_GRAVITY\n",
    "dcache = new_dynamics_cache(vms_compiled)\n",
    "prob = get_ode_problem(dcache, g, q, q̇, tspan; f_setup, f_control)\n",
    "@info \"Simulating shadow robot with lateral pinch\"\n",
    "\n",
    "sol = solve(prob, Tsit5(), progress=true; maxiters=1e6, abstol=1e-5, reltol=1e-5);"
   ]
  },
  {
   "cell_type": "markdown",
   "metadata": {},
   "source": [
    "### Visualizing the Results"
   ]
  },
  {
   "cell_type": "code",
   "execution_count": 10,
   "metadata": {},
   "outputs": [],
   "source": [
    "fig = Figure(; size=(720, 720), figure_padding=0)\n",
    "display(fig)\n",
    "ls = LScene(fig[1, 1]; show_axis=false)\n",
    "cam = cam3d!(ls; center=true)\n",
    "cam.lookat[] = [0.025, 0., 0.24]\n",
    "cam.eyeposition[] = [-0.25, -0.6, 0.62]\n",
    "\n",
    "plotting_t = Observable(0.0)\n",
    "plotting_kcache = Observable(new_kinematics_cache(compile(vms)))\n",
    "robotvisualize!(ls, plotting_kcache)\n",
    "\n",
    "savepath = joinpath(module_path, \"docs/src/assets/shadowhand_lateral_pinch.mp4\")\n",
    "display(fig)\n",
    "animate_robot_odesolution(fig, sol, plotting_kcache, savepath; t=plotting_t);"
   ]
  }
 ],
 "metadata": {
  "kernelspec": {
   "display_name": "Julia 1.9.3",
   "language": "julia",
   "name": "julia-1.9"
  },
  "language_info": {
   "file_extension": ".jl",
   "mimetype": "application/julia",
   "name": "julia",
   "version": "1.9.3"
  }
 },
 "nbformat": 4,
 "nbformat_minor": 2
}
