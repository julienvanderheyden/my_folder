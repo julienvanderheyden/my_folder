{
 "cells": [
  {
   "cell_type": "code",
   "execution_count": 1,
   "metadata": {},
   "outputs": [
    {
     "data": {
      "text/plain": [
       "generate_q_init (generic function with 1 method)"
      ]
     },
     "execution_count": 1,
     "metadata": {},
     "output_type": "execute_result"
    }
   ],
   "source": [
    "using Revise\n",
    "using GeometryBasics: Vec3f, Point3f\n",
    "using LinearAlgebra\n",
    "using GLMakie\n",
    "using StaticArrays\n",
    "using VMRobotControl\n",
    "using VMRobotControl.Splines: CubicSpline\n",
    "using DifferentialEquations\n",
    "using MeshIO\n",
    "include(\"../../functions.jl\")"
   ]
  },
  {
   "cell_type": "markdown",
   "metadata": {},
   "source": [
    "## Importing ShadowHand URDF"
   ]
  },
  {
   "cell_type": "markdown",
   "metadata": {},
   "source": [
    "### URDF Parsing"
   ]
  },
  {
   "cell_type": "code",
   "execution_count": 2,
   "metadata": {},
   "outputs": [
    {
     "data": {
      "text/plain": [
       "24DOF Mechanism{Float64} \"shadowhand_motor\" with 33 frames, 32 joints, 55 coordinates, 82 components"
      ]
     },
     "execution_count": 2,
     "metadata": {},
     "output_type": "execute_result"
    }
   ],
   "source": [
    "using FileIO, UUIDs\n",
    "try\n",
    "    FileIO.add_format(format\"DAE\", (), \".dae\", [:DigitalAssetExchangeFormatIO => UUID(\"43182933-f65b-495a-9e05-4d939cea427d\")])\n",
    "catch\n",
    "end\n",
    "\n",
    "cfg = URDFParserConfig(;suppress_warnings=true) # This is just to hide warnings about unsupported URDF features\n",
    "module_path = joinpath(splitpath(splitdir(pathof(VMRobotControl))[1])[1:end-1])\n",
    "robot = parseURDF(joinpath(module_path, \"URDFs/sr_description/sr_hand_vm_compatible.urdf\"), cfg)"
   ]
  },
  {
   "cell_type": "markdown",
   "metadata": {},
   "source": [
    "### Kinematic computations "
   ]
  },
  {
   "cell_type": "code",
   "execution_count": 3,
   "metadata": {},
   "outputs": [
    {
     "data": {
      "text/plain": [
       "3-element SVector{3, Float64} with indices SOneTo(3):\n",
       "  0.033\n",
       " -0.01\n",
       "  0.38701"
      ]
     },
     "metadata": {},
     "output_type": "display_data"
    }
   ],
   "source": [
    "m = compile(robot)\n",
    "kcache = new_kinematics_cache(m)  \n",
    "\n",
    "rh_mftip_frame_id = get_compiled_frameID(m, \"rh_ffmiddle\")\n",
    "mftip_transform = get_transform(kcache, rh_mftip_frame_id)\n",
    "display(mftip_transform.origin)"
   ]
  },
  {
   "cell_type": "markdown",
   "metadata": {},
   "source": [
    "### Hand Visualization"
   ]
  },
  {
   "cell_type": "code",
   "execution_count": 25,
   "metadata": {},
   "outputs": [
    {
     "data": {
      "text/plain": [
       "4×4 Matrix{Float64}:\n",
       " 1.0  0.0  0.0   0.045\n",
       " 0.0  1.0  0.0  -0.01\n",
       " 0.0  0.0  1.0   0.38701\n",
       " 0.0  0.0  0.0   1.0"
      ]
     },
     "metadata": {},
     "output_type": "display_data"
    }
   ],
   "source": [
    "# Target transform \n",
    "R = [1.0 0.0 0.0; \n",
    "     0.0 1.0 0.0;\n",
    "     0.0 0.0 1.0]\n",
    "\n",
    "t = [0.045, -0.01, 0.38701]  # Example translation vector\n",
    "\n",
    "# Construct the homogeneous transformation matrix\n",
    "T = [R t; 0 0 0 1]\n",
    "\n",
    "display(T)  # Show the matrix"
   ]
  },
  {
   "cell_type": "code",
   "execution_count": 26,
   "metadata": {},
   "outputs": [
    {
     "data": {
      "text/plain": [
       "GLMakie.Screen(...)"
      ]
     },
     "execution_count": 26,
     "metadata": {},
     "output_type": "execute_result"
    }
   ],
   "source": [
    "# Compile robot model\n",
    "m = compile(robot)\n",
    "kcache = Observable(new_kinematics_cache(m))  # This stores the robot's joint state\n",
    "\n",
    "# Create the figure\n",
    "fig = Figure(size=(800, 600))\n",
    "\n",
    "# Create interactive 3D scene\n",
    "ls = LScene(fig[1, 1]; show_axis=true)  # 3D interactive scene\n",
    "\n",
    "# Attach interactive camera controls\n",
    "cam3d!(ls)  # Enables mouse interaction (rotate, zoom, pan)\n",
    "\n",
    "# Plot the robot's visuals\n",
    "robotvisualize!(ls, kcache)\n",
    "display_frame(m, ls, \"rh_ffmiddle\")\n",
    "display_frame(m, ls, \"world\")\n",
    "display_transform(ls, T)\n",
    "\n",
    "# Display figure\n",
    "display(fig)"
   ]
  },
  {
   "cell_type": "code",
   "execution_count": null,
   "metadata": {},
   "outputs": [
    {
     "name": "stdout",
     "output_type": "stream",
     "text": [
      "33-element Vector{String}:\n",
      " \"world\"\n",
      " \"rh_forearm\"\n",
      " \"rh_wrist\"\n",
      " \"rh_palm\"\n",
      " \"rh_manipulator\"\n",
      " \"rh_imu\"\n",
      " \"rh_ffknuckle\"\n",
      " \"rh_ffproximal\"\n",
      " \"rh_ffmiddle\"\n",
      " \"rh_ffdistal\"\n",
      " \"rh_fftip\"\n",
      " \"rh_mfknuckle\"\n",
      " \"rh_mfproximal\"\n",
      " \"rh_mfmiddle\"\n",
      " \"rh_mfdistal\"\n",
      " \"rh_mftip\"\n",
      " \"rh_rfknuckle\"\n",
      " \"rh_rfproximal\"\n",
      " \"rh_rfmiddle\"\n",
      " \"rh_rfdistal\"\n",
      " \"rh_rftip\"\n",
      " \"rh_lfmetacarpal\"\n",
      " \"rh_lfknuckle\"\n",
      " \"rh_lfproximal\"\n",
      " \"rh_lfmiddle\"\n",
      " \"rh_lfdistal\"\n",
      " \"rh_lftip\"\n",
      " \"rh_thbase\"\n",
      " \"rh_thproximal\"\n",
      " \"rh_thhub\"\n",
      " \"rh_thmiddle\"\n",
      " \"rh_thdistal\"\n",
      " \"rh_thtip\""
     ]
    }
   ],
   "source": [
    "show(IOContext(stdout, :limit => false),  MIME(\"text/plain\"), frames(robot))\n",
    "show(IOContext(stdout, :limit => false),  MIME(\"text/plain\"), keys(joints(robot)))"
   ]
  },
  {
   "cell_type": "markdown",
   "metadata": {},
   "source": [
    "## Creating the Virtual Mechanism System"
   ]
  },
  {
   "cell_type": "markdown",
   "metadata": {},
   "source": [
    "### Gravity Compensation, Joint Limits and Joint Damping"
   ]
  },
  {
   "cell_type": "code",
   "execution_count": 3,
   "metadata": {},
   "outputs": [],
   "source": [
    "# GRAVITY COMPENSATION\n",
    "\n",
    "add_gravity_compensation!(robot, VMRobotControl.DEFAULT_GRAVITY)\n",
    "\n",
    "# JOINT DAMPING and LIMIT SPRINGS\n",
    "\n",
    "joint_limits = cfg.joint_limits\n",
    "\n",
    "for joint_id in keys(joints(robot))\n",
    "    limits = joint_limits[joint_id]\n",
    "    isnothing(limits) && continue\n",
    "    add_coordinate!(robot, JointSubspace(joint_id);  id=\"$(joint_id)_coord\")\n",
    "    @assert ~isnothing(limits.lower) && ~isnothing(limits.upper)\n",
    "    add_deadzone_springs!(robot, 50.0, (limits.lower+0.1, limits.upper-0.1), \"$(joint_id)_coord\")\n",
    "    add_component!(robot, LinearDamper(0.01, \"$(joint_id)_coord\"); id=\"$(joint_id)_damper\")\n",
    "end"
   ]
  },
  {
   "cell_type": "markdown",
   "metadata": {},
   "source": [
    "### Addition of the multiples springs/dampers"
   ]
  },
  {
   "cell_type": "code",
   "execution_count": 4,
   "metadata": {},
   "outputs": [
    {
     "data": {
      "text/plain": [
       "\"th j1 damper\""
      ]
     },
     "execution_count": 4,
     "metadata": {},
     "output_type": "execute_result"
    }
   ],
   "source": [
    "vms = VirtualMechanismSystem(\"myShadowVMS\", robot)\n",
    "root = root_frame(vms.robot)\n",
    "\n",
    "#Lightly constraint some joints to avoid unwanted motions\n",
    "add_component!(vms, LinearSpring(1.0, \".robot.rh_LFJ5_coord\"); id = \"lf j5 angular spring\")\n",
    "\n",
    "# PHASE 1 : FINGERS SPACING\n",
    "\n",
    "add_coordinate!(vms, ConstCoord(0.0); id = \"angular spring length\")\n",
    "\n",
    "#ff mf spacing\n",
    "add_coordinate!(vms, CoordDifference(\".robot.rh_MFJ4_coord\", \".robot.rh_FFJ4_coord\"); id=\"ff mf j4 angular diff\")\n",
    "add_coordinate!(vms, CoordDifference(\"ff mf j4 angular diff\", \"angular spring length\") ; id=\"ff mf j4 angular error\")\n",
    "add_component!(vms, LinearSpring(10.0, \"ff mf j4 angular error\"); id=\"ff mf angular spring\")\n",
    "add_component!(vms, LinearDamper(10.0, \"ff mf j4 angular error\"); id=\"ff mf angular damper\")\n",
    "\n",
    "#mf rf spacing\n",
    "add_coordinate!(vms, CoordSum(\".robot.rh_RFJ4_coord\", \".robot.rh_MFJ4_coord\"); id=\"mf rf j4 angular diff\")\n",
    "add_coordinate!(vms, CoordSum(\"mf rf j4 angular diff\", \"angular spring length\") ; id=\"mf rf j4 angular error\")\n",
    "add_component!(vms, LinearSpring(10.0, \"mf rf j4 angular error\"); id=\"mf rf angular spring\")\n",
    "add_component!(vms, LinearDamper(10.0, \"mf rf j4 angular error\"); id=\"mf rf angular damper\")\n",
    "\n",
    "#rf lf spacing\n",
    "add_coordinate!(vms, CoordDifference(\".robot.rh_RFJ4_coord\", \".robot.rh_LFJ4_coord\"); id=\"rf lf j4 angular diff\")\n",
    "add_coordinate!(vms, CoordDifference(\"rf lf j4 angular diff\", \"angular spring length\") ; id=\"rf lf j4 angular error\")\n",
    "add_component!(vms, LinearSpring(10.0, \"rf lf j4 angular error\"); id=\"rf lf angular spring\")\n",
    "add_component!(vms, LinearDamper(10.0, \"rf lf j4 angular error\"); id=\"rf lf angular damper\")\n",
    "\n",
    "#th spacing\n",
    "add_coordinate!(vms, ConstCoord(0.0); id=\"th spring length\")\n",
    "add_coordinate!(vms, CoordDifference(\".robot.rh_THJ4_coord\", \"th spring length\"); id=\"th j4 error\")\n",
    "add_component!(vms, LinearSpring(1.0, \"th j4 error\"); id=\"th j4 spring\")\n",
    "\n",
    "# PHASE 2 : GRASPING : EACH JOINTS SHOULD GO TO ITS FINAL POSITION, BUT AT DIFFERENT TIMESCALES\n",
    "\n",
    "add_coordinate!(vms, ConstCoord(0.0); id=\"J3 target angle\") # First that should be activated\n",
    "add_coordinate!(vms, ConstCoord(0.0); id=\"J2 target angle\") # Second \n",
    "add_coordinate!(vms, ConstCoord(0.0); id=\"J1 target angle\") # Last\n",
    "\n",
    "# First finger\n",
    "add_coordinate!(vms, CoordDifference(\".robot.rh_FFJ3_coord\", \"J3 target angle\"); id=\"ff j3 angle error\")\n",
    "add_component!(vms, LinearSpring(1.0, \"ff j3 angle error\"); id=\"ff j3 spring\")\n",
    "add_component!(vms, LinearDamper(1.0, \"ff j3 angle error\"); id=\"ff j3 damper\")\n",
    "add_coordinate!(vms, CoordDifference(\".robot.rh_FFJ2_coord\", \"J2 target angle\"); id=\"ff j2 angle error\")\n",
    "add_component!(vms, LinearSpring(1.0, \"ff j2 angle error\"); id=\"ff j2 spring\")\n",
    "add_component!(vms, LinearDamper(1.0, \"ff j2 angle error\"); id=\"ff j2 damper\")\n",
    "add_coordinate!(vms, CoordDifference(\".robot.rh_FFJ1_coord\", \"J1 target angle\"); id=\"ff j1 angle error\")\n",
    "add_component!(vms, LinearSpring(1.0, \"ff j1 angle error\"); id=\"ff j1 spring\")\n",
    "add_component!(vms, LinearDamper(1.0, \"ff j1 angle error\"); id=\"ff j1 damper\")\n",
    "\n",
    "# Middle Finger\n",
    "add_coordinate!(vms, CoordDifference(\".robot.rh_MFJ3_coord\", \"J3 target angle\"); id=\"mf j3 angle error\")\n",
    "add_component!(vms, LinearSpring(1.0, \"mf j3 angle error\"); id=\"mf j3 spring\")\n",
    "add_component!(vms, LinearDamper(1.0, \"mf j3 angle error\"); id=\"mf j3 damper\")\n",
    "add_coordinate!(vms, CoordDifference(\".robot.rh_MFJ2_coord\", \"J2 target angle\"); id=\"mf j2 angle error\")\n",
    "add_component!(vms, LinearSpring(1.0, \"mf j2 angle error\"); id=\"mf j2 spring\")\n",
    "add_component!(vms, LinearDamper(1.0, \"mf j2 angle error\"); id=\"mf j2 damper\")\n",
    "add_coordinate!(vms, CoordDifference(\".robot.rh_MFJ1_coord\", \"J1 target angle\"); id=\"mf j1 angle error\")\n",
    "add_component!(vms, LinearSpring(1.0, \"mf j1 angle error\"); id=\"mf j1 spring\")\n",
    "add_component!(vms, LinearDamper(1.0, \"mf j1 angle error\"); id=\"mf j1 damper\")\n",
    "\n",
    "# Ring Finger\n",
    "add_coordinate!(vms, CoordDifference(\".robot.rh_RFJ3_coord\", \"J3 target angle\"); id=\"rf j3 angle error\")\n",
    "add_component!(vms, LinearSpring(1.0, \"rf j3 angle error\"); id=\"rf j3 spring\")\n",
    "add_component!(vms, LinearDamper(1.0, \"rf j3 angle error\"); id=\"rf j3 damper\")\n",
    "add_coordinate!(vms, CoordDifference(\".robot.rh_RFJ2_coord\", \"J2 target angle\"); id=\"rf j2 angle error\")\n",
    "add_component!(vms, LinearSpring(1.0, \"rf j2 angle error\"); id=\"rf j2 spring\")\n",
    "add_component!(vms, LinearDamper(1.0, \"rf j2 angle error\"); id=\"rf j2 damper\")\n",
    "add_coordinate!(vms, CoordDifference(\".robot.rh_RFJ1_coord\", \"J1 target angle\"); id=\"rf j1 angle error\")\n",
    "add_component!(vms, LinearSpring(1.0, \"rf j1 angle error\"); id=\"rf j1 spring\")\n",
    "add_component!(vms, LinearDamper(1.0, \"rf j1 angle error\"); id=\"rf j1 damper\")\n",
    "\n",
    "# Little Finger\n",
    "add_coordinate!(vms, CoordDifference(\".robot.rh_LFJ3_coord\", \"J3 target angle\"); id=\"lf j3 angle error\")\n",
    "add_component!(vms, LinearSpring(1.0, \"lf j3 angle error\"); id=\"lf j3 spring\")\n",
    "add_component!(vms, LinearDamper(1.0, \"lf j3 angle error\"); id=\"lf j3 damper\")\n",
    "add_coordinate!(vms, CoordDifference(\".robot.rh_LFJ2_coord\", \"J2 target angle\"); id=\"lf j2 angle error\")\n",
    "add_component!(vms, LinearSpring(1.0, \"lf j2 angle error\"); id=\"lf j2 spring\")\n",
    "add_component!(vms, LinearDamper(1.0, \"lf j2 angle error\"); id=\"lf j2 damper\")\n",
    "add_coordinate!(vms, CoordDifference(\".robot.rh_LFJ1_coord\", \"J1 target angle\"); id=\"lf j1 angle error\")\n",
    "add_component!(vms, LinearSpring(1.0, \"lf j1 angle error\"); id=\"lf j1 spring\")\n",
    "add_component!(vms, LinearDamper(1.0, \"lf j1 angle error\"); id=\"lf j1 damper\")\n",
    "\n",
    "# Thumb \n",
    "add_coordinate!(vms, ConstCoord(0.0); id=\"th J5 target angle\") # First that should be activated\n",
    "add_coordinate!(vms, ConstCoord(0.0); id=\"th J2 target angle\") # Second \n",
    "add_coordinate!(vms, ConstCoord(0.0); id=\"th J1 target angle\") # Last\n",
    "\n",
    "add_coordinate!(vms, CoordDifference(\".robot.rh_THJ5_coord\", \"th J5 target angle\"); id=\"th j5 angle error\")\n",
    "add_component!(vms, LinearSpring(1.0, \"th j5 angle error\"); id=\"th j5 spring\")\n",
    "add_component!(vms, LinearDamper(1.0, \"th j5 angle error\"); id=\"th j5 damper\")\n",
    "add_coordinate!(vms, CoordDifference(\".robot.rh_THJ2_coord\", \"th J2 target angle\"); id=\"th j2 angle error\")\n",
    "add_component!(vms, LinearSpring(1.0, \"th j2 angle error\"); id=\"th j2 spring\")\n",
    "add_component!(vms, LinearDamper(1.0, \"th j2 angle error\"); id=\"th j2 damper\")\n",
    "add_coordinate!(vms, CoordDifference(\".robot.rh_THJ1_coord\", \"th J1 target angle\"); id=\"th j1 angle error\")\n",
    "add_component!(vms, LinearSpring(1.0, \"th j1 angle error\"); id=\"th j1 spring\")\n",
    "add_component!(vms, LinearDamper(1.0, \"th j1 angle error\"); id=\"th j1 damper\")\n"
   ]
  },
  {
   "cell_type": "markdown",
   "metadata": {},
   "source": [
    "## Simulating the Robot"
   ]
  },
  {
   "cell_type": "markdown",
   "metadata": {},
   "source": [
    "### Setting Up the Simulation"
   ]
  },
  {
   "cell_type": "code",
   "execution_count": 11,
   "metadata": {},
   "outputs": [
    {
     "name": "stderr",
     "output_type": "stream",
     "text": [
      "\u001b[36m\u001b[1m[ \u001b[22m\u001b[39m\u001b[36m\u001b[1mInfo: \u001b[22m\u001b[39mSimulating shadow robot with power sphere\n",
      "\u001b[32mODE   0%|█                                              |  ETA: N/A\u001b[39m\n",
      "\u001b[32mODE  21%|██████████                                     |  ETA: 0:00:33\u001b[39m\n",
      "\u001b[32mODE  43%|█████████████████████                          |  ETA: 0:00:30\u001b[39m\n",
      "\u001b[32mODE  58%|████████████████████████████                   |  ETA: 0:00:29\u001b[39m\n",
      "\u001b[32mODE  67%|████████████████████████████████               |  ETA: 0:00:30\u001b[39m\n",
      "\u001b[32mODE  76%|████████████████████████████████████           |  ETA: 0:00:24\u001b[39m\n",
      "\u001b[90mODE 100%|███████████████████████████████████████████████| Time: 0:01:24\u001b[39m\n"
     ]
    }
   ],
   "source": [
    "using Logging: global_logger\n",
    "using TerminalLoggers: TerminalLogger\n",
    "global_logger(TerminalLogger())\n",
    "\n",
    "\"\"\"\n",
    "Update the vms based on the \"coord\", which is a coordinate varying between \n",
    "0 and 1, 0 being the starting position of the lateral pinch motion while 1 being \n",
    "the end\n",
    "\"\"\"\n",
    "function update_power_sphere_coord(args, cache, coord)\n",
    "    angular_spring_length_id, th_spring_length_id, j3_target_angle_id, j2_target_angle_id, j1_target_angle_id, th_j5_target_angle_id,\n",
    "    th_j2_target_angle_id, th_j1_target_angle_id = args\n",
    "\n",
    "    # PHASE 1 : FINGERS SPACING\n",
    "    #update the angle spacing the fingers, and the thumb\n",
    "    spacing_end_coord = 0.3\n",
    "    if coord < spacing_end_coord\n",
    "        fingers_angle_min = 0.0\n",
    "        fingers_angle_max = 0.5\n",
    "        fingers_angle_value = fingers_angle_min + (fingers_angle_max - fingers_angle_min)*(coord/spacing_end_coord)\n",
    "        cache[angular_spring_length_id] = remake(cache[angular_spring_length_id] ; coord_data = ConstCoord(fingers_angle_value))\n",
    "        th_angle_min = 0.0\n",
    "        th_angle_max = 1.22\n",
    "        th_angle_value = th_angle_min + (th_angle_max - th_angle_min)*(coord/spacing_end_coord)\n",
    "        cache[th_spring_length_id] = remake(cache[th_spring_length_id] ; coord_data = ConstCoord(th_angle_value))\n",
    "    end\n",
    "\n",
    "    # PHASE 2 : GRASPING\n",
    "\n",
    "    #Start by metacarpophalangeal joints (MCP joints)\n",
    "    j3_start_coord = 0.3\n",
    "    j3_end_coord = 0.8\n",
    "    if coord >= j3_start_coord && coord <= j3_end_coord\n",
    "\n",
    "        j3_coord_value = (coord - j3_start_coord)/(j3_end_coord - j3_start_coord) \n",
    "\n",
    "        #fingers \n",
    "        j3_angle_min = 0.0\n",
    "        j3_angle_max = 1.57\n",
    "        j3_angle_value = j3_angle_min + (j3_angle_max - j3_angle_min)*j3_coord_value\n",
    "        cache[j3_target_angle_id] = remake(cache[j3_target_angle_id]; coord_data = ConstCoord(j3_angle_value))\n",
    "\n",
    "    end\n",
    "\n",
    "    #shift metacarpophalangeal joints (MCP joints) of the thumb\n",
    "    th_j3_start_coord = 0.6\n",
    "    th_j3_end_coord = 0.9\n",
    "    if coord >= th_j3_start_coord && coord <= th_j3_end_coord\n",
    "\n",
    "        th_j3_coord_value = (coord - th_j3_start_coord)/(j3_end_coord - th_j3_start_coord) \n",
    "\n",
    "        #thumb\n",
    "        th_j5_angle_min = 0.0\n",
    "        th_j5_angle_max = 1.05\n",
    "        th_j5_angle_value = th_j5_angle_min + (th_j5_angle_max - th_j5_angle_min)*th_j3_coord_value\n",
    "        cache[th_j5_target_angle_id] = remake(cache[th_j5_target_angle_id] ; coord_data = ConstCoord(th_j5_angle_value))\n",
    "    end\n",
    "\n",
    "    #Followed by proximal interphalangeal joints (PIP joints)\n",
    "    j2_start_coord = 0.5\n",
    "    j2_end_coord = 0.9\n",
    "    if coord >= j2_start_coord && coord <= j2_end_coord\n",
    "\n",
    "        j2_coord_value = (coord - j2_start_coord)/(j2_end_coord - j2_start_coord) \n",
    "\n",
    "        #fingers\n",
    "        j2_angle_min = 0.0\n",
    "        j2_angle_max = 1.57\n",
    "        j2_angle_value = j2_angle_min + (j2_angle_max - j2_angle_min)*j2_coord_value\n",
    "        cache[j2_target_angle_id] = remake(cache[j2_target_angle_id]; coord_data = ConstCoord(j2_angle_value))\n",
    "\n",
    "        #thumb\n",
    "        th_j2_angle_min = 0.0\n",
    "        th_j2_angle_max = 0.7\n",
    "        th_j2_angle_value = th_j2_angle_min + (th_j2_angle_max - th_j2_angle_min)*j2_coord_value\n",
    "        cache[th_j2_target_angle_id] = remake(cache[th_j2_target_angle_id] ; coord_data = ConstCoord(th_j2_angle_value))\n",
    "    end\n",
    "\n",
    "    #And then distal interphalangeal joints (DIP joints)\n",
    "    j1_start_coord = 0.7\n",
    "    j1_end_coord = 1.0\n",
    "    if coord >= j1_start_coord && coord <= j1_end_coord\n",
    "\n",
    "        j1_coord_value = (coord - j1_start_coord)/(j1_end_coord - j1_start_coord) \n",
    "\n",
    "        #fingers\n",
    "        j1_angle_min = 0.0\n",
    "        j1_angle_max = 1.57\n",
    "        j1_angle_value = j1_angle_min + (j1_angle_max - j1_angle_min)*j1_coord_value\n",
    "        cache[j1_target_angle_id] = remake(cache[j1_target_angle_id]; coord_data = ConstCoord(j1_angle_value))\n",
    "\n",
    "        #thumb\n",
    "        th_j1_angle_min = 0.0\n",
    "        th_j1_angle_max = 1.57\n",
    "        th_j1_angle_value = th_j1_angle_min + (th_j1_angle_max - th_j1_angle_min)*j1_coord_value\n",
    "        cache[th_j1_target_angle_id] = remake(cache[th_j1_target_angle_id] ; coord_data = ConstCoord(th_j1_angle_value))\n",
    "    end\n",
    "\n",
    "    nothing\n",
    "end\n",
    "\n",
    "function f_setup(cache) \n",
    "\n",
    "    return  (get_compiled_coordID(cache, \"angular spring length\"), get_compiled_coordID(cache, \"th spring length\"), get_compiled_coordID(cache, \"J3 target angle\"),\n",
    "            get_compiled_coordID(cache, \"J2 target angle\"), get_compiled_coordID(cache, \"J1 target angle\"), get_compiled_coordID(cache, \"th J5 target angle\"),\n",
    "            get_compiled_coordID(cache, \"th J2 target angle\"), get_compiled_coordID(cache, \"th J1 target angle\"))\n",
    "end\n",
    "\n",
    "function f_control(cache, t, args, extra)\n",
    "\n",
    "    t_start = 0.\n",
    "    t_end = 4. #we want to reach the end position at t = t_end \n",
    "    \n",
    "    if t >= t_start && t <= t_end \n",
    "        coord_value = (t - t_start) /(t_end -t_start)\n",
    "        update_power_sphere_coord(args, cache, coord_value)\n",
    "    end\n",
    "    nothing\n",
    "end\n",
    "\n",
    "tspan = (0., 5.)\n",
    "vms_compiled = compile(vms)\n",
    "\n",
    "q_init = generate_q_init(vms_compiled)\n",
    "q = (q_init, zero_q(vms_compiled.virtual_mechanism)) # Robot joint angle, vm joint angles\n",
    "q̇ = (zero_q̇(vms_compiled.robot), zero_q̇(vms_compiled.virtual_mechanism)) # Robot joint velocity, vm joint velocities\n",
    "\n",
    "g = VMRobotControl.DEFAULT_GRAVITY\n",
    "dcache = new_dynamics_cache(vms_compiled)\n",
    "prob = get_ode_problem(dcache, g, q, q̇, tspan; f_setup, f_control)\n",
    "@info \"Simulating shadow robot with power sphere\"\n",
    "\n",
    "sol = solve(prob, Rosenbrock23(autodiff=false), progress=true; maxiters=1e6, abstol=1e-3, reltol=1e-3);\n",
    "\n",
    "# Rosenbrock23 : 2.58\n",
    "# Rodas5P : 3.21\n",
    "# TRBDF2 : > 1h\n",
    "# QNDF : > 1h\n",
    "# FBDF : > 1h\n",
    "# Kvaerno5 : > 1h\n",
    "# KenCarp4 : > 1h"
   ]
  },
  {
   "cell_type": "markdown",
   "metadata": {},
   "source": [
    "### Visualizing the Results"
   ]
  },
  {
   "cell_type": "code",
   "execution_count": 12,
   "metadata": {},
   "outputs": [],
   "source": [
    "fig = Figure(; size=(720, 720), figure_padding=0)\n",
    "display(fig)\n",
    "ls = LScene(fig[1, 1]; show_axis=false)\n",
    "cam = cam3d!(ls; center=true)\n",
    "cam.lookat[] = [0.025, 0., 0.24]\n",
    "cam.eyeposition[] = [-0.25, -0.6, 0.62]\n",
    "\n",
    "plotting_t = Observable(0.0)\n",
    "plotting_kcache = Observable(new_kinematics_cache(compile(vms)))\n",
    "robotvisualize!(ls, plotting_kcache)\n",
    "\n",
    "savepath = joinpath(module_path, \"docs/src/assets/shadowhand_power_sphere.mp4\")\n",
    "display(fig)\n",
    "animate_robot_odesolution(fig, sol, plotting_kcache, savepath; t=plotting_t);"
   ]
  }
 ],
 "metadata": {
  "kernelspec": {
   "display_name": "Julia 1.9.3",
   "language": "julia",
   "name": "julia-1.9"
  },
  "language_info": {
   "file_extension": ".jl",
   "mimetype": "application/julia",
   "name": "julia",
   "version": "1.9.3"
  }
 },
 "nbformat": 4,
 "nbformat_minor": 2
}
