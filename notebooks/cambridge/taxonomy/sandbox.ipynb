{
 "cells": [
  {
   "cell_type": "code",
   "execution_count": 35,
   "metadata": {},
   "outputs": [
    {
     "data": {
      "text/plain": [
       "display_transform (generic function with 1 method)"
      ]
     },
     "metadata": {},
     "output_type": "display_data"
    }
   ],
   "source": [
    "using Revise\n",
    "using GeometryBasics: Vec3f, Point3f\n",
    "using LinearAlgebra\n",
    "using GLMakie\n",
    "using StaticArrays\n",
    "using VMRobotControl\n",
    "using VMRobotControl.Splines: CubicSpline\n",
    "using DifferentialEquations\n",
    "using MeshIO\n",
    "include(\"../../functions.jl\")"
   ]
  },
  {
   "cell_type": "markdown",
   "metadata": {},
   "source": [
    "## Importing ShadowHand URDF"
   ]
  },
  {
   "cell_type": "markdown",
   "metadata": {},
   "source": [
    "### URDF Parsing"
   ]
  },
  {
   "cell_type": "code",
   "execution_count": 43,
   "metadata": {},
   "outputs": [
    {
     "data": {
      "text/plain": [
       "24DOF Mechanism{Float64} \"shadowhand_motor\" with 33 frames, 32 joints, 55 coordinates, 82 components"
      ]
     },
     "metadata": {},
     "output_type": "display_data"
    }
   ],
   "source": [
    "using FileIO, UUIDs\n",
    "try\n",
    "    FileIO.add_format(format\"DAE\", (), \".dae\", [:DigitalAssetExchangeFormatIO => UUID(\"43182933-f65b-495a-9e05-4d939cea427d\")])\n",
    "catch\n",
    "end\n",
    "\n",
    "cfg = URDFParserConfig(;suppress_warnings=true) # This is just to hide warnings about unsupported URDF features\n",
    "module_path = joinpath(splitpath(splitdir(pathof(VMRobotControl))[1])[1:end-1])\n",
    "robot = parseURDF(joinpath(module_path, \"URDFs/sr_description/sr_hand_vm_compatible.urdf\"), cfg)"
   ]
  },
  {
   "cell_type": "markdown",
   "metadata": {},
   "source": [
    "### Kinematic computations : Obtaining rail points"
   ]
  },
  {
   "cell_type": "code",
   "execution_count": 12,
   "metadata": {},
   "outputs": [
    {
     "data": {
      "text/plain": [
       "3-element SVector{3, Float64} with indices SOneTo(3):\n",
       "  0.011\n",
       " -0.01\n",
       "  0.44201000000000007"
      ]
     },
     "metadata": {},
     "output_type": "display_data"
    }
   ],
   "source": [
    "m = compile(robot)\n",
    "kcache = new_kinematics_cache(m)  \n",
    "\n",
    "rh_mftip_frame_id = get_compiled_frameID(m, \"rh_mftip\")\n",
    "mftip_transform = get_transform(kcache, rh_mftip_frame_id)\n",
    "display(mftip_transform.origin)"
   ]
  },
  {
   "cell_type": "markdown",
   "metadata": {},
   "source": [
    "### Hand Visualization"
   ]
  },
  {
   "cell_type": "code",
   "execution_count": 100,
   "metadata": {},
   "outputs": [
    {
     "data": {
      "text/plain": [
       "4×4 Matrix{Float64}:\n",
       " 1.0  0.0  0.0   0.011\n",
       " 0.0  1.0  0.0  -0.01\n",
       " 0.0  0.0  1.0   0.34\n",
       " 0.0  0.0  0.0   1.0"
      ]
     },
     "metadata": {},
     "output_type": "display_data"
    }
   ],
   "source": [
    "# Target transform \n",
    "R = [1.0 0.0 0.0; \n",
    "     0.0 1.0 0.0;\n",
    "     0.0 0.0 1.0]\n",
    "\n",
    "t = [0.011, -0.01, 0.34]  # Example translation vector\n",
    "\n",
    "# Construct the homogeneous transformation matrix\n",
    "T = [R t; 0 0 0 1]\n",
    "\n",
    "display(T)  # Show the matrix"
   ]
  },
  {
   "cell_type": "code",
   "execution_count": 101,
   "metadata": {},
   "outputs": [
    {
     "data": {
      "text/plain": [
       "GLMakie.Screen(...)"
      ]
     },
     "metadata": {},
     "output_type": "display_data"
    }
   ],
   "source": [
    "# Compile robot model\n",
    "m = compile(robot)\n",
    "kcache = Observable(new_kinematics_cache(m))  # This stores the robot's joint state\n",
    "\n",
    "# Create the figure\n",
    "fig = Figure(size=(800, 600))\n",
    "\n",
    "# Create interactive 3D scene\n",
    "ls = LScene(fig[1, 1]; show_axis=true)  # 3D interactive scene\n",
    "\n",
    "# Attach interactive camera controls\n",
    "cam3d!(ls)  # Enables mouse interaction (rotate, zoom, pan)\n",
    "\n",
    "# Plot the robot's visuals\n",
    "robotvisualize!(ls, kcache)\n",
    "display_frame(m, ls, \"rh_mftip\")\n",
    "display_frame(m, ls, \"world\")\n",
    "display_transform(ls, T)\n",
    "\n",
    "# Display figure\n",
    "display(fig)"
   ]
  },
  {
   "cell_type": "code",
   "execution_count": 215,
   "metadata": {},
   "outputs": [
    {
     "name": "stdout",
     "output_type": "stream",
     "text": [
      "Dict{String, VMRobotControl.CoordinateData} with 55 entries:\n",
      "  \"rh_lfdistal_mass_coord\" => FramePoint{Float64, String}(rh_lfdistal, [0.0, 0.0, 0.012])\n",
      "  \"rh_rfdistal_mass_coord\" => FramePoint{Float64, String}(rh_rfdistal, [0.0, 0.0, 0.012])\n",
      "  \"rh_thdistal_mass_coord\" => FramePoint{Float64, String}(rh_thdistal, [0.0, 0.0, 0.01375])\n",
      "  \"rh_rftip_mass_coord\" => FrameOrigin{String}(rh_rftip)\n",
      "  \"rh_palm_mass_coord\" => FramePoint{Float64, String}(rh_palm, [0.0, 0.0, 0.035])\n",
      "  \"rh_rfknuckle_mass_coord\" => FrameOrigin{String}(rh_rfknuckle)\n",
      "  \"rh_wrist_mass_coord\" => FramePoint{Float64, String}(rh_wrist, [0.0, 0.0, 0.029])\n",
      "  \"rh_ffdistal_inertia_coord\" => FrameAngularVelocity{String}(\"rh_ffdistal\")\n",
      "  \"rh_thhub_mass_coord\" => FrameOrigin{String}(rh_thhub)\n",
      "  \"rh_rfmiddle_mass_coord\" => FramePoint{Float64, String}(rh_rfmiddle, [0.0, 0.0, 0.0125])\n",
      "  \"rh_mftip_mass_coord\" => FrameOrigin{String}(rh_mftip)\n",
      "  \"rh_ffdistal_mass_coord\" => FramePoint{Float64, String}(rh_ffdistal, [0.0, 0.0, 0.012])\n",
      "  \"rh_mfknuckle_mass_coord\" => FrameOrigin{String}(rh_mfknuckle)\n",
      "  \"rh_lfmiddle_mass_coord\" => FramePoint{Float64, String}(rh_lfmiddle, [0.0, 0.0, 0.0125])\n",
      "  \"rh_forearm_inertia_coord\" => FrameAngularVelocity{String}(\"rh_forearm\")\n",
      "  \"rh_rfmiddle_inertia_coord\" => FrameAngularVelocity{String}(\"rh_rfmiddle\")\n",
      "  \"rh_ffknuckle_inertia_coord\" => FrameAngularVelocity{String}(\"rh_ffknuckle\")\n",
      "  \"rh_thmiddle_mass_coord\" => FramePoint{Float64, String}(rh_thmiddle, [0.0, 0.0, 0.016])\n",
      "  \"rh_lfproximal_inertia_coord\" => FrameAngularVelocity{String}(\"rh_lfproximal\")\n",
      "  \"rh_wrist_inertia_coord\" => FrameAngularVelocity{String}(\"rh_wrist\")\n",
      "  \"rh_thbase_mass_coord\" => FrameOrigin{String}(rh_thbase)\n",
      "  \"rh_lfproximal_mass_coord\" => FramePoint{Float64, String}(rh_lfproximal, [0.0, 0.0, 0.0225])\n",
      "  \"rh_mfmiddle_inertia_coord\" => FrameAngularVelocity{String}(\"rh_mfmiddle\")\n",
      "  \"rh_ffproximal_inertia_coord\" => FrameAngularVelocity{String}(\"rh_ffproximal\")\n",
      "  \"rh_thproximal_inertia_coord\" => FrameAngularVelocity{String}(\"rh_thproximal\")\n",
      "  \"rh_thbase_inertia_coord\" => FrameAngularVelocity{String}(\"rh_thbase\")\n",
      "  \"rh_mfknuckle_inertia_coord\" => FrameAngularVelocity{String}(\"rh_mfknuckle\")\n",
      "  \"rh_thdistal_inertia_coord\" => FrameAngularVelocity{String}(\"rh_thdistal\")\n",
      "  \"rh_ffmiddle_mass_coord\" => FramePoint{Float64, String}(rh_ffmiddle, [0.0, 0.0, 0.0125])\n",
      "  \"rh_thtip_mass_coord\" => FrameOrigin{String}(rh_thtip)\n",
      "  \"rh_mfproximal_inertia_coord\" => FrameAngularVelocity{String}(\"rh_mfproximal\")\n",
      "  \"rh_thhub_inertia_coord\" => FrameAngularVelocity{String}(\"rh_thhub\")\n",
      "  \"rh_thmiddle_inertia_coord\" => FrameAngularVelocity{String}(\"rh_thmiddle\")\n",
      "  \"rh_palm_inertia_coord\" => FrameAngularVelocity{String}(\"rh_palm\")\n",
      "  \"rh_mfmiddle_mass_coord\" => FramePoint{Float64, String}(rh_mfmiddle, [0.0, 0.0, 0.0125])\n",
      "  \"rh_fftip_mass_coord\" => FrameOrigin{String}(rh_fftip)\n",
      "  \"rh_rfproximal_inertia_coord\" => FrameAngularVelocity{String}(\"rh_rfproximal\")\n",
      "  \"rh_rfknuckle_inertia_coord\" => FrameAngularVelocity{String}(\"rh_rfknuckle\")\n",
      "  \"rh_lfknuckle_inertia_coord\" => FrameAngularVelocity{String}(\"rh_lfknuckle\")\n",
      "  \"rh_lfmetacarpal_mass_coord\" => FramePoint{Float64, String}(rh_lfmetacarpal, [0.03174867647058824, 0.0, 0.02235294117647059])\n",
      "  \"rh_lfmetacarpal_inertia_coord\" => FrameAngularVelocity{String}(\"rh_lfmetacarpal\")\n",
      "  \"rh_ffproximal_mass_coord\" => FramePoint{Float64, String}(rh_ffproximal, [0.0, 0.0, 0.0225])\n",
      "  \"rh_lfmiddle_inertia_coord\" => FrameAngularVelocity{String}(\"rh_lfmiddle\")\n",
      "  \"rh_rfproximal_mass_coord\" => FramePoint{Float64, String}(rh_rfproximal, [0.0, 0.0, 0.0225])\n",
      "  \"rh_ffmiddle_inertia_coord\" => FrameAngularVelocity{String}(\"rh_ffmiddle\")\n",
      "  \"rh_lftip_mass_coord\" => FrameOrigin{String}(rh_lftip)\n",
      "  \"rh_rfdistal_inertia_coord\" => FrameAngularVelocity{String}(\"rh_rfdistal\")\n",
      "  \"rh_forearm_mass_coord\" => FramePoint{Float64, String}(rh_forearm, [0.0, 0.0, 0.09])\n",
      "  \"rh_mfproximal_mass_coord\" => FramePoint{Float64, String}(rh_mfproximal, [0.0, 0.0, 0.0225])\n",
      "  \"rh_mfdistal_inertia_coord\" => FrameAngularVelocity{String}(\"rh_mfdistal\")\n",
      "  \"rh_thproximal_mass_coord\" => FramePoint{Float64, String}(rh_thproximal, [0.0, 0.0, 0.019])\n",
      "  \"rh_lfknuckle_mass_coord\" => FrameOrigin{String}(rh_lfknuckle)\n",
      "  \"rh_mfdistal_mass_coord\" => FramePoint{Float64, String}(rh_mfdistal, [0.0, 0.0, 0.012])\n",
      "  \"rh_lfdistal_inertia_coord\" => FrameAngularVelocity{String}(\"rh_lfdistal\")\n",
      "  \"rh_ffknuckle_mass_coord\" => FrameOrigin{String}(rh_ffknuckle)"
     ]
    }
   ],
   "source": [
    "show(IOContext(stdout, :limit => false),  MIME(\"text/plain\"), coordinates(robot))"
   ]
  },
  {
   "cell_type": "markdown",
   "metadata": {},
   "source": [
    "## Creating the Virtual Mechanism System"
   ]
  },
  {
   "cell_type": "markdown",
   "metadata": {},
   "source": [
    "### Gravity Compensation, Joint Limits and Joint Damping"
   ]
  },
  {
   "cell_type": "code",
   "execution_count": 44,
   "metadata": {},
   "outputs": [],
   "source": [
    "# GRAVITY COMPENSATION\n",
    "\n",
    "add_gravity_compensation!(robot, VMRobotControl.DEFAULT_GRAVITY)\n",
    "\n",
    "# JOINT DAMPING and LIMIT SPRINGS\n",
    "\n",
    "joint_limits = cfg.joint_limits\n",
    "\n",
    "for joint_id in keys(joints(robot))\n",
    "    limits = joint_limits[joint_id]\n",
    "    isnothing(limits) && continue\n",
    "    add_coordinate!(robot, JointSubspace(joint_id);  id=\"$(joint_id)_coord\")\n",
    "    @assert ~isnothing(limits.lower) && ~isnothing(limits.upper)\n",
    "    add_deadzone_springs!(robot, 50.0, (limits.lower+0.1, limits.upper-0.1), \"$(joint_id)_coord\")\n",
    "    add_component!(robot, LinearDamper(0.01, \"$(joint_id)_coord\"); id=\"$(joint_id)_damper\")\n",
    "end"
   ]
  },
  {
   "cell_type": "markdown",
   "metadata": {},
   "source": [
    "### Creation of the rail"
   ]
  },
  {
   "cell_type": "code",
   "execution_count": 13,
   "metadata": {},
   "outputs": [
    {
     "data": {
      "text/plain": [
       "3-element SVector{3, Float64} with indices SOneTo(3):\n",
       "  0.011\n",
       " -0.01\n",
       "  0.44201000000000007"
      ]
     },
     "metadata": {},
     "output_type": "display_data"
    }
   ],
   "source": [
    "# vm = Mechanism{Float64}(\"VirtualTracks\")\n",
    "# root_vm = root_frame(vm)\n",
    "\n",
    "# FIRST TRACK : THE FOUR HAND FINGERS \n",
    "m = compile(robot)\n",
    "kcache = new_kinematics_cache(m)  \n",
    "\n",
    "# First point : rest position of the middle finger\n",
    "rh_mftip_frame_id = get_compiled_frameID(m, \"rh_mftip\")\n",
    "mftip_transform = get_transform(kcache, rh_mftip_frame_id)\n",
    "display(mftip_transform.origin)\n",
    "\n",
    "# Second point : \n"
   ]
  },
  {
   "cell_type": "markdown",
   "metadata": {},
   "source": [
    "### Addition of the multiples springs/dampers"
   ]
  },
  {
   "cell_type": "markdown",
   "metadata": {},
   "source": [
    "Hand motion"
   ]
  },
  {
   "cell_type": "code",
   "execution_count": 91,
   "metadata": {},
   "outputs": [
    {
     "data": {
      "text/plain": [
       "\"lf position damper\""
      ]
     },
     "metadata": {},
     "output_type": "display_data"
    }
   ],
   "source": [
    "vms = VirtualMechanismSystem(\"myShadowVMS\", robot)\n",
    "root = root_frame(vms.robot)\n",
    "\n",
    "m = compile(robot)\n",
    "kcache = new_kinematics_cache(m)  \n",
    "\n",
    "#Linking the four fingers to the same point, with non-zero equilibrium springs\n",
    "\n",
    "#Definition of the constant target position\n",
    "restpos = SVector(0.011, -0.01, 0.442)\n",
    "add_coordinate!(vms, ConstCoord(restpos); id=\"Target position\")\n",
    "\n",
    "K = SMatrix{3, 3}(100., 0., 0., 0., 100., 0., 0., 0., 100.)\n",
    "D = SMatrix{3, 3}(10., 0., 0., 0., 10.0, 0., 0., 0., 10.)\n",
    "\n",
    "#lightly constraining some joints to avoid unwanted motions\n",
    "add_component!(vms, LinearSpring(10.0, \".robot.rh_LFJ5_coord\"); id = \"lf j5 angular spring\")\n",
    "add_component!(vms, LinearSpring(10.0, \".robot.rh_FFJ4_coord\"); id = \"ff j4 angular spring\")\n",
    "add_component!(vms, LinearSpring(10.0, \".robot.rh_MFJ4_coord\"); id = \"mf j4 angular spring\")\n",
    "add_component!(vms, LinearSpring(10.0, \".robot.rh_RFJ4_coord\"); id = \"rf j4 angular spring\")\n",
    "add_component!(vms, LinearSpring(10.0, \".robot.rh_LFJ4_coord\"); id = \"lf j4 angular spring\")\n",
    "add_component!(vms, LinearSpring(100.0, \".robot.rh_WRJ1_coord\"); id = \"wr j1 angular spring\")\n",
    "\n",
    "#Linking fingers to this target \n",
    "rh_fftip_frame_id = get_compiled_frameID(m, \"rh_fftip\")\n",
    "fftip_transform = get_transform(kcache, rh_fftip_frame_id)\n",
    "add_coordinate!(vms, FrameOrigin(\".robot.rh_fftip\"); id=\"ff position\")\n",
    "add_coordinate!(vms, ConstCoord(fftip_transform.origin - restpos); id=\"target ff vec\")\n",
    "add_coordinate!(vms, CoordSum(\"Target position\", \"target ff vec\"); id=\"ff Target position\")\n",
    "#add_coordinate!(vms, FramePoin(\"cart_frame\", fftip_transform.origin - restpos); id = \"ff Target position) --> Later when there will be a cart \n",
    "add_coordinate!(vms, CoordDifference(\"ff Target position\", \"ff position\"); id=\"ff position error\")\n",
    "\n",
    "add_component!(vms, LinearSpring(K, \"ff position error\");           id=\"ff position spring\")\n",
    "add_component!(vms, LinearDamper(D, \"ff position error\");           id=\"ff position damper\")\n",
    "\n",
    "rh_mftip_frame_id = get_compiled_frameID(m, \"rh_mftip\")\n",
    "mftip_transform = get_transform(kcache, rh_mftip_frame_id)\n",
    "add_coordinate!(vms, FrameOrigin(\".robot.rh_mftip\"); id=\"mf position\")\n",
    "add_coordinate!(vms, ConstCoord(mftip_transform.origin - restpos); id=\"target mf vec\")\n",
    "add_coordinate!(vms, CoordSum(\"Target position\", \"target mf vec\"); id=\"mf Target position\")\n",
    "add_coordinate!(vms, CoordDifference(\"mf Target position\", \"mf position\"); id=\"mf position error\")\n",
    "\n",
    "add_component!(vms, LinearSpring(K, \"mf position error\");           id=\"mf position spring\")\n",
    "add_component!(vms, LinearDamper(D, \"mf position error\");           id=\"mf position damper\")\n",
    "\n",
    "rh_rftip_frame_id = get_compiled_frameID(m, \"rh_rftip\")\n",
    "rftip_transform = get_transform(kcache, rh_rftip_frame_id)\n",
    "add_coordinate!(vms, FrameOrigin(\".robot.rh_rftip\"); id=\"rf position\")\n",
    "add_coordinate!(vms, ConstCoord(rftip_transform.origin - restpos); id=\"target rf vec\")\n",
    "add_coordinate!(vms, CoordSum(\"Target position\", \"target rf vec\"); id=\"rf Target position\")\n",
    "add_coordinate!(vms, CoordDifference(\"rf Target position\", \"rf position\"); id=\"rf position error\")\n",
    "\n",
    "add_component!(vms, LinearSpring(K, \"rf position error\");           id=\"rf position spring\")\n",
    "add_component!(vms, LinearDamper(D, \"rf position error\");           id=\"rf position damper\")\n",
    "\n",
    "rh_lftip_frame_id = get_compiled_frameID(m, \"rh_lftip\")\n",
    "lftip_transform = get_transform(kcache, rh_lftip_frame_id)\n",
    "add_coordinate!(vms, FrameOrigin(\".robot.rh_lftip\"); id=\"lf position\")\n",
    "add_coordinate!(vms, ConstCoord(lftip_transform.origin - restpos); id=\"target lf vec\")\n",
    "add_coordinate!(vms, CoordSum(\"Target position\", \"target lf vec\"); id=\"lf Target position\")\n",
    "add_coordinate!(vms, CoordDifference(\"lf Target position\", \"lf position\"); id=\"lf position error\")\n",
    "\n",
    "add_component!(vms, LinearSpring(K, \"lf position error\");           id=\"lf position spring\")\n",
    "add_component!(vms, LinearDamper(D, \"lf position error\");           id=\"lf position damper\")\n"
   ]
  },
  {
   "cell_type": "markdown",
   "metadata": {},
   "source": [
    "## Simulating the Robot"
   ]
  },
  {
   "cell_type": "markdown",
   "metadata": {},
   "source": [
    "### Setting Up the Simulation"
   ]
  },
  {
   "cell_type": "code",
   "execution_count": 102,
   "metadata": {},
   "outputs": [
    {
     "name": "stderr",
     "output_type": "stream",
     "text": [
      "\u001b[36m\u001b[1m[ \u001b[22m\u001b[39m\u001b[36m\u001b[1mInfo: \u001b[22m\u001b[39mSimulating shadow robot with attached fingers\n",
      "\u001b[32mODE   0%|█                                              |  ETA: N/A\u001b[39m\n",
      "\u001b[32mODE   2%|█                                              |  ETA: 0:01:27\u001b[39m\n",
      "\u001b[32mODE   4%|██                                             |  ETA: 0:01:07\u001b[39m\n",
      "\u001b[32mODE   6%|███                                            |  ETA: 0:00:58\u001b[39m\n",
      "\u001b[32mODE   8%|████                                           |  ETA: 0:00:52\u001b[39m\n",
      "\u001b[32mODE  11%|██████                                         |  ETA: 0:00:47\u001b[39m\n",
      "\u001b[32mODE  13%|███████                                        |  ETA: 0:00:44\u001b[39m\n",
      "\u001b[32mODE  15%|████████                                       |  ETA: 0:00:43\u001b[39m\n",
      "\u001b[32mODE  17%|█████████                                      |  ETA: 0:00:41\u001b[39m\n",
      "\u001b[32mODE  20%|██████████                                     |  ETA: 0:00:45\u001b[39m\n",
      "\u001b[32mODE  23%|███████████                                    |  ETA: 0:00:47\u001b[39m\n",
      "\u001b[32mODE  26%|█████████████                                  |  ETA: 0:00:52\u001b[39m\n",
      "\u001b[32mODE  29%|██████████████                                 |  ETA: 0:00:50\u001b[39m\n",
      "\u001b[32mODE  32%|████████████████                               |  ETA: 0:00:44\u001b[39m\n",
      "\u001b[32mODE  36%|█████████████████                              |  ETA: 0:00:42\u001b[39m\n",
      "\u001b[32mODE  39%|███████████████████                            |  ETA: 0:00:38\u001b[39m\n",
      "\u001b[32mODE  43%|█████████████████████                          |  ETA: 0:00:35\u001b[39m\n",
      "\u001b[32mODE  46%|██████████████████████                         |  ETA: 0:00:33\u001b[39m\n",
      "\u001b[32mODE  50%|████████████████████████                       |  ETA: 0:00:42\u001b[39m\n",
      "\u001b[32mODE  52%|█████████████████████████                      |  ETA: 0:00:39\u001b[39m\n",
      "\u001b[32mODE  56%|███████████████████████████                    |  ETA: 0:00:36\u001b[39m\n",
      "\u001b[32mODE  59%|████████████████████████████                   |  ETA: 0:00:32\u001b[39m\n",
      "\u001b[32mODE  62%|██████████████████████████████                 |  ETA: 0:00:29\u001b[39m\n",
      "\u001b[32mODE  65%|███████████████████████████████                |  ETA: 0:00:26\u001b[39m\n",
      "\u001b[32mODE  68%|█████████████████████████████████              |  ETA: 0:00:23\u001b[39m\n",
      "\u001b[32mODE  71%|██████████████████████████████████             |  ETA: 0:00:20\u001b[39m\n",
      "\u001b[32mODE  74%|███████████████████████████████████            |  ETA: 0:00:18\u001b[39m\n",
      "\u001b[32mODE  77%|█████████████████████████████████████          |  ETA: 0:00:16\u001b[39m\n",
      "\u001b[32mODE  82%|███████████████████████████████████████        |  ETA: 0:00:12\u001b[39m\n",
      "\u001b[32mODE  87%|█████████████████████████████████████████      |  ETA: 0:00:08\u001b[39m\n",
      "\u001b[32mODE  92%|████████████████████████████████████████████   |  ETA: 0:00:05\u001b[39m\n",
      "\u001b[32mODE  97%|██████████████████████████████████████████████ |  ETA: 0:00:02\u001b[39m\n",
      "\u001b[90mODE 100%|███████████████████████████████████████████████| Time: 0:01:06\u001b[39m\n"
     ]
    }
   ],
   "source": [
    "using Logging: global_logger\n",
    "using TerminalLoggers: TerminalLogger\n",
    "global_logger(TerminalLogger())\n",
    "\n",
    "\n",
    "function f_setup(cache) \n",
    "    return get_compiled_coordID(cache, \"Target position\")\n",
    "end\n",
    "\n",
    "function f_control(cache, t, args, extra)\n",
    "    target_pos_id = args\n",
    "    new_pos = SVector(0.011, -0.05, 0.32)\n",
    "    new_pos2 = SVector(0.011, -0.0275, 0.275)\n",
    "    new_pos3 = SVector(0.011, -0.01, 0.34)\n",
    "\n",
    "    if t > 3\n",
    "        cache[target_pos_id] = remake(cache[target_pos_id]; coord_data=ConstCoord(new_pos))\n",
    "    end\n",
    "\n",
    "    if t > 6\n",
    "        cache[target_pos_id] = remake(cache[target_pos_id]; coord_data=ConstCoord(new_pos2))\n",
    "    end\n",
    "\n",
    "    if t > 9\n",
    "        cache[target_pos_id] = remake(cache[target_pos_id]; coord_data=ConstCoord(new_pos3))\n",
    "    end\n",
    "\n",
    "end\n",
    "\n",
    "tspan = (0., 12.)\n",
    "vms_compiled = compile(vms)\n",
    "\n",
    "q = (zero_q(vms_compiled.robot), zero_q(vms_compiled.virtual_mechanism)) # Robot joint angle, vm joint angles\n",
    "q̇ = (zero_q̇(vms_compiled.robot), zero_q̇(vms_compiled.virtual_mechanism)) # Robot joint velocity, vm joint velocities\n",
    "\n",
    "g = VMRobotControl.DEFAULT_GRAVITY\n",
    "dcache = new_dynamics_cache(vms_compiled)\n",
    "prob = get_ode_problem(dcache, g, q, q̇, tspan; f_setup, f_control)\n",
    "@info \"Simulating shadow robot with attached fingers\"\n",
    "\n",
    "sol = solve(prob, Tsit5(), progress=true; maxiters=1e6, abstol=1e-6, reltol=1e-6);"
   ]
  },
  {
   "cell_type": "markdown",
   "metadata": {},
   "source": [
    "### Visualizing the Results"
   ]
  },
  {
   "cell_type": "code",
   "execution_count": 103,
   "metadata": {},
   "outputs": [],
   "source": [
    "fig = Figure(; size=(720, 720), figure_padding=0)\n",
    "display(fig)\n",
    "ls = LScene(fig[1, 1]; show_axis=false)\n",
    "cam = cam3d!(ls; center=true)\n",
    "cam.lookat[] = [0.025, 0., 0.24]\n",
    "cam.eyeposition[] = [-0.25, -0.6, 0.62]\n",
    "\n",
    "plotting_t = Observable(0.0)\n",
    "plotting_kcache = Observable(new_kinematics_cache(compile(vms)))\n",
    "robotvisualize!(ls, plotting_kcache)\n",
    "\n",
    "\n",
    "savepath = joinpath(module_path, \"docs/src/assets/shadowhand_sandbox.mp4\")\n",
    "display(fig)\n",
    "animate_robot_odesolution(fig, sol, plotting_kcache, savepath; t=plotting_t);"
   ]
  }
 ],
 "metadata": {
  "kernelspec": {
   "display_name": "Julia 1.9.3",
   "language": "julia",
   "name": "julia-1.9"
  },
  "language_info": {
   "file_extension": ".jl",
   "mimetype": "application/julia",
   "name": "julia",
   "version": "1.9.3"
  }
 },
 "nbformat": 4,
 "nbformat_minor": 2
}
