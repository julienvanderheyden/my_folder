{
 "cells": [
  {
   "cell_type": "code",
   "execution_count": 10,
   "metadata": {},
   "outputs": [
    {
     "data": {
      "text/plain": [
       "generate_q_init (generic function with 1 method)"
      ]
     },
     "execution_count": 10,
     "metadata": {},
     "output_type": "execute_result"
    }
   ],
   "source": [
    "using Revise\n",
    "using GeometryBasics: Vec3f, Point3f\n",
    "using LinearAlgebra\n",
    "using GLMakie\n",
    "using StaticArrays\n",
    "using VMRobotControl\n",
    "using VMRobotControl.Splines: CubicSpline\n",
    "using DifferentialEquations\n",
    "using MeshIO\n",
    "include(\"../../functions.jl\")"
   ]
  },
  {
   "cell_type": "markdown",
   "metadata": {},
   "source": [
    "## Importing ShadowHand URDF"
   ]
  },
  {
   "cell_type": "markdown",
   "metadata": {},
   "source": [
    "### URDF Parsing"
   ]
  },
  {
   "cell_type": "code",
   "execution_count": 19,
   "metadata": {},
   "outputs": [
    {
     "data": {
      "text/plain": [
       "24DOF Mechanism{Float64} \"shadowhand_motor\" with 33 frames, 32 joints, 55 coordinates, 82 components"
      ]
     },
     "execution_count": 19,
     "metadata": {},
     "output_type": "execute_result"
    }
   ],
   "source": [
    "using FileIO, UUIDs\n",
    "try\n",
    "    FileIO.add_format(format\"DAE\", (), \".dae\", [:DigitalAssetExchangeFormatIO => UUID(\"43182933-f65b-495a-9e05-4d939cea427d\")])\n",
    "catch\n",
    "end\n",
    "\n",
    "cfg = URDFParserConfig(;suppress_warnings=true) # This is just to hide warnings about unsupported URDF features\n",
    "module_path = joinpath(splitpath(splitdir(pathof(VMRobotControl))[1])[1:end-1])\n",
    "robot = parseURDF(joinpath(module_path, \"URDFs/sr_description/sr_hand_vm_compatible.urdf\"), cfg)"
   ]
  },
  {
   "cell_type": "markdown",
   "metadata": {},
   "source": [
    "### Kinematic computations : Obtaining the three points"
   ]
  },
  {
   "cell_type": "code",
   "execution_count": 3,
   "metadata": {},
   "outputs": [
    {
     "data": {
      "text/plain": [
       "3-element SVector{3, Float64} with indices SOneTo(3):\n",
       "  0.033\n",
       " -0.01\n",
       "  0.43801000000000007"
      ]
     },
     "metadata": {},
     "output_type": "display_data"
    }
   ],
   "source": [
    "m = compile(robot)\n",
    "kcache = new_kinematics_cache(m)  \n",
    "\n",
    "rh_fftip_frame_id = get_compiled_frameID(m, \"rh_fftip\")\n",
    "fftip_transform = get_transform(kcache, rh_fftip_frame_id)\n",
    "display(fftip_transform.origin)"
   ]
  },
  {
   "cell_type": "markdown",
   "metadata": {},
   "source": [
    "### Hand Visualization"
   ]
  },
  {
   "cell_type": "code",
   "execution_count": null,
   "metadata": {},
   "outputs": [
    {
     "data": {
      "text/plain": [
       "4×4 Matrix{Float64}:\n",
       " 1.0  0.0  0.0   0.009\n",
       " 0.0  1.0  0.0  -0.093\n",
       " 0.0  0.0  1.0   0.362\n",
       " 0.0  0.0  0.0   1.0"
      ]
     },
     "execution_count": 7,
     "metadata": {},
     "output_type": "execute_result"
    }
   ],
   "source": [
    "# Target transform \n",
    "R = [1.0 0.0 0.0; \n",
    "     0.0 1.0 0.0;\n",
    "     0.0 0.0 1.0]\n",
    "\n",
    "t = [0.0375, -0.08, 0.39]  # Example translation vector\n",
    "\n",
    "# Construct the homogeneous transformation matrix\n",
    "T1 = [R t; 0 0 0 1]\n",
    "\n",
    "t2 = [0.009, -0.093, 0.362]\n",
    "\n",
    "T2 = [R t2; 0 0 0 1]"
   ]
  },
  {
   "cell_type": "code",
   "execution_count": 51,
   "metadata": {},
   "outputs": [
    {
     "data": {
      "text/plain": [
       "GLMakie.Screen(...)"
      ]
     },
     "execution_count": 51,
     "metadata": {},
     "output_type": "execute_result"
    }
   ],
   "source": [
    "# Compile robot model\n",
    "m = compile(robot)\n",
    "kcache = Observable(new_kinematics_cache(m))  # This stores the robot's joint state\n",
    "\n",
    "# Create the figure\n",
    "fig = Figure(size=(800, 600))\n",
    "\n",
    "# Create interactive 3D scene\n",
    "ls = LScene(fig[1, 1]; show_axis=true)  # 3D interactive scene\n",
    "\n",
    "# Attach interactive camera controls\n",
    "cam3d!(ls)  # Enables mouse interaction (rotate, zoom, pan)\n",
    "\n",
    "# Plot the robot's visuals\n",
    "robotvisualize!(ls, kcache)\n",
    "#display_frame(m, ls, \"rh_ffmiddle\")\n",
    "#display_frame(m, ls, \"world\")\n",
    "display_transform(ls, T1)\n",
    "display_transform(ls, T2)\n",
    "\n",
    "# Display figure\n",
    "display(fig)"
   ]
  },
  {
   "cell_type": "code",
   "execution_count": 13,
   "metadata": {},
   "outputs": [
    {
     "name": "stdout",
     "output_type": "stream",
     "text": [
      "33-element Vector{String}:\n",
      " \"world\"\n",
      " \"rh_forearm\"\n",
      " \"rh_wrist\"\n",
      " \"rh_palm\"\n",
      " \"rh_manipulator\"\n",
      " \"rh_imu\"\n",
      " \"rh_ffknuckle\"\n",
      " \"rh_ffproximal\"\n",
      " \"rh_ffmiddle\"\n",
      " \"rh_ffdistal\"\n",
      " \"rh_fftip\"\n",
      " \"rh_mfknuckle\"\n",
      " \"rh_mfproximal\"\n",
      " \"rh_mfmiddle\"\n",
      " \"rh_mfdistal\"\n",
      " \"rh_mftip\"\n",
      " \"rh_rfknuckle\"\n",
      " \"rh_rfproximal\"\n",
      " \"rh_rfmiddle\"\n",
      " \"rh_rfdistal\"\n",
      " \"rh_rftip\"\n",
      " \"rh_lfmetacarpal\"\n",
      " \"rh_lfknuckle\"\n",
      " \"rh_lfproximal\"\n",
      " \"rh_lfmiddle\"\n",
      " \"rh_lfdistal\"\n",
      " \"rh_lftip\"\n",
      " \"rh_thbase\"\n",
      " \"rh_thproximal\"\n",
      " \"rh_thhub\"\n",
      " \"rh_thmiddle\"\n",
      " \"rh_thdistal\"\n",
      " \"rh_thtip\""
     ]
    }
   ],
   "source": [
    "show(IOContext(stdout, :limit => false),  MIME(\"text/plain\"), frames(robot))"
   ]
  },
  {
   "cell_type": "markdown",
   "metadata": {},
   "source": [
    "## Creating the Virtual Mechanism System"
   ]
  },
  {
   "cell_type": "markdown",
   "metadata": {},
   "source": [
    "### Gravity Compensation, Joint Limits and Joint Damping"
   ]
  },
  {
   "cell_type": "code",
   "execution_count": 20,
   "metadata": {},
   "outputs": [],
   "source": [
    "# GRAVITY COMPENSATION\n",
    "\n",
    "add_gravity_compensation!(robot, VMRobotControl.DEFAULT_GRAVITY)\n",
    "\n",
    "# JOINT DAMPING and LIMIT SPRINGS\n",
    "\n",
    "joint_limits = cfg.joint_limits\n",
    "\n",
    "for joint_id in keys(joints(robot))\n",
    "    limits = joint_limits[joint_id]\n",
    "    isnothing(limits) && continue\n",
    "    add_coordinate!(robot, JointSubspace(joint_id);  id=\"$(joint_id)_coord\")\n",
    "    @assert ~isnothing(limits.lower) && ~isnothing(limits.upper)\n",
    "    add_deadzone_springs!(robot, 50.0, (limits.lower+0.1, limits.upper-0.1), \"$(joint_id)_coord\")\n",
    "    add_component!(robot, LinearDamper(0.01, \"$(joint_id)_coord\"); id=\"$(joint_id)_damper\")\n",
    "end"
   ]
  },
  {
   "cell_type": "markdown",
   "metadata": {},
   "source": [
    "### Addition of the multiples springs/dampers"
   ]
  },
  {
   "cell_type": "code",
   "execution_count": 41,
   "metadata": {},
   "outputs": [
    {
     "data": {
      "text/plain": [
       "\"th positioning damper\""
      ]
     },
     "execution_count": 41,
     "metadata": {},
     "output_type": "execute_result"
    }
   ],
   "source": [
    "vms = VirtualMechanismSystem(\"myShadowVMS\", robot)\n",
    "root = root_frame(vms.robot)\n",
    "\n",
    "K = SMatrix{3, 3}(100., 0., 0., 0., 100., 0., 0., 0., 100.)\n",
    "D = SMatrix{3, 3}(10., 0., 0., 0., 10.0, 0., 0., 0., 10.)\n",
    "\n",
    "ff_target = SVector(0.0375, -0.08, 0.37)\n",
    "mf_target = SVector(0.009, -0.093, 0.342)\n",
    "th_target = (ff_target + mf_target)/2\n",
    "\n",
    "#Lightly constraint some joints to avoid unwanted motions\n",
    "add_component!(vms, LinearSpring(1.0, \".robot.rh_LFJ5_coord\"); id = \"lf j5 angular spring\")\n",
    "\n",
    "add_coordinate!(vms, ConstCoord(ff_target); id=\"ff target position\")\n",
    "add_coordinate!(vms, FrameOrigin(\".robot.rh_fftip\"); id=\"ff position\")\n",
    "add_coordinate!(vms, CoordDifference(\"ff position\", \"ff target position\"); id=\"ff target dist\")\n",
    "add_coordinate!(vms, CoordNorm(\"ff target dist\"); id=\"ff target norm\")\n",
    "add_coordinate!(vms, ConstCoord(0.1); id=\"ff spring length\")\n",
    "add_coordinate!(vms, CoordDifference(\"ff target norm\", \"ff spring length\"); id=\"ff position error\")\n",
    "\n",
    "add_component!(vms, LinearSpring(100.0, \"ff position error\"); id=\"ff positioning spring\")\n",
    "add_component!(vms, LinearDamper(10.0, \"ff position error\"); id=\"ff positioning damper\")\n",
    "\n",
    "add_coordinate!(vms, ConstCoord(mf_target); id=\"mf target position\")\n",
    "add_coordinate!(vms, FrameOrigin(\".robot.rh_mftip\"); id=\"mf position\")\n",
    "add_coordinate!(vms, CoordDifference(\"mf position\", \"mf target position\"); id=\"mf target dist\")\n",
    "add_coordinate!(vms, CoordNorm(\"mf target dist\"); id=\"mf target norm\")\n",
    "add_coordinate!(vms, ConstCoord(0.1); id=\"mf spring length\")\n",
    "add_coordinate!(vms, CoordDifference(\"mf target norm\", \"mf spring length\"); id=\"mf position error\")\n",
    "\n",
    "add_component!(vms, LinearSpring(100.0, \"mf position error\"); id=\"mf positioning spring\")\n",
    "add_component!(vms, LinearDamper(10.0, \"mf position error\"); id=\"mf positioning damper\")\n",
    "\n",
    "add_coordinate!(vms, ConstCoord(th_target); id=\"th target position\")\n",
    "add_coordinate!(vms, FrameOrigin(\".robot.rh_thtip\"); id=\"th position\")\n",
    "add_coordinate!(vms, CoordDifference(\"th position\", \"th target position\"); id=\"th target dist\")\n",
    "add_coordinate!(vms, CoordNorm(\"th target dist\"); id=\"th target norm\")\n",
    "add_coordinate!(vms, ConstCoord(0.07); id=\"th spring length\")\n",
    "add_coordinate!(vms, CoordDifference(\"th target norm\", \"th spring length\"); id=\"th position error\")\n",
    "\n",
    "add_component!(vms, LinearSpring(100.0, \"th position error\"); id=\"th positioning spring\")\n",
    "add_component!(vms, LinearDamper(10.0, \"th position error\"); id=\"th positioning damper\")\n"
   ]
  },
  {
   "cell_type": "markdown",
   "metadata": {},
   "source": [
    "## Simulating the Robot"
   ]
  },
  {
   "cell_type": "markdown",
   "metadata": {},
   "source": [
    "### Setting Up the Simulation"
   ]
  },
  {
   "cell_type": "code",
   "execution_count": 42,
   "metadata": {},
   "outputs": [
    {
     "name": "stderr",
     "output_type": "stream",
     "text": [
      "\u001b[36m\u001b[1m[ \u001b[22m\u001b[39m\u001b[36m\u001b[1mInfo: \u001b[22m\u001b[39mSimulating shadow robot with prismatic 2 grasp\n",
      "\u001b[32mODE   0%|█                                              |  ETA: N/A\u001b[39m\n",
      "\u001b[32mODE   2%|█                                              |  ETA: 0:01:20\u001b[39m\n",
      "\u001b[32mODE   3%|██                                             |  ETA: 0:01:30\u001b[39m\n",
      "\u001b[32mODE   5%|███                                            |  ETA: 0:01:38\u001b[39m\n",
      "\u001b[32mODE   7%|████                                           |  ETA: 0:02:01\u001b[39m\n",
      "\u001b[32mODE   8%|████                                           |  ETA: 0:02:05\u001b[39m\n",
      "\u001b[32mODE  10%|█████                                          |  ETA: 0:01:56\u001b[39m\n",
      "\u001b[32mODE  12%|██████                                         |  ETA: 0:01:48\u001b[39m\n",
      "\u001b[32mODE  13%|███████                                        |  ETA: 0:01:43\u001b[39m\n",
      "\u001b[32mODE  15%|███████                                        |  ETA: 0:01:38\u001b[39m\n",
      "\u001b[32mODE  16%|████████                                       |  ETA: 0:01:34\u001b[39m\n",
      "\u001b[32mODE  18%|█████████                                      |  ETA: 0:01:32\u001b[39m\n",
      "\u001b[32mODE  20%|██████████                                     |  ETA: 0:01:31\u001b[39m\n",
      "\u001b[32mODE  21%|███████████                                    |  ETA: 0:01:29\u001b[39m\n",
      "\u001b[32mODE  23%|███████████                                    |  ETA: 0:01:27\u001b[39m\n",
      "\u001b[32mODE  25%|████████████                                   |  ETA: 0:01:25\u001b[39m\n",
      "\u001b[32mODE  26%|█████████████                                  |  ETA: 0:01:23\u001b[39m\n",
      "\u001b[32mODE  28%|██████████████                                 |  ETA: 0:01:20\u001b[39m\n",
      "\u001b[32mODE  30%|██████████████                                 |  ETA: 0:01:18\u001b[39m\n",
      "\u001b[32mODE  31%|███████████████                                |  ETA: 0:01:15\u001b[39m\n",
      "\u001b[32mODE  33%|████████████████                               |  ETA: 0:01:12\u001b[39m\n",
      "\u001b[32mODE  35%|█████████████████                              |  ETA: 0:01:10\u001b[39m\n",
      "\u001b[32mODE  36%|██████████████████                             |  ETA: 0:01:08\u001b[39m\n",
      "\u001b[32mODE  38%|██████████████████                             |  ETA: 0:01:05\u001b[39m\n",
      "\u001b[32mODE  40%|███████████████████                            |  ETA: 0:01:02\u001b[39m\n",
      "\u001b[32mODE  42%|████████████████████                           |  ETA: 0:00:59\u001b[39m\n",
      "\u001b[32mODE  44%|█████████████████████                          |  ETA: 0:00:57\u001b[39m\n",
      "\u001b[32mODE  45%|██████████████████████                         |  ETA: 0:00:54\u001b[39m\n",
      "\u001b[32mODE  47%|███████████████████████                        |  ETA: 0:00:52\u001b[39m\n",
      "\u001b[32mODE  49%|████████████████████████                       |  ETA: 0:00:50\u001b[39m\n",
      "\u001b[32mODE  51%|████████████████████████                       |  ETA: 0:00:47\u001b[39m\n",
      "\u001b[32mODE  53%|█████████████████████████                      |  ETA: 0:00:45\u001b[39m\n",
      "\u001b[32mODE  54%|██████████████████████████                     |  ETA: 0:00:43\u001b[39m\n",
      "\u001b[32mODE  56%|███████████████████████████                    |  ETA: 0:00:41\u001b[39m\n",
      "\u001b[32mODE  58%|████████████████████████████                   |  ETA: 0:00:39\u001b[39m\n",
      "\u001b[32mODE  60%|█████████████████████████████                  |  ETA: 0:00:37\u001b[39m\n",
      "\u001b[32mODE  62%|█████████████████████████████                  |  ETA: 0:00:36\u001b[39m\n",
      "\u001b[32mODE  63%|██████████████████████████████                 |  ETA: 0:00:34\u001b[39m\n",
      "\u001b[32mODE  65%|███████████████████████████████                |  ETA: 0:00:32\u001b[39m\n",
      "\u001b[32mODE  67%|████████████████████████████████               |  ETA: 0:00:31\u001b[39m\n",
      "\u001b[32mODE  69%|█████████████████████████████████              |  ETA: 0:00:29\u001b[39m\n",
      "\u001b[32mODE  70%|██████████████████████████████████             |  ETA: 0:00:27\u001b[39m\n",
      "\u001b[32mODE  72%|██████████████████████████████████             |  ETA: 0:00:26\u001b[39m\n",
      "\u001b[32mODE  74%|███████████████████████████████████            |  ETA: 0:00:24\u001b[39m\n",
      "\u001b[32mODE  76%|████████████████████████████████████           |  ETA: 0:00:22\u001b[39m\n",
      "\u001b[32mODE  78%|█████████████████████████████████████          |  ETA: 0:00:20\u001b[39m\n",
      "\u001b[32mODE  80%|██████████████████████████████████████         |  ETA: 0:00:19\u001b[39m\n",
      "\u001b[32mODE  82%|███████████████████████████████████████        |  ETA: 0:00:16\u001b[39m\n",
      "\u001b[32mODE  86%|█████████████████████████████████████████      |  ETA: 0:00:12\u001b[39m\n",
      "\u001b[32mODE  92%|████████████████████████████████████████████   |  ETA: 0:00:07\u001b[39m\n",
      "\u001b[32mODE  98%|██████████████████████████████████████████████ |  ETA: 0:00:02\u001b[39m\n",
      "\u001b[90mODE 100%|███████████████████████████████████████████████| Time: 0:01:18\u001b[39m\n"
     ]
    }
   ],
   "source": [
    "using Logging: global_logger\n",
    "using TerminalLoggers: TerminalLogger\n",
    "global_logger(TerminalLogger())\n",
    "\n",
    "\"\"\"\n",
    "Update the vms based on the \"coord\", which is a coordinate varying between \n",
    "0 and 1, 0 being the starting position of the medium wrap motion while 1 being \n",
    "the end\n",
    "\"\"\"\n",
    "function update_prismatic_2_coord(args, cache, coord)\n",
    "    ff_spring_length_id, mf_spring_length_id, th_spring_length_id = args\n",
    "\n",
    "    #update the length of the spring between the target and the ff finger\n",
    "    length_max = 0.1\n",
    "    length_min = 0.0\n",
    "    length_value = length_max - (length_max - length_min)*coord \n",
    "    cache[ff_spring_length_id] = remake(cache[ff_spring_length_id] ; coord_data = ConstCoord(length_value))\n",
    "\n",
    "    #update the length of the spring between the target and the mf finger\n",
    "    length_max = 0.1\n",
    "    length_min = 0.0\n",
    "    length_value = length_max - (length_max - length_min)*coord \n",
    "    cache[mf_spring_length_id] = remake(cache[mf_spring_length_id] ; coord_data = ConstCoord(length_value))\n",
    "\n",
    "    #update the length of the spring between the target and the thumb\n",
    "    length_max = 0.07\n",
    "    length_min = 0.0\n",
    "    length_value = length_max - (length_max - length_min)*coord \n",
    "    cache[th_spring_length_id] = remake(cache[th_spring_length_id] ; coord_data = ConstCoord(length_value))\n",
    "\n",
    "    nothing\n",
    "end\n",
    "\n",
    "function f_setup(cache) \n",
    "    return (get_compiled_coordID(cache, \"ff spring length\") , get_compiled_coordID(cache, \"mf spring length\"), get_compiled_coordID(cache, \"th spring length\"))\n",
    "end\n",
    "\n",
    "function f_control(cache, t, args, extra)\n",
    "\n",
    "    t_end = 5. #we want to reach the end position at t = t_end \n",
    "    \n",
    "    if t <= t_end \n",
    "        coord_value = t/t_end\n",
    "        update_prismatic_2_coord(args, cache, coord_value)\n",
    "    end\n",
    "end\n",
    "\n",
    "tspan = (0., 6.)\n",
    "vms_compiled = compile(vms)\n",
    "\n",
    "q_init = generate_q_init(vms_compiled; rf=true, lf=true)\n",
    "q = (q_init, zero_q(vms_compiled.virtual_mechanism)) # Robot joint angle, vm joint angles\n",
    "q̇ = (zero_q̇(vms_compiled.robot), zero_q̇(vms_compiled.virtual_mechanism)) # Robot joint velocity, vm joint velocities\n",
    "\n",
    "g = VMRobotControl.DEFAULT_GRAVITY\n",
    "dcache = new_dynamics_cache(vms_compiled)\n",
    "prob = get_ode_problem(dcache, g, q, q̇, tspan; f_setup, f_control)\n",
    "@info \"Simulating shadow robot with prismatic 2 grasp\"\n",
    "\n",
    "sol = solve(prob, Tsit5(), progress=true; maxiters=1e6, abstol=1e-5, reltol=1e-5);"
   ]
  },
  {
   "cell_type": "markdown",
   "metadata": {},
   "source": [
    "### Visualizing the Results"
   ]
  },
  {
   "cell_type": "code",
   "execution_count": 52,
   "metadata": {},
   "outputs": [],
   "source": [
    "fig = Figure(; size=(720, 720), figure_padding=0)\n",
    "display(fig)\n",
    "ls = LScene(fig[1, 1]; show_axis=false)\n",
    "cam = cam3d!(ls; center=true)\n",
    "cam.lookat[] = [0.025, 0., 0.24]\n",
    "cam.eyeposition[] = [-0.25, -0.6, 0.62]\n",
    "\n",
    "plotting_t = Observable(0.0)\n",
    "plotting_kcache = Observable(new_kinematics_cache(compile(vms)))\n",
    "robotvisualize!(ls, plotting_kcache)\n",
    "\n",
    "#cartID = get_compiled_coordID(plotting_kcache[], \".virtual_mechanism.cart position\")\n",
    "#scatter!(ls, plotting_kcache, cartID; color=:red, marker=:rect, markersize=5)\n",
    "scatter!(ls, ff_target ; color=:red, marker=:rect, markersize=5)\n",
    "scatter!(ls, mf_target ; color=:red, marker=:rect, markersize=5)\n",
    "scatter!(ls, th_target ; color=:red, marker=:rect, markersize=5)\n",
    "\n",
    "# Draw the line on the scene\n",
    "line_point_1 = [-0.0195, -0.106, 0.314]\n",
    "line_point_2 = [0.066, -0.067, 0.398]\n",
    "lines!(ls, [line_point_1[1], line_point_2[1]], [line_point_1[2], line_point_2[2]], [line_point_1[3], line_point_2[3]], color=:black, linewidth=3)\n",
    "\n",
    "\n",
    "savepath = joinpath(module_path, \"docs/src/assets/shadowhand_prismatic_2.mp4\")\n",
    "display(fig)\n",
    "animate_robot_odesolution(fig, sol, plotting_kcache, savepath; t=plotting_t);"
   ]
  }
 ],
 "metadata": {
  "kernelspec": {
   "display_name": "Julia 1.9.3",
   "language": "julia",
   "name": "julia-1.9"
  },
  "language_info": {
   "file_extension": ".jl",
   "mimetype": "application/julia",
   "name": "julia",
   "version": "1.9.3"
  }
 },
 "nbformat": 4,
 "nbformat_minor": 2
}
