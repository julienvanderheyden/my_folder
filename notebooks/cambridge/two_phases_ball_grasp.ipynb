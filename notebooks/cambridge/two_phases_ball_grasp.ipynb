{
 "cells": [
  {
   "cell_type": "code",
   "execution_count": 2,
   "metadata": {},
   "outputs": [
    {
     "data": {
      "text/plain": [
       "display_transform (generic function with 1 method)"
      ]
     },
     "metadata": {},
     "output_type": "display_data"
    }
   ],
   "source": [
    "using Revise\n",
    "using GeometryBasics: Vec3f, Point3f\n",
    "using LinearAlgebra\n",
    "using GLMakie\n",
    "using StaticArrays\n",
    "using VMRobotControl\n",
    "using VMRobotControl.Splines: CubicSpline\n",
    "using DifferentialEquations\n",
    "using MeshIO\n",
    "include(\"../functions.jl\")"
   ]
  },
  {
   "cell_type": "markdown",
   "metadata": {},
   "source": [
    "## Importing ShadowHand URDF"
   ]
  },
  {
   "cell_type": "markdown",
   "metadata": {},
   "source": [
    "### URDF Parsing"
   ]
  },
  {
   "cell_type": "code",
   "execution_count": 3,
   "metadata": {},
   "outputs": [
    {
     "data": {
      "text/plain": [
       "24DOF Mechanism{Float64} \"shadowhand_motor\" with 33 frames, 32 joints, 55 coordinates, 82 components"
      ]
     },
     "metadata": {},
     "output_type": "display_data"
    }
   ],
   "source": [
    "using FileIO, UUIDs\n",
    "try\n",
    "    FileIO.add_format(format\"DAE\", (), \".dae\", [:DigitalAssetExchangeFormatIO => UUID(\"43182933-f65b-495a-9e05-4d939cea427d\")])\n",
    "catch\n",
    "end\n",
    "\n",
    "cfg = URDFParserConfig(;suppress_warnings=true) # This is just to hide warnings about unsupported URDF features\n",
    "module_path = joinpath(splitpath(splitdir(pathof(VMRobotControl))[1])[1:end-1])\n",
    "robot = parseURDF(joinpath(module_path, \"URDFs/sr_description/sr_hand_vm_compatible.urdf\"), cfg)"
   ]
  },
  {
   "cell_type": "markdown",
   "metadata": {},
   "source": [
    "### Kinematic computations "
   ]
  },
  {
   "cell_type": "code",
   "execution_count": 4,
   "metadata": {},
   "outputs": [
    {
     "data": {
      "text/plain": [
       "Transform{Float64}([0.0, -0.01, 0.24701], Rotor{Float64}(1.0, [0.0, 0.0, 0.0]))"
      ]
     },
     "metadata": {},
     "output_type": "display_data"
    }
   ],
   "source": [
    "m = compile(robot)\n",
    "kcache = new_kinematics_cache(m)  \n",
    "\n",
    "rh_palm_frame_id = get_compiled_frameID(m, \"rh_palm\")\n",
    "palm_transform = get_transform(kcache, rh_palm_frame_id)"
   ]
  },
  {
   "cell_type": "markdown",
   "metadata": {},
   "source": [
    "### Hand Visualization"
   ]
  },
  {
   "cell_type": "code",
   "execution_count": 5,
   "metadata": {},
   "outputs": [
    {
     "data": {
      "text/plain": [
       "4×4 Matrix{Float64}:\n",
       " 1.0  0.0  0.0   0.0\n",
       " 0.0  1.0  0.0  -0.01\n",
       " 0.0  0.0  1.0   0.31701\n",
       " 0.0  0.0  0.0   1.0"
      ]
     },
     "metadata": {},
     "output_type": "display_data"
    }
   ],
   "source": [
    "# Target transform \n",
    "R = [1.0 0.0 0.0; \n",
    "     0.0 1.0 0.0;\n",
    "     0.0 0.0 1.0]\n",
    "\n",
    "t = [0.00, -0.01, 0.31701]  # Example translation vector\n",
    "\n",
    "# Construct the homogeneous transformation matrix\n",
    "T = [R t; 0 0 0 1]\n",
    "\n",
    "display(T)  # Show the matrix"
   ]
  },
  {
   "cell_type": "code",
   "execution_count": 6,
   "metadata": {},
   "outputs": [
    {
     "data": {
      "text/plain": [
       "GLMakie.Screen(...)"
      ]
     },
     "metadata": {},
     "output_type": "display_data"
    }
   ],
   "source": [
    "# Compile robot model\n",
    "m = compile(robot)\n",
    "kcache = Observable(new_kinematics_cache(m))  # This stores the robot's joint state\n",
    "\n",
    "# Create the figure\n",
    "fig = Figure(size=(800, 600))\n",
    "\n",
    "# Create interactive 3D scene\n",
    "ls = LScene(fig[1, 1]; show_axis=true)  # 3D interactive scene\n",
    "\n",
    "# Attach interactive camera controls\n",
    "cam3d!(ls)  # Enables mouse interaction (rotate, zoom, pan)\n",
    "\n",
    "# Plot the robot's visuals\n",
    "robotvisualize!(ls, kcache)\n",
    "display_frame(m, ls, \"rh_palm\")\n",
    "display_transform(ls, T)\n",
    "\n",
    "# Display figure\n",
    "display(fig)"
   ]
  },
  {
   "cell_type": "code",
   "execution_count": 215,
   "metadata": {},
   "outputs": [
    {
     "name": "stdout",
     "output_type": "stream",
     "text": [
      "Dict{String, VMRobotControl.CoordinateData} with 55 entries:\n",
      "  \"rh_lfdistal_mass_coord\" => FramePoint{Float64, String}(rh_lfdistal, [0.0, 0.0, 0.012])\n",
      "  \"rh_rfdistal_mass_coord\" => FramePoint{Float64, String}(rh_rfdistal, [0.0, 0.0, 0.012])\n",
      "  \"rh_thdistal_mass_coord\" => FramePoint{Float64, String}(rh_thdistal, [0.0, 0.0, 0.01375])\n",
      "  \"rh_rftip_mass_coord\" => FrameOrigin{String}(rh_rftip)\n",
      "  \"rh_palm_mass_coord\" => FramePoint{Float64, String}(rh_palm, [0.0, 0.0, 0.035])\n",
      "  \"rh_rfknuckle_mass_coord\" => FrameOrigin{String}(rh_rfknuckle)\n",
      "  \"rh_wrist_mass_coord\" => FramePoint{Float64, String}(rh_wrist, [0.0, 0.0, 0.029])\n",
      "  \"rh_ffdistal_inertia_coord\" => FrameAngularVelocity{String}(\"rh_ffdistal\")\n",
      "  \"rh_thhub_mass_coord\" => FrameOrigin{String}(rh_thhub)\n",
      "  \"rh_rfmiddle_mass_coord\" => FramePoint{Float64, String}(rh_rfmiddle, [0.0, 0.0, 0.0125])\n",
      "  \"rh_mftip_mass_coord\" => FrameOrigin{String}(rh_mftip)\n",
      "  \"rh_ffdistal_mass_coord\" => FramePoint{Float64, String}(rh_ffdistal, [0.0, 0.0, 0.012])\n",
      "  \"rh_mfknuckle_mass_coord\" => FrameOrigin{String}(rh_mfknuckle)\n",
      "  \"rh_lfmiddle_mass_coord\" => FramePoint{Float64, String}(rh_lfmiddle, [0.0, 0.0, 0.0125])\n",
      "  \"rh_forearm_inertia_coord\" => FrameAngularVelocity{String}(\"rh_forearm\")\n",
      "  \"rh_rfmiddle_inertia_coord\" => FrameAngularVelocity{String}(\"rh_rfmiddle\")\n",
      "  \"rh_ffknuckle_inertia_coord\" => FrameAngularVelocity{String}(\"rh_ffknuckle\")\n",
      "  \"rh_thmiddle_mass_coord\" => FramePoint{Float64, String}(rh_thmiddle, [0.0, 0.0, 0.016])\n",
      "  \"rh_lfproximal_inertia_coord\" => FrameAngularVelocity{String}(\"rh_lfproximal\")\n",
      "  \"rh_wrist_inertia_coord\" => FrameAngularVelocity{String}(\"rh_wrist\")\n",
      "  \"rh_thbase_mass_coord\" => FrameOrigin{String}(rh_thbase)\n",
      "  \"rh_lfproximal_mass_coord\" => FramePoint{Float64, String}(rh_lfproximal, [0.0, 0.0, 0.0225])\n",
      "  \"rh_mfmiddle_inertia_coord\" => FrameAngularVelocity{String}(\"rh_mfmiddle\")\n",
      "  \"rh_ffproximal_inertia_coord\" => FrameAngularVelocity{String}(\"rh_ffproximal\")\n",
      "  \"rh_thproximal_inertia_coord\" => FrameAngularVelocity{String}(\"rh_thproximal\")\n",
      "  \"rh_thbase_inertia_coord\" => FrameAngularVelocity{String}(\"rh_thbase\")\n",
      "  \"rh_mfknuckle_inertia_coord\" => FrameAngularVelocity{String}(\"rh_mfknuckle\")\n",
      "  \"rh_thdistal_inertia_coord\" => FrameAngularVelocity{String}(\"rh_thdistal\")\n",
      "  \"rh_ffmiddle_mass_coord\" => FramePoint{Float64, String}(rh_ffmiddle, [0.0, 0.0, 0.0125])\n",
      "  \"rh_thtip_mass_coord\" => FrameOrigin{String}(rh_thtip)\n",
      "  \"rh_mfproximal_inertia_coord\" => FrameAngularVelocity{String}(\"rh_mfproximal\")\n",
      "  \"rh_thhub_inertia_coord\" => FrameAngularVelocity{String}(\"rh_thhub\")\n",
      "  \"rh_thmiddle_inertia_coord\" => FrameAngularVelocity{String}(\"rh_thmiddle\")\n",
      "  \"rh_palm_inertia_coord\" => FrameAngularVelocity{String}(\"rh_palm\")\n",
      "  \"rh_mfmiddle_mass_coord\" => FramePoint{Float64, String}(rh_mfmiddle, [0.0, 0.0, 0.0125])\n",
      "  \"rh_fftip_mass_coord\" => FrameOrigin{String}(rh_fftip)\n",
      "  \"rh_rfproximal_inertia_coord\" => FrameAngularVelocity{String}(\"rh_rfproximal\")\n",
      "  \"rh_rfknuckle_inertia_coord\" => FrameAngularVelocity{String}(\"rh_rfknuckle\")\n",
      "  \"rh_lfknuckle_inertia_coord\" => FrameAngularVelocity{String}(\"rh_lfknuckle\")\n",
      "  \"rh_lfmetacarpal_mass_coord\" => FramePoint{Float64, String}(rh_lfmetacarpal, [0.03174867647058824, 0.0, 0.02235294117647059])\n",
      "  \"rh_lfmetacarpal_inertia_coord\" => FrameAngularVelocity{String}(\"rh_lfmetacarpal\")\n",
      "  \"rh_ffproximal_mass_coord\" => FramePoint{Float64, String}(rh_ffproximal, [0.0, 0.0, 0.0225])\n",
      "  \"rh_lfmiddle_inertia_coord\" => FrameAngularVelocity{String}(\"rh_lfmiddle\")\n",
      "  \"rh_rfproximal_mass_coord\" => FramePoint{Float64, String}(rh_rfproximal, [0.0, 0.0, 0.0225])\n",
      "  \"rh_ffmiddle_inertia_coord\" => FrameAngularVelocity{String}(\"rh_ffmiddle\")\n",
      "  \"rh_lftip_mass_coord\" => FrameOrigin{String}(rh_lftip)\n",
      "  \"rh_rfdistal_inertia_coord\" => FrameAngularVelocity{String}(\"rh_rfdistal\")\n",
      "  \"rh_forearm_mass_coord\" => FramePoint{Float64, String}(rh_forearm, [0.0, 0.0, 0.09])\n",
      "  \"rh_mfproximal_mass_coord\" => FramePoint{Float64, String}(rh_mfproximal, [0.0, 0.0, 0.0225])\n",
      "  \"rh_mfdistal_inertia_coord\" => FrameAngularVelocity{String}(\"rh_mfdistal\")\n",
      "  \"rh_thproximal_mass_coord\" => FramePoint{Float64, String}(rh_thproximal, [0.0, 0.0, 0.019])\n",
      "  \"rh_lfknuckle_mass_coord\" => FrameOrigin{String}(rh_lfknuckle)\n",
      "  \"rh_mfdistal_mass_coord\" => FramePoint{Float64, String}(rh_mfdistal, [0.0, 0.0, 0.012])\n",
      "  \"rh_lfdistal_inertia_coord\" => FrameAngularVelocity{String}(\"rh_lfdistal\")\n",
      "  \"rh_ffknuckle_mass_coord\" => FrameOrigin{String}(rh_ffknuckle)"
     ]
    }
   ],
   "source": [
    "show(IOContext(stdout, :limit => false),  MIME(\"text/plain\"), coordinates(robot))"
   ]
  },
  {
   "cell_type": "markdown",
   "metadata": {},
   "source": [
    "## Creating the Virtual Mechanism System"
   ]
  },
  {
   "cell_type": "markdown",
   "metadata": {},
   "source": [
    "### Gravity Compensation, Joint Limits and Joint Damping"
   ]
  },
  {
   "cell_type": "code",
   "execution_count": 7,
   "metadata": {},
   "outputs": [],
   "source": [
    "# GRAVITY COMPENSATION\n",
    "\n",
    "add_gravity_compensation!(robot, VMRobotControl.DEFAULT_GRAVITY)\n",
    "\n",
    "# JOINT DAMPING and LIMIT SPRINGS\n",
    "\n",
    "joint_limits = cfg.joint_limits\n",
    "\n",
    "for joint_id in keys(joints(robot))\n",
    "    limits = joint_limits[joint_id]\n",
    "    isnothing(limits) && continue\n",
    "    add_coordinate!(robot, JointSubspace(joint_id);  id=\"$(joint_id)_coord\")\n",
    "    @assert ~isnothing(limits.lower) && ~isnothing(limits.upper)\n",
    "    add_deadzone_springs!(robot, 50.0, (limits.lower+0.1, limits.upper-0.1), \"$(joint_id)_coord\")\n",
    "    add_component!(robot, LinearDamper(0.01, \"$(joint_id)_coord\"); id=\"$(joint_id)_damper\")\n",
    "end"
   ]
  },
  {
   "cell_type": "markdown",
   "metadata": {},
   "source": [
    "### Creation of the sphere"
   ]
  },
  {
   "cell_type": "code",
   "execution_count": 8,
   "metadata": {},
   "outputs": [
    {
     "data": {
      "text/plain": [
       "\"J3\""
      ]
     },
     "metadata": {},
     "output_type": "display_data"
    }
   ],
   "source": [
    "vm = Mechanism{Float64}(\"Sphere + VirtualTrack\")\n",
    "root_vm = root_frame(vm)\n",
    "F1 = add_frame!(vm; id=\"sphere_L1_frame\")\n",
    "F2 = add_frame!(vm; id=\"sphere_L2_frame\")\n",
    "F_sphere = add_frame!(vm; id=\"sphere_frame\")\n",
    "\n",
    "J1 = Prismatic(SVector(1. ,0. ,0. ))\n",
    "J2 = Prismatic(SVector(0. ,1. ,0. ))\n",
    "J3 = Prismatic(SVector(0. ,0. ,1. ))\n",
    "\n",
    "add_joint!(vm, J1; parent=root_vm, child=F1, id=\"J1\")\n",
    "add_joint!(vm, J2; parent=F1, child=F2, id=\"J2\")\n",
    "add_joint!(vm, J3; parent=F2, child=F_sphere, id=\"J3\")\n",
    "\n",
    "add_coordinate!(vm, FrameOrigin(F_sphere); id = \"sphere position\")\n",
    "add_component!(vm, PointMass(1.0, \"sphere position\"); id=\"sphere mass\")\n",
    "add_gravity_compensation!(vm, VMRobotControl.DEFAULT_GRAVITY)\n",
    "\n",
    "add_coordinate!(vm, JointSubspace(\"J1\"); id=\"J1\")\n",
    "add_coordinate!(vm, JointSubspace(\"J2\"); id=\"J2\")\n",
    "add_coordinate!(vm, JointSubspace(\"J3\"); id=\"J3\")"
   ]
  },
  {
   "cell_type": "markdown",
   "metadata": {},
   "source": [
    "### Creation of the rail"
   ]
  },
  {
   "cell_type": "code",
   "execution_count": 9,
   "metadata": {},
   "outputs": [],
   "source": [
    "start = SVector(0.0, -0.2, 0.32)\n",
    "\n",
    "Nk = 6\n",
    "L = 0.11\n",
    "y0 = start[2]\n",
    "y_vector = Vector(LinRange(y0, y0+L, Nk))\n",
    "spline_points = Matrix{Float64}(undef, 0, 3)\n",
    "for i = 1:Nk\n",
    "    spline_points = vcat(\n",
    "        spline_points,\n",
    "        hcat(start[1], y_vector[i], start[3])\n",
    "    )\n",
    "end\n",
    "\n",
    "spline = CubicSpline(spline_points)\n",
    "\n",
    "cart_frame = add_frame!(vm, \"Cart\")\n",
    "add_joint!(vm, Rail(spline, zero(Transform{Float64}));\n",
    "        parent=root_frame(vm), child=cart_frame,        id=\"RailJoint\")\n",
    "\n",
    "add_coordinate!(vm, JointSubspace(\"RailJoint\");         id=\"CartDistance\")\n",
    "add_coordinate!(vm, FrameOrigin(cart_frame);            id=\"Target position\")\n",
    "add_component!(vm, LinearInerter(1.0, \"Target position\");  id=\"CartInertance\") # Cart mass\n",
    "add_component!(vm, LinearDamper(100.0, \"Target position\"); id=\"CartDamper\");"
   ]
  },
  {
   "cell_type": "markdown",
   "metadata": {},
   "source": [
    "### Addition of the multiples springs/dampers"
   ]
  },
  {
   "cell_type": "markdown",
   "metadata": {},
   "source": [
    "Hand motion"
   ]
  },
  {
   "cell_type": "code",
   "execution_count": 10,
   "metadata": {},
   "outputs": [],
   "source": [
    "vms = VirtualMechanismSystem(\"myShadowVMS\", robot, vm)\n",
    "root = root_frame(vms.robot)\n",
    "\n",
    "# FINGER SPACING --> PRE-SHAPING\n",
    "add_coordinate!(vms, CoordDifference(\".robot.rh_ffmiddle_mass_coord\", \".robot.rh_mfmiddle_mass_coord\"); id=\"ff mf middle diff\")\n",
    "add_coordinate!(vms, CoordDifference(\".robot.rh_mfmiddle_mass_coord\", \".robot.rh_rfmiddle_mass_coord\"); id=\"mf rf middle diff\")\n",
    "add_coordinate!(vms, CoordDifference(\".robot.rh_rfmiddle_mass_coord\", \".robot.rh_lfmiddle_mass_coord\"); id=\"rf lf middle diff\")\n",
    "add_coordinate!(vms, CoordDifference(\".robot.rh_ffmiddle_mass_coord\", \".robot.rh_thmiddle_mass_coord\"); id=\"ff th middle diff\")\n",
    "\n",
    "add_coordinate!(vms, CoordSlice(\"ff mf middle diff\", SVector(1,3)); id = \"ff mf middle diff xz\")\n",
    "add_coordinate!(vms, CoordSlice(\"mf rf middle diff\", SVector(1,3)); id = \"mf rf middle diff xz\")\n",
    "add_coordinate!(vms, CoordSlice(\"rf lf middle diff\", SVector(1,3)); id = \"rf lf middle diff xz\")\n",
    "\n",
    "add_coordinate!(vms, CoordNorm(\"ff mf middle diff xz\"); id=\"ff mf middle planar norm\")\n",
    "add_coordinate!(vms, CoordNorm(\"mf rf middle diff xz\"); id=\"mf rf middle planar norm\")\n",
    "add_coordinate!(vms, CoordNorm(\"rf lf middle diff xz\"); id=\"rf lf middle planar norm\")\n",
    "add_coordinate!(vms, CoordNorm(\"ff th middle diff\"); id=\"ff th middle norm\")\n",
    "\n",
    "fingers_spacing = 0.03\n",
    "add_coordinate!(vms, ConstCoord(fingers_spacing); id = \"fingers spacing\")\n",
    "thumb_spacing = 0.1\n",
    "add_coordinate!(vms, ConstCoord(thumb_spacing); id = \"thumb spacing\")\n",
    "\n",
    "add_coordinate!(vms, CoordDifference(\"ff mf middle planar norm\", \"fingers spacing\"); id = \"ff mf middle planar error\")\n",
    "add_coordinate!(vms, CoordDifference(\"mf rf middle planar norm\", \"fingers spacing\"); id = \"mf rf middle planar error\")\n",
    "add_coordinate!(vms, CoordDifference(\"rf lf middle planar norm\", \"fingers spacing\"); id = \"rf lf middle planar error\")\n",
    "add_coordinate!(vms, CoordDifference(\"ff th middle norm\", \"thumb spacing\"); id = \"ff th middle error\")\n",
    "\n",
    "\n",
    "K = 100.0\n",
    "D = 10.0 \n",
    "\n",
    "add_component!(vms, LinearSpring(K, \"ff mf middle planar error\");     id=\"ff mf middle spring\")\n",
    "add_component!(vms, LinearDamper(D, \"ff mf middle planar error\");     id=\"ff mf middle damper\")\n",
    "add_component!(vms, LinearSpring(K, \"mf rf middle planar error\");     id=\"mf rf middle spring\")\n",
    "add_component!(vms, LinearDamper(D, \"mf rf middle planar error\");     id=\"mf rf middle damper\")\n",
    "add_component!(vms, LinearSpring(K, \"rf lf middle planar error\");     id=\"rf lf middle spring\")\n",
    "add_component!(vms, LinearDamper(D, \"rf lf middle planar error\");     id=\"rf lf middle damper\")\n",
    "add_component!(vms, LinearSpring(K, \"ff th middle error\");     id=\"ff th middle spring\")\n",
    "add_component!(vms, LinearDamper(D, \"ff th middle error\");     id=\"ff th middle damper\")\n",
    "\n",
    "#add_component!(vms, LinearSpring(100.0, \".robot.rh_LFJ5_coord\"); id = \"lf j5 angular spring\")\n",
    "\n",
    "# TARGET REACHING -->\n",
    "#add_coordinate!(vms,  ConstCoord(SVector(0.0, -0.075, 0.32));  id=\"Target position\")\n",
    "\n",
    "add_coordinate!(vms, CoordDifference(\".robot.rh_fftip_mass_coord\", \".virtual_mechanism.Target position\"); id=\"ff position error\")\n",
    "add_coordinate!(vms, CoordDifference(\".robot.rh_mftip_mass_coord\", \".virtual_mechanism.Target position\"); id=\"mf position error\")\n",
    "add_coordinate!(vms, CoordDifference(\".robot.rh_rftip_mass_coord\", \".virtual_mechanism.Target position\"); id=\"rf position error\")\n",
    "add_coordinate!(vms, CoordDifference(\".robot.rh_lftip_mass_coord\", \".virtual_mechanism.Target position\"); id=\"lf position error\")\n",
    "add_coordinate!(vms, CoordDifference(\".robot.rh_thtip_mass_coord\", \".virtual_mechanism.Target position\"); id=\"th position error\")\n",
    "\n",
    "K_matrix = SMatrix{3, 3}(0., 0., 0., 0., 0., 0., 0., 0., 0.)\n",
    "D_matrix = SMatrix{3, 3}(0., 0., 0., 0., 0.0, 0., 0., 0., 0.)\n",
    "\n",
    "add_component!(vms, LinearSpring(K_matrix, \"ff position error\"); id=\"ff spring\")\n",
    "add_component!(vms, LinearDamper(D_matrix, \"ff position error\"); id=\"ff damper\")\n",
    "add_component!(vms, LinearSpring(K_matrix, \"mf position error\"); id=\"mf spring\")\n",
    "add_component!(vms, LinearDamper(D_matrix, \"mf position error\"); id=\"mf damper\")\n",
    "add_component!(vms, LinearSpring(K_matrix, \"rf position error\"); id=\"rf spring\")\n",
    "add_component!(vms, LinearDamper(D_matrix, \"rf position error\"); id=\"rf damper\")\n",
    "add_component!(vms, LinearSpring(K_matrix, \"lf position error\"); id=\"lf spring\")\n",
    "add_component!(vms, LinearDamper(D_matrix, \"lf position error\"); id=\"lf damper\")\n",
    "add_component!(vms, LinearSpring(K_matrix, \"th position error\"); id=\"th spring\")\n",
    "add_component!(vms, LinearDamper(D_matrix, \"th position error\"); id=\"th damper\")\n",
    "\n",
    "max_power = 10.0\n",
    "force_source = ForceSource(SVector(0.0), max_power, \".virtual_mechanism.CartDistance\")\n",
    "add_component!(vms, force_source;   id=\"Cart force source\");"
   ]
  },
  {
   "cell_type": "markdown",
   "metadata": {},
   "source": [
    "Repulsive ball"
   ]
  },
  {
   "cell_type": "code",
   "execution_count": 11,
   "metadata": {},
   "outputs": [],
   "source": [
    "sphere_radius = 0.035\n",
    "\n",
    "add_coordinate!(vms, ConstCoord(sphere_radius); id=\"sphere radius\")\n",
    "\n",
    "add_coordinate!(vms, FramePoint(\".robot.rh_palm\", SVector(0. , 0., 0.07)); id=\"second palm point\")\n",
    "\n",
    "repulsed_frames = (\".robot.rh_fftip_mass_coord\", \".robot.rh_mftip_mass_coord\", \".robot.rh_rftip_mass_coord\",\".robot.rh_lftip_mass_coord\" , \n",
    "                    \".robot.rh_thtip_mass_coord\", \".robot.rh_ffmiddle_mass_coord\",\".robot.rh_mfmiddle_mass_coord\", \".robot.rh_rfmiddle_mass_coord\",\n",
    "                    \".robot.rh_lfmiddle_mass_coord\",  \".robot.rh_thmiddle_mass_coord\", \".robot.rh_ffproximal_mass_coord\", \".robot.rh_mfproximal_mass_coord\",\n",
    "                    \".robot.rh_rfproximal_mass_coord\", \".robot.rh_lfproximal_mass_coord\", \".robot.rh_thproximal_mass_coord\", \".robot.rh_palm_mass_coord\", \"second palm point\")\n",
    "frames_names = (\"fftip\", \"mftip\", \"rftip\", \"lftip\", \"thtip\", \"ffmiddle\", \"mfmiddle\", \"rfmiddle\", \"lfmiddle\", \"thmiddle\", \"ffprox\", \n",
    "                \"mfprox\", \"rfprox\", \"lfprox\", \"thprox\", \"palm\", \"palm2\")\n",
    "\n",
    "for i in 1:length(repulsed_frames)\n",
    "    frame = repulsed_frames[i]\n",
    "    add_coordinate!(vms, CoordDifference(frame, \".virtual_mechanism.sphere position\") ; id = \"$(frames_names[i]) sphere diff\" )\n",
    "    add_coordinate!(vms, CoordNorm(\"$(frames_names[i]) sphere diff\") ; id = \"$(frames_names[i]) sphere diff norm\")\n",
    "    add_coordinate!(vms, CoordDifference(\"$(frames_names[i]) sphere diff norm\", \"sphere radius\"); id = \"shifted $(frames_names[i]) sphere diff norm\" )\n",
    "\n",
    "    add_component!(vms, ReLUSpring(1000.0, \"shifted $(frames_names[i]) sphere diff norm\", true); id=\"$(frames_names[i]) sphere repulsive spring\")\n",
    "    add_component!(vms, RectifiedDamper(100.0, \"$(frames_names[i]) sphere diff norm\", (0.0, 1.1*sphere_radius), true, false); id=\"$(frames_names[i]) sphere damper\")\n",
    "end"
   ]
  },
  {
   "cell_type": "markdown",
   "metadata": {},
   "source": [
    "## Simulating the Robot"
   ]
  },
  {
   "cell_type": "markdown",
   "metadata": {},
   "source": [
    "### Setting Up the Simulation"
   ]
  },
  {
   "cell_type": "code",
   "execution_count": 12,
   "metadata": {},
   "outputs": [
    {
     "name": "stderr",
     "output_type": "stream",
     "text": [
      "\u001b[36m\u001b[1m[ \u001b[22m\u001b[39m\u001b[36m\u001b[1mInfo: \u001b[22m\u001b[39mSimulating shadow robot with repulsive ball\n",
      "\u001b[32mODE   0%|█                                              |  ETA: N/A\u001b[39m\n",
      "\u001b[32mODE   3%|██                                             |  ETA: 0:01:04\u001b[39m\n",
      "\u001b[32mODE   7%|████                                           |  ETA: 0:00:45\u001b[39m\n",
      "\u001b[32mODE  10%|█████                                          |  ETA: 0:00:38\u001b[39m\n",
      "\u001b[32mODE  14%|███████                                        |  ETA: 0:00:33\u001b[39m\n",
      "\u001b[32mODE  18%|█████████                                      |  ETA: 0:00:31\u001b[39m\n",
      "\u001b[32mODE  21%|██████████                                     |  ETA: 0:00:29\u001b[39m\n",
      "\u001b[32mODE  25%|████████████                                   |  ETA: 0:00:27\u001b[39m\n",
      "\u001b[32mODE  28%|██████████████                                 |  ETA: 0:00:25\u001b[39m\n",
      "\u001b[32mODE  32%|████████████████                               |  ETA: 0:00:24\u001b[39m\n",
      "\u001b[32mODE  36%|█████████████████                              |  ETA: 0:00:22\u001b[39m\n",
      "\u001b[32mODE  39%|███████████████████                            |  ETA: 0:00:21\u001b[39m\n",
      "\u001b[32mODE  42%|████████████████████                           |  ETA: 0:00:21\u001b[39m\n",
      "\u001b[32mODE  44%|█████████████████████                          |  ETA: 0:00:20\u001b[39m\n",
      "\u001b[32mODE  47%|███████████████████████                        |  ETA: 0:00:19\u001b[39m\n",
      "\u001b[32mODE  50%|████████████████████████                       |  ETA: 0:00:18\u001b[39m\n",
      "\u001b[32mODE  53%|█████████████████████████                      |  ETA: 0:00:18\u001b[39m\n",
      "\u001b[32mODE  56%|███████████████████████████                    |  ETA: 0:00:17\u001b[39m\n",
      "\u001b[32mODE  59%|████████████████████████████                   |  ETA: 0:00:16\u001b[39m\n",
      "\u001b[32mODE  62%|██████████████████████████████                 |  ETA: 0:00:15\u001b[39m\n",
      "\u001b[32mODE  65%|███████████████████████████████                |  ETA: 0:00:14\u001b[39m\n",
      "\u001b[32mODE  68%|████████████████████████████████               |  ETA: 0:00:13\u001b[39m\n",
      "\u001b[32mODE  71%|██████████████████████████████████             |  ETA: 0:00:11\u001b[39m\n",
      "\u001b[32mODE  74%|███████████████████████████████████            |  ETA: 0:00:10\u001b[39m\n",
      "\u001b[32mODE  77%|█████████████████████████████████████          |  ETA: 0:00:09\u001b[39m\n",
      "\u001b[32mODE  80%|██████████████████████████████████████         |  ETA: 0:00:08\u001b[39m\n",
      "\u001b[32mODE  83%|████████████████████████████████████████       |  ETA: 0:00:07\u001b[39m\n",
      "\u001b[32mODE  86%|█████████████████████████████████████████      |  ETA: 0:00:06\u001b[39m\n",
      "\u001b[32mODE  89%|██████████████████████████████████████████     |  ETA: 0:00:04\u001b[39m\n",
      "\u001b[32mODE  92%|████████████████████████████████████████████   |  ETA: 0:00:03\u001b[39m\n",
      "\u001b[32mODE  95%|█████████████████████████████████████████████  |  ETA: 0:00:02\u001b[39m\n",
      "\u001b[32mODE  98%|███████████████████████████████████████████████|  ETA: 0:00:01\u001b[39m\n",
      "\u001b[90mODE 100%|███████████████████████████████████████████████| Time: 0:00:39\u001b[39m\n"
     ]
    }
   ],
   "source": [
    "using Logging: global_logger\n",
    "using TerminalLoggers: TerminalLogger\n",
    "global_logger(TerminalLogger())\n",
    "\n",
    "preshaping_phase = true\n",
    "grasping_phase = false\n",
    "flags = (preshaping_phase, grasping_phase)\n",
    "\n",
    "function f_setup(cache) \n",
    "    preshaping_springs = (\"ff mf middle spring\", \"mf rf middle spring\", \"rf lf middle spring\", \"ff th middle spring\")\n",
    "    preshaping_dampers = (\"ff mf middle damper\", \"mf rf middle damper\", \"rf lf middle damper\", \"ff th middle damper\")\n",
    "    preshaping_springs_ID = []\n",
    "    preshaping_dampers_ID = []\n",
    "\n",
    "    for (spring, damper) in zip(preshaping_springs, preshaping_dampers)\n",
    "        spring_ID = get_compiled_componentID(dcache, spring)\n",
    "        damper_ID = get_compiled_componentID(dcache, damper)\n",
    "    \n",
    "        push!(preshaping_springs_ID, spring_ID)\n",
    "        push!(preshaping_dampers_ID, damper_ID)\n",
    "    end\n",
    "\n",
    "    grasping_springs = (\"ff spring\", \"mf spring\", \"rf spring\", \"lf spring\", \"th spring\")\n",
    "    grasping_dampers = (\"ff damper\", \"mf damper\", \"rf damper\", \"lf damper\", \"th damper\")\n",
    "    grasping_springs_ID = []\n",
    "    grasping_dampers_ID = []\n",
    "\n",
    "    for (spring, damper) in zip(grasping_springs, grasping_dampers)\n",
    "        spring_ID = get_compiled_componentID(dcache, spring)\n",
    "        damper_ID = get_compiled_componentID(dcache, damper)\n",
    "    \n",
    "        push!(grasping_springs_ID, spring_ID)\n",
    "        push!(grasping_dampers_ID, damper_ID)\n",
    "    end\n",
    "    \n",
    "    return (preshaping_springs_ID , preshaping_dampers_ID, grasping_springs_ID, grasping_dampers_ID, get_compiled_componentID(cache, \"Cart force source\"), flags)\n",
    "end\n",
    "\n",
    "function f_control(cache, t, args, extra)\n",
    "    preshaping_springs_ID, preshaping_dampers_ID , grasping_springs_ID, grasping_dampers_ID, force_source_id, flags = args\n",
    "    preshaping_phase, grasping_phase = flags\n",
    "    \n",
    "    # Move from pre-shaping to grasping phase\n",
    "    if t > 3 && preshaping_phase\n",
    "\n",
    "        #flags update\n",
    "        preshaping_phase = false\n",
    "        grasping_phase = true\n",
    "\n",
    "        # for (spring_id, damper_id) in zip(preshaping_springs_ID, preshaping_dampers_ID)\n",
    "        #     cache[spring_id] = remake(cache[spring_id]; stiffness = 0.0)\n",
    "        #     cache[damper_id] = remake(cache[damper_id]; damping = 0.0)\n",
    "        # end\n",
    "\n",
    "        #Only removing the long spring between the thumb and the first finger\n",
    "        cache[preshaping_springs_ID[4]] = remake(cache[preshaping_springs_ID[4]]; stiffness = 0.0)\n",
    "        cache[preshaping_dampers_ID[4]] = remake(cache[preshaping_dampers_ID[4]]; damping = 0.0)\n",
    "\n",
    "        #activating the target reaching springs\n",
    "        new_K_matrix = SMatrix{3, 3}(100., 0., 0., 0., 100., 0., 0., 0., 100.)\n",
    "        new_D_matrix = SMatrix{3, 3}(30., 0., 0., 0., 30., 0., 0., 0., 30.)\n",
    "\n",
    "        for (spring_id, damper_id) in zip(grasping_springs_ID, grasping_dampers_ID)\n",
    "            cache[spring_id] = remake(cache[spring_id]; stiffness = new_K_matrix)\n",
    "            cache[damper_id] = remake(cache[damper_id]; damping = new_D_matrix)\n",
    "        end\n",
    "\n",
    "        #activating the force source\n",
    "        cache[force_source_id] = remake(cache[force_source_id] ; force_max = SVector(1.0))\n",
    "    end \n",
    "\n",
    "    nothing\n",
    "end\n",
    "\n",
    "tspan = (0., 8.)\n",
    "vms_compiled = compile(vms)\n",
    "\n",
    "sphere_initial_position = [0.0, -0.055, 0.32]\n",
    "q_vm_init = vcat(sphere_initial_position, 0.0)\n",
    "q = (zero_q(vms_compiled.robot), q_vm_init) # Robot joint angle, vm joint angles\n",
    "q̇ = (zero_q̇(vms_compiled.robot), zero_q̇(vms_compiled.virtual_mechanism)) # Robot joint velocity, vm joint velocities\n",
    "\n",
    "g = VMRobotControl.DEFAULT_GRAVITY\n",
    "dcache = new_dynamics_cache(vms_compiled)\n",
    "prob = get_ode_problem(dcache, g, q, q̇, tspan; f_setup, f_control)\n",
    "@info \"Simulating shadow robot with repulsive ball\"\n",
    "\n",
    "sol = solve(prob, Tsit5(), progress=true; maxiters=1e6, abstol=1e-6, reltol=1e-6);"
   ]
  },
  {
   "cell_type": "markdown",
   "metadata": {},
   "source": [
    "### Visualizing the Results"
   ]
  },
  {
   "cell_type": "code",
   "execution_count": 13,
   "metadata": {},
   "outputs": [],
   "source": [
    "fig = Figure(; size=(720, 720), figure_padding=0)\n",
    "display(fig)\n",
    "ls = LScene(fig[1, 1]; show_axis=false)\n",
    "cam = cam3d!(ls; center=true)\n",
    "cam.lookat[] = [0.025, 0., 0.24]\n",
    "cam.eyeposition[] = [-0.25, -0.6, 0.62]\n",
    "\n",
    "plotting_t = Observable(0.0)\n",
    "plotting_kcache = Observable(new_kinematics_cache(compile(vms)))\n",
    "plotting_vm_kcache = map(plotting_kcache) do k\n",
    "    VMRobotControl.virtual_mechanism_cache(k)\n",
    "end\n",
    "cartID = get_compiled_coordID(plotting_kcache[], \".virtual_mechanism.Target position\")\n",
    "\n",
    "robotvisualize!(ls, plotting_kcache)\n",
    "scatter!(ls, plotting_kcache, cartID; color=:red, marker=:rect, markersize=5)\n",
    "robotsketch!(ls, plotting_vm_kcache; scale = 0.1)\n",
    "\n",
    "# Adding the sphere to the visual\n",
    "sphere_pos_point3f_observable = map(plotting_kcache) do cache\n",
    "    sphere_pos = Point3f(configuration(cache, get_compiled_coordID(plotting_kcache[], \".virtual_mechanism.sphere position\")))\n",
    "end\n",
    "sphere = Sphere(Point3f(SVector(0.,0.,0.)), sphere_radius)\n",
    "sphere_mesh = mesh!(ls, sphere ; color=:blue, alpha=1.0, transparency=true)\n",
    "on(sphere_pos_point3f_observable) do sphere_pos_point\n",
    "    translate!(sphere_mesh, sphere_pos_point...)\n",
    "end\n",
    "\n",
    "savepath = joinpath(module_path, \"docs/src/assets/shadowhand_two_phases_ball_grasp.mp4\")\n",
    "display(fig)\n",
    "animate_robot_odesolution(fig, sol, plotting_kcache, savepath; t=plotting_t);"
   ]
  },
  {
   "cell_type": "markdown",
   "metadata": {},
   "source": [
    "### Save Trajectory into CSV "
   ]
  },
  {
   "cell_type": "code",
   "execution_count": 17,
   "metadata": {},
   "outputs": [
    {
     "name": "stdout",
     "output_type": "stream",
     "text": [
      "CSV saved to shadowhand_solution.csv\n"
     ]
    }
   ],
   "source": [
    "using CSV, Tables\n",
    "\n",
    "function save_solution_to_csv(sol, filename, joint_names, vms_compiled; rate=nothing, time_vector=nothing)\n",
    "    # Generate time vector based on rate or use the provided one\n",
    "    if time_vector === nothing\n",
    "        if rate === nothing\n",
    "            error(\"Either 'rate' or 'time_vector' must be provided.\")\n",
    "        end\n",
    "        t_min, t_max = sol.t[begin], sol.t[end]\n",
    "        time_vector = collect(t_min:1/rate:t_max)  # Uniform sampling\n",
    "    end\n",
    "\n",
    "    # Prepare header (positions and velocities)\n",
    "    pos_names = [joint_names[i] * \"_pos\" for i in 1:length(joint_names)]\n",
    "    vel_names = [joint_names[i] * \"_vel\" for i in 1:length(joint_names)]\n",
    "    header = [\"time\"; pos_names; vel_names]\n",
    "\n",
    "    # Initialize data array with time\n",
    "    data = time_vector\n",
    "    pos_data = []\n",
    "    vel_data = []\n",
    "\n",
    "    n = length(joint_names)\n",
    "\n",
    "    # Loop through each joint and collect its values at all time steps\n",
    "    for joint_name in joint_names\n",
    "        # Get the joint ID from the compiled robot\n",
    "        jointID = get_compiled_jointID(vms_compiled, \".robot.\" * joint_name)\n",
    "        joint = vms_compiled[jointID]\n",
    "\n",
    "        # Get the indices for position and velocity\n",
    "        joint_index = q_idxs(joint)[1]\n",
    "\n",
    "        joint_positions = [sol(t)[joint_index] for t in time_vector]  # Positions\n",
    "        joint_velocities = [sol(t)[n + joint_index] for t in time_vector]  # Velocities\n",
    "\n",
    "        # First iteration \n",
    "        if length(pos_data) == 0\n",
    "            pos_data = joint_positions\n",
    "            vel_data = joint_velocities\n",
    "        else\n",
    "            pos_data = hcat(pos_data, joint_positions)\n",
    "            vel_data = hcat(vel_data,joint_velocities)\n",
    "        end\n",
    "    end\n",
    "\n",
    "    data = hcat(data, pos_data, vel_data)\n",
    "\n",
    "    CSV.write(filename, Tables.table(data); header=header)\n",
    "\n",
    "    println(\"CSV saved to $filename\")\n",
    "end\n",
    "\n",
    "\n",
    "joint_names = [\"rh_WRJ1\", \"rh_WRJ2\", \"rh_FFJ1\", \"rh_FFJ2\", \"rh_FFJ3\", \"rh_FFJ4\", \"rh_MFJ1\",\n",
    "                \"rh_MFJ2\", \"rh_MFJ3\", \"rh_MFJ4\", \"rh_RFJ1\", \"rh_RFJ2\", \"rh_RFJ3\", \"rh_RFJ4\", \"rh_LFJ1\",\n",
    "                \"rh_LFJ2\", \"rh_LFJ3\", \"rh_LFJ4\", \"rh_LFJ5\", \"rh_THJ1\", \"rh_THJ2\", \"rh_THJ3\",\n",
    "                \"rh_THJ4\", \"rh_THJ5\"]\n",
    "\n",
    "\n",
    "save_solution_to_csv(sol, \"shadowhand_solution.csv\" , joint_names, vms_compiled; rate=10)\n"
   ]
  }
 ],
 "metadata": {
  "kernelspec": {
   "display_name": "Julia 1.9.3",
   "language": "julia",
   "name": "julia-1.9"
  },
  "language_info": {
   "file_extension": ".jl",
   "mimetype": "application/julia",
   "name": "julia",
   "version": "1.9.3"
  }
 },
 "nbformat": 4,
 "nbformat_minor": 2
}
