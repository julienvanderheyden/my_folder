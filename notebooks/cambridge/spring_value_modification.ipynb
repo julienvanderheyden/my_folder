{
 "cells": [
  {
   "cell_type": "code",
   "execution_count": 2,
   "metadata": {},
   "outputs": [
    {
     "data": {
      "text/plain": [
       "display_transform (generic function with 1 method)"
      ]
     },
     "execution_count": 2,
     "metadata": {},
     "output_type": "execute_result"
    }
   ],
   "source": [
    "using Revise\n",
    "using GeometryBasics: Vec3f, Point3f\n",
    "using LinearAlgebra\n",
    "using GLMakie\n",
    "using StaticArrays\n",
    "using VMRobotControl\n",
    "using DifferentialEquations\n",
    "using MeshIO\n",
    "\n",
    "using VMRobotControl: remake\n",
    "include(\"../functions.jl\")"
   ]
  },
  {
   "cell_type": "markdown",
   "metadata": {},
   "source": [
    "## Creating a simple mechanism for test purposes"
   ]
  },
  {
   "cell_type": "code",
   "execution_count": 3,
   "metadata": {},
   "outputs": [
    {
     "data": {
      "text/plain": [
       "\"J1\""
      ]
     },
     "execution_count": 3,
     "metadata": {},
     "output_type": "execute_result"
    }
   ],
   "source": [
    "mechanism = Mechanism{Float64}(\"TestRobot\")\n",
    "F0 = root_frame(mechanism)\n",
    "F1 = add_frame!(mechanism; id=\"L1_frame\")\n",
    "\n",
    "# Define the unit vectors to make things easier\n",
    "X = SVector(1., 0., 0.)\n",
    "Y = SVector(0., 1., 0.)\n",
    "Z = SVector(0., 0., 1.)\n",
    "\n",
    "J1 = Prismatic(X)\n",
    "add_joint!(mechanism, J1; parent=\"root_frame\", child=\"L1_frame\", id=\"J1\")"
   ]
  },
  {
   "cell_type": "code",
   "execution_count": 4,
   "metadata": {},
   "outputs": [
    {
     "data": {
      "text/plain": [
       "1DOF Mechanism{Float64} \"TestRobot\" with 2 frames, 1 joint"
      ]
     },
     "metadata": {},
     "output_type": "display_data"
    },
    {
     "data": {
      "text/plain": [
       "2-element Vector{String}:\n",
       " \"root_frame\"\n",
       " \"L1_frame\""
      ]
     },
     "metadata": {},
     "output_type": "display_data"
    },
    {
     "data": {
      "text/plain": [
       "OrderedCollections.OrderedDict{String, VMRobotControl.MechanismJoint{<:VMRobotControl.AbstractJointData{Float64}, String}} with 1 entry:\n",
       "  \"J1\" => MechanismJoint{PrismaticData{Float64}, String}(PrismaticData{Float64}…"
      ]
     },
     "metadata": {},
     "output_type": "display_data"
    }
   ],
   "source": [
    "display(mechanism)\n",
    "display(frames(mechanism))\n",
    "display(joints(mechanism))"
   ]
  },
  {
   "cell_type": "code",
   "execution_count": 4,
   "metadata": {},
   "outputs": [
    {
     "data": {
      "text/plain": [
       "1DOF Mechanism{Float64} \"TestRobot\" with 2 frames, 1 joint, 3 coordinates, 3 components"
      ]
     },
     "execution_count": 4,
     "metadata": {},
     "output_type": "execute_result"
    }
   ],
   "source": [
    "add_coordinate!(mechanism, FrameOrigin(F0); id=\"base_centre_of_mass\")\n",
    "add_coordinate!(mechanism, FrameOrigin(F1); id=\"ee_centre_of_mass\")\n",
    "\n",
    "add_component!(mechanism, PointMass(1.0, \"base_centre_of_mass\"); id=\"base_mass\")\n",
    "add_component!(mechanism, PointMass(1.0, \"ee_centre_of_mass\"); id=\"ee_mass\")\n",
    "\n",
    "I_mat = @SMatrix [\n",
    "    0.01  0.    0.  ;\n",
    "    0.    0.01  0.  ;\n",
    "    0.    0.    0.01\n",
    "]\n",
    "\n",
    "add_inertia!(mechanism, F1, I_mat; id=\"L1_inertia\")"
   ]
  },
  {
   "cell_type": "code",
   "execution_count": 5,
   "metadata": {},
   "outputs": [],
   "source": [
    "add_coordinate!(mechanism, JointSubspace(\"J1\"); id=\"J1\")\n",
    "add_component!(mechanism, LinearDamper(0.5, \"J1\"); id=\"J1_damper\")\n",
    "add_gravity_compensation!(mechanism, VMRobotControl.DEFAULT_GRAVITY)"
   ]
  },
  {
   "cell_type": "markdown",
   "metadata": {},
   "source": [
    "## Vizualizing the robot"
   ]
  },
  {
   "cell_type": "code",
   "execution_count": 7,
   "metadata": {},
   "outputs": [
    {
     "data": {
      "text/plain": [
       "GLMakie.Screen(...)"
      ]
     },
     "execution_count": 7,
     "metadata": {},
     "output_type": "execute_result"
    }
   ],
   "source": [
    "m = compile(mechanism)\n",
    "kcache = Observable(new_kinematics_cache(m))\n",
    "\n",
    "# Setup the figure\n",
    "fig1 = Figure(size=(700, 350))\n",
    "ls = LScene(fig1[1, 1]; show_axis=false)\n",
    "\n",
    "# Or a sketch of it's kinematic structure\n",
    "robotsketch!(ls, kcache; scale=0.3, linewidth=2.5, transparency=true)\n",
    "\n",
    "display(fig1)\n"
   ]
  },
  {
   "cell_type": "markdown",
   "metadata": {},
   "source": [
    "## Introducing virtual mechanisms"
   ]
  },
  {
   "cell_type": "code",
   "execution_count": 7,
   "metadata": {},
   "outputs": [
    {
     "data": {
      "text/plain": [
       "\"force source\""
      ]
     },
     "execution_count": 7,
     "metadata": {},
     "output_type": "execute_result"
    }
   ],
   "source": [
    "vms = VirtualMechanismSystem(\"testVMS\", mechanism)\n",
    "root = root_frame(vms.robot)\n",
    "\n",
    "refpos = -0.5*X \n",
    "add_coordinate!(vms, FrameOrigin(\".robot.L1_frame\"); id=\"ee_position\")\n",
    "add_coordinate!(vms, ConstCoord(refpos); id=\"ref\")\n",
    "add_coordinate!(vms, CoordDifference(\"ee_position\", \"ref\"); id=\"ee_error\")\n",
    "add_coordinate!(vms, FramePoint(\".robot.$root\", SVector(0.0, -0.075, 0.32));  id=\"Target position\")\n",
    "\n",
    "ee_stiffness = SMatrix{3, 3}(100.0, 0.0, 0.0, 0.0, 100.0, 0.0, 0.0, 0.0, 100.0)\n",
    "ee_damping = SMatrix{3, 3}(15.0, 0.0, 0.0, 0.0, 15.0, 0.0, 0.0, 0.0, 15.0)\n",
    "\n",
    "add_component!(vms, LinearSpring(ee_stiffness, \"ee_error\"); id=\"ee_spring\")\n",
    "add_component!(vms, LinearDamper(ee_damping, \"ee_error\"); id=\"ee_damper\")\n",
    "add_component!(vms, ForceSource(SVector(60.0),30.0, \".robot.J1\"); id=\"force source\")"
   ]
  },
  {
   "cell_type": "markdown",
   "metadata": {},
   "source": [
    "## Simulating"
   ]
  },
  {
   "cell_type": "code",
   "execution_count": 10,
   "metadata": {},
   "outputs": [
    {
     "name": "stdout",
     "output_type": "stream",
     "text": [
      "force_max::SVector{1, Float64}\n",
      "power_max::Float64\n",
      "coord::VMSCoordID{JointSubspace{VMRobotControl.CompiledJointID{CompiledMechanismJoint(Float64, PrismaticData{Float64})}}, robot_coord}\n"
     ]
    }
   ],
   "source": [
    "vms_compiled = compile(vms)\n",
    "dcache = new_dynamics_cache(vms_compiled)\n",
    "force_source_component_id = get_compiled_componentID(dcache, \"force source\")\n",
    "struct_fields_and_types(typeof(vms_compiled[force_source_component_id]))"
   ]
  },
  {
   "cell_type": "code",
   "execution_count": 40,
   "metadata": {},
   "outputs": [
    {
     "name": "stderr",
     "output_type": "stream",
     "text": [
      "\u001b[32mODE   0%|█                                              |  ETA: N/A\u001b[39m\n",
      "\u001b[90mODE 100%|███████████████████████████████████████████████| Time: 0:00:00\u001b[39m\n"
     ]
    }
   ],
   "source": [
    "phase_2 = false\n",
    "\n",
    "f_setup(cache) = return (get_compiled_coordID(cache, \"ref\"), phase_2, get_compiled_componentID(cache, \"ee_spring\"))\n",
    "\n",
    "function f_control(cache, t, args, extra)\n",
    "    ref_pos_coord_id, phase_2, ee_spring_component_id = args\n",
    "    \n",
    "    if t > 3 && !phase_2\n",
    "        cache[ref_pos_coord_id] = remake(cache[ref_pos_coord_id]; coord_data=ConstCoord(-1*X))\n",
    "        phase_2 = true\n",
    "    end \n",
    "\n",
    "    if t > 6 \n",
    "        new_stiffness = SMatrix{3, 3}(1000.0, 0.0, 0.0, 0.0, 1000.0, 0.0, 0.0, 0.0, 1000.0) \n",
    "        cache[ee_spring_component_id] = remake(cache[ee_spring_component_id] ; stiffness = new_stiffness)\n",
    "    end\n",
    "\n",
    "    nothing\n",
    "end\n",
    "\n",
    "tspan = (0., 10.)\n",
    "vms_compiled = compile(vms)\n",
    "q = (zero_q(vms_compiled.robot), Float64[]) # Robot joint angle, vm joint angles\n",
    "q̇ = (zero_q̇(vms_compiled.robot), Float64[]) # Robot joint velocity, vm joint velocities\n",
    "g = VMRobotControl.DEFAULT_GRAVITY\n",
    "dcache = new_dynamics_cache(vms_compiled)\n",
    "prob = get_ode_problem(dcache, g, q, q̇, tspan; f_setup, f_control)\n",
    "\n",
    "using Logging: global_logger\n",
    "using TerminalLoggers: TerminalLogger\n",
    "global_logger(TerminalLogger())\n",
    "\n",
    "sol = solve(prob, Tsit5(), progress=true; maxiters=1e6, abstol=1e-6, reltol=1e-6);"
   ]
  },
  {
   "cell_type": "markdown",
   "metadata": {},
   "source": [
    "## Visualizing the result"
   ]
  },
  {
   "cell_type": "code",
   "execution_count": 41,
   "metadata": {},
   "outputs": [
    {
     "data": {
      "text/plain": [
       "\"robot_animation.mp4\""
      ]
     },
     "execution_count": 41,
     "metadata": {},
     "output_type": "execute_result"
    }
   ],
   "source": [
    "dcache = new_dynamics_cache(m)\n",
    "display(fig1)\n",
    "animate_robot_odesolution(fig1, sol, kcache, \"robot_animation.mp4\")"
   ]
  }
 ],
 "metadata": {
  "kernelspec": {
   "display_name": "Julia 1.9.3",
   "language": "julia",
   "name": "julia-1.9"
  },
  "language_info": {
   "file_extension": ".jl",
   "mimetype": "application/julia",
   "name": "julia",
   "version": "1.9.3"
  }
 },
 "nbformat": 4,
 "nbformat_minor": 2
}
