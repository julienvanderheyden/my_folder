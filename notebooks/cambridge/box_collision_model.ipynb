{
 "cells": [
  {
   "cell_type": "code",
   "execution_count": 1,
   "metadata": {},
   "outputs": [
    {
     "data": {
      "text/plain": [
       "generate_q_init (generic function with 1 method)"
      ]
     },
     "execution_count": 1,
     "metadata": {},
     "output_type": "execute_result"
    }
   ],
   "source": [
    "using Revise\n",
    "using GeometryBasics: Vec3f, Point3f, Cylinder, Rect3f\n",
    "using LinearAlgebra\n",
    "using GLMakie\n",
    "using StaticArrays\n",
    "using VMRobotControl\n",
    "using VMRobotControl.Splines: CubicSpline\n",
    "using DifferentialEquations\n",
    "using MeshIO\n",
    "\n",
    "\n",
    "include(\"../functions.jl\")"
   ]
  },
  {
   "cell_type": "markdown",
   "metadata": {},
   "source": [
    "## Importing ShadowHand URDF"
   ]
  },
  {
   "cell_type": "markdown",
   "metadata": {},
   "source": [
    "### URDF Parsing"
   ]
  },
  {
   "cell_type": "code",
   "execution_count": 2,
   "metadata": {},
   "outputs": [
    {
     "data": {
      "text/plain": [
       "24DOF Mechanism{Float64} \"shadowhand_motor\" with 33 frames, 32 joints, 55 coordinates, 82 components"
      ]
     },
     "execution_count": 2,
     "metadata": {},
     "output_type": "execute_result"
    }
   ],
   "source": [
    "using FileIO, UUIDs\n",
    "try\n",
    "    FileIO.add_format(format\"DAE\", (), \".dae\", [:DigitalAssetExchangeFormatIO => UUID(\"43182933-f65b-495a-9e05-4d939cea427d\")])\n",
    "catch\n",
    "end\n",
    "\n",
    "cfg = URDFParserConfig(;suppress_warnings=true) # This is just to hide warnings about unsupported URDF features\n",
    "module_path = joinpath(splitpath(splitdir(pathof(VMRobotControl))[1])[1:end-1])\n",
    "robot = parseURDF(joinpath(module_path, \"URDFs/sr_description/sr_hand_vm_compatible.urdf\"), cfg)"
   ]
  },
  {
   "cell_type": "markdown",
   "metadata": {},
   "source": [
    "### Hand Visualization"
   ]
  },
  {
   "cell_type": "code",
   "execution_count": 5,
   "metadata": {},
   "outputs": [
    {
     "data": {
      "text/plain": [
       "4×4 Matrix{Float64}:\n",
       " 1.0  0.0  0.0   0.0\n",
       " 0.0  1.0  0.0  -0.01\n",
       " 0.0  0.0  1.0   0.31701\n",
       " 0.0  0.0  0.0   1.0"
      ]
     },
     "metadata": {},
     "output_type": "display_data"
    }
   ],
   "source": [
    "# Target transform \n",
    "R = [1.0 0.0 0.0; \n",
    "     0.0 1.0 0.0;\n",
    "     0.0 0.0 1.0]\n",
    "\n",
    "t = [0.00, -0.01, 0.31701]  # Example translation vector\n",
    "\n",
    "# Construct the homogeneous transformation matrix\n",
    "T = [R t; 0 0 0 1]\n",
    "\n",
    "display(T)  # Show the matrix"
   ]
  },
  {
   "cell_type": "code",
   "execution_count": 3,
   "metadata": {},
   "outputs": [
    {
     "ename": "LoadError",
     "evalue": "UndefVarError: `box_position` not defined",
     "output_type": "error",
     "traceback": [
      "UndefVarError: `box_position` not defined",
      "",
      "Stacktrace:",
      " [1] top-level scope",
      "   @ In[3]:19"
     ]
    }
   ],
   "source": [
    "# Compile robot model\n",
    "m = compile(robot)\n",
    "kcache = Observable(new_kinematics_cache(m))  # This stores the robot's joint state\n",
    "\n",
    "# Create the figure\n",
    "fig = Figure(size=(800, 600))\n",
    "\n",
    "# Create interactive 3D scene\n",
    "ls = LScene(fig[1, 1]; show_axis=true)  # 3D interactive scene\n",
    "\n",
    "# Attach interactive camera controls\n",
    "cam3d!(ls)  # Enables mouse interaction (rotate, zoom, pan)\n",
    "\n",
    "# Plot the robot's visuals\n",
    "robotvisualize!(ls, kcache)\n",
    "display_frame(m, ls, \"world\")\n",
    "#display_transform(ls, T)\n",
    "\n",
    "box = Rect3f(Point3f(box_position) - Vec3f(box_dimensions), 2*Vec3f(box_dimensions))\n",
    "mesh!(ls, box; color=:magenta, transparency=true)\n",
    "\n",
    "# Display figure\n",
    "display(fig)"
   ]
  },
  {
   "cell_type": "code",
   "execution_count": 215,
   "metadata": {},
   "outputs": [
    {
     "name": "stdout",
     "output_type": "stream",
     "text": [
      "Dict{String, VMRobotControl.CoordinateData} with 55 entries:\n",
      "  \"rh_lfdistal_mass_coord\" => FramePoint{Float64, String}(rh_lfdistal, [0.0, 0.0, 0.012])\n",
      "  \"rh_rfdistal_mass_coord\" => FramePoint{Float64, String}(rh_rfdistal, [0.0, 0.0, 0.012])\n",
      "  \"rh_thdistal_mass_coord\" => FramePoint{Float64, String}(rh_thdistal, [0.0, 0.0, 0.01375])\n",
      "  \"rh_rftip_mass_coord\" => FrameOrigin{String}(rh_rftip)\n",
      "  \"rh_palm_mass_coord\" => FramePoint{Float64, String}(rh_palm, [0.0, 0.0, 0.035])\n",
      "  \"rh_rfknuckle_mass_coord\" => FrameOrigin{String}(rh_rfknuckle)\n",
      "  \"rh_wrist_mass_coord\" => FramePoint{Float64, String}(rh_wrist, [0.0, 0.0, 0.029])\n",
      "  \"rh_ffdistal_inertia_coord\" => FrameAngularVelocity{String}(\"rh_ffdistal\")\n",
      "  \"rh_thhub_mass_coord\" => FrameOrigin{String}(rh_thhub)\n",
      "  \"rh_rfmiddle_mass_coord\" => FramePoint{Float64, String}(rh_rfmiddle, [0.0, 0.0, 0.0125])\n",
      "  \"rh_mftip_mass_coord\" => FrameOrigin{String}(rh_mftip)\n",
      "  \"rh_ffdistal_mass_coord\" => FramePoint{Float64, String}(rh_ffdistal, [0.0, 0.0, 0.012])\n",
      "  \"rh_mfknuckle_mass_coord\" => FrameOrigin{String}(rh_mfknuckle)\n",
      "  \"rh_lfmiddle_mass_coord\" => FramePoint{Float64, String}(rh_lfmiddle, [0.0, 0.0, 0.0125])\n",
      "  \"rh_forearm_inertia_coord\" => FrameAngularVelocity{String}(\"rh_forearm\")\n",
      "  \"rh_rfmiddle_inertia_coord\" => FrameAngularVelocity{String}(\"rh_rfmiddle\")\n",
      "  \"rh_ffknuckle_inertia_coord\" => FrameAngularVelocity{String}(\"rh_ffknuckle\")\n",
      "  \"rh_thmiddle_mass_coord\" => FramePoint{Float64, String}(rh_thmiddle, [0.0, 0.0, 0.016])\n",
      "  \"rh_lfproximal_inertia_coord\" => FrameAngularVelocity{String}(\"rh_lfproximal\")\n",
      "  \"rh_wrist_inertia_coord\" => FrameAngularVelocity{String}(\"rh_wrist\")\n",
      "  \"rh_thbase_mass_coord\" => FrameOrigin{String}(rh_thbase)\n",
      "  \"rh_lfproximal_mass_coord\" => FramePoint{Float64, String}(rh_lfproximal, [0.0, 0.0, 0.0225])\n",
      "  \"rh_mfmiddle_inertia_coord\" => FrameAngularVelocity{String}(\"rh_mfmiddle\")\n",
      "  \"rh_ffproximal_inertia_coord\" => FrameAngularVelocity{String}(\"rh_ffproximal\")\n",
      "  \"rh_thproximal_inertia_coord\" => FrameAngularVelocity{String}(\"rh_thproximal\")\n",
      "  \"rh_thbase_inertia_coord\" => FrameAngularVelocity{String}(\"rh_thbase\")\n",
      "  \"rh_mfknuckle_inertia_coord\" => FrameAngularVelocity{String}(\"rh_mfknuckle\")\n",
      "  \"rh_thdistal_inertia_coord\" => FrameAngularVelocity{String}(\"rh_thdistal\")\n",
      "  \"rh_ffmiddle_mass_coord\" => FramePoint{Float64, String}(rh_ffmiddle, [0.0, 0.0, 0.0125])\n",
      "  \"rh_thtip_mass_coord\" => FrameOrigin{String}(rh_thtip)\n",
      "  \"rh_mfproximal_inertia_coord\" => FrameAngularVelocity{String}(\"rh_mfproximal\")\n",
      "  \"rh_thhub_inertia_coord\" => FrameAngularVelocity{String}(\"rh_thhub\")\n",
      "  \"rh_thmiddle_inertia_coord\" => FrameAngularVelocity{String}(\"rh_thmiddle\")\n",
      "  \"rh_palm_inertia_coord\" => FrameAngularVelocity{String}(\"rh_palm\")\n",
      "  \"rh_mfmiddle_mass_coord\" => FramePoint{Float64, String}(rh_mfmiddle, [0.0, 0.0, 0.0125])\n",
      "  \"rh_fftip_mass_coord\" => FrameOrigin{String}(rh_fftip)\n",
      "  \"rh_rfproximal_inertia_coord\" => FrameAngularVelocity{String}(\"rh_rfproximal\")\n",
      "  \"rh_rfknuckle_inertia_coord\" => FrameAngularVelocity{String}(\"rh_rfknuckle\")\n",
      "  \"rh_lfknuckle_inertia_coord\" => FrameAngularVelocity{String}(\"rh_lfknuckle\")\n",
      "  \"rh_lfmetacarpal_mass_coord\" => FramePoint{Float64, String}(rh_lfmetacarpal, [0.03174867647058824, 0.0, 0.02235294117647059])\n",
      "  \"rh_lfmetacarpal_inertia_coord\" => FrameAngularVelocity{String}(\"rh_lfmetacarpal\")\n",
      "  \"rh_ffproximal_mass_coord\" => FramePoint{Float64, String}(rh_ffproximal, [0.0, 0.0, 0.0225])\n",
      "  \"rh_lfmiddle_inertia_coord\" => FrameAngularVelocity{String}(\"rh_lfmiddle\")\n",
      "  \"rh_rfproximal_mass_coord\" => FramePoint{Float64, String}(rh_rfproximal, [0.0, 0.0, 0.0225])\n",
      "  \"rh_ffmiddle_inertia_coord\" => FrameAngularVelocity{String}(\"rh_ffmiddle\")\n",
      "  \"rh_lftip_mass_coord\" => FrameOrigin{String}(rh_lftip)\n",
      "  \"rh_rfdistal_inertia_coord\" => FrameAngularVelocity{String}(\"rh_rfdistal\")\n",
      "  \"rh_forearm_mass_coord\" => FramePoint{Float64, String}(rh_forearm, [0.0, 0.0, 0.09])\n",
      "  \"rh_mfproximal_mass_coord\" => FramePoint{Float64, String}(rh_mfproximal, [0.0, 0.0, 0.0225])\n",
      "  \"rh_mfdistal_inertia_coord\" => FrameAngularVelocity{String}(\"rh_mfdistal\")\n",
      "  \"rh_thproximal_mass_coord\" => FramePoint{Float64, String}(rh_thproximal, [0.0, 0.0, 0.019])\n",
      "  \"rh_lfknuckle_mass_coord\" => FrameOrigin{String}(rh_lfknuckle)\n",
      "  \"rh_mfdistal_mass_coord\" => FramePoint{Float64, String}(rh_mfdistal, [0.0, 0.0, 0.012])\n",
      "  \"rh_lfdistal_inertia_coord\" => FrameAngularVelocity{String}(\"rh_lfdistal\")\n",
      "  \"rh_ffknuckle_mass_coord\" => FrameOrigin{String}(rh_ffknuckle)"
     ]
    }
   ],
   "source": [
    "show(IOContext(stdout, :limit => false),  MIME(\"text/plain\"), coordinates(robot))"
   ]
  },
  {
   "cell_type": "markdown",
   "metadata": {},
   "source": [
    "## Creating the Virtual Mechanism System"
   ]
  },
  {
   "cell_type": "markdown",
   "metadata": {},
   "source": [
    "### Gravity Compensation, Joint Limits and Joint Damping"
   ]
  },
  {
   "cell_type": "code",
   "execution_count": 4,
   "metadata": {},
   "outputs": [],
   "source": [
    "# GRAVITY COMPENSATION\n",
    "\n",
    "add_gravity_compensation!(robot, VMRobotControl.DEFAULT_GRAVITY)\n",
    "\n",
    "# JOINT DAMPING and LIMIT SPRINGS\n",
    "\n",
    "joint_limits = cfg.joint_limits\n",
    "\n",
    "for joint_id in keys(joints(robot))\n",
    "    limits = joint_limits[joint_id]\n",
    "    isnothing(limits) && continue\n",
    "    add_coordinate!(robot, JointSubspace(joint_id);  id=\"$(joint_id)_coord\")\n",
    "    @assert ~isnothing(limits.lower) && ~isnothing(limits.upper)\n",
    "    add_deadzone_springs!(robot, 50.0, (limits.lower+0.1, limits.upper-0.1), \"$(joint_id)_coord\")\n",
    "    add_component!(robot, LinearDamper(0.01, \"$(joint_id)_coord\"); id=\"$(joint_id)_damper\")\n",
    "end"
   ]
  },
  {
   "cell_type": "markdown",
   "metadata": {},
   "source": [
    "### Addition of the multiples springs/dampers"
   ]
  },
  {
   "cell_type": "markdown",
   "metadata": {},
   "source": [
    "Virtual Mechanism system"
   ]
  },
  {
   "cell_type": "code",
   "execution_count": 5,
   "metadata": {},
   "outputs": [
    {
     "data": {
      "text/plain": [
       "\"world\""
      ]
     },
     "execution_count": 5,
     "metadata": {},
     "output_type": "execute_result"
    }
   ],
   "source": [
    "vms = VirtualMechanismSystem(\"myShadowVMS\", robot)\n",
    "root = root_frame(vms.robot)"
   ]
  },
  {
   "cell_type": "markdown",
   "metadata": {},
   "source": [
    "Repulsive Box"
   ]
  },
  {
   "cell_type": "code",
   "execution_count": 6,
   "metadata": {},
   "outputs": [],
   "source": [
    "# box_position = SVector(0.0, -0.065, 0.32)\n",
    "# box_dimensions = [0.03, 0.02, 0.03]\n",
    "\n",
    "box_position = SVector(0.055, -0.01, 0.37)\n",
    "box_dimensions = [0.01, 0.05, 0.05] \n",
    "\n",
    "add_coordinate!(vms,  ConstCoord(box_position);  id=\"box position\")\n",
    "add_coordinate!(vms, ConstCoord(box_dimensions[1]); id=\"box dimension 1\")\n",
    "add_coordinate!(vms, ConstCoord(box_dimensions[2]); id=\"box dimension 2\")\n",
    "add_coordinate!(vms, ConstCoord(box_dimensions[3]); id=\"box dimension 3\")\n",
    "\n",
    "# add_coordinate!(vms, CoordDifference(\".robot.rh_fftip_mass_coord\", \"box position\") ; id = \"fftip box diff\" )\n",
    "# for j in 1:3\n",
    "#     add_coordinate!(vms, CoordSlice(\"fftip box diff\", SVector(j)); id = \"fftip box diff dimension $(j)\")\n",
    "#     add_coordinate!(vms, CoordNorm(\"fftip box diff dimension $(j)\"); id = \"fftip box norm dimension $(j)\")\n",
    "#     add_coordinate!(vms, CoordDifference(\"fftip box norm dimension $(j)\",\"box dimension $(j)\"); id = \"shifted fftip box norm dimension $(j)\")\n",
    "\n",
    "#     add_component!(vms, ReLUSpring(0.0, \"shifted fftip box norm dimension $(j)\", true); id=\"fftip dimension $(j) repulsive spring\")\n",
    "#     add_component!(vms, RectifiedDamper(0.0, \"fftip box norm dimension $(j)\", (0.0, 1.1*box_dimensions[j]), true, false); id=\"fftip dimension $(j) damper\")\n",
    "# end\n",
    "\n",
    "add_coordinate!(vms, FramePoint(\".robot.rh_palm\", SVector(0. , 0., 0.07)); id=\"second palm point\")\n",
    "repulsed_frames = (\".robot.rh_fftip_mass_coord\", \".robot.rh_mftip_mass_coord\", \".robot.rh_rftip_mass_coord\",\".robot.rh_lftip_mass_coord\" , \n",
    "                    \".robot.rh_thtip_mass_coord\", \".robot.rh_ffmiddle_mass_coord\",\".robot.rh_mfmiddle_mass_coord\", \".robot.rh_rfmiddle_mass_coord\",\n",
    "                    \".robot.rh_lfmiddle_mass_coord\",  \".robot.rh_thmiddle_mass_coord\", \".robot.rh_ffproximal_mass_coord\", \".robot.rh_mfproximal_mass_coord\",\n",
    "                    \".robot.rh_rfproximal_mass_coord\", \".robot.rh_lfproximal_mass_coord\", \".robot.rh_thproximal_mass_coord\")\n",
    "frames_names = (\"fftip\", \"mftip\", \"rftip\", \"lftip\", \"thtip\", \"ffmiddle\", \"mfmiddle\", \"rfmiddle\", \"lfmiddle\", \"thmiddle\", \"ffprox\", \n",
    "                \"mfprox\", \"rfprox\", \"lfprox\", \"thprox\")\n",
    "\n",
    "for i in 1:length(repulsed_frames)\n",
    "    frame = repulsed_frames[i]\n",
    "    add_coordinate!(vms, CoordDifference(frame, \"box position\") ; id = \"$(frames_names[i]) box diff\" )\n",
    "    for j in 1:3\n",
    "        add_coordinate!(vms, CoordSlice(\"$(frames_names[i]) box diff\", SVector(j)); id = \"$(frames_names[i]) box diff dimension $(j)\")\n",
    "        add_coordinate!(vms, CoordNorm(\"$(frames_names[i]) box diff dimension $(j)\"); id = \"$(frames_names[i]) box norm dimension $(j)\")\n",
    "        add_coordinate!(vms, CoordDifference(\"$(frames_names[i]) box norm dimension $(j)\",\"box dimension $(j)\"); id = \"shifted $(frames_names[i]) box norm dimension $(j)\")\n",
    "\n",
    "        add_component!(vms, ReLUSpring(0.0, \"shifted $(frames_names[i]) box norm dimension $(j)\", true); id=\"$(frames_names[i]) dimension $(j) repulsive spring\")\n",
    "        add_component!(vms, RectifiedDamper(0.0, \"$(frames_names[i]) box norm dimension $(j)\", (0.0, 1.1*box_dimensions[j]), true, false); id=\"$(frames_names[i]) dimension $(j) damper\")\n",
    "    end\n",
    "end"
   ]
  },
  {
   "cell_type": "markdown",
   "metadata": {},
   "source": [
    "Hand motion"
   ]
  },
  {
   "cell_type": "code",
   "execution_count": 7,
   "metadata": {},
   "outputs": [
    {
     "data": {
      "text/plain": [
       "\"th damper\""
      ]
     },
     "execution_count": 7,
     "metadata": {},
     "output_type": "execute_result"
    }
   ],
   "source": [
    "# TARGET REACHING\n",
    "add_coordinate!(vms,  ConstCoord(box_position);  id=\"Target position\")\n",
    "\n",
    "add_coordinate!(vms, CoordDifference(\".robot.rh_fftip_mass_coord\", \"Target position\"); id=\"ff position error\")\n",
    "add_coordinate!(vms, CoordDifference(\".robot.rh_mftip_mass_coord\", \"Target position\"); id=\"mf position error\")\n",
    "add_coordinate!(vms, CoordDifference(\".robot.rh_rftip_mass_coord\", \"Target position\"); id=\"rf position error\")\n",
    "add_coordinate!(vms, CoordDifference(\".robot.rh_lftip_mass_coord\", \"Target position\"); id=\"lf position error\")\n",
    "add_coordinate!(vms, CoordDifference(\".robot.rh_thtip_mass_coord\", \"Target position\"); id=\"th position error\")\n",
    "\n",
    "K_matrix = SMatrix{3, 3}(10., 0., 0., 0., 10., 0., 0., 0., 10.)\n",
    "D_matrix = SMatrix{3, 3}(10., 0., 0., 0., 10., 0., 0., 0., 10.)\n",
    "\n",
    "add_component!(vms, LinearSpring(K_matrix, \"ff position error\"); id=\"ff spring\")\n",
    "add_component!(vms, LinearDamper(D_matrix, \"ff position error\"); id=\"ff damper\")\n",
    "\n",
    "add_component!(vms, LinearSpring(K_matrix, \"mf position error\"); id=\"mf spring\")\n",
    "add_component!(vms, LinearDamper(D_matrix, \"mf position error\"); id=\"mf damper\")\n",
    "\n",
    "add_component!(vms, LinearSpring(K_matrix, \"rf position error\"); id=\"rf spring\")\n",
    "add_component!(vms, LinearDamper(D_matrix, \"rf position error\"); id=\"rf damper\")\n",
    "\n",
    "add_component!(vms, LinearSpring(K_matrix, \"lf position error\"); id=\"lf spring\")\n",
    "add_component!(vms, LinearDamper(D_matrix, \"lf position error\"); id=\"lf damper\")\n",
    "\n",
    "add_component!(vms, LinearSpring(K_matrix, \"th position error\"); id=\"th spring\")\n",
    "add_component!(vms, LinearDamper(D_matrix, \"th position error\"); id=\"th damper\")"
   ]
  },
  {
   "cell_type": "markdown",
   "metadata": {},
   "source": [
    "## Simulating the Robot"
   ]
  },
  {
   "cell_type": "markdown",
   "metadata": {},
   "source": [
    "### Setting Up the Simulation"
   ]
  },
  {
   "cell_type": "code",
   "execution_count": 8,
   "metadata": {},
   "outputs": [
    {
     "name": "stderr",
     "output_type": "stream",
     "text": [
      "\u001b[36m\u001b[1m[ \u001b[22m\u001b[39m\u001b[36m\u001b[1mInfo: \u001b[22m\u001b[39mSimulating shadow robot with repulsive box\n",
      "\u001b[32mODE   0%|█                                              |  ETA: N/A\u001b[39m\n",
      "\u001b[33m\u001b[1m┌ \u001b[22m\u001b[39m\u001b[33m\u001b[1mWarning: \u001b[22m\u001b[39mAutomatic dt set the starting dt as NaN, causing instability.\n",
      "\u001b[33m\u001b[1m│ \u001b[22m\u001b[39mExiting.\n",
      "\u001b[33m\u001b[1m└ \u001b[22m\u001b[39m\u001b[90m@ OrdinaryDiffEq C:\\Users\\bilou\\.julia\\packages\\OrdinaryDiffEq\\NBaQM\\src\\solve.jl:578\u001b[39m\n",
      "\u001b[33m\u001b[1m┌ \u001b[22m\u001b[39m\u001b[33m\u001b[1mWarning: \u001b[22m\u001b[39mNaN dt detected. Likely a NaN value in the state, parameters, or\n",
      "\u001b[33m\u001b[1m│ \u001b[22m\u001b[39mderivative value caused this outcome.\n",
      "\u001b[33m\u001b[1m└ \u001b[22m\u001b[39m\u001b[90m@ SciMLBase C:\\Users\\bilou\\.julia\\packages\\SciMLBase\\2HZ5m\\src\\integrator_interface.jl:570\u001b[39m\n",
      "\u001b[90mODE 100%|███████████████████████████████████████████████| Time: 0:00:02\u001b[39m\n"
     ]
    }
   ],
   "source": [
    "function setup_box_collision_model(cache, repulsed_frames, frames_names)\n",
    "    repulsed_frames_coord_ID = []\n",
    "    repulsive_springs_damper_ID = []\n",
    "    for i in 1:length(repulsed_frames)\n",
    "        frame = repulsed_frames[i]\n",
    "        push!(repulsed_frames_coord_ID, get_compiled_coordID(cache, frame))\n",
    "        frame_springs_dampers_vec = []\n",
    "        for j in 1:3\n",
    "            push!(frame_springs_dampers_vec, get_compiled_componentID(cache, \"$(frames_names[i]) dimension $(j) repulsive spring\"))\n",
    "            push!(frame_springs_dampers_vec, get_compiled_componentID(cache, \"$(frames_names[i]) dimension $(j) damper\"))\n",
    "        end\n",
    "        push!(repulsive_springs_damper_ID, frame_springs_dampers_vec)\n",
    "    end\n",
    "\n",
    "    return box_position, box_dimensions, repulsed_frames_coord_ID, repulsive_springs_damper_ID\n",
    "end\n",
    "\n",
    "function f_setup(cache)\n",
    "\n",
    "    box_collision_args = setup_box_collision_model(cache, repulsed_frames, frames_names)\n",
    "\n",
    "    return get_compiled_coordID(cache, \"Target position\"), box_collision_args\n",
    "    \n",
    "end\n",
    "\n",
    "function update_box_collision_model(cache, collision_args)\n",
    "    box_position, box_dimensions, repulsed_frames_coord_ID, repulsive_springs_damper_ID = collision_args\n",
    "    margin = 0.001\n",
    "    for i in 1:length(repulsed_frames_coord_ID)\n",
    "        frame_pos = configuration(cache, repulsed_frames_coord_ID[i])\n",
    "        for j in 1:3\n",
    "            # get the indices different from j\n",
    "            others = filter(x -> x ≠ j, 1:3) \n",
    "            #Check if the position of the frame is inside \"the field of action\" of the spring\n",
    "            if abs(frame_pos[others[1]] - box_position[others[1]]) < (box_dimensions[others[1]]-margin) && abs(frame_pos[others[2]] - box_position[others[2]]) < (box_dimensions[others[2]]-margin)\n",
    "                cache[repulsive_springs_damper_ID[i][2*j-1]] = remake(cache[repulsive_springs_damper_ID[i][2*j-1]] ; stiffness = 1000.0)\n",
    "                cache[repulsive_springs_damper_ID[i][2*j]] = remake(cache[repulsive_springs_damper_ID[i][2*j]] ; damping = 100.0)          \n",
    "            else\n",
    "                cache[repulsive_springs_damper_ID[i][2*j-1]] = remake(cache[repulsive_springs_damper_ID[i][2*j-1]] ; stiffness = 0.0)\n",
    "                cache[repulsive_springs_damper_ID[i][2*j]] = remake(cache[repulsive_springs_damper_ID[i][2*j]] ; damping = 0.0)\n",
    "            end\n",
    "        end\n",
    "    end\n",
    "end\n",
    "\n",
    "function f_control(cache, t, args, extra)\n",
    "    target_pos_id, collision_args = args \n",
    "    update_box_collision_model(cache, collision_args)\n",
    "\n",
    "    if t > 3 && t < 6\n",
    "        cache[target_pos_id] = remake(cache[target_pos_id] ; coord_data = ConstCoord(SVector(0.05, -0.065, 0.32)))\n",
    "    end\n",
    "\n",
    "    if t > 6\n",
    "        cache[target_pos_id] = remake(cache[target_pos_id] ; coord_data = ConstCoord(SVector(0.00, -0.065, 0.32)))\n",
    "    end\n",
    "end\n",
    "\n",
    "tspan = (0., 10.)\n",
    "vms_compiled = compile(vms)\n",
    "\n",
    "q = (zero_q(vms_compiled.robot), zero_q(vms_compiled.virtual_mechanism)) # Robot joint angle, vm joint angles\n",
    "q̇ = (zero_q̇(vms_compiled.robot), zero_q̇(vms_compiled.virtual_mechanism)) # Robot joint velocity, vm joint velocities\n",
    "\n",
    "g = VMRobotControl.DEFAULT_GRAVITY\n",
    "dcache = new_dynamics_cache(vms_compiled)\n",
    "prob = get_ode_problem(dcache, g, q, q̇, tspan; f_setup, f_control)\n",
    "@info \"Simulating shadow robot with repulsive box\"\n",
    "\n",
    "using Logging: global_logger\n",
    "using TerminalLoggers: TerminalLogger\n",
    "global_logger(TerminalLogger())\n",
    "\n",
    "sol = solve(prob, Rosenbrock23(autodiff=false), progress=true; maxiters=1e6, abstol=1e-3, reltol=1e-3);"
   ]
  },
  {
   "cell_type": "markdown",
   "metadata": {},
   "source": [
    "### Visualizing the Results"
   ]
  },
  {
   "cell_type": "code",
   "execution_count": 11,
   "metadata": {},
   "outputs": [],
   "source": [
    "fig = Figure(; size=(720, 720), figure_padding=0)\n",
    "display(fig)\n",
    "ls = LScene(fig[1, 1]; show_axis=false)\n",
    "cam = cam3d!(ls; center=true)\n",
    "cam.lookat[] = [0.025, 0., 0.24]\n",
    "cam.eyeposition[] = [0.25, -0.6, 0.62]\n",
    "\n",
    "plotting_t = Observable(0.0)\n",
    "plotting_kcache = Observable(new_kinematics_cache(compile(vms)))\n",
    "\n",
    "\n",
    "robotvisualize!(ls, plotting_kcache)\n",
    "\n",
    "box_visual_dimensions = box_dimensions - 0.004*SVector(1.,1.,1.)\n",
    "box = Rect3f(Point3f(box_position) - Vec3f(box_visual_dimensions), 2*Vec3f(box_visual_dimensions))\n",
    "mesh!(ls, box; color=:magenta, transparency=true)\n",
    "\n",
    "\n",
    "savepath = joinpath(module_path, \"docs/src/assets/shadowhand_box_collision_model.mp4\")\n",
    "display(fig)\n",
    "animate_robot_odesolution(fig, sol, plotting_kcache, savepath; t=plotting_t);"
   ]
  }
 ],
 "metadata": {
  "kernelspec": {
   "display_name": "Julia 1.9.3",
   "language": "julia",
   "name": "julia-1.9"
  },
  "language_info": {
   "file_extension": ".jl",
   "mimetype": "application/julia",
   "name": "julia",
   "version": "1.9.3"
  }
 },
 "nbformat": 4,
 "nbformat_minor": 2
}
